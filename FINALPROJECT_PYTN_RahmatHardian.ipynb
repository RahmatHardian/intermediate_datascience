{
 "cells": [
  {
   "cell_type": "code",
   "execution_count": 2,
   "metadata": {},
   "outputs": [],
   "source": [
    "from tensorflow.python.keras import models, layers, optimizers\n",
    "import tensorflow as tf\n",
    "from tensorflow.keras.preprocessing.text import Tokenizer, text_to_word_sequence\n",
    "import pandas as pd\n",
    "import numpy as np"
   ]
  },
  {
   "cell_type": "code",
   "execution_count": 2,
   "metadata": {},
   "outputs": [
    {
     "data": {
      "text/html": [
       "<div>\n",
       "<style scoped>\n",
       "    .dataframe tbody tr th:only-of-type {\n",
       "        vertical-align: middle;\n",
       "    }\n",
       "\n",
       "    .dataframe tbody tr th {\n",
       "        vertical-align: top;\n",
       "    }\n",
       "\n",
       "    .dataframe thead th {\n",
       "        text-align: right;\n",
       "    }\n",
       "</style>\n",
       "<table border=\"1\" class=\"dataframe\">\n",
       "  <thead>\n",
       "    <tr style=\"text-align: right;\">\n",
       "      <th></th>\n",
       "      <th>source</th>\n",
       "      <th>org_id</th>\n",
       "      <th>doc_id</th>\n",
       "      <th>doc_title</th>\n",
       "      <th>doc_description</th>\n",
       "      <th>Job Family</th>\n",
       "      <th>Job Function</th>\n",
       "      <th>job_role</th>\n",
       "      <th>job_role_clean</th>\n",
       "    </tr>\n",
       "  </thead>\n",
       "  <tbody>\n",
       "    <tr>\n",
       "      <th>0</th>\n",
       "      <td>Kampiun</td>\n",
       "      <td>NaN</td>\n",
       "      <td>27243</td>\n",
       "      <td>Case Study 1 tahun Magang di Kementerian BUMN</td>\n",
       "      <td>NaN</td>\n",
       "      <td>BUSINESS ENABLER/ENTERPRISE MGT</td>\n",
       "      <td>Human Capital</td>\n",
       "      <td>5.2.3 Learning &amp;amp; Development</td>\n",
       "      <td>Learning &amp; Development</td>\n",
       "    </tr>\n",
       "    <tr>\n",
       "      <th>1</th>\n",
       "      <td>Kampiun</td>\n",
       "      <td>NaN</td>\n",
       "      <td>29134</td>\n",
       "      <td>Case Study 1 tahun Magang di Kementerian BUMN</td>\n",
       "      <td>NaN</td>\n",
       "      <td>BUSINESS ENABLER/ENTERPRISE MGT</td>\n",
       "      <td>Human Capital</td>\n",
       "      <td>5.2.3 Learning &amp;amp; Development</td>\n",
       "      <td>Learning &amp; Development</td>\n",
       "    </tr>\n",
       "    <tr>\n",
       "      <th>2</th>\n",
       "      <td>Kampiun</td>\n",
       "      <td>NaN</td>\n",
       "      <td>28690</td>\n",
       "      <td>ILC : Securing Revenue Witel Riau Daratan 2017</td>\n",
       "      <td>NaN</td>\n",
       "      <td>STRATEGIC PLAN &amp; DEVELOPMENT</td>\n",
       "      <td>Strategic Planning</td>\n",
       "      <td>2.1.1 Internal &amp;amp; External Analysis</td>\n",
       "      <td>Internal &amp; External Analysis</td>\n",
       "    </tr>\n",
       "    <tr>\n",
       "      <th>3</th>\n",
       "      <td>Kampiun</td>\n",
       "      <td>NaN</td>\n",
       "      <td>33756</td>\n",
       "      <td>SIKAT HABIS FTTH UNSPEC DENGAN MINI OLT OUTDOOR</td>\n",
       "      <td>NaN</td>\n",
       "      <td>DIGITAL &amp; ICT</td>\n",
       "      <td>Telecommunication</td>\n",
       "      <td>1.1.6 Access Network O&amp;amp;M</td>\n",
       "      <td>Access Network Operation &amp; Maintenance</td>\n",
       "    </tr>\n",
       "    <tr>\n",
       "      <th>4</th>\n",
       "      <td>Kampiun</td>\n",
       "      <td>NaN</td>\n",
       "      <td>38567</td>\n",
       "      <td>PROSES PENGAJUAN CAPEX FTTH INDIHOME DI WITEL NTB</td>\n",
       "      <td>NaN</td>\n",
       "      <td>DIGITAL &amp; ICT</td>\n",
       "      <td>Telecommunication</td>\n",
       "      <td>1.1.2 Access Network Design &amp;amp; Planning</td>\n",
       "      <td>Access Network Design &amp; Planning</td>\n",
       "    </tr>\n",
       "  </tbody>\n",
       "</table>\n",
       "</div>"
      ],
      "text/plain": [
       "    source  org_id  doc_id                                          doc_title  \\\n",
       "0  Kampiun     NaN   27243      Case Study 1 tahun Magang di Kementerian BUMN   \n",
       "1  Kampiun     NaN   29134      Case Study 1 tahun Magang di Kementerian BUMN   \n",
       "2  Kampiun     NaN   28690     ILC : Securing Revenue Witel Riau Daratan 2017   \n",
       "3  Kampiun     NaN   33756    SIKAT HABIS FTTH UNSPEC DENGAN MINI OLT OUTDOOR   \n",
       "4  Kampiun     NaN   38567  PROSES PENGAJUAN CAPEX FTTH INDIHOME DI WITEL NTB   \n",
       "\n",
       "  doc_description                       Job Family        Job Function  \\\n",
       "0             NaN  BUSINESS ENABLER/ENTERPRISE MGT       Human Capital   \n",
       "1             NaN  BUSINESS ENABLER/ENTERPRISE MGT       Human Capital   \n",
       "2             NaN     STRATEGIC PLAN & DEVELOPMENT  Strategic Planning   \n",
       "3             NaN                    DIGITAL & ICT   Telecommunication   \n",
       "4             NaN                    DIGITAL & ICT   Telecommunication   \n",
       "\n",
       "                                     job_role  \\\n",
       "0            5.2.3 Learning &amp; Development   \n",
       "1            5.2.3 Learning &amp; Development   \n",
       "2      2.1.1 Internal &amp; External Analysis   \n",
       "3                1.1.6 Access Network O&amp;M   \n",
       "4  1.1.2 Access Network Design &amp; Planning   \n",
       "\n",
       "                           job_role_clean  \n",
       "0                  Learning & Development  \n",
       "1                  Learning & Development  \n",
       "2            Internal & External Analysis  \n",
       "3  Access Network Operation & Maintenance  \n",
       "4        Access Network Design & Planning  "
      ]
     },
     "execution_count": 2,
     "metadata": {},
     "output_type": "execute_result"
    }
   ],
   "source": [
    "df = pd.read_csv(\"dataset/20210122-Kampiun Digilib Clean-jfam-jfunc.csv\",encoding='latin-1')\n",
    "df.head(5)"
   ]
  },
  {
   "cell_type": "code",
   "execution_count": 3,
   "metadata": {},
   "outputs": [],
   "source": [
    "df['title_desc'] = df['doc_title'].fillna('')+\" \"+df['doc_description'].fillna('')"
   ]
  },
  {
   "cell_type": "code",
   "execution_count": 4,
   "metadata": {},
   "outputs": [
    {
     "data": {
      "text/html": [
       "<div>\n",
       "<style scoped>\n",
       "    .dataframe tbody tr th:only-of-type {\n",
       "        vertical-align: middle;\n",
       "    }\n",
       "\n",
       "    .dataframe tbody tr th {\n",
       "        vertical-align: top;\n",
       "    }\n",
       "\n",
       "    .dataframe thead th {\n",
       "        text-align: right;\n",
       "    }\n",
       "</style>\n",
       "<table border=\"1\" class=\"dataframe\">\n",
       "  <thead>\n",
       "    <tr style=\"text-align: right;\">\n",
       "      <th></th>\n",
       "      <th>doc_title</th>\n",
       "      <th>doc_description</th>\n",
       "      <th>Job Family</th>\n",
       "      <th>Job Function</th>\n",
       "      <th>title_desc</th>\n",
       "    </tr>\n",
       "  </thead>\n",
       "  <tbody>\n",
       "    <tr>\n",
       "      <th>0</th>\n",
       "      <td>Case Study 1 tahun Magang di Kementerian BUMN</td>\n",
       "      <td>NaN</td>\n",
       "      <td>BUSINESS ENABLER/ENTERPRISE MGT</td>\n",
       "      <td>Human Capital</td>\n",
       "      <td>Case Study 1 tahun Magang di Kementerian BUMN</td>\n",
       "    </tr>\n",
       "    <tr>\n",
       "      <th>1</th>\n",
       "      <td>Case Study 1 tahun Magang di Kementerian BUMN</td>\n",
       "      <td>NaN</td>\n",
       "      <td>BUSINESS ENABLER/ENTERPRISE MGT</td>\n",
       "      <td>Human Capital</td>\n",
       "      <td>Case Study 1 tahun Magang di Kementerian BUMN</td>\n",
       "    </tr>\n",
       "    <tr>\n",
       "      <th>2</th>\n",
       "      <td>ILC : Securing Revenue Witel Riau Daratan 2017</td>\n",
       "      <td>NaN</td>\n",
       "      <td>STRATEGIC PLAN &amp; DEVELOPMENT</td>\n",
       "      <td>Strategic Planning</td>\n",
       "      <td>ILC : Securing Revenue Witel Riau Daratan 2017</td>\n",
       "    </tr>\n",
       "    <tr>\n",
       "      <th>3</th>\n",
       "      <td>SIKAT HABIS FTTH UNSPEC DENGAN MINI OLT OUTDOOR</td>\n",
       "      <td>NaN</td>\n",
       "      <td>DIGITAL &amp; ICT</td>\n",
       "      <td>Telecommunication</td>\n",
       "      <td>SIKAT HABIS FTTH UNSPEC DENGAN MINI OLT OUTDOOR</td>\n",
       "    </tr>\n",
       "    <tr>\n",
       "      <th>4</th>\n",
       "      <td>PROSES PENGAJUAN CAPEX FTTH INDIHOME DI WITEL NTB</td>\n",
       "      <td>NaN</td>\n",
       "      <td>DIGITAL &amp; ICT</td>\n",
       "      <td>Telecommunication</td>\n",
       "      <td>PROSES PENGAJUAN CAPEX FTTH INDIHOME DI WITEL ...</td>\n",
       "    </tr>\n",
       "    <tr>\n",
       "      <th>...</th>\n",
       "      <td>...</td>\n",
       "      <td>...</td>\n",
       "      <td>...</td>\n",
       "      <td>...</td>\n",
       "      <td>...</td>\n",
       "    </tr>\n",
       "    <tr>\n",
       "      <th>11296</th>\n",
       "      <td>PENTINGNYA LOYALITAS PELANGGAN</td>\n",
       "      <td>Ditengah-tengah persaingan berbagai bisnis/ind...</td>\n",
       "      <td>COMMERCE &amp; RELATION</td>\n",
       "      <td>Sales</td>\n",
       "      <td>PENTINGNYA LOYALITAS PELANGGAN Ditengah-tengah...</td>\n",
       "    </tr>\n",
       "    <tr>\n",
       "      <th>11297</th>\n",
       "      <td>Uji Terima Online dalam Proyek Digitalisasi SP...</td>\n",
       "      <td>1. Latar Belakang           \\n                ...</td>\n",
       "      <td>DIGITAL &amp; ICT</td>\n",
       "      <td>Information Technology</td>\n",
       "      <td>Uji Terima Online dalam Proyek Digitalisasi SP...</td>\n",
       "    </tr>\n",
       "    <tr>\n",
       "      <th>11298</th>\n",
       "      <td>REKON TAGIHAN PSB  TA TO TELKOM  WITEL PURWOKERTO</td>\n",
       "      <td>CARA REKON TAGIHAN PSB  TA KE TELKOM \\n \\n1. A...</td>\n",
       "      <td>BUSINESS ENABLER/ENTERPRISE MGT</td>\n",
       "      <td>Education</td>\n",
       "      <td>REKON TAGIHAN PSB  TA TO TELKOM  WITEL PURWOKE...</td>\n",
       "    </tr>\n",
       "    <tr>\n",
       "      <th>11299</th>\n",
       "      <td>TDSCC  (Telkom DIGITAL SOLUTION CARE CENTER) G...</td>\n",
       "      <td>#NAME?</td>\n",
       "      <td>DIGITAL &amp; ICT</td>\n",
       "      <td>Information Technology</td>\n",
       "      <td>TDSCC  (Telkom DIGITAL SOLUTION CARE CENTER) G...</td>\n",
       "    </tr>\n",
       "    <tr>\n",
       "      <th>11300</th>\n",
       "      <td>Blockchain adoption in order  to Implement Bio...</td>\n",
       "      <td>#NAME?</td>\n",
       "      <td>DIGITAL &amp; ICT</td>\n",
       "      <td>DIGITAL PRODUCT &amp; SERVICE</td>\n",
       "      <td>Blockchain adoption in order  to Implement Bio...</td>\n",
       "    </tr>\n",
       "  </tbody>\n",
       "</table>\n",
       "<p>11301 rows × 5 columns</p>\n",
       "</div>"
      ],
      "text/plain": [
       "                                               doc_title  \\\n",
       "0          Case Study 1 tahun Magang di Kementerian BUMN   \n",
       "1          Case Study 1 tahun Magang di Kementerian BUMN   \n",
       "2         ILC : Securing Revenue Witel Riau Daratan 2017   \n",
       "3        SIKAT HABIS FTTH UNSPEC DENGAN MINI OLT OUTDOOR   \n",
       "4      PROSES PENGAJUAN CAPEX FTTH INDIHOME DI WITEL NTB   \n",
       "...                                                  ...   \n",
       "11296                     PENTINGNYA LOYALITAS PELANGGAN   \n",
       "11297  Uji Terima Online dalam Proyek Digitalisasi SP...   \n",
       "11298  REKON TAGIHAN PSB  TA TO TELKOM  WITEL PURWOKERTO   \n",
       "11299  TDSCC  (Telkom DIGITAL SOLUTION CARE CENTER) G...   \n",
       "11300  Blockchain adoption in order  to Implement Bio...   \n",
       "\n",
       "                                         doc_description  \\\n",
       "0                                                    NaN   \n",
       "1                                                    NaN   \n",
       "2                                                    NaN   \n",
       "3                                                    NaN   \n",
       "4                                                    NaN   \n",
       "...                                                  ...   \n",
       "11296  Ditengah-tengah persaingan berbagai bisnis/ind...   \n",
       "11297  1. Latar Belakang           \\n                ...   \n",
       "11298  CARA REKON TAGIHAN PSB  TA KE TELKOM \\n \\n1. A...   \n",
       "11299                                             #NAME?   \n",
       "11300                                             #NAME?   \n",
       "\n",
       "                            Job Family               Job Function  \\\n",
       "0      BUSINESS ENABLER/ENTERPRISE MGT              Human Capital   \n",
       "1      BUSINESS ENABLER/ENTERPRISE MGT              Human Capital   \n",
       "2         STRATEGIC PLAN & DEVELOPMENT         Strategic Planning   \n",
       "3                        DIGITAL & ICT          Telecommunication   \n",
       "4                        DIGITAL & ICT          Telecommunication   \n",
       "...                                ...                        ...   \n",
       "11296              COMMERCE & RELATION                      Sales   \n",
       "11297                    DIGITAL & ICT     Information Technology   \n",
       "11298  BUSINESS ENABLER/ENTERPRISE MGT                  Education   \n",
       "11299                    DIGITAL & ICT     Information Technology   \n",
       "11300                    DIGITAL & ICT  DIGITAL PRODUCT & SERVICE   \n",
       "\n",
       "                                              title_desc  \n",
       "0         Case Study 1 tahun Magang di Kementerian BUMN   \n",
       "1         Case Study 1 tahun Magang di Kementerian BUMN   \n",
       "2        ILC : Securing Revenue Witel Riau Daratan 2017   \n",
       "3       SIKAT HABIS FTTH UNSPEC DENGAN MINI OLT OUTDOOR   \n",
       "4      PROSES PENGAJUAN CAPEX FTTH INDIHOME DI WITEL ...  \n",
       "...                                                  ...  \n",
       "11296  PENTINGNYA LOYALITAS PELANGGAN Ditengah-tengah...  \n",
       "11297  Uji Terima Online dalam Proyek Digitalisasi SP...  \n",
       "11298  REKON TAGIHAN PSB  TA TO TELKOM  WITEL PURWOKE...  \n",
       "11299  TDSCC  (Telkom DIGITAL SOLUTION CARE CENTER) G...  \n",
       "11300  Blockchain adoption in order  to Implement Bio...  \n",
       "\n",
       "[11301 rows x 5 columns]"
      ]
     },
     "execution_count": 4,
     "metadata": {},
     "output_type": "execute_result"
    }
   ],
   "source": [
    "df.drop([\n",
    "    'source', 'org_id', 'doc_id', 'job_role','job_role_clean'\n",
    "], axis=1, inplace=True)\n",
    "df"
   ]
  },
  {
   "cell_type": "code",
   "execution_count": 5,
   "metadata": {},
   "outputs": [],
   "source": [
    "import re\n",
    "def preprocess(text):\n",
    "    \n",
    "    text = str(text).lower()\n",
    "    text = re.sub(r'^<div id=\"video.*>&nbsp;', '', text) # Video-review part\n",
    "    text = re.sub('https?://[A-Za-z0-9./]+', '', text) # URLs\n",
    "    \n",
    "    # Remove HTML Tag\n",
    "    text = re.sub('<.*?>', '', text)    \n",
    "    \n",
    "    # Remove everything in bracket    \n",
    "    text = re.sub('\\[[^)]*\\]', '', text)    \n",
    "    \n",
    "    text = re.sub('[/]+', ' ', text) # word1/word2 to word1 word2\n",
    "    # Remove non-alphanumeric characters (but not - and _, might be useful for tokenization)\n",
    "    text = re.sub('[^A-Za-z0-9-_ ]+', '', text)\n",
    "\n",
    "    # Remove words that are digits only\n",
    "    text = re.sub('\\b\\d+\\b', '', text)                \n",
    "    \n",
    "    return text"
   ]
  },
  {
   "cell_type": "code",
   "execution_count": 6,
   "metadata": {},
   "outputs": [],
   "source": [
    "df['title_desc'] = df['title_desc'].apply(preprocess)"
   ]
  },
  {
   "cell_type": "code",
   "execution_count": 7,
   "metadata": {},
   "outputs": [
    {
     "data": {
      "text/html": [
       "<div>\n",
       "<style scoped>\n",
       "    .dataframe tbody tr th:only-of-type {\n",
       "        vertical-align: middle;\n",
       "    }\n",
       "\n",
       "    .dataframe tbody tr th {\n",
       "        vertical-align: top;\n",
       "    }\n",
       "\n",
       "    .dataframe thead th {\n",
       "        text-align: right;\n",
       "    }\n",
       "</style>\n",
       "<table border=\"1\" class=\"dataframe\">\n",
       "  <thead>\n",
       "    <tr style=\"text-align: right;\">\n",
       "      <th></th>\n",
       "      <th>doc_title</th>\n",
       "      <th>doc_description</th>\n",
       "      <th>Job Family</th>\n",
       "      <th>Job Function</th>\n",
       "      <th>title_desc</th>\n",
       "    </tr>\n",
       "  </thead>\n",
       "  <tbody>\n",
       "    <tr>\n",
       "      <th>0</th>\n",
       "      <td>Case Study 1 tahun Magang di Kementerian BUMN</td>\n",
       "      <td>NaN</td>\n",
       "      <td>BUSINESS ENABLER/ENTERPRISE MGT</td>\n",
       "      <td>Human Capital</td>\n",
       "      <td>case study 1 tahun magang di kementerian bumn</td>\n",
       "    </tr>\n",
       "    <tr>\n",
       "      <th>1</th>\n",
       "      <td>Case Study 1 tahun Magang di Kementerian BUMN</td>\n",
       "      <td>NaN</td>\n",
       "      <td>BUSINESS ENABLER/ENTERPRISE MGT</td>\n",
       "      <td>Human Capital</td>\n",
       "      <td>case study 1 tahun magang di kementerian bumn</td>\n",
       "    </tr>\n",
       "    <tr>\n",
       "      <th>2</th>\n",
       "      <td>ILC : Securing Revenue Witel Riau Daratan 2017</td>\n",
       "      <td>NaN</td>\n",
       "      <td>STRATEGIC PLAN &amp; DEVELOPMENT</td>\n",
       "      <td>Strategic Planning</td>\n",
       "      <td>ilc  securing revenue witel riau daratan 2017</td>\n",
       "    </tr>\n",
       "    <tr>\n",
       "      <th>3</th>\n",
       "      <td>SIKAT HABIS FTTH UNSPEC DENGAN MINI OLT OUTDOOR</td>\n",
       "      <td>NaN</td>\n",
       "      <td>DIGITAL &amp; ICT</td>\n",
       "      <td>Telecommunication</td>\n",
       "      <td>sikat habis ftth unspec dengan mini olt outdoor</td>\n",
       "    </tr>\n",
       "    <tr>\n",
       "      <th>4</th>\n",
       "      <td>PROSES PENGAJUAN CAPEX FTTH INDIHOME DI WITEL NTB</td>\n",
       "      <td>NaN</td>\n",
       "      <td>DIGITAL &amp; ICT</td>\n",
       "      <td>Telecommunication</td>\n",
       "      <td>proses pengajuan capex ftth indihome di witel ...</td>\n",
       "    </tr>\n",
       "  </tbody>\n",
       "</table>\n",
       "</div>"
      ],
      "text/plain": [
       "                                           doc_title doc_description  \\\n",
       "0      Case Study 1 tahun Magang di Kementerian BUMN             NaN   \n",
       "1      Case Study 1 tahun Magang di Kementerian BUMN             NaN   \n",
       "2     ILC : Securing Revenue Witel Riau Daratan 2017             NaN   \n",
       "3    SIKAT HABIS FTTH UNSPEC DENGAN MINI OLT OUTDOOR             NaN   \n",
       "4  PROSES PENGAJUAN CAPEX FTTH INDIHOME DI WITEL NTB             NaN   \n",
       "\n",
       "                        Job Family        Job Function  \\\n",
       "0  BUSINESS ENABLER/ENTERPRISE MGT       Human Capital   \n",
       "1  BUSINESS ENABLER/ENTERPRISE MGT       Human Capital   \n",
       "2     STRATEGIC PLAN & DEVELOPMENT  Strategic Planning   \n",
       "3                    DIGITAL & ICT   Telecommunication   \n",
       "4                    DIGITAL & ICT   Telecommunication   \n",
       "\n",
       "                                          title_desc  \n",
       "0     case study 1 tahun magang di kementerian bumn   \n",
       "1     case study 1 tahun magang di kementerian bumn   \n",
       "2     ilc  securing revenue witel riau daratan 2017   \n",
       "3   sikat habis ftth unspec dengan mini olt outdoor   \n",
       "4  proses pengajuan capex ftth indihome di witel ...  "
      ]
     },
     "execution_count": 7,
     "metadata": {},
     "output_type": "execute_result"
    }
   ],
   "source": [
    "df.head(5)"
   ]
  },
  {
   "cell_type": "markdown",
   "metadata": {},
   "source": [
    "## Remove Stopwords"
   ]
  },
  {
   "cell_type": "code",
   "execution_count": 24,
   "metadata": {},
   "outputs": [
    {
     "data": {
      "text/plain": [
       "'99.9911512 - 11300'"
      ]
     },
     "metadata": {},
     "output_type": "display_data"
    },
    {
     "name": "stdout",
     "output_type": "stream",
     "text": [
      "Duration: 1008.54s\n"
     ]
    }
   ],
   "source": [
    "from IPython.display import display, clear_output\n",
    "import time\n",
    "from nltk.corpus import stopwords\n",
    "from nltk.corpus import wordnet as wn\n",
    "from nltk.tokenize import word_tokenize\n",
    "\n",
    "len_df = len(df)\n",
    "start = 0\n",
    "# end   = 960205\n",
    "t1 = time.time()\n",
    "for entry in df['title_desc']:    \n",
    "    clear_output(wait=True)\n",
    "    res = [word for word in word_tokenize(entry) if not word in stopwords.words('english') and not word in stopwords.words('indonesian')]\n",
    "    res = (\" \").join(res)  \n",
    "    p = (start/len_df)*100\n",
    "    display(\"%.7f\" % p +\" - \"+str(start))\n",
    "    df.loc[start,'clean_title_desc'] = res\n",
    "    if start >= len_df:\n",
    "        break\n",
    "    start = start+1\n",
    "    \n",
    "t2 = time.time()\n",
    "print('Duration: {0:.2f}s'.format(round(t2-t1,2)))"
   ]
  },
  {
   "cell_type": "code",
   "execution_count": 1,
   "metadata": {},
   "outputs": [
    {
     "ename": "NameError",
     "evalue": "name 'df' is not defined",
     "output_type": "error",
     "traceback": [
      "\u001b[1;31m---------------------------------------------------------------------------\u001b[0m",
      "\u001b[1;31mNameError\u001b[0m                                 Traceback (most recent call last)",
      "\u001b[1;32m<ipython-input-1-a29405eb924b>\u001b[0m in \u001b[0;36m<module>\u001b[1;34m\u001b[0m\n\u001b[1;32m----> 1\u001b[1;33m \u001b[0mdf\u001b[0m\u001b[1;33m.\u001b[0m\u001b[0mhead\u001b[0m\u001b[1;33m(\u001b[0m\u001b[1;36m5\u001b[0m\u001b[1;33m)\u001b[0m\u001b[1;33m\u001b[0m\u001b[1;33m\u001b[0m\u001b[0m\n\u001b[0m",
      "\u001b[1;31mNameError\u001b[0m: name 'df' is not defined"
     ]
    }
   ],
   "source": [
    "df.head(5)"
   ]
  },
  {
   "cell_type": "markdown",
   "metadata": {},
   "source": [
    "## Save & Reload Data"
   ]
  },
  {
   "cell_type": "code",
   "execution_count": 27,
   "metadata": {},
   "outputs": [],
   "source": [
    "# Save preprocessed data to load further\n",
    "# df.to_csv('dataset/[PREPROCESSED]20210122-Kampiun Digilib Clean-jfam-jfunc.csv')"
   ]
  },
  {
   "cell_type": "code",
   "execution_count": 3,
   "metadata": {},
   "outputs": [],
   "source": [
    "# Reload Data\n",
    "df = pd.read_csv('dataset/[PREPROCESSED]20210122-Kampiun Digilib Clean-jfam-jfunc.csv', index_col=0)"
   ]
  },
  {
   "cell_type": "code",
   "execution_count": 12,
   "metadata": {},
   "outputs": [
    {
     "data": {
      "text/plain": [
       "doc_title            18\n",
       "doc_description     237\n",
       "Job Family            0\n",
       "Job Function          0\n",
       "title_desc            0\n",
       "clean_title_desc      0\n",
       "dtype: int64"
      ]
     },
     "execution_count": 12,
     "metadata": {},
     "output_type": "execute_result"
    }
   ],
   "source": [
    "df.isna().sum()"
   ]
  },
  {
   "cell_type": "code",
   "execution_count": 10,
   "metadata": {},
   "outputs": [
    {
     "data": {
      "text/plain": [
       "DIGITAL & ICT                      3817\n",
       "COMMERCE & RELATION                2880\n",
       "BUSINESS ENABLER/ENTERPRISE MGT    2206\n",
       "STRATEGIC PLAN & DEVELOPMENT       2169\n",
       "RISK & COMPLIANCE                   229\n",
       "Name: Job Family, dtype: int64"
      ]
     },
     "execution_count": 10,
     "metadata": {},
     "output_type": "execute_result"
    }
   ],
   "source": [
    "df['Job Family'].value_counts()"
   ]
  },
  {
   "cell_type": "code",
   "execution_count": 10,
   "metadata": {},
   "outputs": [
    {
     "data": {
      "text/plain": [
       "Job Function\n",
       "Business Development            0.075777\n",
       "Business Effectiveness          0.083634\n",
       "DIGITAL PRODUCT & SERVICE       0.135567\n",
       "Education                       0.046333\n",
       "Finance                         0.051933\n",
       "General Affairs                 0.024928\n",
       "Human Capital                   0.076048\n",
       "Information Technology          0.079480\n",
       "Marketing                       0.136109\n",
       "Relationship Management         0.027095\n",
       "Sales                           0.083634\n",
       "Social Community Development    0.013277\n",
       "Strategic Planning              0.036488\n",
       "Telecommunication               0.129697\n",
       "dtype: float64"
      ]
     },
     "execution_count": 10,
     "metadata": {},
     "output_type": "execute_result"
    }
   ],
   "source": [
    "df.groupby('Job Function').size()/df.shape[0]"
   ]
  },
  {
   "cell_type": "markdown",
   "metadata": {},
   "source": [
    "df drop Job Family Risk & Compliance because of data imbalance"
   ]
  },
  {
   "cell_type": "code",
   "execution_count": 13,
   "metadata": {},
   "outputs": [
    {
     "data": {
      "text/html": [
       "<div>\n",
       "<style scoped>\n",
       "    .dataframe tbody tr th:only-of-type {\n",
       "        vertical-align: middle;\n",
       "    }\n",
       "\n",
       "    .dataframe tbody tr th {\n",
       "        vertical-align: top;\n",
       "    }\n",
       "\n",
       "    .dataframe thead th {\n",
       "        text-align: right;\n",
       "    }\n",
       "</style>\n",
       "<table border=\"1\" class=\"dataframe\">\n",
       "  <thead>\n",
       "    <tr style=\"text-align: right;\">\n",
       "      <th></th>\n",
       "      <th>doc_title</th>\n",
       "      <th>doc_description</th>\n",
       "      <th>Job Family</th>\n",
       "      <th>Job Function</th>\n",
       "      <th>title_desc</th>\n",
       "      <th>clean_title_desc</th>\n",
       "    </tr>\n",
       "  </thead>\n",
       "  <tbody>\n",
       "    <tr>\n",
       "      <th>0</th>\n",
       "      <td>Case Study 1 tahun Magang di Kementerian BUMN</td>\n",
       "      <td>NaN</td>\n",
       "      <td>BUSINESS ENABLER/ENTERPRISE MGT</td>\n",
       "      <td>Human Capital</td>\n",
       "      <td>case study 1 tahun magang di kementerian bumn</td>\n",
       "      <td>case study 1 magang kementerian bumn</td>\n",
       "    </tr>\n",
       "    <tr>\n",
       "      <th>1</th>\n",
       "      <td>Case Study 1 tahun Magang di Kementerian BUMN</td>\n",
       "      <td>NaN</td>\n",
       "      <td>BUSINESS ENABLER/ENTERPRISE MGT</td>\n",
       "      <td>Human Capital</td>\n",
       "      <td>case study 1 tahun magang di kementerian bumn</td>\n",
       "      <td>case study 1 magang kementerian bumn</td>\n",
       "    </tr>\n",
       "    <tr>\n",
       "      <th>2</th>\n",
       "      <td>ILC : Securing Revenue Witel Riau Daratan 2017</td>\n",
       "      <td>NaN</td>\n",
       "      <td>STRATEGIC PLAN &amp; DEVELOPMENT</td>\n",
       "      <td>Strategic Planning</td>\n",
       "      <td>ilc  securing revenue witel riau daratan 2017</td>\n",
       "      <td>ilc securing revenue witel riau daratan 2017</td>\n",
       "    </tr>\n",
       "    <tr>\n",
       "      <th>3</th>\n",
       "      <td>SIKAT HABIS FTTH UNSPEC DENGAN MINI OLT OUTDOOR</td>\n",
       "      <td>NaN</td>\n",
       "      <td>DIGITAL &amp; ICT</td>\n",
       "      <td>Telecommunication</td>\n",
       "      <td>sikat habis ftth unspec dengan mini olt outdoor</td>\n",
       "      <td>sikat habis ftth unspec mini olt outdoor</td>\n",
       "    </tr>\n",
       "    <tr>\n",
       "      <th>4</th>\n",
       "      <td>PROSES PENGAJUAN CAPEX FTTH INDIHOME DI WITEL NTB</td>\n",
       "      <td>NaN</td>\n",
       "      <td>DIGITAL &amp; ICT</td>\n",
       "      <td>Telecommunication</td>\n",
       "      <td>proses pengajuan capex ftth indihome di witel ...</td>\n",
       "      <td>proses pengajuan capex ftth indihome witel ntb</td>\n",
       "    </tr>\n",
       "    <tr>\n",
       "      <th>...</th>\n",
       "      <td>...</td>\n",
       "      <td>...</td>\n",
       "      <td>...</td>\n",
       "      <td>...</td>\n",
       "      <td>...</td>\n",
       "      <td>...</td>\n",
       "    </tr>\n",
       "    <tr>\n",
       "      <th>11296</th>\n",
       "      <td>PENTINGNYA LOYALITAS PELANGGAN</td>\n",
       "      <td>Ditengah-tengah persaingan berbagai bisnis/ind...</td>\n",
       "      <td>COMMERCE &amp; RELATION</td>\n",
       "      <td>Sales</td>\n",
       "      <td>pentingnya loyalitas pelanggan ditengah-tengah...</td>\n",
       "      <td>loyalitas pelanggan ditengah-tengah persaingan...</td>\n",
       "    </tr>\n",
       "    <tr>\n",
       "      <th>11297</th>\n",
       "      <td>Uji Terima Online dalam Proyek Digitalisasi SP...</td>\n",
       "      <td>1. Latar Belakang           \\n                ...</td>\n",
       "      <td>DIGITAL &amp; ICT</td>\n",
       "      <td>Information Technology</td>\n",
       "      <td>uji terima online dalam proyek digitalisasi sp...</td>\n",
       "      <td>uji terima online proyek digitalisasi spbu sol...</td>\n",
       "    </tr>\n",
       "    <tr>\n",
       "      <th>11298</th>\n",
       "      <td>REKON TAGIHAN PSB  TA TO TELKOM  WITEL PURWOKERTO</td>\n",
       "      <td>CARA REKON TAGIHAN PSB  TA KE TELKOM \\n \\n1. A...</td>\n",
       "      <td>BUSINESS ENABLER/ENTERPRISE MGT</td>\n",
       "      <td>Education</td>\n",
       "      <td>rekon tagihan psb  ta to telkom  witel purwoke...</td>\n",
       "      <td>rekon tagihan psb ta telkom witel purwokerto r...</td>\n",
       "    </tr>\n",
       "    <tr>\n",
       "      <th>11299</th>\n",
       "      <td>TDSCC  (Telkom DIGITAL SOLUTION CARE CENTER) G...</td>\n",
       "      <td>#NAME?</td>\n",
       "      <td>DIGITAL &amp; ICT</td>\n",
       "      <td>Information Technology</td>\n",
       "      <td>tdscc  telkom digital solution care center go ...</td>\n",
       "      <td>tdscc telkom digital solution care center go o...</td>\n",
       "    </tr>\n",
       "    <tr>\n",
       "      <th>11300</th>\n",
       "      <td>Blockchain adoption in order  to Implement Bio...</td>\n",
       "      <td>#NAME?</td>\n",
       "      <td>DIGITAL &amp; ICT</td>\n",
       "      <td>DIGITAL PRODUCT &amp; SERVICE</td>\n",
       "      <td>blockchain adoption in order  to implement bio...</td>\n",
       "      <td>blockchain adoption order implement biometric ...</td>\n",
       "    </tr>\n",
       "  </tbody>\n",
       "</table>\n",
       "<p>11072 rows × 6 columns</p>\n",
       "</div>"
      ],
      "text/plain": [
       "                                               doc_title  \\\n",
       "0          Case Study 1 tahun Magang di Kementerian BUMN   \n",
       "1          Case Study 1 tahun Magang di Kementerian BUMN   \n",
       "2         ILC : Securing Revenue Witel Riau Daratan 2017   \n",
       "3        SIKAT HABIS FTTH UNSPEC DENGAN MINI OLT OUTDOOR   \n",
       "4      PROSES PENGAJUAN CAPEX FTTH INDIHOME DI WITEL NTB   \n",
       "...                                                  ...   \n",
       "11296                     PENTINGNYA LOYALITAS PELANGGAN   \n",
       "11297  Uji Terima Online dalam Proyek Digitalisasi SP...   \n",
       "11298  REKON TAGIHAN PSB  TA TO TELKOM  WITEL PURWOKERTO   \n",
       "11299  TDSCC  (Telkom DIGITAL SOLUTION CARE CENTER) G...   \n",
       "11300  Blockchain adoption in order  to Implement Bio...   \n",
       "\n",
       "                                         doc_description  \\\n",
       "0                                                    NaN   \n",
       "1                                                    NaN   \n",
       "2                                                    NaN   \n",
       "3                                                    NaN   \n",
       "4                                                    NaN   \n",
       "...                                                  ...   \n",
       "11296  Ditengah-tengah persaingan berbagai bisnis/ind...   \n",
       "11297  1. Latar Belakang           \\n                ...   \n",
       "11298  CARA REKON TAGIHAN PSB  TA KE TELKOM \\n \\n1. A...   \n",
       "11299                                             #NAME?   \n",
       "11300                                             #NAME?   \n",
       "\n",
       "                            Job Family               Job Function  \\\n",
       "0      BUSINESS ENABLER/ENTERPRISE MGT              Human Capital   \n",
       "1      BUSINESS ENABLER/ENTERPRISE MGT              Human Capital   \n",
       "2         STRATEGIC PLAN & DEVELOPMENT         Strategic Planning   \n",
       "3                        DIGITAL & ICT          Telecommunication   \n",
       "4                        DIGITAL & ICT          Telecommunication   \n",
       "...                                ...                        ...   \n",
       "11296              COMMERCE & RELATION                      Sales   \n",
       "11297                    DIGITAL & ICT     Information Technology   \n",
       "11298  BUSINESS ENABLER/ENTERPRISE MGT                  Education   \n",
       "11299                    DIGITAL & ICT     Information Technology   \n",
       "11300                    DIGITAL & ICT  DIGITAL PRODUCT & SERVICE   \n",
       "\n",
       "                                              title_desc  \\\n",
       "0         case study 1 tahun magang di kementerian bumn    \n",
       "1         case study 1 tahun magang di kementerian bumn    \n",
       "2         ilc  securing revenue witel riau daratan 2017    \n",
       "3       sikat habis ftth unspec dengan mini olt outdoor    \n",
       "4      proses pengajuan capex ftth indihome di witel ...   \n",
       "...                                                  ...   \n",
       "11296  pentingnya loyalitas pelanggan ditengah-tengah...   \n",
       "11297  uji terima online dalam proyek digitalisasi sp...   \n",
       "11298  rekon tagihan psb  ta to telkom  witel purwoke...   \n",
       "11299  tdscc  telkom digital solution care center go ...   \n",
       "11300  blockchain adoption in order  to implement bio...   \n",
       "\n",
       "                                        clean_title_desc  \n",
       "0                   case study 1 magang kementerian bumn  \n",
       "1                   case study 1 magang kementerian bumn  \n",
       "2           ilc securing revenue witel riau daratan 2017  \n",
       "3               sikat habis ftth unspec mini olt outdoor  \n",
       "4         proses pengajuan capex ftth indihome witel ntb  \n",
       "...                                                  ...  \n",
       "11296  loyalitas pelanggan ditengah-tengah persaingan...  \n",
       "11297  uji terima online proyek digitalisasi spbu sol...  \n",
       "11298  rekon tagihan psb ta telkom witel purwokerto r...  \n",
       "11299  tdscc telkom digital solution care center go o...  \n",
       "11300  blockchain adoption order implement biometric ...  \n",
       "\n",
       "[11072 rows x 6 columns]"
      ]
     },
     "execution_count": 13,
     "metadata": {},
     "output_type": "execute_result"
    }
   ],
   "source": [
    "df[df['Job Family'] != 'RISK & COMPLIANCE']"
   ]
  },
  {
   "cell_type": "code",
   "execution_count": 6,
   "metadata": {},
   "outputs": [],
   "source": [
    "df.drop(df[df['Job Family'] == 'RISK & COMPLIANCE'].index, inplace = True)"
   ]
  },
  {
   "cell_type": "code",
   "execution_count": 7,
   "metadata": {},
   "outputs": [
    {
     "data": {
      "text/html": [
       "<div>\n",
       "<style scoped>\n",
       "    .dataframe tbody tr th:only-of-type {\n",
       "        vertical-align: middle;\n",
       "    }\n",
       "\n",
       "    .dataframe tbody tr th {\n",
       "        vertical-align: top;\n",
       "    }\n",
       "\n",
       "    .dataframe thead th {\n",
       "        text-align: right;\n",
       "    }\n",
       "</style>\n",
       "<table border=\"1\" class=\"dataframe\">\n",
       "  <thead>\n",
       "    <tr style=\"text-align: right;\">\n",
       "      <th></th>\n",
       "      <th>doc_title</th>\n",
       "      <th>doc_description</th>\n",
       "      <th>Job Family</th>\n",
       "      <th>Job Function</th>\n",
       "      <th>title_desc</th>\n",
       "      <th>clean_title_desc</th>\n",
       "    </tr>\n",
       "  </thead>\n",
       "  <tbody>\n",
       "    <tr>\n",
       "      <th>0</th>\n",
       "      <td>Case Study 1 tahun Magang di Kementerian BUMN</td>\n",
       "      <td>NaN</td>\n",
       "      <td>BUSINESS ENABLER/ENTERPRISE MGT</td>\n",
       "      <td>Human Capital</td>\n",
       "      <td>case study 1 tahun magang di kementerian bumn</td>\n",
       "      <td>case study 1 magang kementerian bumn</td>\n",
       "    </tr>\n",
       "    <tr>\n",
       "      <th>1</th>\n",
       "      <td>Case Study 1 tahun Magang di Kementerian BUMN</td>\n",
       "      <td>NaN</td>\n",
       "      <td>BUSINESS ENABLER/ENTERPRISE MGT</td>\n",
       "      <td>Human Capital</td>\n",
       "      <td>case study 1 tahun magang di kementerian bumn</td>\n",
       "      <td>case study 1 magang kementerian bumn</td>\n",
       "    </tr>\n",
       "    <tr>\n",
       "      <th>2</th>\n",
       "      <td>ILC : Securing Revenue Witel Riau Daratan 2017</td>\n",
       "      <td>NaN</td>\n",
       "      <td>STRATEGIC PLAN &amp; DEVELOPMENT</td>\n",
       "      <td>Strategic Planning</td>\n",
       "      <td>ilc  securing revenue witel riau daratan 2017</td>\n",
       "      <td>ilc securing revenue witel riau daratan 2017</td>\n",
       "    </tr>\n",
       "    <tr>\n",
       "      <th>3</th>\n",
       "      <td>SIKAT HABIS FTTH UNSPEC DENGAN MINI OLT OUTDOOR</td>\n",
       "      <td>NaN</td>\n",
       "      <td>DIGITAL &amp; ICT</td>\n",
       "      <td>Telecommunication</td>\n",
       "      <td>sikat habis ftth unspec dengan mini olt outdoor</td>\n",
       "      <td>sikat habis ftth unspec mini olt outdoor</td>\n",
       "    </tr>\n",
       "    <tr>\n",
       "      <th>4</th>\n",
       "      <td>PROSES PENGAJUAN CAPEX FTTH INDIHOME DI WITEL NTB</td>\n",
       "      <td>NaN</td>\n",
       "      <td>DIGITAL &amp; ICT</td>\n",
       "      <td>Telecommunication</td>\n",
       "      <td>proses pengajuan capex ftth indihome di witel ...</td>\n",
       "      <td>proses pengajuan capex ftth indihome witel ntb</td>\n",
       "    </tr>\n",
       "    <tr>\n",
       "      <th>...</th>\n",
       "      <td>...</td>\n",
       "      <td>...</td>\n",
       "      <td>...</td>\n",
       "      <td>...</td>\n",
       "      <td>...</td>\n",
       "      <td>...</td>\n",
       "    </tr>\n",
       "    <tr>\n",
       "      <th>11296</th>\n",
       "      <td>PENTINGNYA LOYALITAS PELANGGAN</td>\n",
       "      <td>Ditengah-tengah persaingan berbagai bisnis/ind...</td>\n",
       "      <td>COMMERCE &amp; RELATION</td>\n",
       "      <td>Sales</td>\n",
       "      <td>pentingnya loyalitas pelanggan ditengah-tengah...</td>\n",
       "      <td>loyalitas pelanggan ditengah-tengah persaingan...</td>\n",
       "    </tr>\n",
       "    <tr>\n",
       "      <th>11297</th>\n",
       "      <td>Uji Terima Online dalam Proyek Digitalisasi SP...</td>\n",
       "      <td>1. Latar Belakang           \\n                ...</td>\n",
       "      <td>DIGITAL &amp; ICT</td>\n",
       "      <td>Information Technology</td>\n",
       "      <td>uji terima online dalam proyek digitalisasi sp...</td>\n",
       "      <td>uji terima online proyek digitalisasi spbu sol...</td>\n",
       "    </tr>\n",
       "    <tr>\n",
       "      <th>11298</th>\n",
       "      <td>REKON TAGIHAN PSB  TA TO TELKOM  WITEL PURWOKERTO</td>\n",
       "      <td>CARA REKON TAGIHAN PSB  TA KE TELKOM \\n \\n1. A...</td>\n",
       "      <td>BUSINESS ENABLER/ENTERPRISE MGT</td>\n",
       "      <td>Education</td>\n",
       "      <td>rekon tagihan psb  ta to telkom  witel purwoke...</td>\n",
       "      <td>rekon tagihan psb ta telkom witel purwokerto r...</td>\n",
       "    </tr>\n",
       "    <tr>\n",
       "      <th>11299</th>\n",
       "      <td>TDSCC  (Telkom DIGITAL SOLUTION CARE CENTER) G...</td>\n",
       "      <td>#NAME?</td>\n",
       "      <td>DIGITAL &amp; ICT</td>\n",
       "      <td>Information Technology</td>\n",
       "      <td>tdscc  telkom digital solution care center go ...</td>\n",
       "      <td>tdscc telkom digital solution care center go o...</td>\n",
       "    </tr>\n",
       "    <tr>\n",
       "      <th>11300</th>\n",
       "      <td>Blockchain adoption in order  to Implement Bio...</td>\n",
       "      <td>#NAME?</td>\n",
       "      <td>DIGITAL &amp; ICT</td>\n",
       "      <td>DIGITAL PRODUCT &amp; SERVICE</td>\n",
       "      <td>blockchain adoption in order  to implement bio...</td>\n",
       "      <td>blockchain adoption order implement biometric ...</td>\n",
       "    </tr>\n",
       "  </tbody>\n",
       "</table>\n",
       "<p>11072 rows × 6 columns</p>\n",
       "</div>"
      ],
      "text/plain": [
       "                                               doc_title  \\\n",
       "0          Case Study 1 tahun Magang di Kementerian BUMN   \n",
       "1          Case Study 1 tahun Magang di Kementerian BUMN   \n",
       "2         ILC : Securing Revenue Witel Riau Daratan 2017   \n",
       "3        SIKAT HABIS FTTH UNSPEC DENGAN MINI OLT OUTDOOR   \n",
       "4      PROSES PENGAJUAN CAPEX FTTH INDIHOME DI WITEL NTB   \n",
       "...                                                  ...   \n",
       "11296                     PENTINGNYA LOYALITAS PELANGGAN   \n",
       "11297  Uji Terima Online dalam Proyek Digitalisasi SP...   \n",
       "11298  REKON TAGIHAN PSB  TA TO TELKOM  WITEL PURWOKERTO   \n",
       "11299  TDSCC  (Telkom DIGITAL SOLUTION CARE CENTER) G...   \n",
       "11300  Blockchain adoption in order  to Implement Bio...   \n",
       "\n",
       "                                         doc_description  \\\n",
       "0                                                    NaN   \n",
       "1                                                    NaN   \n",
       "2                                                    NaN   \n",
       "3                                                    NaN   \n",
       "4                                                    NaN   \n",
       "...                                                  ...   \n",
       "11296  Ditengah-tengah persaingan berbagai bisnis/ind...   \n",
       "11297  1. Latar Belakang           \\n                ...   \n",
       "11298  CARA REKON TAGIHAN PSB  TA KE TELKOM \\n \\n1. A...   \n",
       "11299                                             #NAME?   \n",
       "11300                                             #NAME?   \n",
       "\n",
       "                            Job Family               Job Function  \\\n",
       "0      BUSINESS ENABLER/ENTERPRISE MGT              Human Capital   \n",
       "1      BUSINESS ENABLER/ENTERPRISE MGT              Human Capital   \n",
       "2         STRATEGIC PLAN & DEVELOPMENT         Strategic Planning   \n",
       "3                        DIGITAL & ICT          Telecommunication   \n",
       "4                        DIGITAL & ICT          Telecommunication   \n",
       "...                                ...                        ...   \n",
       "11296              COMMERCE & RELATION                      Sales   \n",
       "11297                    DIGITAL & ICT     Information Technology   \n",
       "11298  BUSINESS ENABLER/ENTERPRISE MGT                  Education   \n",
       "11299                    DIGITAL & ICT     Information Technology   \n",
       "11300                    DIGITAL & ICT  DIGITAL PRODUCT & SERVICE   \n",
       "\n",
       "                                              title_desc  \\\n",
       "0         case study 1 tahun magang di kementerian bumn    \n",
       "1         case study 1 tahun magang di kementerian bumn    \n",
       "2         ilc  securing revenue witel riau daratan 2017    \n",
       "3       sikat habis ftth unspec dengan mini olt outdoor    \n",
       "4      proses pengajuan capex ftth indihome di witel ...   \n",
       "...                                                  ...   \n",
       "11296  pentingnya loyalitas pelanggan ditengah-tengah...   \n",
       "11297  uji terima online dalam proyek digitalisasi sp...   \n",
       "11298  rekon tagihan psb  ta to telkom  witel purwoke...   \n",
       "11299  tdscc  telkom digital solution care center go ...   \n",
       "11300  blockchain adoption in order  to implement bio...   \n",
       "\n",
       "                                        clean_title_desc  \n",
       "0                   case study 1 magang kementerian bumn  \n",
       "1                   case study 1 magang kementerian bumn  \n",
       "2           ilc securing revenue witel riau daratan 2017  \n",
       "3               sikat habis ftth unspec mini olt outdoor  \n",
       "4         proses pengajuan capex ftth indihome witel ntb  \n",
       "...                                                  ...  \n",
       "11296  loyalitas pelanggan ditengah-tengah persaingan...  \n",
       "11297  uji terima online proyek digitalisasi spbu sol...  \n",
       "11298  rekon tagihan psb ta telkom witel purwokerto r...  \n",
       "11299  tdscc telkom digital solution care center go o...  \n",
       "11300  blockchain adoption order implement biometric ...  \n",
       "\n",
       "[11072 rows x 6 columns]"
      ]
     },
     "execution_count": 7,
     "metadata": {},
     "output_type": "execute_result"
    }
   ],
   "source": [
    "df"
   ]
  },
  {
   "cell_type": "code",
   "execution_count": 14,
   "metadata": {},
   "outputs": [
    {
     "data": {
      "text/plain": [
       "Job Family\n",
       "BUSINESS ENABLER/ENTERPRISE MGT    0.199241\n",
       "COMMERCE & RELATION                0.260116\n",
       "DIGITAL & ICT                      0.344743\n",
       "STRATEGIC PLAN & DEVELOPMENT       0.195900\n",
       "dtype: float64"
      ]
     },
     "execution_count": 14,
     "metadata": {},
     "output_type": "execute_result"
    }
   ],
   "source": [
    "df.groupby('Job Family').size()/df.shape[0]"
   ]
  },
  {
   "cell_type": "code",
   "execution_count": 15,
   "metadata": {},
   "outputs": [
    {
     "data": {
      "text/plain": [
       "DIGITAL & ICT                      3817\n",
       "COMMERCE & RELATION                2880\n",
       "BUSINESS ENABLER/ENTERPRISE MGT    2206\n",
       "STRATEGIC PLAN & DEVELOPMENT       2169\n",
       "Name: Job Family, dtype: int64"
      ]
     },
     "execution_count": 15,
     "metadata": {},
     "output_type": "execute_result"
    }
   ],
   "source": [
    "df['Job Family'].value_counts()"
   ]
  },
  {
   "cell_type": "markdown",
   "metadata": {},
   "source": [
    "### Alt 1: Balance Class"
   ]
  },
  {
   "cell_type": "code",
   "execution_count": 114,
   "metadata": {},
   "outputs": [],
   "source": [
    "# Balance Class\n",
    "sample_size = 2169 # needs to be less than the number of observations in the minority class\n",
    "sample_df = df.groupby('Job Family').apply(lambda x: x.sample(sample_size))"
   ]
  },
  {
   "cell_type": "code",
   "execution_count": 115,
   "metadata": {},
   "outputs": [],
   "source": [
    "sample_df = sample_df.reset_index(level=0, drop=True)"
   ]
  },
  {
   "cell_type": "code",
   "execution_count": 116,
   "metadata": {},
   "outputs": [],
   "source": [
    "sample_df = sample_df.sort_index()"
   ]
  },
  {
   "cell_type": "markdown",
   "metadata": {},
   "source": [
    "### Alt 2: Unbalance Class"
   ]
  },
  {
   "cell_type": "code",
   "execution_count": 16,
   "metadata": {},
   "outputs": [],
   "source": [
    "# Unbalance Class\n",
    "sample_df = df"
   ]
  },
  {
   "cell_type": "code",
   "execution_count": 17,
   "metadata": {},
   "outputs": [
    {
     "data": {
      "text/plain": [
       "Job Family\n",
       "BUSINESS ENABLER/ENTERPRISE MGT    2206\n",
       "COMMERCE & RELATION                2880\n",
       "DIGITAL & ICT                      3817\n",
       "STRATEGIC PLAN & DEVELOPMENT       2169\n",
       "dtype: int64"
      ]
     },
     "execution_count": 17,
     "metadata": {},
     "output_type": "execute_result"
    }
   ],
   "source": [
    "sample_df.groupby(\"Job Family\").size()"
   ]
  },
  {
   "cell_type": "code",
   "execution_count": 18,
   "metadata": {},
   "outputs": [],
   "source": [
    "sample_df['word_count'] = sample_df['clean_title_desc'].str.split().str.len()"
   ]
  },
  {
   "cell_type": "code",
   "execution_count": 19,
   "metadata": {},
   "outputs": [
    {
     "data": {
      "text/html": [
       "<div>\n",
       "<style scoped>\n",
       "    .dataframe tbody tr th:only-of-type {\n",
       "        vertical-align: middle;\n",
       "    }\n",
       "\n",
       "    .dataframe tbody tr th {\n",
       "        vertical-align: top;\n",
       "    }\n",
       "\n",
       "    .dataframe thead th {\n",
       "        text-align: right;\n",
       "    }\n",
       "</style>\n",
       "<table border=\"1\" class=\"dataframe\">\n",
       "  <thead>\n",
       "    <tr style=\"text-align: right;\">\n",
       "      <th></th>\n",
       "      <th>doc_title</th>\n",
       "      <th>doc_description</th>\n",
       "      <th>Job Family</th>\n",
       "      <th>Job Function</th>\n",
       "      <th>title_desc</th>\n",
       "      <th>clean_title_desc</th>\n",
       "      <th>word_count</th>\n",
       "    </tr>\n",
       "  </thead>\n",
       "  <tbody>\n",
       "    <tr>\n",
       "      <th>133</th>\n",
       "      <td>INSIDEN</td>\n",
       "      <td>INSIDEN jika tidak dilaorkan akan menjadi keru...</td>\n",
       "      <td>BUSINESS ENABLER/ENTERPRISE MGT</td>\n",
       "      <td>Education</td>\n",
       "      <td>insiden insiden jika tidak dilaorkan akan menj...</td>\n",
       "      <td>insiden insiden dilaorkan kerugian</td>\n",
       "      <td>4</td>\n",
       "    </tr>\n",
       "  </tbody>\n",
       "</table>\n",
       "</div>"
      ],
      "text/plain": [
       "    doc_title                                    doc_description  \\\n",
       "133   INSIDEN  INSIDEN jika tidak dilaorkan akan menjadi keru...   \n",
       "\n",
       "                          Job Family Job Function  \\\n",
       "133  BUSINESS ENABLER/ENTERPRISE MGT    Education   \n",
       "\n",
       "                                            title_desc  \\\n",
       "133  insiden insiden jika tidak dilaorkan akan menj...   \n",
       "\n",
       "                       clean_title_desc  word_count  \n",
       "133  insiden insiden dilaorkan kerugian           4  "
      ]
     },
     "execution_count": 19,
     "metadata": {},
     "output_type": "execute_result"
    }
   ],
   "source": [
    "# sample_df.head(5)\n",
    "sample_df[sample_df['word_count']<=4]"
   ]
  },
  {
   "cell_type": "code",
   "execution_count": 20,
   "metadata": {},
   "outputs": [
    {
     "name": "stdout",
     "output_type": "stream",
     "text": [
      "Mean : 72.65128251445087\n",
      "Max  : 1478\n",
      "Min  : 4\n"
     ]
    }
   ],
   "source": [
    "result = [x for x in sample_df['word_count']]\n",
    "print(\"Mean : {}\".format(np.mean(result)))\n",
    "print(\"Max  : {}\".format(sample_df['word_count'].max()))\n",
    "print(\"Min  : {}\".format(sample_df['word_count'].min()))"
   ]
  },
  {
   "cell_type": "code",
   "execution_count": 21,
   "metadata": {},
   "outputs": [
    {
     "data": {
      "text/plain": [
       "array(['case study 1 magang kementerian bumn',\n",
       "       'case study 1 magang kementerian bumn',\n",
       "       'ilc securing revenue witel riau daratan 2017'], dtype=object)"
      ]
     },
     "execution_count": 21,
     "metadata": {},
     "output_type": "execute_result"
    }
   ],
   "source": [
    "sample_df.clean_title_desc[:3].values"
   ]
  },
  {
   "cell_type": "code",
   "execution_count": 22,
   "metadata": {},
   "outputs": [],
   "source": [
    "X = sample_df.clean_title_desc.values\n",
    "y = sample_df['Job Family'].values\n",
    "# sample_df['Job Family'].value_counts()"
   ]
  },
  {
   "cell_type": "code",
   "execution_count": 24,
   "metadata": {},
   "outputs": [
    {
     "data": {
      "text/plain": [
       "array(['case study 1 magang kementerian bumn',\n",
       "       'case study 1 magang kementerian bumn',\n",
       "       'ilc securing revenue witel riau daratan 2017'], dtype=object)"
      ]
     },
     "execution_count": 24,
     "metadata": {},
     "output_type": "execute_result"
    }
   ],
   "source": [
    "# print(X.shape)\n",
    "# print(y.shape)\n",
    "X[:3]"
   ]
  },
  {
   "cell_type": "code",
   "execution_count": 84,
   "metadata": {},
   "outputs": [],
   "source": [
    "# X_train"
   ]
  },
  {
   "cell_type": "markdown",
   "metadata": {},
   "source": [
    "## Train Test Split"
   ]
  },
  {
   "cell_type": "code",
   "execution_count": 232,
   "metadata": {},
   "outputs": [],
   "source": [
    "from sklearn.model_selection import train_test_split\n",
    "\n",
    "X_train_full, X_test, y_train_full, y_test = train_test_split(X, y, random_state=22, test_size=0.1)\n",
    "X_train, X_valid, y_train, y_valid = train_test_split(X_train_full, y_train_full, random_state=22, test_size=0.1)"
   ]
  },
  {
   "cell_type": "code",
   "execution_count": 187,
   "metadata": {},
   "outputs": [
    {
     "name": "stdout",
     "output_type": "stream",
     "text": [
      "telkomsel revenue double digit pengertian resiliansi base stasion telkomsel dual homing infrastruktur jaringan network acces jaringan optik sto berbeda masing- acces jalur optik berbeda sto berpengaruh jaringan optik putus disisi jaringan sto layanan jalansaat telkom jawa barat gencar melaksanakan pemasangan dual homing jaringan telkomsel kebijakan direksi ldquomengutamakan utamardquo telkomsel telepon seluler berbasis gsm harapan andalan perusahaan menjanjikan perhatian tercapainya target telkomsel revenue double digit menggembirakan harapan tanggung meningkatkan kwalitas layanan memuaskan penggunanya revenue dipertahankan meningkatpermasalahan penanggulangan gangguan bts node-b telkomsel dibawah tolok ukur sla service level agreement disepakati telkom telkomsel 3 jam 10 jam berhari-hari mean time recovery mttr dicapai 12 januari 2017 10 februari 2017 data mttr node-b telkomsel jawa barat perangkat access metro-e ont-gpon direct core metro-edengan penanggulangan gangguan loss opportunity\n",
      "DIGITAL & ICT\n"
     ]
    }
   ],
   "source": [
    "print(X_train[144])\n",
    "print(y_test[144])"
   ]
  },
  {
   "cell_type": "code",
   "execution_count": 233,
   "metadata": {},
   "outputs": [],
   "source": [
    "# Convert all word to string\n",
    "X_train = [str (item) for item in X_train]\n",
    "X_valid = [str (item) for item in X_valid]\n",
    "X_test = [str (item) for item in X_test]"
   ]
  },
  {
   "cell_type": "markdown",
   "metadata": {},
   "source": [
    "## Tokenize Words"
   ]
  },
  {
   "cell_type": "code",
   "execution_count": 234,
   "metadata": {},
   "outputs": [],
   "source": [
    "from tensorflow.keras.preprocessing.text import Tokenizer, text_to_word_sequence\n",
    "\n",
    "MAX_FEATURES = 500\n",
    "tokenizer = Tokenizer(num_words=MAX_FEATURES)\n",
    "tokenizer.fit_on_texts(X_train)\n",
    "X_train = tokenizer.texts_to_sequences(X_train)\n",
    "X_valid = tokenizer.texts_to_sequences(X_valid)\n",
    "X_test = tokenizer.texts_to_sequences(X_test)"
   ]
  },
  {
   "cell_type": "code",
   "execution_count": 235,
   "metadata": {},
   "outputs": [
    {
     "data": {
      "text/plain": [
       "[131,\n",
       " 26,\n",
       " 131,\n",
       " 120,\n",
       " 18,\n",
       " 64,\n",
       " 18,\n",
       " 115,\n",
       " 78,\n",
       " 301,\n",
       " 115,\n",
       " 301,\n",
       " 78,\n",
       " 18,\n",
       " 115,\n",
       " 18,\n",
       " 78,\n",
       " 3,\n",
       " 1,\n",
       " 297,\n",
       " 430,\n",
       " 18,\n",
       " 131,\n",
       " 273,\n",
       " 131,\n",
       " 304,\n",
       " 96,\n",
       " 5,\n",
       " 35,\n",
       " 131,\n",
       " 26,\n",
       " 19,\n",
       " 3,\n",
       " 26,\n",
       " 32,\n",
       " 336,\n",
       " 317,\n",
       " 131,\n",
       " 23,\n",
       " 290,\n",
       " 1,\n",
       " 131,\n",
       " 57,\n",
       " 408,\n",
       " 324,\n",
       " 408,\n",
       " 227,\n",
       " 162,\n",
       " 324,\n",
       " 162,\n",
       " 7,\n",
       " 336,\n",
       " 317,\n",
       " 131,\n",
       " 297,\n",
       " 41,\n",
       " 204,\n",
       " 378,\n",
       " 147,\n",
       " 341,\n",
       " 450,\n",
       " 337,\n",
       " 378,\n",
       " 32]"
      ]
     },
     "execution_count": 235,
     "metadata": {},
     "output_type": "execute_result"
    }
   ],
   "source": [
    "X_train[144]"
   ]
  },
  {
   "cell_type": "code",
   "execution_count": 236,
   "metadata": {},
   "outputs": [
    {
     "data": {
      "text/plain": [
       "131"
      ]
     },
     "execution_count": 236,
     "metadata": {},
     "output_type": "execute_result"
    }
   ],
   "source": [
    "tokenizer.word_index['telkomsel']"
   ]
  },
  {
   "cell_type": "code",
   "execution_count": 237,
   "metadata": {},
   "outputs": [],
   "source": [
    "# reverse index to word\n",
    "reverse_word_index = dict([(value, key) for (key, value) in tokenizer.word_index.items()])\n",
    "\n",
    "def decode_review(text):\n",
    "    return ' '.join([reverse_word_index.get(i, '') for i in text])"
   ]
  },
  {
   "cell_type": "code",
   "execution_count": 239,
   "metadata": {},
   "outputs": [
    {
     "data": {
      "text/plain": [
       "'telkomsel revenue telkomsel infrastruktur jaringan network jaringan optik sto berbeda optik berbeda sto jaringan optik jaringan sto layanan telkom barat melaksanakan jaringan telkomsel kebijakan telkomsel telepon berbasis perusahaan target telkomsel revenue meningkatkan layanan revenue gangguan node b telkomsel service level telkom telkomsel 3 jam 10 jam time 2017 10 2017 data node b telkomsel barat perangkat access metro e ont gpon core metro gangguan'"
      ]
     },
     "execution_count": 239,
     "metadata": {},
     "output_type": "execute_result"
    }
   ],
   "source": [
    "decode_review(X_train[144])"
   ]
  },
  {
   "cell_type": "code",
   "execution_count": 240,
   "metadata": {},
   "outputs": [],
   "source": [
    "from sklearn.preprocessing import LabelEncoder\n",
    "\n",
    "# Encode Label\n",
    "Encoder = LabelEncoder()\n",
    "y_train = Encoder.fit_transform(y_train)\n",
    "y_valid = Encoder.fit_transform(y_valid)\n",
    "y_test = Encoder.fit_transform(y_test)"
   ]
  },
  {
   "cell_type": "code",
   "execution_count": 241,
   "metadata": {},
   "outputs": [
    {
     "data": {
      "text/plain": [
       "array([3, 3, 3, ..., 2, 3, 3])"
      ]
     },
     "execution_count": 241,
     "metadata": {},
     "output_type": "execute_result"
    }
   ],
   "source": [
    "# len(y_train)\n",
    "y_train"
   ]
  },
  {
   "cell_type": "markdown",
   "metadata": {},
   "source": [
    "## Padding"
   ]
  },
  {
   "cell_type": "code",
   "execution_count": 242,
   "metadata": {},
   "outputs": [],
   "source": [
    "from tensorflow.keras.preprocessing.sequence import pad_sequences\n",
    "\n",
    "MAX_LENGTH = max(len(X_train) for X_train in X_train)\n",
    "X_train = pad_sequences(X_train, maxlen=MAX_LENGTH)\n",
    "X_valid = pad_sequences(X_valid, maxlen=MAX_LENGTH)\n",
    "X_test = pad_sequences(X_test, maxlen=MAX_LENGTH)"
   ]
  },
  {
   "cell_type": "code",
   "execution_count": 244,
   "metadata": {},
   "outputs": [
    {
     "data": {
      "text/plain": [
       "454"
      ]
     },
     "execution_count": 244,
     "metadata": {},
     "output_type": "execute_result"
    }
   ],
   "source": [
    "MAX_LENGTH"
   ]
  },
  {
   "cell_type": "code",
   "execution_count": 245,
   "metadata": {},
   "outputs": [
    {
     "data": {
      "text/plain": [
       "array([  0,   0,   0,   0,   0,   0,   0,   0,   0,   0,   0,   0,   0,\n",
       "         0,   0,   0,   0,   0,   0,   0,   0,   0,   0,   0,   0,   0,\n",
       "         0,   0,   0,   0,   0,   0,   0,   0,   0,   0,   0,   0,   0,\n",
       "         0,   0,   0,   0,   0,   0,   0,   0,   0,   0,   0,   0,   0,\n",
       "         0,   0,   0,   0,   0,   0,   0,   0,   0,   0,   0,   0,   0,\n",
       "         0,   0,   0,   0,   0,   0,   0,   0,   0,   0,   0,   0,   0,\n",
       "         0,   0,   0,   0,   0,   0,   0,   0,   0,   0,   0,   0,   0,\n",
       "         0,   0,   0,   0,   0,   0,   0,   0,   0,   0,   0,   0,   0,\n",
       "         0,   0,   0,   0,   0,   0,   0,   0,   0,   0,   0,   0,   0,\n",
       "         0,   0,   0,   0,   0,   0,   0,   0,   0,   0,   0,   0,   0,\n",
       "         0,   0,   0,   0,   0,   0,   0,   0,   0,   0,   0,   0,   0,\n",
       "         0,   0,   0,   0,   0,   0,   0,   0,   0,   0,   0,   0,   0,\n",
       "         0,   0,   0,   0,   0,   0,   0,   0,   0,   0,   0,   0,   0,\n",
       "         0,   0,   0,   0,   0,   0,   0,   0,   0,   0,   0,   0,   0,\n",
       "         0,   0,   0,   0,   0,   0,   0,   0,   0,   0,   0,   0,   0,\n",
       "         0,   0,   0,   0,   0,   0,   0,   0,   0,   0,   0,   0,   0,\n",
       "         0,   0,   0,   0,   0,   0,   0,   0,   0,   0,   0,   0,   0,\n",
       "         0,   0,   0,   0,   0,   0,   0,   0,   0,   0,   0,   0,   0,\n",
       "         0,   0,   0,   0,   0,   0,   0,   0,   0,   0,   0,   0,   0,\n",
       "         0,   0,   0,   0,   0,   0,   0,   0,   0,   0,   0,   0,   0,\n",
       "         0,   0,   0,   0,   0,   0,   0,   0,   0,   0,   0,   0,   0,\n",
       "         0,   0,   0,   0,   0,   0,   0,   0,   0,   0,   0,   0,   0,\n",
       "         0,   0,   0,   0,   0,   0,   0,   0,   0,   0,   0,   0,   0,\n",
       "         0,   0,   0,   0,   0,   0,   0,   0,   0,   0,   0,   0,   0,\n",
       "         0,   0,   0,   0,   0,   0,   0,   0,   0,   0,   0,   0,   0,\n",
       "         0,   0,   0,   0,   0,   0,   0,   0,   0,   0,   0,   0,   0,\n",
       "         0,   0,   0,   0,   0,   0,   0,   0,   0,   0,   0,   0,   0,\n",
       "         0,   0,   0,   0,   0,   0,   0,   0,   0,   0,   0,   0,   0,\n",
       "         0,   0,   0,   0,   0,   0,   0,   0,   0,   0,   0,   0,   0,\n",
       "         0,   0,   0,   0,   0,   0,   0,   0,   0,   0,   0,   0,   0,\n",
       "         0,   0,   0,   0,   0,   0,   0,   0,   0,   0,   0,   0,   0,\n",
       "         0,   0,   0,   0,   0,   0,   0,   0,   0,   0,   0,   0,   0,\n",
       "         0,   0,   0,   0,  63, 106,  92,  25,  92,   1,  63,  56, 191,\n",
       "       156, 112, 333,   3,   1,   1,  63,  40, 356,  29,  63,  23, 333,\n",
       "         3, 264, 227,  92, 469,  21, 269,  48,  35,  39,  23, 290])"
      ]
     },
     "execution_count": 245,
     "metadata": {},
     "output_type": "execute_result"
    }
   ],
   "source": [
    "X_train[1]"
   ]
  },
  {
   "cell_type": "code",
   "execution_count": 250,
   "metadata": {},
   "outputs": [
    {
     "data": {
      "text/plain": [
       "array([0., 1., 0., 0.], dtype=float32)"
      ]
     },
     "execution_count": 250,
     "metadata": {},
     "output_type": "execute_result"
    }
   ],
   "source": [
    "y_train[98]"
   ]
  },
  {
   "cell_type": "markdown",
   "metadata": {},
   "source": [
    "## Build Model 1"
   ]
  },
  {
   "cell_type": "code",
   "execution_count": 132,
   "metadata": {},
   "outputs": [],
   "source": [
    "model = tf.keras.models.Sequential()\n",
    "\n",
    "model.add(\n",
    "    tf.keras.layers.Embedding(\n",
    "        input_dim = MAX_FEATURES,\n",
    "        output_dim = 32,\n",
    "        input_length = MAX_LENGTH\n",
    "    )\n",
    ")\n",
    "\n",
    "model.add(\n",
    "    tf.keras.layers.Dropout(\n",
    "        rate=0.25\n",
    "    )\n",
    ")\n",
    "\n",
    "model.add(\n",
    "    tf.keras.layers.LSTM(\n",
    "        units=32\n",
    "    )\n",
    ")\n",
    "\n",
    "model.add(\n",
    "    tf.keras.layers.Dropout(\n",
    "        rate=0.25\n",
    "    )\n",
    ")\n",
    "\n",
    "model.add(\n",
    "    tf.keras.layers.Dense(\n",
    "        units=1,\n",
    "        activation='sigmoid'\n",
    "    )\n",
    ")"
   ]
  },
  {
   "cell_type": "code",
   "execution_count": 133,
   "metadata": {},
   "outputs": [
    {
     "name": "stdout",
     "output_type": "stream",
     "text": [
      "Model: \"sequential_7\"\n",
      "_________________________________________________________________\n",
      "Layer (type)                 Output Shape              Param #   \n",
      "=================================================================\n",
      "embedding_6 (Embedding)      (None, 930, 32)           384000    \n",
      "_________________________________________________________________\n",
      "dropout_8 (Dropout)          (None, 930, 32)           0         \n",
      "_________________________________________________________________\n",
      "lstm_6 (LSTM)                (None, 32)                8320      \n",
      "_________________________________________________________________\n",
      "dropout_9 (Dropout)          (None, 32)                0         \n",
      "_________________________________________________________________\n",
      "dense_6 (Dense)              (None, 1)                 33        \n",
      "=================================================================\n",
      "Total params: 392,353\n",
      "Trainable params: 392,353\n",
      "Non-trainable params: 0\n",
      "_________________________________________________________________\n"
     ]
    }
   ],
   "source": [
    "model.compile(\n",
    "    loss=tf.keras.losses.binary_crossentropy,\n",
    "    optimizer=tf.keras.optimizers.Adam(),\n",
    "    metrics=['accuracy']\n",
    ")\n",
    "\n",
    "model.summary()"
   ]
  },
  {
   "cell_type": "code",
   "execution_count": 134,
   "metadata": {},
   "outputs": [
    {
     "name": "stdout",
     "output_type": "stream",
     "text": [
      "Epoch 1/300\n",
      "28/28 [==============================] - 9s 245ms/step - loss: 0.5460 - accuracy: 0.2517 - val_loss: -1.1998 - val_accuracy: 0.2446\n",
      "Epoch 2/300\n",
      "28/28 [==============================] - 6s 228ms/step - loss: -1.9344 - accuracy: 0.2450 - val_loss: -2.7721 - val_accuracy: 0.2446\n",
      "Epoch 3/300\n",
      "28/28 [==============================] - 6s 231ms/step - loss: -3.3482 - accuracy: 0.2517 - val_loss: -3.6614 - val_accuracy: 0.2446\n",
      "Epoch 4/300\n",
      "28/28 [==============================] - 7s 234ms/step - loss: -4.2882 - accuracy: 0.2479 - val_loss: -4.3109 - val_accuracy: 0.2446\n",
      "Epoch 5/300\n",
      "28/28 [==============================] - 6s 229ms/step - loss: -4.9750 - accuracy: 0.2441 - val_loss: -4.8690 - val_accuracy: 0.2446\n",
      "Epoch 6/300\n",
      "28/28 [==============================] - 6s 230ms/step - loss: -5.3613 - accuracy: 0.2504 - val_loss: -5.3931 - val_accuracy: 0.2446\n",
      "Epoch 7/300\n",
      "28/28 [==============================] - 6s 233ms/step - loss: -6.0355 - accuracy: 0.2481 - val_loss: -5.9017 - val_accuracy: 0.2446\n",
      "Epoch 8/300\n",
      "28/28 [==============================] - 6s 231ms/step - loss: -6.7877 - accuracy: 0.2521 - val_loss: -6.4043 - val_accuracy: 0.2446\n",
      "Epoch 9/300\n",
      "28/28 [==============================] - 6s 229ms/step - loss: -7.1045 - accuracy: 0.2554 - val_loss: -6.8887 - val_accuracy: 0.2446\n",
      "Epoch 10/300\n",
      "28/28 [==============================] - 6s 231ms/step - loss: -8.0590 - accuracy: 0.2475 - val_loss: -7.3708 - val_accuracy: 0.2446\n",
      "Epoch 11/300\n",
      "28/28 [==============================] - 6s 231ms/step - loss: -8.1433 - accuracy: 0.2578 - val_loss: -7.8322 - val_accuracy: 0.2446\n",
      "Epoch 12/300\n",
      "28/28 [==============================] - 7s 237ms/step - loss: -9.0601 - accuracy: 0.2410 - val_loss: -8.3014 - val_accuracy: 0.2446\n",
      "Epoch 13/300\n",
      "28/28 [==============================] - 6s 232ms/step - loss: -9.0111 - accuracy: 0.2510 - val_loss: -8.7552 - val_accuracy: 0.2446\n",
      "Epoch 14/300\n",
      "28/28 [==============================] - 7s 233ms/step - loss: -9.7790 - accuracy: 0.2495 - val_loss: -9.2152 - val_accuracy: 0.2446\n",
      "Epoch 15/300\n",
      "28/28 [==============================] - 7s 239ms/step - loss: -10.1274 - accuracy: 0.2462 - val_loss: -9.6667 - val_accuracy: 0.2446\n",
      "Epoch 16/300\n",
      "28/28 [==============================] - 7s 236ms/step - loss: -10.6972 - accuracy: 0.2493 - val_loss: -10.1263 - val_accuracy: 0.2446\n",
      "Epoch 17/300\n",
      "28/28 [==============================] - 7s 232ms/step - loss: -11.0674 - accuracy: 0.2486 - val_loss: -10.5741 - val_accuracy: 0.2446\n",
      "Epoch 18/300\n",
      "28/28 [==============================] - 7s 233ms/step - loss: -12.3671 - accuracy: 0.2434 - val_loss: -11.0410 - val_accuracy: 0.2446\n",
      "Epoch 19/300\n",
      "28/28 [==============================] - 7s 233ms/step - loss: -11.7333 - accuracy: 0.2505 - val_loss: -11.5127 - val_accuracy: 0.2446\n",
      "Epoch 20/300\n",
      "28/28 [==============================] - 7s 235ms/step - loss: -13.3285 - accuracy: 0.2425 - val_loss: -12.0004 - val_accuracy: 0.2446\n",
      "Epoch 21/300\n",
      "28/28 [==============================] - 7s 234ms/step - loss: -13.4040 - accuracy: 0.2440 - val_loss: -12.4811 - val_accuracy: 0.2446\n",
      "Epoch 22/300\n",
      "28/28 [==============================] - 7s 233ms/step - loss: -13.7621 - accuracy: 0.2422 - val_loss: -13.0802 - val_accuracy: 0.2446\n",
      "Epoch 23/300\n",
      "28/28 [==============================] - 7s 233ms/step - loss: -14.9147 - accuracy: 0.2577 - val_loss: -13.7383 - val_accuracy: 0.2446\n",
      "Epoch 24/300\n",
      "28/28 [==============================] - 7s 233ms/step - loss: -16.4640 - accuracy: 0.2509 - val_loss: -15.3262 - val_accuracy: 0.2855\n",
      "Epoch 25/300\n",
      "28/28 [==============================] - 7s 234ms/step - loss: -19.4521 - accuracy: 0.3068 - val_loss: -16.5916 - val_accuracy: 0.3047\n",
      "Epoch 26/300\n",
      "28/28 [==============================] - 7s 233ms/step - loss: -20.3997 - accuracy: 0.3266 - val_loss: -17.1341 - val_accuracy: 0.3150\n",
      "Epoch 27/300\n",
      "28/28 [==============================] - 6s 232ms/step - loss: -21.3278 - accuracy: 0.3342 - val_loss: -14.9908 - val_accuracy: 0.2574\n",
      "Epoch 28/300\n",
      "28/28 [==============================] - 6s 232ms/step - loss: -21.4475 - accuracy: 0.3034 - val_loss: -17.9189 - val_accuracy: 0.2855\n",
      "Epoch 29/300\n",
      "28/28 [==============================] - 7s 232ms/step - loss: -23.2805 - accuracy: 0.3219 - val_loss: -18.9214 - val_accuracy: 0.3009\n",
      "Epoch 30/300\n",
      "28/28 [==============================] - 7s 234ms/step - loss: -24.4825 - accuracy: 0.3281 - val_loss: -19.5943 - val_accuracy: 0.3047\n",
      "Epoch 31/300\n",
      "28/28 [==============================] - 7s 233ms/step - loss: -25.3391 - accuracy: 0.3422 - val_loss: -20.1998 - val_accuracy: 0.3124\n",
      "Epoch 32/300\n",
      "28/28 [==============================] - 7s 234ms/step - loss: -26.1117 - accuracy: 0.3504 - val_loss: -20.9397 - val_accuracy: 0.3163\n",
      "Epoch 33/300\n",
      "28/28 [==============================] - 7s 234ms/step - loss: -27.8946 - accuracy: 0.3466 - val_loss: -21.6644 - val_accuracy: 0.3188\n",
      "Epoch 34/300\n",
      "28/28 [==============================] - 7s 233ms/step - loss: -28.9686 - accuracy: 0.3557 - val_loss: -22.2986 - val_accuracy: 0.3163\n",
      "Epoch 35/300\n",
      "28/28 [==============================] - 7s 234ms/step - loss: -29.6242 - accuracy: 0.3612 - val_loss: -22.9301 - val_accuracy: 0.3124\n",
      "Epoch 36/300\n",
      "28/28 [==============================] - 7s 237ms/step - loss: -30.7298 - accuracy: 0.3656 - val_loss: -23.5509 - val_accuracy: 0.3137\n",
      "Epoch 37/300\n",
      "28/28 [==============================] - 7s 237ms/step - loss: -30.3128 - accuracy: 0.3791 - val_loss: -24.1096 - val_accuracy: 0.3188\n",
      "Epoch 38/300\n",
      "28/28 [==============================] - 7s 235ms/step - loss: -32.1611 - accuracy: 0.3755 - val_loss: -24.6805 - val_accuracy: 0.3214\n",
      "Epoch 39/300\n",
      "28/28 [==============================] - 7s 233ms/step - loss: -32.0292 - accuracy: 0.3841 - val_loss: -25.3752 - val_accuracy: 0.3278\n",
      "Epoch 40/300\n",
      "28/28 [==============================] - 7s 234ms/step - loss: -34.0959 - accuracy: 0.3779 - val_loss: -25.9157 - val_accuracy: 0.3227\n",
      "Epoch 41/300\n",
      "28/28 [==============================] - 7s 233ms/step - loss: -35.0637 - accuracy: 0.3801 - val_loss: -26.7226 - val_accuracy: 0.3239\n",
      "Epoch 42/300\n",
      "28/28 [==============================] - 7s 233ms/step - loss: -35.3994 - accuracy: 0.3746 - val_loss: -27.1968 - val_accuracy: 0.3214\n",
      "Epoch 43/300\n",
      "28/28 [==============================] - 7s 234ms/step - loss: -35.3071 - accuracy: 0.3790 - val_loss: -26.9885 - val_accuracy: 0.3073\n",
      "Epoch 44/300\n",
      "28/28 [==============================] - 7s 233ms/step - loss: -36.6737 - accuracy: 0.3747 - val_loss: -27.9957 - val_accuracy: 0.3252\n",
      "Epoch 45/300\n",
      "28/28 [==============================] - 7s 235ms/step - loss: -36.9058 - accuracy: 0.3980 - val_loss: -28.6920 - val_accuracy: 0.3342\n",
      "Epoch 46/300\n",
      "28/28 [==============================] - 7s 234ms/step - loss: -38.2537 - accuracy: 0.3936 - val_loss: -29.3417 - val_accuracy: 0.3380\n",
      "Epoch 47/300\n",
      "28/28 [==============================] - 7s 236ms/step - loss: -39.3415 - accuracy: 0.4026 - val_loss: -30.0783 - val_accuracy: 0.3393\n",
      "Epoch 48/300\n",
      "28/28 [==============================] - 7s 235ms/step - loss: -39.5461 - accuracy: 0.4035 - val_loss: -30.5277 - val_accuracy: 0.3406\n",
      "Epoch 49/300\n",
      "28/28 [==============================] - 7s 233ms/step - loss: -40.6953 - accuracy: 0.4083 - val_loss: -31.2166 - val_accuracy: 0.3367\n",
      "Epoch 50/300\n",
      "28/28 [==============================] - 7s 233ms/step - loss: -40.8282 - accuracy: 0.4112 - val_loss: -31.9520 - val_accuracy: 0.3380\n",
      "Epoch 51/300\n",
      "28/28 [==============================] - 7s 234ms/step - loss: -42.2224 - accuracy: 0.4065 - val_loss: -32.5069 - val_accuracy: 0.3393\n",
      "Epoch 52/300\n",
      "28/28 [==============================] - 7s 237ms/step - loss: -42.2938 - accuracy: 0.4023 - val_loss: -33.0759 - val_accuracy: 0.3380\n",
      "Epoch 53/300\n",
      "28/28 [==============================] - 7s 234ms/step - loss: -43.4002 - accuracy: 0.4179 - val_loss: -33.6711 - val_accuracy: 0.3380\n",
      "Epoch 54/300\n",
      "28/28 [==============================] - 7s 233ms/step - loss: -43.6758 - accuracy: 0.4209 - val_loss: -34.3081 - val_accuracy: 0.3380\n",
      "Epoch 55/300\n",
      "28/28 [==============================] - 7s 236ms/step - loss: -44.8129 - accuracy: 0.4101 - val_loss: -34.9235 - val_accuracy: 0.3431\n",
      "Epoch 56/300\n",
      "28/28 [==============================] - 7s 234ms/step - loss: -45.7766 - accuracy: 0.4155 - val_loss: -35.1990 - val_accuracy: 0.3444\n",
      "Epoch 57/300\n",
      "28/28 [==============================] - 7s 233ms/step - loss: -46.9039 - accuracy: 0.4180 - val_loss: -36.0460 - val_accuracy: 0.3444\n",
      "Epoch 58/300\n",
      "28/28 [==============================] - 7s 240ms/step - loss: -47.9311 - accuracy: 0.4152 - val_loss: -36.0804 - val_accuracy: 0.3457\n",
      "Epoch 59/300\n",
      "28/28 [==============================] - 7s 236ms/step - loss: -48.4341 - accuracy: 0.4159 - val_loss: -37.1740 - val_accuracy: 0.3457\n",
      "Epoch 60/300\n",
      "28/28 [==============================] - 7s 236ms/step - loss: -48.5948 - accuracy: 0.4248 - val_loss: -37.6180 - val_accuracy: 0.3431\n",
      "Epoch 61/300\n",
      "28/28 [==============================] - 7s 236ms/step - loss: -49.4637 - accuracy: 0.4275 - val_loss: -38.4934 - val_accuracy: 0.3406\n",
      "Epoch 62/300\n",
      "28/28 [==============================] - 7s 234ms/step - loss: -50.5197 - accuracy: 0.4259 - val_loss: -38.9389 - val_accuracy: 0.3419\n",
      "Epoch 63/300\n",
      "28/28 [==============================] - 7s 236ms/step - loss: -50.9236 - accuracy: 0.4243 - val_loss: -39.5223 - val_accuracy: 0.3419\n",
      "Epoch 64/300\n",
      "28/28 [==============================] - 7s 233ms/step - loss: -51.8257 - accuracy: 0.4324 - val_loss: -40.1460 - val_accuracy: 0.3444\n",
      "Epoch 65/300\n",
      "28/28 [==============================] - 7s 234ms/step - loss: -52.4586 - accuracy: 0.4355 - val_loss: -40.6413 - val_accuracy: 0.3547\n",
      "Epoch 66/300\n",
      "28/28 [==============================] - 7s 235ms/step - loss: -53.4662 - accuracy: 0.4324 - val_loss: -41.2753 - val_accuracy: 0.3572\n",
      "Epoch 67/300\n",
      "28/28 [==============================] - 7s 233ms/step - loss: -53.9895 - accuracy: 0.4289 - val_loss: -41.7403 - val_accuracy: 0.3560\n",
      "Epoch 68/300\n",
      "28/28 [==============================] - 7s 235ms/step - loss: -55.1459 - accuracy: 0.4250 - val_loss: -42.1179 - val_accuracy: 0.3649\n",
      "Epoch 69/300\n",
      "28/28 [==============================] - 7s 236ms/step - loss: -56.4145 - accuracy: 0.4274 - val_loss: -42.9664 - val_accuracy: 0.3662\n",
      "Epoch 70/300\n",
      "28/28 [==============================] - 7s 243ms/step - loss: -57.0303 - accuracy: 0.4251 - val_loss: -43.7371 - val_accuracy: 0.3611\n",
      "Epoch 71/300\n",
      "28/28 [==============================] - 7s 243ms/step - loss: -56.7736 - accuracy: 0.4325 - val_loss: -44.2508 - val_accuracy: 0.3572\n",
      "Epoch 72/300\n",
      "28/28 [==============================] - 7s 247ms/step - loss: -58.1269 - accuracy: 0.4326 - val_loss: -44.6186 - val_accuracy: 0.3598\n",
      "Epoch 73/300\n",
      "28/28 [==============================] - 7s 239ms/step - loss: -58.4964 - accuracy: 0.4372 - val_loss: -45.0909 - val_accuracy: 0.3585\n",
      "Epoch 74/300\n",
      "28/28 [==============================] - 7s 240ms/step - loss: -59.8469 - accuracy: 0.4353 - val_loss: -45.4218 - val_accuracy: 0.3662\n",
      "Epoch 75/300\n",
      "28/28 [==============================] - 7s 239ms/step - loss: -60.3677 - accuracy: 0.4266 - val_loss: -45.7873 - val_accuracy: 0.3598\n",
      "Epoch 76/300\n",
      "28/28 [==============================] - 7s 237ms/step - loss: -61.7844 - accuracy: 0.4357 - val_loss: -46.4817 - val_accuracy: 0.3636\n",
      "Epoch 77/300\n",
      "28/28 [==============================] - 7s 238ms/step - loss: -59.1811 - accuracy: 0.4533 - val_loss: -46.6922 - val_accuracy: 0.3675\n",
      "Epoch 78/300\n",
      "28/28 [==============================] - 7s 236ms/step - loss: -61.1114 - accuracy: 0.4446 - val_loss: -47.7382 - val_accuracy: 0.3662\n",
      "Epoch 79/300\n",
      "28/28 [==============================] - 7s 237ms/step - loss: -62.5823 - accuracy: 0.4433 - val_loss: -48.4007 - val_accuracy: 0.3636\n",
      "Epoch 80/300\n",
      "28/28 [==============================] - 7s 234ms/step - loss: -64.6630 - accuracy: 0.4365 - val_loss: -48.9516 - val_accuracy: 0.3649\n",
      "Epoch 81/300\n",
      "28/28 [==============================] - 7s 236ms/step - loss: -64.9224 - accuracy: 0.4364 - val_loss: -49.3522 - val_accuracy: 0.3649\n",
      "Epoch 82/300\n",
      "28/28 [==============================] - 7s 234ms/step - loss: -66.3012 - accuracy: 0.4367 - val_loss: -49.9033 - val_accuracy: 0.3713\n",
      "Epoch 83/300\n",
      "28/28 [==============================] - 7s 236ms/step - loss: -65.6126 - accuracy: 0.4470 - val_loss: -50.4199 - val_accuracy: 0.3700\n",
      "Epoch 84/300\n",
      "28/28 [==============================] - 7s 235ms/step - loss: -66.1503 - accuracy: 0.4507 - val_loss: -33.4335 - val_accuracy: 0.3367\n",
      "Epoch 85/300\n",
      "28/28 [==============================] - 7s 237ms/step - loss: -52.3762 - accuracy: 0.3638 - val_loss: -47.5981 - val_accuracy: 0.2868\n",
      "Epoch 86/300\n",
      "28/28 [==============================] - 7s 235ms/step - loss: -63.9210 - accuracy: 0.3518 - val_loss: -50.1930 - val_accuracy: 0.3534\n",
      "Epoch 87/300\n",
      "28/28 [==============================] - 7s 235ms/step - loss: -66.7336 - accuracy: 0.4335 - val_loss: -51.6800 - val_accuracy: 0.3585\n",
      "Epoch 88/300\n",
      "28/28 [==============================] - 7s 234ms/step - loss: -67.4862 - accuracy: 0.4355 - val_loss: -52.4935 - val_accuracy: 0.3585\n",
      "Epoch 89/300\n",
      "28/28 [==============================] - 7s 235ms/step - loss: -68.9687 - accuracy: 0.4441 - val_loss: -52.8512 - val_accuracy: 0.3585\n",
      "Epoch 90/300\n",
      "28/28 [==============================] - 7s 233ms/step - loss: -71.1578 - accuracy: 0.4301 - val_loss: -53.2046 - val_accuracy: 0.3611\n",
      "Epoch 91/300\n",
      "28/28 [==============================] - 7s 236ms/step - loss: -71.1597 - accuracy: 0.4418 - val_loss: -53.6407 - val_accuracy: 0.3649\n",
      "Epoch 92/300\n",
      "28/28 [==============================] - 7s 235ms/step - loss: -70.5172 - accuracy: 0.4487 - val_loss: -54.9025 - val_accuracy: 0.3560\n",
      "Epoch 93/300\n",
      "28/28 [==============================] - 7s 234ms/step - loss: -71.9535 - accuracy: 0.4520 - val_loss: -55.3951 - val_accuracy: 0.3624\n",
      "Epoch 94/300\n",
      "28/28 [==============================] - 7s 234ms/step - loss: -74.3009 - accuracy: 0.4403 - val_loss: -56.0519 - val_accuracy: 0.3611\n",
      "Epoch 95/300\n",
      "28/28 [==============================] - 7s 245ms/step - loss: -73.9270 - accuracy: 0.4532 - val_loss: -56.5199 - val_accuracy: 0.3636\n",
      "Epoch 96/300\n",
      "28/28 [==============================] - 7s 235ms/step - loss: -75.1175 - accuracy: 0.4451 - val_loss: -56.9954 - val_accuracy: 0.3662\n",
      "Epoch 97/300\n",
      "28/28 [==============================] - 7s 236ms/step - loss: -73.0187 - accuracy: 0.4594 - val_loss: -57.6857 - val_accuracy: 0.3649\n",
      "Epoch 98/300\n",
      "28/28 [==============================] - 7s 233ms/step - loss: -77.1272 - accuracy: 0.4383 - val_loss: -57.7767 - val_accuracy: 0.3560\n",
      "Epoch 99/300\n",
      "28/28 [==============================] - 7s 232ms/step - loss: -76.4558 - accuracy: 0.4334 - val_loss: -57.8949 - val_accuracy: 0.3739\n",
      "Epoch 100/300\n",
      "28/28 [==============================] - 7s 234ms/step - loss: -76.8306 - accuracy: 0.4482 - val_loss: -58.8458 - val_accuracy: 0.3688\n",
      "Epoch 101/300\n",
      "28/28 [==============================] - 7s 233ms/step - loss: -79.3913 - accuracy: 0.4450 - val_loss: -59.6642 - val_accuracy: 0.3700\n",
      "Epoch 102/300\n",
      "28/28 [==============================] - 7s 233ms/step - loss: -77.2801 - accuracy: 0.4570 - val_loss: -60.3052 - val_accuracy: 0.3662\n",
      "Epoch 103/300\n",
      "28/28 [==============================] - 7s 235ms/step - loss: -79.4879 - accuracy: 0.4596 - val_loss: -60.9369 - val_accuracy: 0.3662\n",
      "Epoch 104/300\n",
      "28/28 [==============================] - 7s 234ms/step - loss: -79.4664 - accuracy: 0.4475 - val_loss: -61.3072 - val_accuracy: 0.3624\n",
      "Epoch 105/300\n",
      "28/28 [==============================] - 7s 234ms/step - loss: -80.1657 - accuracy: 0.4456 - val_loss: -60.8408 - val_accuracy: 0.3572\n",
      "Epoch 106/300\n",
      "28/28 [==============================] - 7s 234ms/step - loss: -82.2970 - accuracy: 0.4462 - val_loss: -61.6929 - val_accuracy: 0.3560\n",
      "Epoch 107/300\n",
      "28/28 [==============================] - 7s 234ms/step - loss: -83.5202 - accuracy: 0.4495 - val_loss: -62.2746 - val_accuracy: 0.3560\n",
      "Epoch 108/300\n",
      "28/28 [==============================] - 7s 235ms/step - loss: -81.9509 - accuracy: 0.4522 - val_loss: -62.5182 - val_accuracy: 0.3662\n",
      "Epoch 109/300\n",
      "28/28 [==============================] - 7s 234ms/step - loss: -85.7771 - accuracy: 0.4453 - val_loss: -63.0625 - val_accuracy: 0.3649\n",
      "Epoch 110/300\n",
      "28/28 [==============================] - 7s 234ms/step - loss: -83.7740 - accuracy: 0.4586 - val_loss: -63.6854 - val_accuracy: 0.3649\n",
      "Epoch 111/300\n"
     ]
    },
    {
     "name": "stdout",
     "output_type": "stream",
     "text": [
      "28/28 [==============================] - 7s 233ms/step - loss: -85.6392 - accuracy: 0.4535 - val_loss: -64.2406 - val_accuracy: 0.3649\n",
      "Epoch 112/300\n",
      "28/28 [==============================] - 7s 234ms/step - loss: -83.2806 - accuracy: 0.4627 - val_loss: -64.8674 - val_accuracy: 0.3636\n",
      "Epoch 113/300\n",
      "28/28 [==============================] - 7s 233ms/step - loss: -86.6757 - accuracy: 0.4549 - val_loss: -65.5291 - val_accuracy: 0.3624\n",
      "Epoch 114/300\n",
      "28/28 [==============================] - 7s 234ms/step - loss: -86.9014 - accuracy: 0.4514 - val_loss: -65.9639 - val_accuracy: 0.3662\n",
      "Epoch 115/300\n",
      "28/28 [==============================] - 7s 236ms/step - loss: -89.6370 - accuracy: 0.4535 - val_loss: -66.5315 - val_accuracy: 0.3611\n",
      "Epoch 116/300\n",
      "28/28 [==============================] - 7s 251ms/step - loss: -89.4266 - accuracy: 0.4524 - val_loss: -67.0088 - val_accuracy: 0.3662\n",
      "Epoch 117/300\n",
      "28/28 [==============================] - 7s 238ms/step - loss: -89.0688 - accuracy: 0.4622 - val_loss: -67.6164 - val_accuracy: 0.3598\n",
      "Epoch 118/300\n",
      "28/28 [==============================] - 7s 242ms/step - loss: -89.2484 - accuracy: 0.4585 - val_loss: -68.0582 - val_accuracy: 0.3636\n",
      "Epoch 119/300\n",
      "28/28 [==============================] - 7s 237ms/step - loss: -91.6955 - accuracy: 0.4567 - val_loss: -68.5886 - val_accuracy: 0.3624\n",
      "Epoch 120/300\n",
      "28/28 [==============================] - 7s 242ms/step - loss: -91.3689 - accuracy: 0.4553 - val_loss: -69.0246 - val_accuracy: 0.3636\n",
      "Epoch 121/300\n",
      "28/28 [==============================] - 7s 243ms/step - loss: -92.6797 - accuracy: 0.4554 - val_loss: -69.5451 - val_accuracy: 0.3624\n",
      "Epoch 122/300\n",
      "28/28 [==============================] - 7s 241ms/step - loss: -92.4504 - accuracy: 0.4635 - val_loss: -69.8726 - val_accuracy: 0.3636\n",
      "Epoch 123/300\n",
      "28/28 [==============================] - 7s 236ms/step - loss: -94.3856 - accuracy: 0.4608 - val_loss: -70.3865 - val_accuracy: 0.3636\n",
      "Epoch 124/300\n",
      "28/28 [==============================] - 7s 235ms/step - loss: -97.4930 - accuracy: 0.4523 - val_loss: -71.0529 - val_accuracy: 0.3624\n",
      "Epoch 125/300\n",
      "28/28 [==============================] - 7s 236ms/step - loss: -93.8957 - accuracy: 0.4600 - val_loss: -71.6746 - val_accuracy: 0.3636\n",
      "Epoch 126/300\n",
      "28/28 [==============================] - 7s 235ms/step - loss: -97.5558 - accuracy: 0.4552 - val_loss: -72.2101 - val_accuracy: 0.3636\n",
      "Epoch 127/300\n",
      "28/28 [==============================] - 7s 235ms/step - loss: -98.4461 - accuracy: 0.4507 - val_loss: -72.7210 - val_accuracy: 0.3624\n",
      "Epoch 128/300\n",
      "28/28 [==============================] - 7s 235ms/step - loss: -96.6222 - accuracy: 0.4642 - val_loss: -73.1344 - val_accuracy: 0.3675\n",
      "Epoch 129/300\n",
      "28/28 [==============================] - 7s 235ms/step - loss: -99.3368 - accuracy: 0.4539 - val_loss: -73.7693 - val_accuracy: 0.3675\n",
      "Epoch 130/300\n",
      "28/28 [==============================] - 7s 234ms/step - loss: -100.3239 - accuracy: 0.4566 - val_loss: -74.4008 - val_accuracy: 0.3649\n",
      "Epoch 131/300\n",
      "28/28 [==============================] - 7s 236ms/step - loss: -99.9555 - accuracy: 0.4585 - val_loss: -75.3501 - val_accuracy: 0.3572\n",
      "Epoch 132/300\n",
      "28/28 [==============================] - 7s 235ms/step - loss: -100.0548 - accuracy: 0.4574 - val_loss: -75.5151 - val_accuracy: 0.3662\n",
      "Epoch 133/300\n",
      "28/28 [==============================] - 7s 237ms/step - loss: -100.4170 - accuracy: 0.4633 - val_loss: -75.9091 - val_accuracy: 0.3828\n",
      "Epoch 134/300\n",
      "28/28 [==============================] - 7s 234ms/step - loss: -101.3633 - accuracy: 0.4583 - val_loss: -76.7217 - val_accuracy: 0.3611\n",
      "Epoch 135/300\n",
      "28/28 [==============================] - 7s 235ms/step - loss: -102.1599 - accuracy: 0.4632 - val_loss: -77.1783 - val_accuracy: 0.3700\n",
      "Epoch 136/300\n",
      "28/28 [==============================] - 7s 235ms/step - loss: -103.0109 - accuracy: 0.4604 - val_loss: -78.1374 - val_accuracy: 0.3675\n",
      "Epoch 137/300\n",
      "28/28 [==============================] - 7s 234ms/step - loss: -105.6670 - accuracy: 0.4553 - val_loss: -77.2500 - val_accuracy: 0.3777\n",
      "Epoch 138/300\n",
      "28/28 [==============================] - 7s 235ms/step - loss: -103.4555 - accuracy: 0.4654 - val_loss: -78.8228 - val_accuracy: 0.3739\n",
      "Epoch 139/300\n",
      "28/28 [==============================] - 7s 236ms/step - loss: -105.6014 - accuracy: 0.4627 - val_loss: -79.4296 - val_accuracy: 0.3726\n",
      "Epoch 140/300\n",
      "28/28 [==============================] - 7s 235ms/step - loss: -105.6432 - accuracy: 0.4614 - val_loss: -80.2313 - val_accuracy: 0.3700\n",
      "Epoch 141/300\n",
      "28/28 [==============================] - 7s 234ms/step - loss: -104.5969 - accuracy: 0.4687 - val_loss: -80.6231 - val_accuracy: 0.3700\n",
      "Epoch 142/300\n",
      "28/28 [==============================] - 7s 235ms/step - loss: -108.9850 - accuracy: 0.4558 - val_loss: -80.5247 - val_accuracy: 0.3752\n",
      "Epoch 143/300\n",
      "28/28 [==============================] - 7s 234ms/step - loss: -107.7019 - accuracy: 0.4708 - val_loss: -81.0932 - val_accuracy: 0.3726\n",
      "Epoch 144/300\n",
      "28/28 [==============================] - 7s 234ms/step - loss: -105.7414 - accuracy: 0.4722 - val_loss: -81.8805 - val_accuracy: 0.3700\n",
      "Epoch 145/300\n",
      "28/28 [==============================] - 7s 234ms/step - loss: -109.6058 - accuracy: 0.4569 - val_loss: -82.2213 - val_accuracy: 0.3688\n",
      "Epoch 146/300\n",
      "28/28 [==============================] - 7s 235ms/step - loss: -110.0649 - accuracy: 0.4622 - val_loss: -82.3868 - val_accuracy: 0.3726\n",
      "Epoch 147/300\n",
      "28/28 [==============================] - 7s 235ms/step - loss: -110.0438 - accuracy: 0.4658 - val_loss: -83.4524 - val_accuracy: 0.3713\n",
      "Epoch 148/300\n",
      "28/28 [==============================] - 7s 234ms/step - loss: -111.2897 - accuracy: 0.4695 - val_loss: -83.5590 - val_accuracy: 0.3752\n",
      "Epoch 149/300\n",
      "28/28 [==============================] - 7s 236ms/step - loss: -111.1819 - accuracy: 0.4683 - val_loss: -84.3746 - val_accuracy: 0.3688\n",
      "Epoch 150/300\n",
      "28/28 [==============================] - 7s 236ms/step - loss: -116.5806 - accuracy: 0.4480 - val_loss: -85.0935 - val_accuracy: 0.3752\n",
      "Epoch 151/300\n",
      "28/28 [==============================] - 7s 235ms/step - loss: -113.0046 - accuracy: 0.4627 - val_loss: -85.4928 - val_accuracy: 0.3764\n",
      "Epoch 152/300\n",
      "28/28 [==============================] - 7s 236ms/step - loss: -113.6172 - accuracy: 0.4608 - val_loss: -86.0118 - val_accuracy: 0.3764\n",
      "Epoch 153/300\n",
      "28/28 [==============================] - 7s 236ms/step - loss: -112.3339 - accuracy: 0.4737 - val_loss: -86.8116 - val_accuracy: 0.3739\n",
      "Epoch 154/300\n",
      "28/28 [==============================] - 7s 235ms/step - loss: -115.1804 - accuracy: 0.4638 - val_loss: -87.3438 - val_accuracy: 0.3726\n",
      "Epoch 155/300\n",
      "28/28 [==============================] - 7s 234ms/step - loss: -115.2270 - accuracy: 0.4656 - val_loss: -88.0449 - val_accuracy: 0.3713\n",
      "Epoch 156/300\n",
      "28/28 [==============================] - 7s 235ms/step - loss: -116.8248 - accuracy: 0.4652 - val_loss: -88.4080 - val_accuracy: 0.3726\n",
      "Epoch 157/300\n",
      "28/28 [==============================] - 7s 233ms/step - loss: -117.9108 - accuracy: 0.4659 - val_loss: -89.4836 - val_accuracy: 0.3675\n",
      "Epoch 158/300\n",
      "28/28 [==============================] - 7s 235ms/step - loss: -118.8818 - accuracy: 0.4670 - val_loss: -89.6174 - val_accuracy: 0.3713\n",
      "Epoch 159/300\n",
      "28/28 [==============================] - 7s 235ms/step - loss: -119.1874 - accuracy: 0.4668 - val_loss: -90.1473 - val_accuracy: 0.3713\n",
      "Epoch 160/300\n",
      "28/28 [==============================] - 7s 236ms/step - loss: -118.1550 - accuracy: 0.4711 - val_loss: -90.7129 - val_accuracy: 0.3675\n",
      "Epoch 161/300\n",
      "28/28 [==============================] - 7s 235ms/step - loss: -121.0734 - accuracy: 0.4687 - val_loss: -90.9144 - val_accuracy: 0.3726\n",
      "Epoch 162/300\n",
      "28/28 [==============================] - 7s 234ms/step - loss: -119.4026 - accuracy: 0.4671 - val_loss: -91.7599 - val_accuracy: 0.3713\n",
      "Epoch 163/300\n",
      "28/28 [==============================] - 7s 234ms/step - loss: -121.0227 - accuracy: 0.4694 - val_loss: -91.9108 - val_accuracy: 0.3739\n",
      "Epoch 164/300\n",
      "28/28 [==============================] - 7s 235ms/step - loss: -122.4773 - accuracy: 0.4686 - val_loss: -92.5789 - val_accuracy: 0.3752\n",
      "Epoch 165/300\n",
      "28/28 [==============================] - 7s 234ms/step - loss: -122.2192 - accuracy: 0.4741 - val_loss: -93.7416 - val_accuracy: 0.3713\n"
     ]
    },
    {
     "name": "stdout",
     "output_type": "stream",
     "text": [
      "Epoch 166/300\n",
      "28/28 [==============================] - 7s 234ms/step - loss: -121.6942 - accuracy: 0.4754 - val_loss: -93.3586 - val_accuracy: 0.3752\n",
      "Epoch 167/300\n",
      "28/28 [==============================] - 7s 234ms/step - loss: -127.2031 - accuracy: 0.4580 - val_loss: -94.6863 - val_accuracy: 0.3726\n",
      "Epoch 168/300\n",
      "28/28 [==============================] - 7s 235ms/step - loss: -122.4204 - accuracy: 0.4757 - val_loss: -95.3444 - val_accuracy: 0.3713\n",
      "Epoch 169/300\n",
      "28/28 [==============================] - 7s 234ms/step - loss: -123.3380 - accuracy: 0.4755 - val_loss: -95.8110 - val_accuracy: 0.3700\n",
      "Epoch 170/300\n",
      "28/28 [==============================] - 7s 235ms/step - loss: -124.4603 - accuracy: 0.4726 - val_loss: -96.3947 - val_accuracy: 0.3713\n",
      "Epoch 171/300\n",
      "28/28 [==============================] - 7s 235ms/step - loss: -124.5505 - accuracy: 0.4690 - val_loss: -95.7351 - val_accuracy: 0.3713\n",
      "Epoch 172/300\n",
      "28/28 [==============================] - 7s 234ms/step - loss: -126.7758 - accuracy: 0.4703 - val_loss: -97.3940 - val_accuracy: 0.3713\n",
      "Epoch 173/300\n",
      "28/28 [==============================] - 7s 236ms/step - loss: -129.5580 - accuracy: 0.4616 - val_loss: -97.6213 - val_accuracy: 0.3700\n",
      "Epoch 174/300\n",
      "28/28 [==============================] - 7s 236ms/step - loss: -133.4661 - accuracy: 0.4550 - val_loss: -96.8295 - val_accuracy: 0.3752\n",
      "Epoch 175/300\n",
      "28/28 [==============================] - 7s 235ms/step - loss: -131.2946 - accuracy: 0.4582 - val_loss: -98.0686 - val_accuracy: 0.3752\n",
      "Epoch 176/300\n",
      "28/28 [==============================] - 7s 234ms/step - loss: -132.0247 - accuracy: 0.4653 - val_loss: -99.1482 - val_accuracy: 0.3752\n",
      "Epoch 177/300\n",
      "28/28 [==============================] - 7s 235ms/step - loss: -134.3220 - accuracy: 0.4554 - val_loss: -99.0531 - val_accuracy: 0.3739\n",
      "Epoch 178/300\n",
      "28/28 [==============================] - 7s 235ms/step - loss: -130.8231 - accuracy: 0.4695 - val_loss: -100.6503 - val_accuracy: 0.3713\n",
      "Epoch 179/300\n",
      "28/28 [==============================] - 7s 234ms/step - loss: -131.4432 - accuracy: 0.4685 - val_loss: -101.0094 - val_accuracy: 0.3752\n",
      "Epoch 180/300\n",
      "28/28 [==============================] - 7s 235ms/step - loss: -132.1647 - accuracy: 0.4732 - val_loss: -101.6959 - val_accuracy: 0.3752\n",
      "Epoch 181/300\n",
      "28/28 [==============================] - 7s 234ms/step - loss: -134.3096 - accuracy: 0.4660 - val_loss: -102.0651 - val_accuracy: 0.3752\n",
      "Epoch 182/300\n",
      "28/28 [==============================] - 7s 235ms/step - loss: -133.3460 - accuracy: 0.4757 - val_loss: -102.0270 - val_accuracy: 0.3777\n",
      "Epoch 183/300\n",
      "28/28 [==============================] - 7s 235ms/step - loss: -137.2910 - accuracy: 0.4660 - val_loss: -101.4969 - val_accuracy: 0.3777\n",
      "Epoch 184/300\n",
      "28/28 [==============================] - 7s 234ms/step - loss: -134.1145 - accuracy: 0.4717 - val_loss: -103.5985 - val_accuracy: 0.3764\n",
      "Epoch 185/300\n",
      "28/28 [==============================] - 7s 234ms/step - loss: -136.7399 - accuracy: 0.4686 - val_loss: -104.0111 - val_accuracy: 0.3777\n",
      "Epoch 186/300\n",
      "28/28 [==============================] - 7s 234ms/step - loss: -138.0721 - accuracy: 0.4637 - val_loss: -104.4289 - val_accuracy: 0.3764\n",
      "Epoch 187/300\n",
      "28/28 [==============================] - 7s 240ms/step - loss: -140.3614 - accuracy: 0.4654 - val_loss: -105.2891 - val_accuracy: 0.3790\n",
      "Epoch 188/300\n",
      "28/28 [==============================] - 7s 236ms/step - loss: -137.6929 - accuracy: 0.4759 - val_loss: -105.5946 - val_accuracy: 0.3777\n",
      "Epoch 189/300\n",
      "28/28 [==============================] - 7s 236ms/step - loss: -141.1623 - accuracy: 0.4600 - val_loss: -104.1148 - val_accuracy: 0.3739\n",
      "Epoch 190/300\n",
      "28/28 [==============================] - 7s 235ms/step - loss: -139.1911 - accuracy: 0.4698 - val_loss: -106.0236 - val_accuracy: 0.3764\n",
      "Epoch 191/300\n",
      "28/28 [==============================] - 7s 235ms/step - loss: -140.0184 - accuracy: 0.4703 - val_loss: -106.8756 - val_accuracy: 0.3726\n",
      "Epoch 192/300\n",
      "28/28 [==============================] - 7s 235ms/step - loss: -139.6398 - accuracy: 0.4759 - val_loss: -107.4703 - val_accuracy: 0.3752\n",
      "Epoch 193/300\n",
      "28/28 [==============================] - 7s 234ms/step - loss: -141.9770 - accuracy: 0.4695 - val_loss: -108.9729 - val_accuracy: 0.3777\n",
      "Epoch 194/300\n",
      "28/28 [==============================] - 7s 235ms/step - loss: -144.4779 - accuracy: 0.4676 - val_loss: -109.0925 - val_accuracy: 0.3739\n",
      "Epoch 195/300\n",
      "28/28 [==============================] - 7s 235ms/step - loss: -142.0586 - accuracy: 0.4746 - val_loss: -109.7956 - val_accuracy: 0.3700\n",
      "Epoch 196/300\n",
      "28/28 [==============================] - 7s 234ms/step - loss: -142.6862 - accuracy: 0.4696 - val_loss: -109.4407 - val_accuracy: 0.3713\n",
      "Epoch 197/300\n",
      "28/28 [==============================] - 7s 236ms/step - loss: -142.5323 - accuracy: 0.4739 - val_loss: -110.7400 - val_accuracy: 0.3739\n",
      "Epoch 198/300\n",
      "28/28 [==============================] - 7s 238ms/step - loss: -146.1268 - accuracy: 0.4683 - val_loss: -111.3035 - val_accuracy: 0.3739\n",
      "Epoch 199/300\n",
      "28/28 [==============================] - 7s 236ms/step - loss: -144.1800 - accuracy: 0.4722 - val_loss: -111.9780 - val_accuracy: 0.3688\n",
      "Epoch 200/300\n",
      "28/28 [==============================] - 7s 234ms/step - loss: -147.5130 - accuracy: 0.4691 - val_loss: -111.2689 - val_accuracy: 0.3752\n",
      "Epoch 201/300\n",
      "28/28 [==============================] - 7s 234ms/step - loss: -148.9963 - accuracy: 0.4705 - val_loss: -109.3658 - val_accuracy: 0.3803\n",
      "Epoch 202/300\n",
      "28/28 [==============================] - 7s 236ms/step - loss: -149.5078 - accuracy: 0.4668 - val_loss: -113.8765 - val_accuracy: 0.3662\n",
      "Epoch 203/300\n",
      "28/28 [==============================] - 7s 234ms/step - loss: -148.4507 - accuracy: 0.4732 - val_loss: -110.9829 - val_accuracy: 0.3777\n",
      "Epoch 204/300\n",
      "28/28 [==============================] - 7s 236ms/step - loss: -149.1499 - accuracy: 0.4725 - val_loss: -113.6606 - val_accuracy: 0.3688\n",
      "Epoch 205/300\n",
      "28/28 [==============================] - 7s 234ms/step - loss: -148.1285 - accuracy: 0.4729 - val_loss: -114.4956 - val_accuracy: 0.3662\n",
      "Epoch 206/300\n",
      "28/28 [==============================] - 7s 235ms/step - loss: -151.9113 - accuracy: 0.4684 - val_loss: -116.0008 - val_accuracy: 0.3675\n",
      "Epoch 207/300\n",
      "28/28 [==============================] - 7s 235ms/step - loss: -152.9562 - accuracy: 0.4706 - val_loss: -112.2797 - val_accuracy: 0.3803\n",
      "Epoch 208/300\n",
      "28/28 [==============================] - 7s 235ms/step - loss: -153.1130 - accuracy: 0.4658 - val_loss: -114.7581 - val_accuracy: 0.3777\n",
      "Epoch 209/300\n",
      "28/28 [==============================] - 7s 235ms/step - loss: -156.5828 - accuracy: 0.4634 - val_loss: -115.3377 - val_accuracy: 0.3739\n",
      "Epoch 210/300\n",
      "28/28 [==============================] - 7s 236ms/step - loss: -151.2119 - accuracy: 0.4794 - val_loss: -116.8131 - val_accuracy: 0.3739\n",
      "Epoch 211/300\n",
      "28/28 [==============================] - 7s 235ms/step - loss: -153.7522 - accuracy: 0.4719 - val_loss: -116.7234 - val_accuracy: 0.3764\n",
      "Epoch 212/300\n",
      "28/28 [==============================] - 7s 235ms/step - loss: -155.5379 - accuracy: 0.4682 - val_loss: -118.0061 - val_accuracy: 0.3790\n",
      "Epoch 213/300\n",
      "28/28 [==============================] - 6s 232ms/step - loss: -158.8694 - accuracy: 0.4639 - val_loss: -118.5879 - val_accuracy: 0.3777\n",
      "Epoch 214/300\n",
      "28/28 [==============================] - 7s 233ms/step - loss: -156.0424 - accuracy: 0.4798 - val_loss: -119.5377 - val_accuracy: 0.3764\n",
      "Epoch 215/300\n",
      "28/28 [==============================] - 7s 233ms/step - loss: -155.7621 - accuracy: 0.4809 - val_loss: -119.8115 - val_accuracy: 0.3803\n",
      "Epoch 216/300\n",
      "28/28 [==============================] - 7s 236ms/step - loss: -158.3441 - accuracy: 0.4721 - val_loss: -118.8477 - val_accuracy: 0.3790\n",
      "Epoch 217/300\n",
      "28/28 [==============================] - 7s 234ms/step - loss: -158.3598 - accuracy: 0.4651 - val_loss: -121.8117 - val_accuracy: 0.3713\n",
      "Epoch 218/300\n",
      "28/28 [==============================] - 7s 234ms/step - loss: -159.4251 - accuracy: 0.4733 - val_loss: -118.9279 - val_accuracy: 0.3790\n",
      "Epoch 219/300\n",
      "28/28 [==============================] - 7s 236ms/step - loss: -162.3329 - accuracy: 0.4622 - val_loss: -121.4693 - val_accuracy: 0.3675\n",
      "Epoch 220/300\n",
      "28/28 [==============================] - 7s 233ms/step - loss: -160.7121 - accuracy: 0.4712 - val_loss: -119.2775 - val_accuracy: 0.3764\n",
      "Epoch 221/300\n",
      "28/28 [==============================] - 7s 234ms/step - loss: -162.6762 - accuracy: 0.4695 - val_loss: -120.7097 - val_accuracy: 0.3739\n",
      "Epoch 222/300\n",
      "28/28 [==============================] - 7s 233ms/step - loss: -161.9337 - accuracy: 0.4738 - val_loss: -122.5033 - val_accuracy: 0.3739\n",
      "Epoch 223/300\n",
      "28/28 [==============================] - 7s 233ms/step - loss: -162.5590 - accuracy: 0.4681 - val_loss: -121.0340 - val_accuracy: 0.3777\n",
      "Epoch 224/300\n",
      "28/28 [==============================] - 7s 234ms/step - loss: -159.5896 - accuracy: 0.4817 - val_loss: -123.2991 - val_accuracy: 0.3764\n",
      "Epoch 225/300\n",
      "28/28 [==============================] - 7s 233ms/step - loss: -166.2076 - accuracy: 0.4689 - val_loss: -123.8973 - val_accuracy: 0.3752\n",
      "Epoch 226/300\n",
      "28/28 [==============================] - 7s 234ms/step - loss: -165.2300 - accuracy: 0.4756 - val_loss: -124.6979 - val_accuracy: 0.3726\n",
      "Epoch 227/300\n",
      "28/28 [==============================] - 7s 233ms/step - loss: -164.9457 - accuracy: 0.4773 - val_loss: -126.6372 - val_accuracy: 0.3726\n",
      "Epoch 228/300\n",
      "28/28 [==============================] - 6s 232ms/step - loss: -164.6448 - accuracy: 0.4716 - val_loss: -124.5503 - val_accuracy: 0.3662\n",
      "Epoch 229/300\n",
      "28/28 [==============================] - 7s 234ms/step - loss: -170.1633 - accuracy: 0.4679 - val_loss: -123.3055 - val_accuracy: 0.3803\n",
      "Epoch 230/300\n",
      "28/28 [==============================] - 7s 233ms/step - loss: -168.8073 - accuracy: 0.4708 - val_loss: -126.8423 - val_accuracy: 0.3688\n",
      "Epoch 231/300\n",
      "28/28 [==============================] - 7s 234ms/step - loss: -168.0638 - accuracy: 0.4716 - val_loss: -127.3126 - val_accuracy: 0.3739\n",
      "Epoch 232/300\n",
      "28/28 [==============================] - 6s 232ms/step - loss: -171.3222 - accuracy: 0.4712 - val_loss: -125.7938 - val_accuracy: 0.3803\n",
      "Epoch 233/300\n",
      "28/28 [==============================] - 7s 234ms/step - loss: -171.1177 - accuracy: 0.4667 - val_loss: -129.0034 - val_accuracy: 0.3700\n",
      "Epoch 234/300\n",
      "28/28 [==============================] - 7s 234ms/step - loss: -171.6848 - accuracy: 0.4686 - val_loss: -129.2042 - val_accuracy: 0.3713\n",
      "Epoch 235/300\n",
      "28/28 [==============================] - 7s 235ms/step - loss: -174.0406 - accuracy: 0.4726 - val_loss: -129.8927 - val_accuracy: 0.3700\n",
      "Epoch 236/300\n",
      "28/28 [==============================] - 7s 233ms/step - loss: -165.2163 - accuracy: 0.4868 - val_loss: -129.3355 - val_accuracy: 0.3739\n",
      "Epoch 237/300\n",
      "28/28 [==============================] - 6s 231ms/step - loss: -172.7185 - accuracy: 0.4753 - val_loss: -130.6802 - val_accuracy: 0.3713\n",
      "Epoch 238/300\n",
      "28/28 [==============================] - 6s 233ms/step - loss: -175.2028 - accuracy: 0.4658 - val_loss: -131.3953 - val_accuracy: 0.3675\n",
      "Epoch 239/300\n",
      "28/28 [==============================] - 6s 232ms/step - loss: -174.8813 - accuracy: 0.4684 - val_loss: -131.0773 - val_accuracy: 0.3700\n",
      "Epoch 240/300\n",
      "28/28 [==============================] - 7s 234ms/step - loss: -178.0168 - accuracy: 0.4558 - val_loss: -129.6421 - val_accuracy: 0.3726\n",
      "Epoch 241/300\n",
      "28/28 [==============================] - 7s 234ms/step - loss: -176.5044 - accuracy: 0.4718 - val_loss: -132.0197 - val_accuracy: 0.3700\n",
      "Epoch 242/300\n",
      "28/28 [==============================] - 7s 233ms/step - loss: -171.1098 - accuracy: 0.4857 - val_loss: -132.2326 - val_accuracy: 0.3726\n",
      "Epoch 243/300\n",
      "28/28 [==============================] - 7s 233ms/step - loss: -174.9534 - accuracy: 0.4773 - val_loss: -133.1868 - val_accuracy: 0.3700\n",
      "Epoch 244/300\n",
      "28/28 [==============================] - 6s 232ms/step - loss: -179.5857 - accuracy: 0.4745 - val_loss: -134.6575 - val_accuracy: 0.3726\n",
      "Epoch 245/300\n",
      "28/28 [==============================] - 7s 234ms/step - loss: -175.6488 - accuracy: 0.4741 - val_loss: -135.5903 - val_accuracy: 0.3700\n",
      "Epoch 246/300\n",
      "28/28 [==============================] - 7s 235ms/step - loss: -177.4195 - accuracy: 0.4762 - val_loss: -136.3516 - val_accuracy: 0.3700\n",
      "Epoch 247/300\n",
      "28/28 [==============================] - 6s 232ms/step - loss: -178.3513 - accuracy: 0.4742 - val_loss: -135.2976 - val_accuracy: 0.3726\n",
      "Epoch 248/300\n",
      "28/28 [==============================] - 6s 232ms/step - loss: -180.3777 - accuracy: 0.4708 - val_loss: -137.2678 - val_accuracy: 0.3688\n",
      "Epoch 249/300\n",
      "28/28 [==============================] - 7s 233ms/step - loss: -183.3347 - accuracy: 0.4696 - val_loss: -136.6774 - val_accuracy: 0.3675\n",
      "Epoch 250/300\n",
      "28/28 [==============================] - 6s 231ms/step - loss: -180.3360 - accuracy: 0.4763 - val_loss: -137.7149 - val_accuracy: 0.3688\n",
      "Epoch 251/300\n",
      "28/28 [==============================] - 7s 233ms/step - loss: -179.7020 - accuracy: 0.4769 - val_loss: -138.1260 - val_accuracy: 0.3688\n",
      "Epoch 252/300\n",
      "28/28 [==============================] - 7s 236ms/step - loss: -181.1134 - accuracy: 0.4799 - val_loss: -137.9883 - val_accuracy: 0.3739\n",
      "Epoch 253/300\n",
      "28/28 [==============================] - 7s 233ms/step - loss: -183.0889 - accuracy: 0.4730 - val_loss: -139.0629 - val_accuracy: 0.3713\n",
      "Epoch 254/300\n",
      "28/28 [==============================] - 7s 234ms/step - loss: -189.0469 - accuracy: 0.4682 - val_loss: -139.0763 - val_accuracy: 0.3752\n",
      "Epoch 255/300\n",
      "28/28 [==============================] - 7s 233ms/step - loss: -185.3802 - accuracy: 0.4754 - val_loss: -138.7557 - val_accuracy: 0.3726\n",
      "Epoch 256/300\n",
      "28/28 [==============================] - 7s 234ms/step - loss: -187.1424 - accuracy: 0.4677 - val_loss: -141.3705 - val_accuracy: 0.3726\n",
      "Epoch 257/300\n",
      "28/28 [==============================] - 7s 233ms/step - loss: -190.9938 - accuracy: 0.4621 - val_loss: -141.1825 - val_accuracy: 0.3713\n",
      "Epoch 258/300\n",
      "28/28 [==============================] - 7s 233ms/step - loss: -189.2115 - accuracy: 0.4684 - val_loss: -141.5972 - val_accuracy: 0.3713\n",
      "Epoch 259/300\n",
      "28/28 [==============================] - 6s 231ms/step - loss: -188.6901 - accuracy: 0.4748 - val_loss: -141.7129 - val_accuracy: 0.3726\n",
      "Epoch 260/300\n",
      "28/28 [==============================] - 6s 231ms/step - loss: -183.5887 - accuracy: 0.4827 - val_loss: -144.7776 - val_accuracy: 0.3675\n",
      "Epoch 261/300\n",
      "28/28 [==============================] - 6s 232ms/step - loss: -185.3591 - accuracy: 0.4852 - val_loss: -143.2027 - val_accuracy: 0.3726\n",
      "Epoch 262/300\n",
      "28/28 [==============================] - 6s 232ms/step - loss: -188.5597 - accuracy: 0.4760 - val_loss: -144.0346 - val_accuracy: 0.3752\n",
      "Epoch 263/300\n",
      "28/28 [==============================] - 6s 232ms/step - loss: -196.3459 - accuracy: 0.4656 - val_loss: -142.0457 - val_accuracy: 0.3739\n",
      "Epoch 264/300\n",
      "28/28 [==============================] - 6s 232ms/step - loss: -188.8195 - accuracy: 0.4726 - val_loss: -144.6302 - val_accuracy: 0.3764\n",
      "Epoch 265/300\n",
      "28/28 [==============================] - 6s 231ms/step - loss: -195.8565 - accuracy: 0.4665 - val_loss: -145.3589 - val_accuracy: 0.3764\n",
      "Epoch 266/300\n",
      "28/28 [==============================] - 6s 232ms/step - loss: -193.2332 - accuracy: 0.4801 - val_loss: -145.1898 - val_accuracy: 0.3739\n",
      "Epoch 267/300\n",
      "28/28 [==============================] - 7s 234ms/step - loss: -195.2705 - accuracy: 0.4617 - val_loss: -147.3526 - val_accuracy: 0.3752\n",
      "Epoch 268/300\n",
      "28/28 [==============================] - 6s 231ms/step - loss: -193.3302 - accuracy: 0.4753 - val_loss: -147.9147 - val_accuracy: 0.3611\n",
      "Epoch 269/300\n",
      "28/28 [==============================] - 6s 232ms/step - loss: -198.2081 - accuracy: 0.4723 - val_loss: -145.3411 - val_accuracy: 0.3816\n",
      "Epoch 270/300\n",
      "28/28 [==============================] - 7s 234ms/step - loss: -195.0817 - accuracy: 0.4726 - val_loss: -148.2857 - val_accuracy: 0.3726\n",
      "Epoch 271/300\n",
      "28/28 [==============================] - 6s 232ms/step - loss: -195.5403 - accuracy: 0.4779 - val_loss: -147.6323 - val_accuracy: 0.3752\n",
      "Epoch 272/300\n",
      "28/28 [==============================] - 7s 233ms/step - loss: -193.4417 - accuracy: 0.4801 - val_loss: -145.5861 - val_accuracy: 0.3816\n",
      "Epoch 273/300\n",
      "28/28 [==============================] - 7s 234ms/step - loss: -202.2635 - accuracy: 0.4693 - val_loss: -149.4911 - val_accuracy: 0.3752\n",
      "Epoch 274/300\n"
     ]
    },
    {
     "name": "stdout",
     "output_type": "stream",
     "text": [
      "28/28 [==============================] - 6s 232ms/step - loss: -196.7765 - accuracy: 0.4780 - val_loss: -150.5012 - val_accuracy: 0.3713\n",
      "Epoch 275/300\n",
      "28/28 [==============================] - 6s 231ms/step - loss: -201.6691 - accuracy: 0.4690 - val_loss: -144.3954 - val_accuracy: 0.3752\n",
      "Epoch 276/300\n",
      "28/28 [==============================] - 7s 233ms/step - loss: -199.0430 - accuracy: 0.4764 - val_loss: -149.2083 - val_accuracy: 0.3675\n",
      "Epoch 277/300\n",
      "28/28 [==============================] - 6s 231ms/step - loss: -193.8332 - accuracy: 0.4771 - val_loss: -151.2973 - val_accuracy: 0.3739\n",
      "Epoch 278/300\n",
      "28/28 [==============================] - 7s 232ms/step - loss: -200.6761 - accuracy: 0.4745 - val_loss: -150.1866 - val_accuracy: 0.3726\n",
      "Epoch 279/300\n",
      "28/28 [==============================] - 7s 233ms/step - loss: -202.9563 - accuracy: 0.4743 - val_loss: -151.9337 - val_accuracy: 0.3764\n",
      "Epoch 280/300\n",
      "28/28 [==============================] - 7s 233ms/step - loss: -200.0285 - accuracy: 0.4763 - val_loss: -150.2639 - val_accuracy: 0.3764\n",
      "Epoch 281/300\n",
      "28/28 [==============================] - 6s 232ms/step - loss: -201.8484 - accuracy: 0.4769 - val_loss: -153.7592 - val_accuracy: 0.3726\n",
      "Epoch 282/300\n",
      "28/28 [==============================] - 6s 231ms/step - loss: -205.1239 - accuracy: 0.4684 - val_loss: -150.9876 - val_accuracy: 0.3726\n",
      "Epoch 283/300\n",
      "28/28 [==============================] - 6s 233ms/step - loss: -204.4292 - accuracy: 0.4803 - val_loss: -154.1976 - val_accuracy: 0.3739\n",
      "Epoch 284/300\n",
      "28/28 [==============================] - 7s 233ms/step - loss: -205.4050 - accuracy: 0.4661 - val_loss: -154.4066 - val_accuracy: 0.3764\n",
      "Epoch 285/300\n",
      "28/28 [==============================] - 7s 233ms/step - loss: -203.9490 - accuracy: 0.4777 - val_loss: -154.5762 - val_accuracy: 0.3764\n",
      "Epoch 286/300\n",
      "28/28 [==============================] - 7s 234ms/step - loss: -204.7719 - accuracy: 0.4743 - val_loss: -156.8380 - val_accuracy: 0.3790\n",
      "Epoch 287/300\n",
      "28/28 [==============================] - 7s 233ms/step - loss: -202.7016 - accuracy: 0.4857 - val_loss: -155.5582 - val_accuracy: 0.3803\n",
      "Epoch 288/300\n",
      "28/28 [==============================] - 6s 230ms/step - loss: -204.9378 - accuracy: 0.4806 - val_loss: -155.4506 - val_accuracy: 0.3713\n",
      "Epoch 289/300\n",
      "28/28 [==============================] - 7s 236ms/step - loss: -209.3609 - accuracy: 0.4748 - val_loss: -156.1324 - val_accuracy: 0.3764\n",
      "Epoch 290/300\n",
      "28/28 [==============================] - 7s 233ms/step - loss: -213.5496 - accuracy: 0.4670 - val_loss: -156.5014 - val_accuracy: 0.3790\n",
      "Epoch 291/300\n",
      "28/28 [==============================] - 7s 235ms/step - loss: -211.6761 - accuracy: 0.4692 - val_loss: -156.7104 - val_accuracy: 0.3803\n",
      "Epoch 292/300\n",
      "28/28 [==============================] - 7s 232ms/step - loss: -212.0990 - accuracy: 0.4702 - val_loss: -158.9444 - val_accuracy: 0.3752\n",
      "Epoch 293/300\n",
      "28/28 [==============================] - 6s 231ms/step - loss: -209.4539 - accuracy: 0.4794 - val_loss: -155.3996 - val_accuracy: 0.3764\n",
      "Epoch 294/300\n",
      "28/28 [==============================] - 6s 232ms/step - loss: -215.0887 - accuracy: 0.4719 - val_loss: -162.3863 - val_accuracy: 0.3688\n",
      "Epoch 295/300\n",
      "28/28 [==============================] - 6s 232ms/step - loss: -210.2932 - accuracy: 0.4772 - val_loss: -153.7206 - val_accuracy: 0.3828\n",
      "Epoch 296/300\n",
      "28/28 [==============================] - 7s 234ms/step - loss: -215.5835 - accuracy: 0.4726 - val_loss: -160.8348 - val_accuracy: 0.3790\n",
      "Epoch 297/300\n",
      "28/28 [==============================] - 7s 234ms/step - loss: -213.8259 - accuracy: 0.4723 - val_loss: -157.1676 - val_accuracy: 0.3764\n",
      "Epoch 298/300\n",
      "28/28 [==============================] - 7s 234ms/step - loss: -214.7942 - accuracy: 0.4739 - val_loss: -161.1413 - val_accuracy: 0.3675\n",
      "Epoch 299/300\n",
      "28/28 [==============================] - 6s 231ms/step - loss: -213.3138 - accuracy: 0.4796 - val_loss: -159.2883 - val_accuracy: 0.3752\n",
      "Epoch 300/300\n",
      "28/28 [==============================] - 7s 233ms/step - loss: -213.2161 - accuracy: 0.4745 - val_loss: -160.1356 - val_accuracy: 0.3777\n"
     ]
    }
   ],
   "source": [
    "history = model.fit(X_train, y_train, batch_size=256, epochs=300, validation_data=(X_valid, y_valid))"
   ]
  },
  {
   "cell_type": "markdown",
   "metadata": {},
   "source": [
    "### Build Model 2"
   ]
  },
  {
   "cell_type": "code",
   "execution_count": 251,
   "metadata": {},
   "outputs": [
    {
     "name": "stdout",
     "output_type": "stream",
     "text": [
      "(8967, 454)\n",
      "(8967, 4)\n"
     ]
    }
   ],
   "source": [
    "print(X_train.shape)\n",
    "print(y_train.shape)"
   ]
  },
  {
   "cell_type": "code",
   "execution_count": 248,
   "metadata": {},
   "outputs": [],
   "source": [
    "# Model 2: 5 output\n",
    "# Convert to categorical with 4 output\n",
    "\n",
    "y_train = tf.keras.utils.to_categorical(y_train, 4, dtype=\"float32\")\n",
    "y_valid = tf.keras.utils.to_categorical(y_valid, 4, dtype=\"float32\")\n",
    "y_test = tf.keras.utils.to_categorical(y_test, 4, dtype=\"float32\")"
   ]
  },
  {
   "cell_type": "code",
   "execution_count": 285,
   "metadata": {},
   "outputs": [],
   "source": [
    "# Model 2: Categorical_crossentropy\n",
    "\n",
    "model2 = tf.keras.models.Sequential()\n",
    "\n",
    "model2.add(\n",
    "    tf.keras.layers.Embedding(\n",
    "        input_dim = MAX_FEATURES,\n",
    "        output_dim = 32,\n",
    "        input_length = MAX_LENGTH\n",
    "    )\n",
    ")\n",
    "\n",
    "model2.add(tf.keras.layers.LSTM(units=32, dropout=0.5))\n",
    "\n",
    "model2.add(tf.keras.layers.Dense(4, activation='softmax'))"
   ]
  },
  {
   "cell_type": "markdown",
   "metadata": {},
   "source": [
    "## Trying Bidirectional LSTM Model"
   ]
  },
  {
   "cell_type": "code",
   "execution_count": 282,
   "metadata": {},
   "outputs": [],
   "source": [
    "model2 = tf.keras.models.Sequential()\n",
    "model2.add(layers.Embedding(input_dim = MAX_FEATURES,\n",
    "                            output_dim = 32,\n",
    "                            input_length = MAX_LENGTH))\n",
    "model2.add(layers.Bidirectional(layers.LSTM(32,dropout=0.6)))\n",
    "model2.add(layers.Dense(4,activation='softmax'))\n",
    "# model2.compile(optimizer='rmsprop',loss='categorical_crossentropy', metrics=['accuracy'])\n",
    "# history = model2.fit(X_train, y_train, epochs=30,validation_data=(X_test, y_test),callbacks=[checkpoint2])\n"
   ]
  },
  {
   "cell_type": "code",
   "execution_count": 286,
   "metadata": {},
   "outputs": [
    {
     "name": "stdout",
     "output_type": "stream",
     "text": [
      "Model: \"sequential_20\"\n",
      "_________________________________________________________________\n",
      "Layer (type)                 Output Shape              Param #   \n",
      "=================================================================\n",
      "embedding_19 (Embedding)     (None, 454, 32)           16000     \n",
      "_________________________________________________________________\n",
      "lstm_19 (LSTM)               (None, 32)                8320      \n",
      "_________________________________________________________________\n",
      "dense_19 (Dense)             (None, 4)                 132       \n",
      "=================================================================\n",
      "Total params: 24,452\n",
      "Trainable params: 24,452\n",
      "Non-trainable params: 0\n",
      "_________________________________________________________________\n"
     ]
    }
   ],
   "source": [
    "model2.compile(optimizer='rmsprop',loss='categorical_crossentropy', metrics=['accuracy'])\n",
    "\n",
    "model2.summary()"
   ]
  },
  {
   "cell_type": "code",
   "execution_count": 287,
   "metadata": {},
   "outputs": [
    {
     "name": "stdout",
     "output_type": "stream",
     "text": [
      "Epoch 1/150\n",
      "36/36 [==============================] - 8s 141ms/step - loss: 1.3594 - accuracy: 0.3410 - val_loss: 1.2704 - val_accuracy: 0.4142\n",
      "Epoch 2/150\n",
      "36/36 [==============================] - 4s 121ms/step - loss: 1.2567 - accuracy: 0.4320 - val_loss: 1.2085 - val_accuracy: 0.5035\n",
      "Epoch 3/150\n",
      "36/36 [==============================] - 4s 121ms/step - loss: 1.2113 - accuracy: 0.5172 - val_loss: 1.1566 - val_accuracy: 0.5517\n",
      "Epoch 4/150\n",
      "36/36 [==============================] - 4s 121ms/step - loss: 1.1430 - accuracy: 0.5485 - val_loss: 1.1171 - val_accuracy: 0.5446\n",
      "Epoch 5/150\n",
      "36/36 [==============================] - 4s 121ms/step - loss: 1.0904 - accuracy: 0.5582 - val_loss: 1.1086 - val_accuracy: 0.5446\n",
      "Epoch 6/150\n",
      "36/36 [==============================] - 4s 121ms/step - loss: 1.0457 - accuracy: 0.5774 - val_loss: 1.0592 - val_accuracy: 0.5517\n",
      "Epoch 7/150\n",
      "36/36 [==============================] - 4s 121ms/step - loss: 1.0179 - accuracy: 0.5801 - val_loss: 1.0599 - val_accuracy: 0.5517\n",
      "Epoch 8/150\n",
      "36/36 [==============================] - 4s 120ms/step - loss: 1.0034 - accuracy: 0.5970 - val_loss: 1.1089 - val_accuracy: 0.5256\n",
      "Epoch 9/150\n",
      "36/36 [==============================] - 4s 122ms/step - loss: 0.9889 - accuracy: 0.5961 - val_loss: 1.0551 - val_accuracy: 0.5637\n",
      "Epoch 10/150\n",
      "36/36 [==============================] - 4s 121ms/step - loss: 0.9749 - accuracy: 0.6037 - val_loss: 1.0627 - val_accuracy: 0.5527\n",
      "Epoch 11/150\n",
      "36/36 [==============================] - 4s 122ms/step - loss: 0.9694 - accuracy: 0.6142 - val_loss: 1.0773 - val_accuracy: 0.5547\n",
      "Epoch 12/150\n",
      "36/36 [==============================] - 4s 121ms/step - loss: 0.9642 - accuracy: 0.6110 - val_loss: 1.1082 - val_accuracy: 0.5527\n",
      "Epoch 13/150\n",
      "36/36 [==============================] - 4s 120ms/step - loss: 0.9423 - accuracy: 0.6292 - val_loss: 1.0420 - val_accuracy: 0.5717\n",
      "Epoch 14/150\n",
      "36/36 [==============================] - 4s 121ms/step - loss: 0.9390 - accuracy: 0.6331 - val_loss: 1.0396 - val_accuracy: 0.5747\n",
      "Epoch 15/150\n",
      "36/36 [==============================] - 4s 121ms/step - loss: 0.9100 - accuracy: 0.6466 - val_loss: 1.0833 - val_accuracy: 0.5647\n",
      "Epoch 16/150\n",
      "36/36 [==============================] - 4s 122ms/step - loss: 0.9101 - accuracy: 0.6422 - val_loss: 1.1149 - val_accuracy: 0.5386\n",
      "Epoch 17/150\n",
      "36/36 [==============================] - 4s 121ms/step - loss: 0.9380 - accuracy: 0.6297 - val_loss: 1.0540 - val_accuracy: 0.5677\n",
      "Epoch 18/150\n",
      "36/36 [==============================] - 4s 121ms/step - loss: 0.9147 - accuracy: 0.6413 - val_loss: 1.0448 - val_accuracy: 0.5677\n",
      "Epoch 19/150\n",
      "36/36 [==============================] - 4s 121ms/step - loss: 0.9020 - accuracy: 0.6457 - val_loss: 1.0553 - val_accuracy: 0.5607\n",
      "Epoch 20/150\n",
      "36/36 [==============================] - 4s 120ms/step - loss: 0.9161 - accuracy: 0.6414 - val_loss: 1.0905 - val_accuracy: 0.5456\n",
      "Epoch 21/150\n",
      "36/36 [==============================] - 4s 121ms/step - loss: 0.8900 - accuracy: 0.6524 - val_loss: 1.0438 - val_accuracy: 0.5657\n",
      "Epoch 22/150\n",
      "36/36 [==============================] - 4s 121ms/step - loss: 0.8796 - accuracy: 0.6559 - val_loss: 1.0944 - val_accuracy: 0.5456\n",
      "Epoch 23/150\n",
      "36/36 [==============================] - 4s 121ms/step - loss: 0.8854 - accuracy: 0.6482 - val_loss: 1.0366 - val_accuracy: 0.5767\n",
      "Epoch 24/150\n",
      "36/36 [==============================] - 4s 120ms/step - loss: 0.8772 - accuracy: 0.6593 - val_loss: 1.0556 - val_accuracy: 0.5727\n",
      "Epoch 25/150\n",
      "36/36 [==============================] - 4s 121ms/step - loss: 0.8970 - accuracy: 0.6522 - val_loss: 1.0250 - val_accuracy: 0.5918\n",
      "Epoch 26/150\n",
      "36/36 [==============================] - 4s 121ms/step - loss: 0.8607 - accuracy: 0.6665 - val_loss: 1.0266 - val_accuracy: 0.5777\n",
      "Epoch 27/150\n",
      "36/36 [==============================] - 4s 120ms/step - loss: 0.8597 - accuracy: 0.6621 - val_loss: 1.0494 - val_accuracy: 0.5637\n",
      "Epoch 28/150\n",
      "36/36 [==============================] - 4s 120ms/step - loss: 0.8679 - accuracy: 0.6588 - val_loss: 1.0290 - val_accuracy: 0.5888\n",
      "Epoch 29/150\n",
      "36/36 [==============================] - 4s 120ms/step - loss: 0.8528 - accuracy: 0.6654 - val_loss: 1.0287 - val_accuracy: 0.5797\n",
      "Epoch 30/150\n",
      "36/36 [==============================] - 4s 120ms/step - loss: 0.8629 - accuracy: 0.6608 - val_loss: 1.0170 - val_accuracy: 0.5938\n",
      "Epoch 31/150\n",
      "36/36 [==============================] - 4s 120ms/step - loss: 0.8634 - accuracy: 0.6582 - val_loss: 1.0890 - val_accuracy: 0.5637\n",
      "Epoch 32/150\n",
      "36/36 [==============================] - 4s 120ms/step - loss: 0.8354 - accuracy: 0.6727 - val_loss: 1.0242 - val_accuracy: 0.5958\n",
      "Epoch 33/150\n",
      "36/36 [==============================] - 4s 121ms/step - loss: 0.8512 - accuracy: 0.6655 - val_loss: 1.0418 - val_accuracy: 0.5717\n",
      "Epoch 34/150\n",
      "36/36 [==============================] - 4s 121ms/step - loss: 0.8498 - accuracy: 0.6723 - val_loss: 1.0458 - val_accuracy: 0.5797\n",
      "Epoch 35/150\n",
      "36/36 [==============================] - 4s 120ms/step - loss: 0.8338 - accuracy: 0.6773 - val_loss: 1.0267 - val_accuracy: 0.5998\n",
      "Epoch 36/150\n",
      "36/36 [==============================] - 4s 120ms/step - loss: 0.8413 - accuracy: 0.6686 - val_loss: 1.0202 - val_accuracy: 0.5988\n",
      "Epoch 37/150\n",
      "36/36 [==============================] - 4s 119ms/step - loss: 0.8277 - accuracy: 0.6824 - val_loss: 1.0462 - val_accuracy: 0.5757\n",
      "Epoch 38/150\n",
      "36/36 [==============================] - 4s 120ms/step - loss: 0.8463 - accuracy: 0.6720 - val_loss: 1.0494 - val_accuracy: 0.5988\n",
      "Epoch 39/150\n",
      "36/36 [==============================] - 4s 120ms/step - loss: 0.8520 - accuracy: 0.6705 - val_loss: 1.0414 - val_accuracy: 0.5817\n",
      "Epoch 40/150\n",
      "36/36 [==============================] - 4s 120ms/step - loss: 0.8237 - accuracy: 0.6839 - val_loss: 1.0161 - val_accuracy: 0.5928\n",
      "Epoch 41/150\n",
      "36/36 [==============================] - 4s 120ms/step - loss: 0.8318 - accuracy: 0.6747 - val_loss: 1.0246 - val_accuracy: 0.5968\n",
      "Epoch 42/150\n",
      "36/36 [==============================] - 4s 119ms/step - loss: 0.8156 - accuracy: 0.6855 - val_loss: 1.0346 - val_accuracy: 0.5807\n",
      "Epoch 43/150\n",
      "36/36 [==============================] - 4s 118ms/step - loss: 0.8315 - accuracy: 0.6731 - val_loss: 1.0377 - val_accuracy: 0.5958\n",
      "Epoch 44/150\n",
      "36/36 [==============================] - 4s 120ms/step - loss: 0.8366 - accuracy: 0.6772 - val_loss: 1.0287 - val_accuracy: 0.5918\n",
      "Epoch 45/150\n",
      "36/36 [==============================] - 4s 121ms/step - loss: 0.8284 - accuracy: 0.6711 - val_loss: 1.0258 - val_accuracy: 0.5948\n",
      "Epoch 46/150\n",
      "36/36 [==============================] - 4s 121ms/step - loss: 0.8093 - accuracy: 0.6860 - val_loss: 1.0689 - val_accuracy: 0.5878\n",
      "Epoch 47/150\n",
      "36/36 [==============================] - 4s 120ms/step - loss: 0.8256 - accuracy: 0.6800 - val_loss: 1.0455 - val_accuracy: 0.5938\n",
      "Epoch 48/150\n",
      "36/36 [==============================] - 4s 121ms/step - loss: 0.8266 - accuracy: 0.6714 - val_loss: 1.0339 - val_accuracy: 0.5878\n",
      "Epoch 49/150\n",
      "36/36 [==============================] - 4s 120ms/step - loss: 0.8184 - accuracy: 0.6814 - val_loss: 1.0388 - val_accuracy: 0.5918\n",
      "Epoch 50/150\n",
      "36/36 [==============================] - 4s 120ms/step - loss: 0.8122 - accuracy: 0.6827 - val_loss: 1.0729 - val_accuracy: 0.5807\n",
      "Epoch 51/150\n",
      "36/36 [==============================] - 4s 121ms/step - loss: 0.8121 - accuracy: 0.6886 - val_loss: 1.0266 - val_accuracy: 0.6018\n",
      "Epoch 52/150\n",
      "36/36 [==============================] - 4s 121ms/step - loss: 0.8096 - accuracy: 0.6877 - val_loss: 1.0356 - val_accuracy: 0.5978\n",
      "Epoch 53/150\n",
      "36/36 [==============================] - 4s 120ms/step - loss: 0.7983 - accuracy: 0.6883 - val_loss: 1.0354 - val_accuracy: 0.5948\n",
      "Epoch 54/150\n",
      "36/36 [==============================] - 4s 121ms/step - loss: 0.7843 - accuracy: 0.6934 - val_loss: 1.0240 - val_accuracy: 0.6058\n",
      "Epoch 55/150\n",
      "36/36 [==============================] - 4s 122ms/step - loss: 0.8051 - accuracy: 0.6874 - val_loss: 1.0507 - val_accuracy: 0.5787\n",
      "Epoch 56/150\n",
      "36/36 [==============================] - 4s 122ms/step - loss: 0.8028 - accuracy: 0.6898 - val_loss: 1.1070 - val_accuracy: 0.5827\n",
      "Epoch 57/150\n",
      "36/36 [==============================] - 4s 123ms/step - loss: 0.8026 - accuracy: 0.6915 - val_loss: 1.0551 - val_accuracy: 0.5878\n"
     ]
    },
    {
     "name": "stdout",
     "output_type": "stream",
     "text": [
      "Epoch 58/150\n",
      "36/36 [==============================] - 4s 120ms/step - loss: 0.8019 - accuracy: 0.6888 - val_loss: 1.0391 - val_accuracy: 0.5988\n",
      "Epoch 59/150\n",
      "36/36 [==============================] - 4s 121ms/step - loss: 0.8027 - accuracy: 0.6842 - val_loss: 1.0292 - val_accuracy: 0.6018\n",
      "Epoch 60/150\n",
      "36/36 [==============================] - 4s 123ms/step - loss: 0.7913 - accuracy: 0.6966 - val_loss: 1.0486 - val_accuracy: 0.5928\n",
      "Epoch 61/150\n",
      "36/36 [==============================] - 4s 121ms/step - loss: 0.8155 - accuracy: 0.6767 - val_loss: 1.0281 - val_accuracy: 0.6008\n",
      "Epoch 62/150\n",
      "36/36 [==============================] - 4s 120ms/step - loss: 0.7808 - accuracy: 0.6973 - val_loss: 1.0779 - val_accuracy: 0.5918\n",
      "Epoch 63/150\n",
      "36/36 [==============================] - 4s 121ms/step - loss: 0.7892 - accuracy: 0.6972 - val_loss: 1.0304 - val_accuracy: 0.6048\n",
      "Epoch 64/150\n",
      "36/36 [==============================] - 4s 125ms/step - loss: 0.7967 - accuracy: 0.6862 - val_loss: 1.0511 - val_accuracy: 0.5998\n",
      "Epoch 65/150\n",
      "36/36 [==============================] - 5s 132ms/step - loss: 0.7759 - accuracy: 0.7045 - val_loss: 1.0529 - val_accuracy: 0.6008\n",
      "Epoch 66/150\n",
      "36/36 [==============================] - 4s 123ms/step - loss: 0.7803 - accuracy: 0.6999 - val_loss: 1.0401 - val_accuracy: 0.6028\n",
      "Epoch 67/150\n",
      "36/36 [==============================] - 4s 123ms/step - loss: 0.7642 - accuracy: 0.7057 - val_loss: 1.0376 - val_accuracy: 0.6068\n",
      "Epoch 68/150\n",
      "36/36 [==============================] - 4s 122ms/step - loss: 0.7817 - accuracy: 0.6913 - val_loss: 1.0340 - val_accuracy: 0.6018\n",
      "Epoch 69/150\n",
      "36/36 [==============================] - 4s 123ms/step - loss: 0.7742 - accuracy: 0.7024 - val_loss: 1.0960 - val_accuracy: 0.5968\n",
      "Epoch 70/150\n",
      "36/36 [==============================] - 4s 123ms/step - loss: 0.7781 - accuracy: 0.6914 - val_loss: 1.0288 - val_accuracy: 0.6058\n",
      "Epoch 71/150\n",
      "36/36 [==============================] - 4s 122ms/step - loss: 0.7802 - accuracy: 0.6960 - val_loss: 1.0612 - val_accuracy: 0.5978\n",
      "Epoch 72/150\n",
      "36/36 [==============================] - 4s 123ms/step - loss: 0.7745 - accuracy: 0.7005 - val_loss: 1.0950 - val_accuracy: 0.5918\n",
      "Epoch 73/150\n",
      "36/36 [==============================] - 4s 122ms/step - loss: 0.7857 - accuracy: 0.6962 - val_loss: 1.0462 - val_accuracy: 0.5807\n",
      "Epoch 74/150\n",
      "36/36 [==============================] - 4s 123ms/step - loss: 0.7554 - accuracy: 0.7075 - val_loss: 1.0484 - val_accuracy: 0.5968\n",
      "Epoch 75/150\n",
      "36/36 [==============================] - 4s 122ms/step - loss: 0.7693 - accuracy: 0.7010 - val_loss: 1.0580 - val_accuracy: 0.6018\n",
      "Epoch 76/150\n",
      "36/36 [==============================] - 4s 122ms/step - loss: 0.7687 - accuracy: 0.7002 - val_loss: 1.0799 - val_accuracy: 0.5737\n",
      "Epoch 77/150\n",
      "36/36 [==============================] - 4s 124ms/step - loss: 0.7684 - accuracy: 0.7037 - val_loss: 1.0240 - val_accuracy: 0.6138\n",
      "Epoch 78/150\n",
      "36/36 [==============================] - 4s 125ms/step - loss: 0.7685 - accuracy: 0.7033 - val_loss: 1.0302 - val_accuracy: 0.6008\n",
      "Epoch 79/150\n",
      "36/36 [==============================] - 4s 122ms/step - loss: 0.7568 - accuracy: 0.7045 - val_loss: 1.0338 - val_accuracy: 0.6058\n",
      "Epoch 80/150\n",
      "36/36 [==============================] - 4s 123ms/step - loss: 0.7629 - accuracy: 0.7054 - val_loss: 1.0461 - val_accuracy: 0.5908\n",
      "Epoch 81/150\n",
      "36/36 [==============================] - 4s 122ms/step - loss: 0.7614 - accuracy: 0.7034 - val_loss: 1.1042 - val_accuracy: 0.5697\n",
      "Epoch 82/150\n",
      "36/36 [==============================] - 4s 123ms/step - loss: 0.7531 - accuracy: 0.7059 - val_loss: 1.0415 - val_accuracy: 0.6148\n",
      "Epoch 83/150\n",
      "36/36 [==============================] - 4s 122ms/step - loss: 0.7488 - accuracy: 0.7068 - val_loss: 1.0303 - val_accuracy: 0.6098\n",
      "Epoch 84/150\n",
      "36/36 [==============================] - 4s 122ms/step - loss: 0.7636 - accuracy: 0.7076 - val_loss: 1.0408 - val_accuracy: 0.6078\n",
      "Epoch 85/150\n",
      "36/36 [==============================] - 4s 122ms/step - loss: 0.7530 - accuracy: 0.7016 - val_loss: 1.0558 - val_accuracy: 0.5797\n",
      "Epoch 86/150\n",
      "36/36 [==============================] - 4s 121ms/step - loss: 0.7497 - accuracy: 0.7080 - val_loss: 1.0407 - val_accuracy: 0.5988\n",
      "Epoch 87/150\n",
      "36/36 [==============================] - 4s 123ms/step - loss: 0.7437 - accuracy: 0.7123 - val_loss: 1.0586 - val_accuracy: 0.6078\n",
      "Epoch 88/150\n",
      "36/36 [==============================] - 4s 122ms/step - loss: 0.7535 - accuracy: 0.7040 - val_loss: 1.0343 - val_accuracy: 0.6058\n",
      "Epoch 89/150\n",
      "36/36 [==============================] - 4s 122ms/step - loss: 0.7427 - accuracy: 0.7129 - val_loss: 1.0463 - val_accuracy: 0.6088\n",
      "Epoch 90/150\n",
      "36/36 [==============================] - 4s 124ms/step - loss: 0.7422 - accuracy: 0.7071 - val_loss: 1.0615 - val_accuracy: 0.6078\n",
      "Epoch 91/150\n",
      "36/36 [==============================] - 4s 124ms/step - loss: 0.7607 - accuracy: 0.7008 - val_loss: 1.0474 - val_accuracy: 0.6128\n",
      "Epoch 92/150\n",
      "36/36 [==============================] - 4s 121ms/step - loss: 0.7405 - accuracy: 0.7157 - val_loss: 1.0313 - val_accuracy: 0.5998\n",
      "Epoch 93/150\n",
      "36/36 [==============================] - 4s 120ms/step - loss: 0.7450 - accuracy: 0.7082 - val_loss: 1.0521 - val_accuracy: 0.6068\n",
      "Epoch 94/150\n",
      "36/36 [==============================] - 4s 120ms/step - loss: 0.7261 - accuracy: 0.7182 - val_loss: 1.1042 - val_accuracy: 0.5998\n",
      "Epoch 95/150\n",
      "36/36 [==============================] - 4s 121ms/step - loss: 0.7489 - accuracy: 0.7066 - val_loss: 1.0636 - val_accuracy: 0.6038\n",
      "Epoch 96/150\n",
      "36/36 [==============================] - 4s 121ms/step - loss: 0.7380 - accuracy: 0.7170 - val_loss: 1.0600 - val_accuracy: 0.5928\n",
      "Epoch 97/150\n",
      "36/36 [==============================] - 4s 121ms/step - loss: 0.7458 - accuracy: 0.7099 - val_loss: 1.0795 - val_accuracy: 0.5998\n",
      "Epoch 98/150\n",
      "36/36 [==============================] - 4s 121ms/step - loss: 0.7305 - accuracy: 0.7182 - val_loss: 1.0505 - val_accuracy: 0.5908\n",
      "Epoch 99/150\n",
      "36/36 [==============================] - 4s 121ms/step - loss: 0.7283 - accuracy: 0.7099 - val_loss: 1.0958 - val_accuracy: 0.5807\n",
      "Epoch 100/150\n",
      "36/36 [==============================] - 4s 121ms/step - loss: 0.7444 - accuracy: 0.7030 - val_loss: 1.0341 - val_accuracy: 0.6018\n",
      "Epoch 101/150\n",
      "36/36 [==============================] - 4s 121ms/step - loss: 0.7199 - accuracy: 0.7211 - val_loss: 1.0496 - val_accuracy: 0.6048\n",
      "Epoch 102/150\n",
      "36/36 [==============================] - 4s 122ms/step - loss: 0.7146 - accuracy: 0.7259 - val_loss: 1.0452 - val_accuracy: 0.6038\n",
      "Epoch 103/150\n",
      "36/36 [==============================] - 4s 121ms/step - loss: 0.7317 - accuracy: 0.7116 - val_loss: 1.0579 - val_accuracy: 0.6008\n",
      "Epoch 104/150\n",
      "36/36 [==============================] - 4s 121ms/step - loss: 0.7250 - accuracy: 0.7200 - val_loss: 1.0821 - val_accuracy: 0.5888\n",
      "Epoch 105/150\n",
      "36/36 [==============================] - 4s 121ms/step - loss: 0.7288 - accuracy: 0.7177 - val_loss: 1.0598 - val_accuracy: 0.6138\n",
      "Epoch 106/150\n",
      "36/36 [==============================] - 4s 121ms/step - loss: 0.7324 - accuracy: 0.7134 - val_loss: 1.0677 - val_accuracy: 0.5827\n",
      "Epoch 107/150\n",
      "36/36 [==============================] - 4s 120ms/step - loss: 0.7417 - accuracy: 0.7099 - val_loss: 1.0611 - val_accuracy: 0.5968\n",
      "Epoch 108/150\n",
      "36/36 [==============================] - 4s 123ms/step - loss: 0.7118 - accuracy: 0.7209 - val_loss: 1.0687 - val_accuracy: 0.5958\n",
      "Epoch 109/150\n",
      "36/36 [==============================] - 4s 123ms/step - loss: 0.7250 - accuracy: 0.7147 - val_loss: 1.0640 - val_accuracy: 0.6048\n",
      "Epoch 110/150\n",
      "36/36 [==============================] - 4s 124ms/step - loss: 0.7211 - accuracy: 0.7189 - val_loss: 1.0914 - val_accuracy: 0.6098\n",
      "Epoch 111/150\n",
      "36/36 [==============================] - 5s 130ms/step - loss: 0.7400 - accuracy: 0.7144 - val_loss: 1.0756 - val_accuracy: 0.5958\n",
      "Epoch 112/150\n",
      "36/36 [==============================] - 4s 122ms/step - loss: 0.7169 - accuracy: 0.7165 - val_loss: 1.0685 - val_accuracy: 0.5998\n",
      "Epoch 113/150\n",
      "36/36 [==============================] - 4s 124ms/step - loss: 0.7106 - accuracy: 0.7256 - val_loss: 1.0635 - val_accuracy: 0.6138\n",
      "Epoch 114/150\n",
      "36/36 [==============================] - 4s 123ms/step - loss: 0.7084 - accuracy: 0.7259 - val_loss: 1.0712 - val_accuracy: 0.6048\n"
     ]
    },
    {
     "name": "stdout",
     "output_type": "stream",
     "text": [
      "Epoch 115/150\n",
      "36/36 [==============================] - 4s 122ms/step - loss: 0.7148 - accuracy: 0.7203 - val_loss: 1.0876 - val_accuracy: 0.6088\n",
      "Epoch 116/150\n",
      "36/36 [==============================] - 4s 121ms/step - loss: 0.7138 - accuracy: 0.7195 - val_loss: 1.0975 - val_accuracy: 0.6179\n",
      "Epoch 117/150\n",
      "36/36 [==============================] - 4s 123ms/step - loss: 0.7208 - accuracy: 0.7151 - val_loss: 1.0664 - val_accuracy: 0.6058\n",
      "Epoch 118/150\n",
      "36/36 [==============================] - 4s 121ms/step - loss: 0.7152 - accuracy: 0.7247 - val_loss: 1.0770 - val_accuracy: 0.6088\n",
      "Epoch 119/150\n",
      "36/36 [==============================] - 4s 122ms/step - loss: 0.7303 - accuracy: 0.7191 - val_loss: 1.1030 - val_accuracy: 0.6108\n",
      "Epoch 120/150\n",
      "36/36 [==============================] - 4s 123ms/step - loss: 0.7206 - accuracy: 0.7217 - val_loss: 1.0697 - val_accuracy: 0.6169\n",
      "Epoch 121/150\n",
      "36/36 [==============================] - 4s 122ms/step - loss: 0.7348 - accuracy: 0.7118 - val_loss: 1.0653 - val_accuracy: 0.6108\n",
      "Epoch 122/150\n",
      "36/36 [==============================] - 4s 123ms/step - loss: 0.7186 - accuracy: 0.7187 - val_loss: 1.0439 - val_accuracy: 0.6068\n",
      "Epoch 123/150\n",
      "36/36 [==============================] - 4s 122ms/step - loss: 0.7022 - accuracy: 0.7303 - val_loss: 1.0913 - val_accuracy: 0.6098\n",
      "Epoch 124/150\n",
      "36/36 [==============================] - 4s 121ms/step - loss: 0.6991 - accuracy: 0.7294 - val_loss: 1.0900 - val_accuracy: 0.6048\n",
      "Epoch 125/150\n",
      "36/36 [==============================] - 4s 121ms/step - loss: 0.7027 - accuracy: 0.7174 - val_loss: 1.0629 - val_accuracy: 0.6189\n",
      "Epoch 126/150\n",
      "36/36 [==============================] - 4s 122ms/step - loss: 0.7077 - accuracy: 0.7263 - val_loss: 1.0932 - val_accuracy: 0.5948\n",
      "Epoch 127/150\n",
      "36/36 [==============================] - 4s 122ms/step - loss: 0.7198 - accuracy: 0.7204 - val_loss: 1.0650 - val_accuracy: 0.6028\n",
      "Epoch 128/150\n",
      "36/36 [==============================] - 4s 121ms/step - loss: 0.6988 - accuracy: 0.7275 - val_loss: 1.0656 - val_accuracy: 0.6118\n",
      "Epoch 129/150\n",
      "36/36 [==============================] - 4s 122ms/step - loss: 0.6901 - accuracy: 0.7273 - val_loss: 1.0640 - val_accuracy: 0.6038\n",
      "Epoch 130/150\n",
      "36/36 [==============================] - 4s 121ms/step - loss: 0.7163 - accuracy: 0.7202 - val_loss: 1.0849 - val_accuracy: 0.6189\n",
      "Epoch 131/150\n",
      "36/36 [==============================] - 4s 122ms/step - loss: 0.7060 - accuracy: 0.7227 - val_loss: 1.0931 - val_accuracy: 0.5908\n",
      "Epoch 132/150\n",
      "36/36 [==============================] - 4s 121ms/step - loss: 0.7236 - accuracy: 0.7193 - val_loss: 1.0714 - val_accuracy: 0.6118\n",
      "Epoch 133/150\n",
      "36/36 [==============================] - 4s 123ms/step - loss: 0.6888 - accuracy: 0.7336 - val_loss: 1.0806 - val_accuracy: 0.6098\n",
      "Epoch 134/150\n",
      "36/36 [==============================] - 4s 121ms/step - loss: 0.7179 - accuracy: 0.7258 - val_loss: 1.0869 - val_accuracy: 0.6128\n",
      "Epoch 135/150\n",
      "36/36 [==============================] - 4s 121ms/step - loss: 0.6926 - accuracy: 0.7318 - val_loss: 1.0685 - val_accuracy: 0.6148\n",
      "Epoch 136/150\n",
      "36/36 [==============================] - 4s 122ms/step - loss: 0.6858 - accuracy: 0.7305 - val_loss: 1.0743 - val_accuracy: 0.6088\n",
      "Epoch 137/150\n",
      "36/36 [==============================] - 4s 122ms/step - loss: 0.7026 - accuracy: 0.7261 - val_loss: 1.0711 - val_accuracy: 0.6098\n",
      "Epoch 138/150\n",
      "36/36 [==============================] - 4s 124ms/step - loss: 0.6885 - accuracy: 0.7302 - val_loss: 1.0637 - val_accuracy: 0.6229\n",
      "Epoch 139/150\n",
      "36/36 [==============================] - 4s 122ms/step - loss: 0.6826 - accuracy: 0.7373 - val_loss: 1.0808 - val_accuracy: 0.6028\n",
      "Epoch 140/150\n",
      "36/36 [==============================] - 4s 122ms/step - loss: 0.7003 - accuracy: 0.7275 - val_loss: 1.0880 - val_accuracy: 0.6118\n",
      "Epoch 141/150\n",
      "36/36 [==============================] - 4s 121ms/step - loss: 0.6968 - accuracy: 0.7329 - val_loss: 1.0691 - val_accuracy: 0.5988\n",
      "Epoch 142/150\n",
      "36/36 [==============================] - 4s 122ms/step - loss: 0.6861 - accuracy: 0.7332 - val_loss: 1.0681 - val_accuracy: 0.6118\n",
      "Epoch 143/150\n",
      "36/36 [==============================] - 4s 122ms/step - loss: 0.6793 - accuracy: 0.7382 - val_loss: 1.0866 - val_accuracy: 0.5928\n",
      "Epoch 144/150\n",
      "36/36 [==============================] - 4s 121ms/step - loss: 0.6775 - accuracy: 0.7356 - val_loss: 1.0626 - val_accuracy: 0.6018\n",
      "Epoch 145/150\n",
      "36/36 [==============================] - 4s 125ms/step - loss: 0.6954 - accuracy: 0.7309 - val_loss: 1.0859 - val_accuracy: 0.6158\n",
      "Epoch 146/150\n",
      "36/36 [==============================] - 4s 121ms/step - loss: 0.7110 - accuracy: 0.7204 - val_loss: 1.1272 - val_accuracy: 0.6028\n",
      "Epoch 147/150\n",
      "36/36 [==============================] - 4s 122ms/step - loss: 0.6880 - accuracy: 0.7310 - val_loss: 1.0677 - val_accuracy: 0.6148\n",
      "Epoch 148/150\n",
      "36/36 [==============================] - 4s 122ms/step - loss: 0.6860 - accuracy: 0.7303 - val_loss: 1.1079 - val_accuracy: 0.6199\n",
      "Epoch 149/150\n",
      "36/36 [==============================] - 4s 122ms/step - loss: 0.6824 - accuracy: 0.7285 - val_loss: 1.0769 - val_accuracy: 0.6108\n",
      "Epoch 150/150\n",
      "36/36 [==============================] - 4s 121ms/step - loss: 0.6819 - accuracy: 0.7342 - val_loss: 1.0837 - val_accuracy: 0.6138\n"
     ]
    }
   ],
   "source": [
    "# history 2\n",
    "history2 = model2.fit(X_train, y_train, batch_size=256, epochs=150, validation_data=(X_valid, y_valid))"
   ]
  },
  {
   "cell_type": "markdown",
   "metadata": {},
   "source": [
    "## Evaluate Model 1 & 2"
   ]
  },
  {
   "cell_type": "code",
   "execution_count": 102,
   "metadata": {},
   "outputs": [
    {
     "name": "stdout",
     "output_type": "stream",
     "text": [
      "('Failed to import pydot. You must `pip install pydot` and install graphviz (https://graphviz.gitlab.io/download/), ', 'for `pydotprint` to work.')\n"
     ]
    }
   ],
   "source": [
    "tf.keras.utils.plot_model(model, to_file='model.png', show_shapes=True, show_layer_names=False)"
   ]
  },
  {
   "cell_type": "code",
   "execution_count": 47,
   "metadata": {},
   "outputs": [],
   "source": [
    "import matplotlib.pyplot as plt"
   ]
  },
  {
   "cell_type": "code",
   "execution_count": 104,
   "metadata": {},
   "outputs": [
    {
     "data": {
      "image/png": "[encoded data removed]",
      "text/plain": [
       "<Figure size 576x360 with 1 Axes>"
      ]
     },
     "metadata": {
      "needs_background": "light"
     },
     "output_type": "display_data"
    }
   ],
   "source": [
    "# Model 1\n",
    "\n",
    "pd.DataFrame(history.history).plot(figsize=(8, 5))\n",
    "plt.grid(True)\n",
    "plt.gca().set_ylim(0, 1)\n",
    "plt.show()"
   ]
  },
  {
   "cell_type": "code",
   "execution_count": 288,
   "metadata": {},
   "outputs": [
    {
     "data": {
      "image/png": "[encoded data removed]",
      "text/plain": [
       "<Figure size 576x360 with 1 Axes>"
      ]
     },
     "metadata": {
      "needs_background": "light"
     },
     "output_type": "display_data"
    }
   ],
   "source": [
    "# Model 2: overfit\n",
    "\n",
    "pd.DataFrame(history2.history).plot(figsize=(8, 5))\n",
    "plt.grid(True)\n",
    "plt.gca().set_ylim(0, 1)\n",
    "plt.show()"
   ]
  },
  {
   "cell_type": "code",
   "execution_count": 266,
   "metadata": {},
   "outputs": [
    {
     "data": {
      "image/png": "[encoded data removed]",
      "text/plain": [
       "<Figure size 576x360 with 1 Axes>"
      ]
     },
     "metadata": {
      "needs_background": "light"
     },
     "output_type": "display_data"
    }
   ],
   "source": [
    "# Model 2: overfit\n",
    "\n",
    "pd.DataFrame(history2.history).plot(figsize=(8, 5))\n",
    "plt.grid(True)\n",
    "plt.gca().set_ylim(0, 1)\n",
    "plt.show()"
   ]
  },
  {
   "cell_type": "code",
   "execution_count": 255,
   "metadata": {},
   "outputs": [
    {
     "data": {
      "image/png": "[encoded data removed]",
      "text/plain": [
       "<Figure size 576x360 with 1 Axes>"
      ]
     },
     "metadata": {
      "needs_background": "light"
     },
     "output_type": "display_data"
    }
   ],
   "source": [
    "# Model 2: overfit\n",
    "\n",
    "pd.DataFrame(history2.history).plot(figsize=(8, 5))\n",
    "plt.grid(True)\n",
    "plt.gca().set_ylim(0, 1)\n",
    "plt.show()"
   ]
  },
  {
   "cell_type": "code",
   "execution_count": 208,
   "metadata": {},
   "outputs": [
    {
     "name": "stdout",
     "output_type": "stream",
     "text": [
      "35/35 [==============================] - 1s 26ms/step - loss: 1.1945 - accuracy: 0.6534\n"
     ]
    },
    {
     "data": {
      "text/plain": [
       "[1.1945046186447144, 0.6534296274185181]"
      ]
     },
     "execution_count": 208,
     "metadata": {},
     "output_type": "execute_result"
    }
   ],
   "source": [
    "model2.evaluate(X_test, y_test)"
   ]
  },
  {
   "cell_type": "code",
   "execution_count": null,
   "metadata": {
    "scrolled": true
   },
   "outputs": [],
   "source": [
    "from sklearn.metrics import classification_report, confusion_matrix\n",
    "y_pred = model2.predict(X_test)\n",
    "\n",
    "cm = confusion_matrix(y_test.argmax(axis=1), np.argmax(y_pred, axis=1))\n",
    "\n",
    "fig, ax = plt.subplots(figsize=(8, 8))\n",
    "ax.imshow(cm)\n",
    "ax.grid(False)\n",
    "ax.xaxis.set(ticks=(0, 1), ticklabels=class_name)\n",
    "ax.yaxis.set(ticks=(0, 1), ticklabels=class_name)\n",
    "ax.set_ylim(1.5, -0.5)\n",
    "for i in range(2):\n",
    "    for j in range(2):\n",
    "        ax.text(j, i, cm[i, j], ha='center', va='center', color='white')\n",
    "plt.xlabel('Predicted')\n",
    "plt.ylabel('Actual')\n",
    "plt.show()"
   ]
  },
  {
   "cell_type": "code",
   "execution_count": 156,
   "metadata": {},
   "outputs": [
    {
     "data": {
      "text/plain": [
       "997"
      ]
     },
     "execution_count": 156,
     "metadata": {},
     "output_type": "execute_result"
    }
   ],
   "source": [
    "cm.sum()"
   ]
  },
  {
   "cell_type": "markdown",
   "metadata": {},
   "source": [
    "## Temp"
   ]
  },
  {
   "cell_type": "code",
   "execution_count": 106,
   "metadata": {},
   "outputs": [
    {
     "data": {
      "text/plain": [
       "doc_title           object\n",
       "doc_description     object\n",
       "Job Family          object\n",
       "Job Function        object\n",
       "title_desc          object\n",
       "clean_title_desc    object\n",
       "word_count           int64\n",
       "dtype: object"
      ]
     },
     "execution_count": 106,
     "metadata": {},
     "output_type": "execute_result"
    }
   ],
   "source": [
    "df.dtypes"
   ]
  },
  {
   "cell_type": "code",
   "execution_count": 159,
   "metadata": {},
   "outputs": [
    {
     "data": {
      "text/plain": [
       "12000"
      ]
     },
     "execution_count": 159,
     "metadata": {},
     "output_type": "execute_result"
    }
   ],
   "source": [
    "MAX_FEATURES"
   ]
  },
  {
   "cell_type": "code",
   "execution_count": 265,
   "metadata": {},
   "outputs": [
    {
     "data": {
      "text/plain": [
       "array(['BUSINESS ENABLER/ENTERPRISE MGT',\n",
       "       'BUSINESS ENABLER/ENTERPRISE MGT', 'STRATEGIC PLAN & DEVELOPMENT',\n",
       "       ..., 'BUSINESS ENABLER/ENTERPRISE MGT', 'DIGITAL & ICT',\n",
       "       'DIGITAL & ICT'], dtype=object)"
      ]
     },
     "execution_count": 265,
     "metadata": {},
     "output_type": "execute_result"
    }
   ],
   "source": [
    "y"
   ]
  },
  {
   "cell_type": "markdown",
   "metadata": {},
   "source": [
    "# Summary"
   ]
  },
  {
   "cell_type": "markdown",
   "metadata": {},
   "source": [
    "Model LSTM diperoleh akurasi sebesar xxx namun tingkat loss pada model masih sangat tinggi dan model tergolong overfit karena validation loss jauh lebih tinggi dari training loss, hal ini bisa disebabkan oleh \n",
    "1. Dataset yang kecil (11072 data untuk 4 class) \n",
    "2. Data label yang tidak seimbang. Data label dapat disampling, namun dataset menjadi lebih kecil\n",
    "3. Data deskripsi yang tidak relevan"
   ]
  },
  {
   "cell_type": "code",
   "execution_count": null,
   "metadata": {},
   "outputs": [],
   "source": []
  }
 ],
 "metadata": {
  "kernelspec": {
   "display_name": "Python 3",
   "language": "python",
   "name": "python3"
  },
  "language_info": {
   "codemirror_mode": {
    "name": "ipython",
    "version": 3
   },
   "file_extension": ".py",
   "mimetype": "text/x-python",
   "name": "python",
   "nbconvert_exporter": "python",
   "pygments_lexer": "ipython3",
   "version": "3.8.7"
  }
 },
 "nbformat": 4,
 "nbformat_minor": 4
}
