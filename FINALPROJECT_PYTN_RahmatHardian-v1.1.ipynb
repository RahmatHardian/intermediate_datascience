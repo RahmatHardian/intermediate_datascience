{
 "cells": [
  {
   "cell_type": "markdown",
   "metadata": {},
   "source": [
    "<img src = \"https://global-uploads.webflow.com/5f0d53c042a9ed6288de7f8d/5f6337ae2cfaa10946ceeb06_Hacktiv8%20logo%20horizontal%2001%20black-p-500.png\" width = 400 >\n",
    "<h1 align=center><font size = 5>Hacktiv8 Intermediate Python for Data Science</font></h1>"
   ]
  },
  {
   "cell_type": "markdown",
   "metadata": {},
   "source": [
    "<h1 align=center><font size = 5>Final Project</font></h1>"
   ]
  },
  {
   "cell_type": "markdown",
   "metadata": {},
   "source": [
    "klasifikasi Job Family berdasarkan data deskripsi dan judul course di Telkom CorpU. Data yang digunakan adalah 11072 data course yang telah memiliki label Job Family, yang terdiri dari 5 kelas."
   ]
  },
  {
   "cell_type": "markdown",
   "metadata": {},
   "source": [
    "# Import Data & Library"
   ]
  },
  {
   "cell_type": "code",
   "execution_count": 1,
   "metadata": {},
   "outputs": [],
   "source": [
    "from tensorflow.python.keras import models, layers, optimizers\n",
    "import tensorflow as tf\n",
    "from tensorflow.keras.preprocessing.text import Tokenizer, text_to_word_sequence\n",
    "import pandas as pd\n",
    "import numpy as np"
   ]
  },
  {
   "cell_type": "code",
   "execution_count": 3,
   "metadata": {},
   "outputs": [
    {
     "data": {
      "text/html": [
       "<div>\n",
       "<style scoped>\n",
       "    .dataframe tbody tr th:only-of-type {\n",
       "        vertical-align: middle;\n",
       "    }\n",
       "\n",
       "    .dataframe tbody tr th {\n",
       "        vertical-align: top;\n",
       "    }\n",
       "\n",
       "    .dataframe thead th {\n",
       "        text-align: right;\n",
       "    }\n",
       "</style>\n",
       "<table border=\"1\" class=\"dataframe\">\n",
       "  <thead>\n",
       "    <tr style=\"text-align: right;\">\n",
       "      <th></th>\n",
       "      <th>source</th>\n",
       "      <th>org_id</th>\n",
       "      <th>doc_id</th>\n",
       "      <th>doc_title</th>\n",
       "      <th>doc_description</th>\n",
       "      <th>Job Family</th>\n",
       "      <th>Job Function</th>\n",
       "      <th>job_role</th>\n",
       "      <th>job_role_clean</th>\n",
       "    </tr>\n",
       "  </thead>\n",
       "  <tbody>\n",
       "    <tr>\n",
       "      <th>0</th>\n",
       "      <td>Kampiun</td>\n",
       "      <td>NaN</td>\n",
       "      <td>27243</td>\n",
       "      <td>Case Study 1 tahun Magang di Kementerian BUMN</td>\n",
       "      <td>NaN</td>\n",
       "      <td>BUSINESS ENABLER/ENTERPRISE MGT</td>\n",
       "      <td>Human Capital</td>\n",
       "      <td>5.2.3 Learning &amp;amp; Development</td>\n",
       "      <td>Learning &amp; Development</td>\n",
       "    </tr>\n",
       "    <tr>\n",
       "      <th>1</th>\n",
       "      <td>Kampiun</td>\n",
       "      <td>NaN</td>\n",
       "      <td>29134</td>\n",
       "      <td>Case Study 1 tahun Magang di Kementerian BUMN</td>\n",
       "      <td>NaN</td>\n",
       "      <td>BUSINESS ENABLER/ENTERPRISE MGT</td>\n",
       "      <td>Human Capital</td>\n",
       "      <td>5.2.3 Learning &amp;amp; Development</td>\n",
       "      <td>Learning &amp; Development</td>\n",
       "    </tr>\n",
       "    <tr>\n",
       "      <th>2</th>\n",
       "      <td>Kampiun</td>\n",
       "      <td>NaN</td>\n",
       "      <td>28690</td>\n",
       "      <td>ILC : Securing Revenue Witel Riau Daratan 2017</td>\n",
       "      <td>NaN</td>\n",
       "      <td>STRATEGIC PLAN &amp; DEVELOPMENT</td>\n",
       "      <td>Strategic Planning</td>\n",
       "      <td>2.1.1 Internal &amp;amp; External Analysis</td>\n",
       "      <td>Internal &amp; External Analysis</td>\n",
       "    </tr>\n",
       "    <tr>\n",
       "      <th>3</th>\n",
       "      <td>Kampiun</td>\n",
       "      <td>NaN</td>\n",
       "      <td>33756</td>\n",
       "      <td>SIKAT HABIS FTTH UNSPEC DENGAN MINI OLT OUTDOOR</td>\n",
       "      <td>NaN</td>\n",
       "      <td>DIGITAL &amp; ICT</td>\n",
       "      <td>Telecommunication</td>\n",
       "      <td>1.1.6 Access Network O&amp;amp;M</td>\n",
       "      <td>Access Network Operation &amp; Maintenance</td>\n",
       "    </tr>\n",
       "    <tr>\n",
       "      <th>4</th>\n",
       "      <td>Kampiun</td>\n",
       "      <td>NaN</td>\n",
       "      <td>38567</td>\n",
       "      <td>PROSES PENGAJUAN CAPEX FTTH INDIHOME DI WITEL NTB</td>\n",
       "      <td>NaN</td>\n",
       "      <td>DIGITAL &amp; ICT</td>\n",
       "      <td>Telecommunication</td>\n",
       "      <td>1.1.2 Access Network Design &amp;amp; Planning</td>\n",
       "      <td>Access Network Design &amp; Planning</td>\n",
       "    </tr>\n",
       "  </tbody>\n",
       "</table>\n",
       "</div>"
      ],
      "text/plain": [
       "    source  org_id  doc_id                                          doc_title  \\\n",
       "0  Kampiun     NaN   27243      Case Study 1 tahun Magang di Kementerian BUMN   \n",
       "1  Kampiun     NaN   29134      Case Study 1 tahun Magang di Kementerian BUMN   \n",
       "2  Kampiun     NaN   28690     ILC : Securing Revenue Witel Riau Daratan 2017   \n",
       "3  Kampiun     NaN   33756    SIKAT HABIS FTTH UNSPEC DENGAN MINI OLT OUTDOOR   \n",
       "4  Kampiun     NaN   38567  PROSES PENGAJUAN CAPEX FTTH INDIHOME DI WITEL NTB   \n",
       "\n",
       "  doc_description                       Job Family        Job Function  \\\n",
       "0             NaN  BUSINESS ENABLER/ENTERPRISE MGT       Human Capital   \n",
       "1             NaN  BUSINESS ENABLER/ENTERPRISE MGT       Human Capital   \n",
       "2             NaN     STRATEGIC PLAN & DEVELOPMENT  Strategic Planning   \n",
       "3             NaN                    DIGITAL & ICT   Telecommunication   \n",
       "4             NaN                    DIGITAL & ICT   Telecommunication   \n",
       "\n",
       "                                     job_role  \\\n",
       "0            5.2.3 Learning &amp; Development   \n",
       "1            5.2.3 Learning &amp; Development   \n",
       "2      2.1.1 Internal &amp; External Analysis   \n",
       "3                1.1.6 Access Network O&amp;M   \n",
       "4  1.1.2 Access Network Design &amp; Planning   \n",
       "\n",
       "                           job_role_clean  \n",
       "0                  Learning & Development  \n",
       "1                  Learning & Development  \n",
       "2            Internal & External Analysis  \n",
       "3  Access Network Operation & Maintenance  \n",
       "4        Access Network Design & Planning  "
      ]
     },
     "execution_count": 3,
     "metadata": {},
     "output_type": "execute_result"
    }
   ],
   "source": [
    "df = pd.read_csv(\"dataset/20210122-Kampiun Digilib Clean-jfam-jfunc.csv\",encoding='latin-1')\n",
    "df.head(5)"
   ]
  },
  {
   "cell_type": "markdown",
   "metadata": {},
   "source": [
    "# Preprocessing & EDA"
   ]
  },
  {
   "cell_type": "code",
   "execution_count": 6,
   "metadata": {},
   "outputs": [],
   "source": [
    "df['title_desc'] = df['doc_title'].fillna('')+\" \"+df['doc_description'].fillna('')"
   ]
  },
  {
   "cell_type": "code",
   "execution_count": 7,
   "metadata": {},
   "outputs": [
    {
     "data": {
      "text/html": [
       "<div>\n",
       "<style scoped>\n",
       "    .dataframe tbody tr th:only-of-type {\n",
       "        vertical-align: middle;\n",
       "    }\n",
       "\n",
       "    .dataframe tbody tr th {\n",
       "        vertical-align: top;\n",
       "    }\n",
       "\n",
       "    .dataframe thead th {\n",
       "        text-align: right;\n",
       "    }\n",
       "</style>\n",
       "<table border=\"1\" class=\"dataframe\">\n",
       "  <thead>\n",
       "    <tr style=\"text-align: right;\">\n",
       "      <th></th>\n",
       "      <th>doc_title</th>\n",
       "      <th>doc_description</th>\n",
       "      <th>Job Family</th>\n",
       "      <th>Job Function</th>\n",
       "      <th>title_desc</th>\n",
       "    </tr>\n",
       "  </thead>\n",
       "  <tbody>\n",
       "    <tr>\n",
       "      <th>0</th>\n",
       "      <td>Case Study 1 tahun Magang di Kementerian BUMN</td>\n",
       "      <td>NaN</td>\n",
       "      <td>BUSINESS ENABLER/ENTERPRISE MGT</td>\n",
       "      <td>Human Capital</td>\n",
       "      <td>Case Study 1 tahun Magang di Kementerian BUMN</td>\n",
       "    </tr>\n",
       "    <tr>\n",
       "      <th>1</th>\n",
       "      <td>Case Study 1 tahun Magang di Kementerian BUMN</td>\n",
       "      <td>NaN</td>\n",
       "      <td>BUSINESS ENABLER/ENTERPRISE MGT</td>\n",
       "      <td>Human Capital</td>\n",
       "      <td>Case Study 1 tahun Magang di Kementerian BUMN</td>\n",
       "    </tr>\n",
       "    <tr>\n",
       "      <th>2</th>\n",
       "      <td>ILC : Securing Revenue Witel Riau Daratan 2017</td>\n",
       "      <td>NaN</td>\n",
       "      <td>STRATEGIC PLAN &amp; DEVELOPMENT</td>\n",
       "      <td>Strategic Planning</td>\n",
       "      <td>ILC : Securing Revenue Witel Riau Daratan 2017</td>\n",
       "    </tr>\n",
       "    <tr>\n",
       "      <th>3</th>\n",
       "      <td>SIKAT HABIS FTTH UNSPEC DENGAN MINI OLT OUTDOOR</td>\n",
       "      <td>NaN</td>\n",
       "      <td>DIGITAL &amp; ICT</td>\n",
       "      <td>Telecommunication</td>\n",
       "      <td>SIKAT HABIS FTTH UNSPEC DENGAN MINI OLT OUTDOOR</td>\n",
       "    </tr>\n",
       "    <tr>\n",
       "      <th>4</th>\n",
       "      <td>PROSES PENGAJUAN CAPEX FTTH INDIHOME DI WITEL NTB</td>\n",
       "      <td>NaN</td>\n",
       "      <td>DIGITAL &amp; ICT</td>\n",
       "      <td>Telecommunication</td>\n",
       "      <td>PROSES PENGAJUAN CAPEX FTTH INDIHOME DI WITEL ...</td>\n",
       "    </tr>\n",
       "    <tr>\n",
       "      <th>...</th>\n",
       "      <td>...</td>\n",
       "      <td>...</td>\n",
       "      <td>...</td>\n",
       "      <td>...</td>\n",
       "      <td>...</td>\n",
       "    </tr>\n",
       "    <tr>\n",
       "      <th>11296</th>\n",
       "      <td>PENTINGNYA LOYALITAS PELANGGAN</td>\n",
       "      <td>Ditengah-tengah persaingan berbagai bisnis/ind...</td>\n",
       "      <td>COMMERCE &amp; RELATION</td>\n",
       "      <td>Sales</td>\n",
       "      <td>PENTINGNYA LOYALITAS PELANGGAN Ditengah-tengah...</td>\n",
       "    </tr>\n",
       "    <tr>\n",
       "      <th>11297</th>\n",
       "      <td>Uji Terima Online dalam Proyek Digitalisasi SP...</td>\n",
       "      <td>1. Latar Belakang           \\n                ...</td>\n",
       "      <td>DIGITAL &amp; ICT</td>\n",
       "      <td>Information Technology</td>\n",
       "      <td>Uji Terima Online dalam Proyek Digitalisasi SP...</td>\n",
       "    </tr>\n",
       "    <tr>\n",
       "      <th>11298</th>\n",
       "      <td>REKON TAGIHAN PSB  TA TO TELKOM  WITEL PURWOKERTO</td>\n",
       "      <td>CARA REKON TAGIHAN PSB  TA KE TELKOM \\n \\n1. A...</td>\n",
       "      <td>BUSINESS ENABLER/ENTERPRISE MGT</td>\n",
       "      <td>Education</td>\n",
       "      <td>REKON TAGIHAN PSB  TA TO TELKOM  WITEL PURWOKE...</td>\n",
       "    </tr>\n",
       "    <tr>\n",
       "      <th>11299</th>\n",
       "      <td>TDSCC  (Telkom DIGITAL SOLUTION CARE CENTER) G...</td>\n",
       "      <td>#NAME?</td>\n",
       "      <td>DIGITAL &amp; ICT</td>\n",
       "      <td>Information Technology</td>\n",
       "      <td>TDSCC  (Telkom DIGITAL SOLUTION CARE CENTER) G...</td>\n",
       "    </tr>\n",
       "    <tr>\n",
       "      <th>11300</th>\n",
       "      <td>Blockchain adoption in order  to Implement Bio...</td>\n",
       "      <td>#NAME?</td>\n",
       "      <td>DIGITAL &amp; ICT</td>\n",
       "      <td>DIGITAL PRODUCT &amp; SERVICE</td>\n",
       "      <td>Blockchain adoption in order  to Implement Bio...</td>\n",
       "    </tr>\n",
       "  </tbody>\n",
       "</table>\n",
       "<p>11301 rows × 5 columns</p>\n",
       "</div>"
      ],
      "text/plain": [
       "                                               doc_title  \\\n",
       "0          Case Study 1 tahun Magang di Kementerian BUMN   \n",
       "1          Case Study 1 tahun Magang di Kementerian BUMN   \n",
       "2         ILC : Securing Revenue Witel Riau Daratan 2017   \n",
       "3        SIKAT HABIS FTTH UNSPEC DENGAN MINI OLT OUTDOOR   \n",
       "4      PROSES PENGAJUAN CAPEX FTTH INDIHOME DI WITEL NTB   \n",
       "...                                                  ...   \n",
       "11296                     PENTINGNYA LOYALITAS PELANGGAN   \n",
       "11297  Uji Terima Online dalam Proyek Digitalisasi SP...   \n",
       "11298  REKON TAGIHAN PSB  TA TO TELKOM  WITEL PURWOKERTO   \n",
       "11299  TDSCC  (Telkom DIGITAL SOLUTION CARE CENTER) G...   \n",
       "11300  Blockchain adoption in order  to Implement Bio...   \n",
       "\n",
       "                                         doc_description  \\\n",
       "0                                                    NaN   \n",
       "1                                                    NaN   \n",
       "2                                                    NaN   \n",
       "3                                                    NaN   \n",
       "4                                                    NaN   \n",
       "...                                                  ...   \n",
       "11296  Ditengah-tengah persaingan berbagai bisnis/ind...   \n",
       "11297  1. Latar Belakang           \\n                ...   \n",
       "11298  CARA REKON TAGIHAN PSB  TA KE TELKOM \\n \\n1. A...   \n",
       "11299                                             #NAME?   \n",
       "11300                                             #NAME?   \n",
       "\n",
       "                            Job Family               Job Function  \\\n",
       "0      BUSINESS ENABLER/ENTERPRISE MGT              Human Capital   \n",
       "1      BUSINESS ENABLER/ENTERPRISE MGT              Human Capital   \n",
       "2         STRATEGIC PLAN & DEVELOPMENT         Strategic Planning   \n",
       "3                        DIGITAL & ICT          Telecommunication   \n",
       "4                        DIGITAL & ICT          Telecommunication   \n",
       "...                                ...                        ...   \n",
       "11296              COMMERCE & RELATION                      Sales   \n",
       "11297                    DIGITAL & ICT     Information Technology   \n",
       "11298  BUSINESS ENABLER/ENTERPRISE MGT                  Education   \n",
       "11299                    DIGITAL & ICT     Information Technology   \n",
       "11300                    DIGITAL & ICT  DIGITAL PRODUCT & SERVICE   \n",
       "\n",
       "                                              title_desc  \n",
       "0         Case Study 1 tahun Magang di Kementerian BUMN   \n",
       "1         Case Study 1 tahun Magang di Kementerian BUMN   \n",
       "2        ILC : Securing Revenue Witel Riau Daratan 2017   \n",
       "3       SIKAT HABIS FTTH UNSPEC DENGAN MINI OLT OUTDOOR   \n",
       "4      PROSES PENGAJUAN CAPEX FTTH INDIHOME DI WITEL ...  \n",
       "...                                                  ...  \n",
       "11296  PENTINGNYA LOYALITAS PELANGGAN Ditengah-tengah...  \n",
       "11297  Uji Terima Online dalam Proyek Digitalisasi SP...  \n",
       "11298  REKON TAGIHAN PSB  TA TO TELKOM  WITEL PURWOKE...  \n",
       "11299  TDSCC  (Telkom DIGITAL SOLUTION CARE CENTER) G...  \n",
       "11300  Blockchain adoption in order  to Implement Bio...  \n",
       "\n",
       "[11301 rows x 5 columns]"
      ]
     },
     "execution_count": 7,
     "metadata": {},
     "output_type": "execute_result"
    }
   ],
   "source": [
    "df.drop([\n",
    "    'source', 'org_id', 'doc_id', 'job_role','job_role_clean'\n",
    "], axis=1, inplace=True)\n",
    "df"
   ]
  },
  {
   "cell_type": "code",
   "execution_count": 8,
   "metadata": {},
   "outputs": [],
   "source": [
    "import re\n",
    "def preprocess(text):\n",
    "    \n",
    "    text = str(text).lower()\n",
    "    text = re.sub(r'^<div id=\"video.*>&nbsp;', '', text) # Video-review part\n",
    "    text = re.sub('https?://[A-Za-z0-9./]+', '', text) # URLs\n",
    "    \n",
    "    # Remove HTML Tag\n",
    "    text = re.sub('<.*?>', '', text)    \n",
    "    \n",
    "    # Remove everything in bracket    \n",
    "    text = re.sub('\\[[^)]*\\]', '', text)    \n",
    "    \n",
    "    text = re.sub('[/]+', ' ', text) # word1/word2 to word1 word2\n",
    "    # Remove non-alphanumeric characters (but not - and _, might be useful for tokenization)\n",
    "    text = re.sub('[^A-Za-z0-9-_ ]+', '', text)\n",
    "\n",
    "    # Remove words that are digits only\n",
    "    text = re.sub('\\b\\d+\\b', '', text)                \n",
    "    \n",
    "    return text"
   ]
  },
  {
   "cell_type": "code",
   "execution_count": 9,
   "metadata": {},
   "outputs": [],
   "source": [
    "df['title_desc'] = df['title_desc'].apply(preprocess)"
   ]
  },
  {
   "cell_type": "code",
   "execution_count": 10,
   "metadata": {},
   "outputs": [
    {
     "data": {
      "text/html": [
       "<div>\n",
       "<style scoped>\n",
       "    .dataframe tbody tr th:only-of-type {\n",
       "        vertical-align: middle;\n",
       "    }\n",
       "\n",
       "    .dataframe tbody tr th {\n",
       "        vertical-align: top;\n",
       "    }\n",
       "\n",
       "    .dataframe thead th {\n",
       "        text-align: right;\n",
       "    }\n",
       "</style>\n",
       "<table border=\"1\" class=\"dataframe\">\n",
       "  <thead>\n",
       "    <tr style=\"text-align: right;\">\n",
       "      <th></th>\n",
       "      <th>doc_title</th>\n",
       "      <th>doc_description</th>\n",
       "      <th>Job Family</th>\n",
       "      <th>Job Function</th>\n",
       "      <th>title_desc</th>\n",
       "    </tr>\n",
       "  </thead>\n",
       "  <tbody>\n",
       "    <tr>\n",
       "      <th>0</th>\n",
       "      <td>Case Study 1 tahun Magang di Kementerian BUMN</td>\n",
       "      <td>NaN</td>\n",
       "      <td>BUSINESS ENABLER/ENTERPRISE MGT</td>\n",
       "      <td>Human Capital</td>\n",
       "      <td>case study 1 tahun magang di kementerian bumn</td>\n",
       "    </tr>\n",
       "    <tr>\n",
       "      <th>1</th>\n",
       "      <td>Case Study 1 tahun Magang di Kementerian BUMN</td>\n",
       "      <td>NaN</td>\n",
       "      <td>BUSINESS ENABLER/ENTERPRISE MGT</td>\n",
       "      <td>Human Capital</td>\n",
       "      <td>case study 1 tahun magang di kementerian bumn</td>\n",
       "    </tr>\n",
       "    <tr>\n",
       "      <th>2</th>\n",
       "      <td>ILC : Securing Revenue Witel Riau Daratan 2017</td>\n",
       "      <td>NaN</td>\n",
       "      <td>STRATEGIC PLAN &amp; DEVELOPMENT</td>\n",
       "      <td>Strategic Planning</td>\n",
       "      <td>ilc  securing revenue witel riau daratan 2017</td>\n",
       "    </tr>\n",
       "    <tr>\n",
       "      <th>3</th>\n",
       "      <td>SIKAT HABIS FTTH UNSPEC DENGAN MINI OLT OUTDOOR</td>\n",
       "      <td>NaN</td>\n",
       "      <td>DIGITAL &amp; ICT</td>\n",
       "      <td>Telecommunication</td>\n",
       "      <td>sikat habis ftth unspec dengan mini olt outdoor</td>\n",
       "    </tr>\n",
       "    <tr>\n",
       "      <th>4</th>\n",
       "      <td>PROSES PENGAJUAN CAPEX FTTH INDIHOME DI WITEL NTB</td>\n",
       "      <td>NaN</td>\n",
       "      <td>DIGITAL &amp; ICT</td>\n",
       "      <td>Telecommunication</td>\n",
       "      <td>proses pengajuan capex ftth indihome di witel ...</td>\n",
       "    </tr>\n",
       "  </tbody>\n",
       "</table>\n",
       "</div>"
      ],
      "text/plain": [
       "                                           doc_title doc_description  \\\n",
       "0      Case Study 1 tahun Magang di Kementerian BUMN             NaN   \n",
       "1      Case Study 1 tahun Magang di Kementerian BUMN             NaN   \n",
       "2     ILC : Securing Revenue Witel Riau Daratan 2017             NaN   \n",
       "3    SIKAT HABIS FTTH UNSPEC DENGAN MINI OLT OUTDOOR             NaN   \n",
       "4  PROSES PENGAJUAN CAPEX FTTH INDIHOME DI WITEL NTB             NaN   \n",
       "\n",
       "                        Job Family        Job Function  \\\n",
       "0  BUSINESS ENABLER/ENTERPRISE MGT       Human Capital   \n",
       "1  BUSINESS ENABLER/ENTERPRISE MGT       Human Capital   \n",
       "2     STRATEGIC PLAN & DEVELOPMENT  Strategic Planning   \n",
       "3                    DIGITAL & ICT   Telecommunication   \n",
       "4                    DIGITAL & ICT   Telecommunication   \n",
       "\n",
       "                                          title_desc  \n",
       "0     case study 1 tahun magang di kementerian bumn   \n",
       "1     case study 1 tahun magang di kementerian bumn   \n",
       "2     ilc  securing revenue witel riau daratan 2017   \n",
       "3   sikat habis ftth unspec dengan mini olt outdoor   \n",
       "4  proses pengajuan capex ftth indihome di witel ...  "
      ]
     },
     "execution_count": 10,
     "metadata": {},
     "output_type": "execute_result"
    }
   ],
   "source": [
    "df.head(5)"
   ]
  },
  {
   "cell_type": "markdown",
   "metadata": {},
   "source": [
    "## Stopwords"
   ]
  },
  {
   "cell_type": "code",
   "execution_count": 24,
   "metadata": {},
   "outputs": [
    {
     "data": {
      "text/plain": [
       "'99.9911512 - 11300'"
      ]
     },
     "metadata": {},
     "output_type": "display_data"
    },
    {
     "name": "stdout",
     "output_type": "stream",
     "text": [
      "Duration: 1008.54s\n"
     ]
    }
   ],
   "source": [
    "from IPython.display import display, clear_output\n",
    "import time\n",
    "from nltk.corpus import stopwords\n",
    "from nltk.corpus import wordnet as wn\n",
    "from nltk.tokenize import word_tokenize\n",
    "\n",
    "len_df = len(df)\n",
    "start = 0\n",
    "# end   = 960205\n",
    "t1 = time.time()\n",
    "for entry in df['title_desc']:    \n",
    "    clear_output(wait=True)\n",
    "    res = [word for word in word_tokenize(entry) if not word in stopwords.words('english') and not word in stopwords.words('indonesian')]\n",
    "    res = (\" \").join(res)  \n",
    "    p = (start/len_df)*100\n",
    "    display(\"%.7f\" % p +\" - \"+str(start))\n",
    "    df.loc[start,'clean_title_desc'] = res\n",
    "    if start >= len_df:\n",
    "        break\n",
    "    start = start+1\n",
    "    \n",
    "t2 = time.time()\n",
    "print('Duration: {0:.2f}s'.format(round(t2-t1,2)))"
   ]
  },
  {
   "cell_type": "code",
   "execution_count": 25,
   "metadata": {},
   "outputs": [
    {
     "data": {
      "text/html": [
       "<div>\n",
       "<style scoped>\n",
       "    .dataframe tbody tr th:only-of-type {\n",
       "        vertical-align: middle;\n",
       "    }\n",
       "\n",
       "    .dataframe tbody tr th {\n",
       "        vertical-align: top;\n",
       "    }\n",
       "\n",
       "    .dataframe thead th {\n",
       "        text-align: right;\n",
       "    }\n",
       "</style>\n",
       "<table border=\"1\" class=\"dataframe\">\n",
       "  <thead>\n",
       "    <tr style=\"text-align: right;\">\n",
       "      <th></th>\n",
       "      <th>doc_title</th>\n",
       "      <th>doc_description</th>\n",
       "      <th>Job Family</th>\n",
       "      <th>Job Function</th>\n",
       "      <th>title_desc</th>\n",
       "      <th>clean_title_desc</th>\n",
       "    </tr>\n",
       "  </thead>\n",
       "  <tbody>\n",
       "    <tr>\n",
       "      <th>0</th>\n",
       "      <td>Case Study 1 tahun Magang di Kementerian BUMN</td>\n",
       "      <td>NaN</td>\n",
       "      <td>BUSINESS ENABLER/ENTERPRISE MGT</td>\n",
       "      <td>Human Capital</td>\n",
       "      <td>case study 1 tahun magang di kementerian bumn</td>\n",
       "      <td>case study 1 magang kementerian bumn</td>\n",
       "    </tr>\n",
       "    <tr>\n",
       "      <th>1</th>\n",
       "      <td>Case Study 1 tahun Magang di Kementerian BUMN</td>\n",
       "      <td>NaN</td>\n",
       "      <td>BUSINESS ENABLER/ENTERPRISE MGT</td>\n",
       "      <td>Human Capital</td>\n",
       "      <td>case study 1 tahun magang di kementerian bumn</td>\n",
       "      <td>case study 1 magang kementerian bumn</td>\n",
       "    </tr>\n",
       "    <tr>\n",
       "      <th>2</th>\n",
       "      <td>ILC : Securing Revenue Witel Riau Daratan 2017</td>\n",
       "      <td>NaN</td>\n",
       "      <td>STRATEGIC PLAN &amp; DEVELOPMENT</td>\n",
       "      <td>Strategic Planning</td>\n",
       "      <td>ilc  securing revenue witel riau daratan 2017</td>\n",
       "      <td>ilc securing revenue witel riau daratan 2017</td>\n",
       "    </tr>\n",
       "    <tr>\n",
       "      <th>3</th>\n",
       "      <td>SIKAT HABIS FTTH UNSPEC DENGAN MINI OLT OUTDOOR</td>\n",
       "      <td>NaN</td>\n",
       "      <td>DIGITAL &amp; ICT</td>\n",
       "      <td>Telecommunication</td>\n",
       "      <td>sikat habis ftth unspec dengan mini olt outdoor</td>\n",
       "      <td>sikat habis ftth unspec mini olt outdoor</td>\n",
       "    </tr>\n",
       "    <tr>\n",
       "      <th>4</th>\n",
       "      <td>PROSES PENGAJUAN CAPEX FTTH INDIHOME DI WITEL NTB</td>\n",
       "      <td>NaN</td>\n",
       "      <td>DIGITAL &amp; ICT</td>\n",
       "      <td>Telecommunication</td>\n",
       "      <td>proses pengajuan capex ftth indihome di witel ...</td>\n",
       "      <td>proses pengajuan capex ftth indihome witel ntb</td>\n",
       "    </tr>\n",
       "  </tbody>\n",
       "</table>\n",
       "</div>"
      ],
      "text/plain": [
       "                                           doc_title doc_description  \\\n",
       "0      Case Study 1 tahun Magang di Kementerian BUMN             NaN   \n",
       "1      Case Study 1 tahun Magang di Kementerian BUMN             NaN   \n",
       "2     ILC : Securing Revenue Witel Riau Daratan 2017             NaN   \n",
       "3    SIKAT HABIS FTTH UNSPEC DENGAN MINI OLT OUTDOOR             NaN   \n",
       "4  PROSES PENGAJUAN CAPEX FTTH INDIHOME DI WITEL NTB             NaN   \n",
       "\n",
       "                        Job Family        Job Function  \\\n",
       "0  BUSINESS ENABLER/ENTERPRISE MGT       Human Capital   \n",
       "1  BUSINESS ENABLER/ENTERPRISE MGT       Human Capital   \n",
       "2     STRATEGIC PLAN & DEVELOPMENT  Strategic Planning   \n",
       "3                    DIGITAL & ICT   Telecommunication   \n",
       "4                    DIGITAL & ICT   Telecommunication   \n",
       "\n",
       "                                          title_desc  \\\n",
       "0     case study 1 tahun magang di kementerian bumn    \n",
       "1     case study 1 tahun magang di kementerian bumn    \n",
       "2     ilc  securing revenue witel riau daratan 2017    \n",
       "3   sikat habis ftth unspec dengan mini olt outdoor    \n",
       "4  proses pengajuan capex ftth indihome di witel ...   \n",
       "\n",
       "                                 clean_title_desc  \n",
       "0            case study 1 magang kementerian bumn  \n",
       "1            case study 1 magang kementerian bumn  \n",
       "2    ilc securing revenue witel riau daratan 2017  \n",
       "3        sikat habis ftth unspec mini olt outdoor  \n",
       "4  proses pengajuan capex ftth indihome witel ntb  "
      ]
     },
     "execution_count": 25,
     "metadata": {},
     "output_type": "execute_result"
    }
   ],
   "source": [
    "df.head(5)"
   ]
  },
  {
   "cell_type": "markdown",
   "metadata": {},
   "source": [
    "## Save & Reload Preprocessed Data"
   ]
  },
  {
   "cell_type": "code",
   "execution_count": 27,
   "metadata": {},
   "outputs": [],
   "source": [
    "# Save preprocessed data to load further\n",
    "# df.to_csv('dataset/[PREPROCESSED]20210122-Kampiun Digilib Clean-jfam-jfunc.csv')"
   ]
  },
  {
   "cell_type": "code",
   "execution_count": 2,
   "metadata": {},
   "outputs": [],
   "source": [
    "# Reload Preprocess Data\n",
    "df = pd.read_csv('dataset/[PREPROCESSED]20210122-Kampiun Digilib Clean-jfam-jfunc.csv', index_col=0)"
   ]
  },
  {
   "cell_type": "code",
   "execution_count": 3,
   "metadata": {},
   "outputs": [
    {
     "data": {
      "text/plain": [
       "doc_title            18\n",
       "doc_description     241\n",
       "Job Family            0\n",
       "Job Function          0\n",
       "title_desc            0\n",
       "clean_title_desc      0\n",
       "dtype: int64"
      ]
     },
     "execution_count": 3,
     "metadata": {},
     "output_type": "execute_result"
    }
   ],
   "source": [
    "df.isna().sum()"
   ]
  },
  {
   "cell_type": "code",
   "execution_count": 4,
   "metadata": {},
   "outputs": [
    {
     "data": {
      "text/plain": [
       "DIGITAL & ICT                      3817\n",
       "COMMERCE & RELATION                2880\n",
       "BUSINESS ENABLER/ENTERPRISE MGT    2206\n",
       "STRATEGIC PLAN & DEVELOPMENT       2169\n",
       "RISK & COMPLIANCE                   229\n",
       "Name: Job Family, dtype: int64"
      ]
     },
     "execution_count": 4,
     "metadata": {},
     "output_type": "execute_result"
    }
   ],
   "source": [
    "df['Job Family'].value_counts()"
   ]
  },
  {
   "cell_type": "code",
   "execution_count": 5,
   "metadata": {},
   "outputs": [
    {
     "data": {
      "text/plain": [
       "<AxesSubplot:>"
      ]
     },
     "execution_count": 5,
     "metadata": {},
     "output_type": "execute_result"
    },
    {
     "data": {
      "image/png": "[encoded data removed]",
      "text/plain": [
       "<Figure size 432x288 with 1 Axes>"
      ]
     },
     "metadata": {
      "needs_background": "light"
     },
     "output_type": "display_data"
    }
   ],
   "source": [
    "df['Job Family'].value_counts().plot(\n",
    "                        kind='bar',\n",
    "                        alpha=0.5,                         \n",
    "                        color='c'\n",
    "                        )"
   ]
  },
  {
   "cell_type": "markdown",
   "metadata": {},
   "source": [
    "#### Drop Job Family Risk & Compliance because of data imbalance"
   ]
  },
  {
   "cell_type": "code",
   "execution_count": 6,
   "metadata": {},
   "outputs": [
    {
     "data": {
      "text/html": [
       "<div>\n",
       "<style scoped>\n",
       "    .dataframe tbody tr th:only-of-type {\n",
       "        vertical-align: middle;\n",
       "    }\n",
       "\n",
       "    .dataframe tbody tr th {\n",
       "        vertical-align: top;\n",
       "    }\n",
       "\n",
       "    .dataframe thead th {\n",
       "        text-align: right;\n",
       "    }\n",
       "</style>\n",
       "<table border=\"1\" class=\"dataframe\">\n",
       "  <thead>\n",
       "    <tr style=\"text-align: right;\">\n",
       "      <th></th>\n",
       "      <th>doc_title</th>\n",
       "      <th>doc_description</th>\n",
       "      <th>Job Family</th>\n",
       "      <th>Job Function</th>\n",
       "      <th>title_desc</th>\n",
       "      <th>clean_title_desc</th>\n",
       "    </tr>\n",
       "  </thead>\n",
       "  <tbody>\n",
       "    <tr>\n",
       "      <th>0</th>\n",
       "      <td>Case Study 1 tahun Magang di Kementerian BUMN</td>\n",
       "      <td>NaN</td>\n",
       "      <td>BUSINESS ENABLER/ENTERPRISE MGT</td>\n",
       "      <td>Human Capital</td>\n",
       "      <td>case study 1 tahun magang di kementerian bumn</td>\n",
       "      <td>case study 1 magang kementerian bumn</td>\n",
       "    </tr>\n",
       "    <tr>\n",
       "      <th>1</th>\n",
       "      <td>Case Study 1 tahun Magang di Kementerian BUMN</td>\n",
       "      <td>NaN</td>\n",
       "      <td>BUSINESS ENABLER/ENTERPRISE MGT</td>\n",
       "      <td>Human Capital</td>\n",
       "      <td>case study 1 tahun magang di kementerian bumn</td>\n",
       "      <td>case study 1 magang kementerian bumn</td>\n",
       "    </tr>\n",
       "    <tr>\n",
       "      <th>2</th>\n",
       "      <td>ILC : Securing Revenue Witel Riau Daratan 2017</td>\n",
       "      <td>NaN</td>\n",
       "      <td>STRATEGIC PLAN &amp; DEVELOPMENT</td>\n",
       "      <td>Strategic Planning</td>\n",
       "      <td>ilc  securing revenue witel riau daratan 2017</td>\n",
       "      <td>ilc securing revenue witel riau daratan 2017</td>\n",
       "    </tr>\n",
       "    <tr>\n",
       "      <th>3</th>\n",
       "      <td>SIKAT HABIS FTTH UNSPEC DENGAN MINI OLT OUTDOOR</td>\n",
       "      <td>NaN</td>\n",
       "      <td>DIGITAL &amp; ICT</td>\n",
       "      <td>Telecommunication</td>\n",
       "      <td>sikat habis ftth unspec dengan mini olt outdoor</td>\n",
       "      <td>sikat habis ftth unspec mini olt outdoor</td>\n",
       "    </tr>\n",
       "    <tr>\n",
       "      <th>4</th>\n",
       "      <td>PROSES PENGAJUAN CAPEX FTTH INDIHOME DI WITEL NTB</td>\n",
       "      <td>NaN</td>\n",
       "      <td>DIGITAL &amp; ICT</td>\n",
       "      <td>Telecommunication</td>\n",
       "      <td>proses pengajuan capex ftth indihome di witel ...</td>\n",
       "      <td>proses pengajuan capex ftth indihome witel ntb</td>\n",
       "    </tr>\n",
       "    <tr>\n",
       "      <th>...</th>\n",
       "      <td>...</td>\n",
       "      <td>...</td>\n",
       "      <td>...</td>\n",
       "      <td>...</td>\n",
       "      <td>...</td>\n",
       "      <td>...</td>\n",
       "    </tr>\n",
       "    <tr>\n",
       "      <th>11296</th>\n",
       "      <td>PENTINGNYA LOYALITAS PELANGGAN</td>\n",
       "      <td>Ditengah-tengah persaingan berbagai bisnis/ind...</td>\n",
       "      <td>COMMERCE &amp; RELATION</td>\n",
       "      <td>Sales</td>\n",
       "      <td>pentingnya loyalitas pelanggan ditengah-tengah...</td>\n",
       "      <td>loyalitas pelanggan ditengah-tengah persaingan...</td>\n",
       "    </tr>\n",
       "    <tr>\n",
       "      <th>11297</th>\n",
       "      <td>Uji Terima Online dalam Proyek Digitalisasi SP...</td>\n",
       "      <td>1. Latar Belakang           \\n                ...</td>\n",
       "      <td>DIGITAL &amp; ICT</td>\n",
       "      <td>Information Technology</td>\n",
       "      <td>uji terima online dalam proyek digitalisasi sp...</td>\n",
       "      <td>uji terima online proyek digitalisasi spbu sol...</td>\n",
       "    </tr>\n",
       "    <tr>\n",
       "      <th>11298</th>\n",
       "      <td>REKON TAGIHAN PSB  TA TO TELKOM  WITEL PURWOKERTO</td>\n",
       "      <td>CARA REKON TAGIHAN PSB  TA KE TELKOM \\n \\n1. A...</td>\n",
       "      <td>BUSINESS ENABLER/ENTERPRISE MGT</td>\n",
       "      <td>Education</td>\n",
       "      <td>rekon tagihan psb  ta to telkom  witel purwoke...</td>\n",
       "      <td>rekon tagihan psb ta telkom witel purwokerto r...</td>\n",
       "    </tr>\n",
       "    <tr>\n",
       "      <th>11299</th>\n",
       "      <td>TDSCC  (Telkom DIGITAL SOLUTION CARE CENTER) G...</td>\n",
       "      <td>#NAME?</td>\n",
       "      <td>DIGITAL &amp; ICT</td>\n",
       "      <td>Information Technology</td>\n",
       "      <td>tdscc  telkom digital solution care center go ...</td>\n",
       "      <td>tdscc telkom digital solution care center go o...</td>\n",
       "    </tr>\n",
       "    <tr>\n",
       "      <th>11300</th>\n",
       "      <td>Blockchain adoption in order  to Implement Bio...</td>\n",
       "      <td>#NAME?</td>\n",
       "      <td>DIGITAL &amp; ICT</td>\n",
       "      <td>DIGITAL PRODUCT &amp; SERVICE</td>\n",
       "      <td>blockchain adoption in order  to implement bio...</td>\n",
       "      <td>blockchain adoption order implement biometric ...</td>\n",
       "    </tr>\n",
       "  </tbody>\n",
       "</table>\n",
       "<p>11072 rows × 6 columns</p>\n",
       "</div>"
      ],
      "text/plain": [
       "                                               doc_title  \\\n",
       "0          Case Study 1 tahun Magang di Kementerian BUMN   \n",
       "1          Case Study 1 tahun Magang di Kementerian BUMN   \n",
       "2         ILC : Securing Revenue Witel Riau Daratan 2017   \n",
       "3        SIKAT HABIS FTTH UNSPEC DENGAN MINI OLT OUTDOOR   \n",
       "4      PROSES PENGAJUAN CAPEX FTTH INDIHOME DI WITEL NTB   \n",
       "...                                                  ...   \n",
       "11296                     PENTINGNYA LOYALITAS PELANGGAN   \n",
       "11297  Uji Terima Online dalam Proyek Digitalisasi SP...   \n",
       "11298  REKON TAGIHAN PSB  TA TO TELKOM  WITEL PURWOKERTO   \n",
       "11299  TDSCC  (Telkom DIGITAL SOLUTION CARE CENTER) G...   \n",
       "11300  Blockchain adoption in order  to Implement Bio...   \n",
       "\n",
       "                                         doc_description  \\\n",
       "0                                                    NaN   \n",
       "1                                                    NaN   \n",
       "2                                                    NaN   \n",
       "3                                                    NaN   \n",
       "4                                                    NaN   \n",
       "...                                                  ...   \n",
       "11296  Ditengah-tengah persaingan berbagai bisnis/ind...   \n",
       "11297  1. Latar Belakang           \\n                ...   \n",
       "11298  CARA REKON TAGIHAN PSB  TA KE TELKOM \\n \\n1. A...   \n",
       "11299                                             #NAME?   \n",
       "11300                                             #NAME?   \n",
       "\n",
       "                            Job Family               Job Function  \\\n",
       "0      BUSINESS ENABLER/ENTERPRISE MGT              Human Capital   \n",
       "1      BUSINESS ENABLER/ENTERPRISE MGT              Human Capital   \n",
       "2         STRATEGIC PLAN & DEVELOPMENT         Strategic Planning   \n",
       "3                        DIGITAL & ICT          Telecommunication   \n",
       "4                        DIGITAL & ICT          Telecommunication   \n",
       "...                                ...                        ...   \n",
       "11296              COMMERCE & RELATION                      Sales   \n",
       "11297                    DIGITAL & ICT     Information Technology   \n",
       "11298  BUSINESS ENABLER/ENTERPRISE MGT                  Education   \n",
       "11299                    DIGITAL & ICT     Information Technology   \n",
       "11300                    DIGITAL & ICT  DIGITAL PRODUCT & SERVICE   \n",
       "\n",
       "                                              title_desc  \\\n",
       "0         case study 1 tahun magang di kementerian bumn    \n",
       "1         case study 1 tahun magang di kementerian bumn    \n",
       "2         ilc  securing revenue witel riau daratan 2017    \n",
       "3       sikat habis ftth unspec dengan mini olt outdoor    \n",
       "4      proses pengajuan capex ftth indihome di witel ...   \n",
       "...                                                  ...   \n",
       "11296  pentingnya loyalitas pelanggan ditengah-tengah...   \n",
       "11297  uji terima online dalam proyek digitalisasi sp...   \n",
       "11298  rekon tagihan psb  ta to telkom  witel purwoke...   \n",
       "11299  tdscc  telkom digital solution care center go ...   \n",
       "11300  blockchain adoption in order  to implement bio...   \n",
       "\n",
       "                                        clean_title_desc  \n",
       "0                   case study 1 magang kementerian bumn  \n",
       "1                   case study 1 magang kementerian bumn  \n",
       "2           ilc securing revenue witel riau daratan 2017  \n",
       "3               sikat habis ftth unspec mini olt outdoor  \n",
       "4         proses pengajuan capex ftth indihome witel ntb  \n",
       "...                                                  ...  \n",
       "11296  loyalitas pelanggan ditengah-tengah persaingan...  \n",
       "11297  uji terima online proyek digitalisasi spbu sol...  \n",
       "11298  rekon tagihan psb ta telkom witel purwokerto r...  \n",
       "11299  tdscc telkom digital solution care center go o...  \n",
       "11300  blockchain adoption order implement biometric ...  \n",
       "\n",
       "[11072 rows x 6 columns]"
      ]
     },
     "execution_count": 6,
     "metadata": {},
     "output_type": "execute_result"
    }
   ],
   "source": [
    "df[df['Job Family'] != 'RISK & COMPLIANCE']"
   ]
  },
  {
   "cell_type": "code",
   "execution_count": 7,
   "metadata": {},
   "outputs": [],
   "source": [
    "df.drop(df[df['Job Family'] == 'RISK & COMPLIANCE'].index, inplace = True)"
   ]
  },
  {
   "cell_type": "code",
   "execution_count": 8,
   "metadata": {},
   "outputs": [
    {
     "data": {
      "text/html": [
       "<div>\n",
       "<style scoped>\n",
       "    .dataframe tbody tr th:only-of-type {\n",
       "        vertical-align: middle;\n",
       "    }\n",
       "\n",
       "    .dataframe tbody tr th {\n",
       "        vertical-align: top;\n",
       "    }\n",
       "\n",
       "    .dataframe thead th {\n",
       "        text-align: right;\n",
       "    }\n",
       "</style>\n",
       "<table border=\"1\" class=\"dataframe\">\n",
       "  <thead>\n",
       "    <tr style=\"text-align: right;\">\n",
       "      <th></th>\n",
       "      <th>doc_title</th>\n",
       "      <th>doc_description</th>\n",
       "      <th>Job Family</th>\n",
       "      <th>Job Function</th>\n",
       "      <th>title_desc</th>\n",
       "      <th>clean_title_desc</th>\n",
       "    </tr>\n",
       "  </thead>\n",
       "  <tbody>\n",
       "    <tr>\n",
       "      <th>0</th>\n",
       "      <td>Case Study 1 tahun Magang di Kementerian BUMN</td>\n",
       "      <td>NaN</td>\n",
       "      <td>BUSINESS ENABLER/ENTERPRISE MGT</td>\n",
       "      <td>Human Capital</td>\n",
       "      <td>case study 1 tahun magang di kementerian bumn</td>\n",
       "      <td>case study 1 magang kementerian bumn</td>\n",
       "    </tr>\n",
       "    <tr>\n",
       "      <th>1</th>\n",
       "      <td>Case Study 1 tahun Magang di Kementerian BUMN</td>\n",
       "      <td>NaN</td>\n",
       "      <td>BUSINESS ENABLER/ENTERPRISE MGT</td>\n",
       "      <td>Human Capital</td>\n",
       "      <td>case study 1 tahun magang di kementerian bumn</td>\n",
       "      <td>case study 1 magang kementerian bumn</td>\n",
       "    </tr>\n",
       "    <tr>\n",
       "      <th>2</th>\n",
       "      <td>ILC : Securing Revenue Witel Riau Daratan 2017</td>\n",
       "      <td>NaN</td>\n",
       "      <td>STRATEGIC PLAN &amp; DEVELOPMENT</td>\n",
       "      <td>Strategic Planning</td>\n",
       "      <td>ilc  securing revenue witel riau daratan 2017</td>\n",
       "      <td>ilc securing revenue witel riau daratan 2017</td>\n",
       "    </tr>\n",
       "    <tr>\n",
       "      <th>3</th>\n",
       "      <td>SIKAT HABIS FTTH UNSPEC DENGAN MINI OLT OUTDOOR</td>\n",
       "      <td>NaN</td>\n",
       "      <td>DIGITAL &amp; ICT</td>\n",
       "      <td>Telecommunication</td>\n",
       "      <td>sikat habis ftth unspec dengan mini olt outdoor</td>\n",
       "      <td>sikat habis ftth unspec mini olt outdoor</td>\n",
       "    </tr>\n",
       "    <tr>\n",
       "      <th>4</th>\n",
       "      <td>PROSES PENGAJUAN CAPEX FTTH INDIHOME DI WITEL NTB</td>\n",
       "      <td>NaN</td>\n",
       "      <td>DIGITAL &amp; ICT</td>\n",
       "      <td>Telecommunication</td>\n",
       "      <td>proses pengajuan capex ftth indihome di witel ...</td>\n",
       "      <td>proses pengajuan capex ftth indihome witel ntb</td>\n",
       "    </tr>\n",
       "    <tr>\n",
       "      <th>...</th>\n",
       "      <td>...</td>\n",
       "      <td>...</td>\n",
       "      <td>...</td>\n",
       "      <td>...</td>\n",
       "      <td>...</td>\n",
       "      <td>...</td>\n",
       "    </tr>\n",
       "    <tr>\n",
       "      <th>11296</th>\n",
       "      <td>PENTINGNYA LOYALITAS PELANGGAN</td>\n",
       "      <td>Ditengah-tengah persaingan berbagai bisnis/ind...</td>\n",
       "      <td>COMMERCE &amp; RELATION</td>\n",
       "      <td>Sales</td>\n",
       "      <td>pentingnya loyalitas pelanggan ditengah-tengah...</td>\n",
       "      <td>loyalitas pelanggan ditengah-tengah persaingan...</td>\n",
       "    </tr>\n",
       "    <tr>\n",
       "      <th>11297</th>\n",
       "      <td>Uji Terima Online dalam Proyek Digitalisasi SP...</td>\n",
       "      <td>1. Latar Belakang           \\n                ...</td>\n",
       "      <td>DIGITAL &amp; ICT</td>\n",
       "      <td>Information Technology</td>\n",
       "      <td>uji terima online dalam proyek digitalisasi sp...</td>\n",
       "      <td>uji terima online proyek digitalisasi spbu sol...</td>\n",
       "    </tr>\n",
       "    <tr>\n",
       "      <th>11298</th>\n",
       "      <td>REKON TAGIHAN PSB  TA TO TELKOM  WITEL PURWOKERTO</td>\n",
       "      <td>CARA REKON TAGIHAN PSB  TA KE TELKOM \\n \\n1. A...</td>\n",
       "      <td>BUSINESS ENABLER/ENTERPRISE MGT</td>\n",
       "      <td>Education</td>\n",
       "      <td>rekon tagihan psb  ta to telkom  witel purwoke...</td>\n",
       "      <td>rekon tagihan psb ta telkom witel purwokerto r...</td>\n",
       "    </tr>\n",
       "    <tr>\n",
       "      <th>11299</th>\n",
       "      <td>TDSCC  (Telkom DIGITAL SOLUTION CARE CENTER) G...</td>\n",
       "      <td>#NAME?</td>\n",
       "      <td>DIGITAL &amp; ICT</td>\n",
       "      <td>Information Technology</td>\n",
       "      <td>tdscc  telkom digital solution care center go ...</td>\n",
       "      <td>tdscc telkom digital solution care center go o...</td>\n",
       "    </tr>\n",
       "    <tr>\n",
       "      <th>11300</th>\n",
       "      <td>Blockchain adoption in order  to Implement Bio...</td>\n",
       "      <td>#NAME?</td>\n",
       "      <td>DIGITAL &amp; ICT</td>\n",
       "      <td>DIGITAL PRODUCT &amp; SERVICE</td>\n",
       "      <td>blockchain adoption in order  to implement bio...</td>\n",
       "      <td>blockchain adoption order implement biometric ...</td>\n",
       "    </tr>\n",
       "  </tbody>\n",
       "</table>\n",
       "<p>11072 rows × 6 columns</p>\n",
       "</div>"
      ],
      "text/plain": [
       "                                               doc_title  \\\n",
       "0          Case Study 1 tahun Magang di Kementerian BUMN   \n",
       "1          Case Study 1 tahun Magang di Kementerian BUMN   \n",
       "2         ILC : Securing Revenue Witel Riau Daratan 2017   \n",
       "3        SIKAT HABIS FTTH UNSPEC DENGAN MINI OLT OUTDOOR   \n",
       "4      PROSES PENGAJUAN CAPEX FTTH INDIHOME DI WITEL NTB   \n",
       "...                                                  ...   \n",
       "11296                     PENTINGNYA LOYALITAS PELANGGAN   \n",
       "11297  Uji Terima Online dalam Proyek Digitalisasi SP...   \n",
       "11298  REKON TAGIHAN PSB  TA TO TELKOM  WITEL PURWOKERTO   \n",
       "11299  TDSCC  (Telkom DIGITAL SOLUTION CARE CENTER) G...   \n",
       "11300  Blockchain adoption in order  to Implement Bio...   \n",
       "\n",
       "                                         doc_description  \\\n",
       "0                                                    NaN   \n",
       "1                                                    NaN   \n",
       "2                                                    NaN   \n",
       "3                                                    NaN   \n",
       "4                                                    NaN   \n",
       "...                                                  ...   \n",
       "11296  Ditengah-tengah persaingan berbagai bisnis/ind...   \n",
       "11297  1. Latar Belakang           \\n                ...   \n",
       "11298  CARA REKON TAGIHAN PSB  TA KE TELKOM \\n \\n1. A...   \n",
       "11299                                             #NAME?   \n",
       "11300                                             #NAME?   \n",
       "\n",
       "                            Job Family               Job Function  \\\n",
       "0      BUSINESS ENABLER/ENTERPRISE MGT              Human Capital   \n",
       "1      BUSINESS ENABLER/ENTERPRISE MGT              Human Capital   \n",
       "2         STRATEGIC PLAN & DEVELOPMENT         Strategic Planning   \n",
       "3                        DIGITAL & ICT          Telecommunication   \n",
       "4                        DIGITAL & ICT          Telecommunication   \n",
       "...                                ...                        ...   \n",
       "11296              COMMERCE & RELATION                      Sales   \n",
       "11297                    DIGITAL & ICT     Information Technology   \n",
       "11298  BUSINESS ENABLER/ENTERPRISE MGT                  Education   \n",
       "11299                    DIGITAL & ICT     Information Technology   \n",
       "11300                    DIGITAL & ICT  DIGITAL PRODUCT & SERVICE   \n",
       "\n",
       "                                              title_desc  \\\n",
       "0         case study 1 tahun magang di kementerian bumn    \n",
       "1         case study 1 tahun magang di kementerian bumn    \n",
       "2         ilc  securing revenue witel riau daratan 2017    \n",
       "3       sikat habis ftth unspec dengan mini olt outdoor    \n",
       "4      proses pengajuan capex ftth indihome di witel ...   \n",
       "...                                                  ...   \n",
       "11296  pentingnya loyalitas pelanggan ditengah-tengah...   \n",
       "11297  uji terima online dalam proyek digitalisasi sp...   \n",
       "11298  rekon tagihan psb  ta to telkom  witel purwoke...   \n",
       "11299  tdscc  telkom digital solution care center go ...   \n",
       "11300  blockchain adoption in order  to implement bio...   \n",
       "\n",
       "                                        clean_title_desc  \n",
       "0                   case study 1 magang kementerian bumn  \n",
       "1                   case study 1 magang kementerian bumn  \n",
       "2           ilc securing revenue witel riau daratan 2017  \n",
       "3               sikat habis ftth unspec mini olt outdoor  \n",
       "4         proses pengajuan capex ftth indihome witel ntb  \n",
       "...                                                  ...  \n",
       "11296  loyalitas pelanggan ditengah-tengah persaingan...  \n",
       "11297  uji terima online proyek digitalisasi spbu sol...  \n",
       "11298  rekon tagihan psb ta telkom witel purwokerto r...  \n",
       "11299  tdscc telkom digital solution care center go o...  \n",
       "11300  blockchain adoption order implement biometric ...  \n",
       "\n",
       "[11072 rows x 6 columns]"
      ]
     },
     "execution_count": 8,
     "metadata": {},
     "output_type": "execute_result"
    }
   ],
   "source": [
    "df"
   ]
  },
  {
   "cell_type": "code",
   "execution_count": 9,
   "metadata": {},
   "outputs": [
    {
     "data": {
      "text/plain": [
       "Job Family\n",
       "BUSINESS ENABLER/ENTERPRISE MGT    0.199241\n",
       "COMMERCE & RELATION                0.260116\n",
       "DIGITAL & ICT                      0.344743\n",
       "STRATEGIC PLAN & DEVELOPMENT       0.195900\n",
       "dtype: float64"
      ]
     },
     "execution_count": 9,
     "metadata": {},
     "output_type": "execute_result"
    }
   ],
   "source": [
    "df.groupby('Job Family').size()/df.shape[0]"
   ]
  },
  {
   "cell_type": "code",
   "execution_count": 10,
   "metadata": {},
   "outputs": [
    {
     "data": {
      "text/plain": [
       "DIGITAL & ICT                      3817\n",
       "COMMERCE & RELATION                2880\n",
       "BUSINESS ENABLER/ENTERPRISE MGT    2206\n",
       "STRATEGIC PLAN & DEVELOPMENT       2169\n",
       "Name: Job Family, dtype: int64"
      ]
     },
     "execution_count": 10,
     "metadata": {},
     "output_type": "execute_result"
    }
   ],
   "source": [
    "df['Job Family'].value_counts()"
   ]
  },
  {
   "cell_type": "code",
   "execution_count": 12,
   "metadata": {},
   "outputs": [
    {
     "data": {
      "text/plain": [
       "<AxesSubplot:>"
      ]
     },
     "execution_count": 12,
     "metadata": {},
     "output_type": "execute_result"
    },
    {
     "data": {
      "image/png": "[encoded data removed]",
      "text/plain": [
       "<Figure size 432x288 with 1 Axes>"
      ]
     },
     "metadata": {
      "needs_background": "light"
     },
     "output_type": "display_data"
    }
   ],
   "source": [
    "df['Job Family'].value_counts().plot(\n",
    "                        kind='bar',\n",
    "                        alpha=0.5,                         \n",
    "                        color='c'\n",
    "                        )"
   ]
  },
  {
   "cell_type": "markdown",
   "metadata": {},
   "source": [
    "### Alt 1: Balance Class"
   ]
  },
  {
   "cell_type": "code",
   "execution_count": 114,
   "metadata": {},
   "outputs": [],
   "source": [
    "# # Balance Class\n",
    "# sample_size = 2169 # needs to be less than the number of observations in the minority class\n",
    "# sample_df = df.groupby('Job Family').apply(lambda x: x.sample(sample_size))"
   ]
  },
  {
   "cell_type": "code",
   "execution_count": 115,
   "metadata": {},
   "outputs": [],
   "source": [
    "# sample_df = sample_df.reset_index(level=0, drop=True)"
   ]
  },
  {
   "cell_type": "code",
   "execution_count": 116,
   "metadata": {},
   "outputs": [],
   "source": [
    "# sample_df = sample_df.sort_index()"
   ]
  },
  {
   "cell_type": "markdown",
   "metadata": {},
   "source": [
    "### Alt 2: Unbalance Class"
   ]
  },
  {
   "cell_type": "code",
   "execution_count": 13,
   "metadata": {},
   "outputs": [],
   "source": [
    "# Unbalance Class\n",
    "sample_df = df"
   ]
  },
  {
   "cell_type": "code",
   "execution_count": 14,
   "metadata": {},
   "outputs": [
    {
     "data": {
      "text/plain": [
       "Job Family\n",
       "BUSINESS ENABLER/ENTERPRISE MGT    2206\n",
       "COMMERCE & RELATION                2880\n",
       "DIGITAL & ICT                      3817\n",
       "STRATEGIC PLAN & DEVELOPMENT       2169\n",
       "dtype: int64"
      ]
     },
     "execution_count": 14,
     "metadata": {},
     "output_type": "execute_result"
    }
   ],
   "source": [
    "sample_df.groupby(\"Job Family\").size()"
   ]
  },
  {
   "cell_type": "code",
   "execution_count": 15,
   "metadata": {},
   "outputs": [],
   "source": [
    "sample_df['word_count'] = sample_df['clean_title_desc'].str.split().str.len()"
   ]
  },
  {
   "cell_type": "code",
   "execution_count": 16,
   "metadata": {
    "scrolled": true
   },
   "outputs": [
    {
     "data": {
      "text/html": [
       "<div>\n",
       "<style scoped>\n",
       "    .dataframe tbody tr th:only-of-type {\n",
       "        vertical-align: middle;\n",
       "    }\n",
       "\n",
       "    .dataframe tbody tr th {\n",
       "        vertical-align: top;\n",
       "    }\n",
       "\n",
       "    .dataframe thead th {\n",
       "        text-align: right;\n",
       "    }\n",
       "</style>\n",
       "<table border=\"1\" class=\"dataframe\">\n",
       "  <thead>\n",
       "    <tr style=\"text-align: right;\">\n",
       "      <th></th>\n",
       "      <th>doc_title</th>\n",
       "      <th>doc_description</th>\n",
       "      <th>Job Family</th>\n",
       "      <th>Job Function</th>\n",
       "      <th>title_desc</th>\n",
       "      <th>clean_title_desc</th>\n",
       "      <th>word_count</th>\n",
       "    </tr>\n",
       "  </thead>\n",
       "  <tbody>\n",
       "    <tr>\n",
       "      <th>133</th>\n",
       "      <td>INSIDEN</td>\n",
       "      <td>INSIDEN jika tidak dilaorkan akan menjadi keru...</td>\n",
       "      <td>BUSINESS ENABLER/ENTERPRISE MGT</td>\n",
       "      <td>Education</td>\n",
       "      <td>insiden insiden jika tidak dilaorkan akan menj...</td>\n",
       "      <td>insiden insiden dilaorkan kerugian</td>\n",
       "      <td>4</td>\n",
       "    </tr>\n",
       "  </tbody>\n",
       "</table>\n",
       "</div>"
      ],
      "text/plain": [
       "    doc_title                                    doc_description  \\\n",
       "133   INSIDEN  INSIDEN jika tidak dilaorkan akan menjadi keru...   \n",
       "\n",
       "                          Job Family Job Function  \\\n",
       "133  BUSINESS ENABLER/ENTERPRISE MGT    Education   \n",
       "\n",
       "                                            title_desc  \\\n",
       "133  insiden insiden jika tidak dilaorkan akan menj...   \n",
       "\n",
       "                       clean_title_desc  word_count  \n",
       "133  insiden insiden dilaorkan kerugian           4  "
      ]
     },
     "execution_count": 16,
     "metadata": {},
     "output_type": "execute_result"
    }
   ],
   "source": [
    "# sample_df.head(5)\n",
    "sample_df[sample_df['word_count']<=4]"
   ]
  },
  {
   "cell_type": "code",
   "execution_count": 17,
   "metadata": {},
   "outputs": [
    {
     "name": "stdout",
     "output_type": "stream",
     "text": [
      "Mean : 72.65128251445087\n",
      "Max  : 1478\n",
      "Min  : 4\n"
     ]
    }
   ],
   "source": [
    "result = [x for x in sample_df['word_count']]\n",
    "print(\"Mean : {}\".format(np.mean(result)))\n",
    "print(\"Max  : {}\".format(sample_df['word_count'].max()))\n",
    "print(\"Min  : {}\".format(sample_df['word_count'].min()))"
   ]
  },
  {
   "cell_type": "code",
   "execution_count": 18,
   "metadata": {},
   "outputs": [
    {
     "data": {
      "text/plain": [
       "array(['case study 1 magang kementerian bumn',\n",
       "       'case study 1 magang kementerian bumn',\n",
       "       'ilc securing revenue witel riau daratan 2017'], dtype=object)"
      ]
     },
     "execution_count": 18,
     "metadata": {},
     "output_type": "execute_result"
    }
   ],
   "source": [
    "sample_df.clean_title_desc[:3].values"
   ]
  },
  {
   "cell_type": "code",
   "execution_count": 19,
   "metadata": {},
   "outputs": [],
   "source": [
    "X = sample_df.clean_title_desc.values\n",
    "y = sample_df['Job Family'].values"
   ]
  },
  {
   "cell_type": "code",
   "execution_count": 20,
   "metadata": {},
   "outputs": [
    {
     "data": {
      "text/plain": [
       "array(['case study 1 magang kementerian bumn',\n",
       "       'case study 1 magang kementerian bumn',\n",
       "       'ilc securing revenue witel riau daratan 2017'], dtype=object)"
      ]
     },
     "execution_count": 20,
     "metadata": {},
     "output_type": "execute_result"
    }
   ],
   "source": [
    "X[:3]"
   ]
  },
  {
   "cell_type": "markdown",
   "metadata": {},
   "source": [
    "## Train Test Split"
   ]
  },
  {
   "cell_type": "code",
   "execution_count": 21,
   "metadata": {},
   "outputs": [],
   "source": [
    "from sklearn.model_selection import train_test_split\n",
    "\n",
    "X_train_full, X_test, y_train_full, y_test = train_test_split(X, y, random_state=22, test_size=0.1)\n",
    "X_train, X_valid, y_train, y_valid = train_test_split(X_train_full, y_train_full, random_state=22, test_size=0.1)"
   ]
  },
  {
   "cell_type": "code",
   "execution_count": 24,
   "metadata": {},
   "outputs": [
    {
     "name": "stdout",
     "output_type": "stream",
     "text": [
      "telkomsel revenue double digit pengertian resiliansi base stasion telkomsel dual homing infrastruktur jaringan network acces jaringan optik sto berbeda masing- acces jalur optik berbeda sto berpengaruh jaringan optik putus disisi jaringan sto layanan jalansaat telkom jawa barat gencar melaksanakan pemasangan dual homing jaringan telkomsel kebijakan direksi ldquomengutamakan utamardquo telkomsel telepon seluler berbasis gsm harapan andalan perusahaan menjanjikan perhatian tercapainya target telkomsel revenue double digit menggembirakan harapan tanggung meningkatkan kwalitas layanan memuaskan penggunanya revenue dipertahankan meningkatpermasalahan penanggulangan gangguan bts node-b telkomsel dibawah tolok ukur sla service level agreement disepakati telkom telkomsel 3 jam 10 jam berhari-hari mean time recovery mttr dicapai 12 januari 2017 10 februari 2017 data mttr node-b telkomsel jawa barat perangkat access metro-e ont-gpon direct core metro-edengan penanggulangan gangguan loss opportunity\n",
      "DIGITAL & ICT\n"
     ]
    }
   ],
   "source": [
    "print(X_train[144])\n",
    "print(y_test[144])"
   ]
  },
  {
   "cell_type": "code",
   "execution_count": 23,
   "metadata": {},
   "outputs": [],
   "source": [
    "# Convert all word to string\n",
    "X_train = [str (item) for item in X_train]\n",
    "X_valid = [str (item) for item in X_valid]\n",
    "X_test = [str (item) for item in X_test]"
   ]
  },
  {
   "cell_type": "markdown",
   "metadata": {},
   "source": [
    "## Tokenize Words"
   ]
  },
  {
   "cell_type": "code",
   "execution_count": 25,
   "metadata": {},
   "outputs": [],
   "source": [
    "from tensorflow.keras.preprocessing.text import Tokenizer, text_to_word_sequence\n",
    "\n",
    "MAX_FEATURES = 500\n",
    "tokenizer = Tokenizer(num_words=MAX_FEATURES)\n",
    "tokenizer.fit_on_texts(X_train)\n",
    "X_train = tokenizer.texts_to_sequences(X_train)\n",
    "X_valid = tokenizer.texts_to_sequences(X_valid)\n",
    "X_test = tokenizer.texts_to_sequences(X_test)"
   ]
  },
  {
   "cell_type": "code",
   "execution_count": 26,
   "metadata": {},
   "outputs": [
    {
     "name": "stdout",
     "output_type": "stream",
     "text": [
      "[131, 26, 131, 120, 18, 64, 18, 115, 78, 301, 115, 301, 78, 18, 115, 18, 78, 3, 1, 297, 430, 18, 131, 273, 131, 304, 96, 5, 35, 131, 26, 19, 3, 26, 32, 336, 317, 131, 23, 290, 1, 131, 57, 408, 324, 408, 227, 162, 324, 162, 7, 336, 317, 131, 297, 41, 204, 378, 147, 341, 450, 337, 378, 32]\n"
     ]
    }
   ],
   "source": [
    "print(X_train[144])"
   ]
  },
  {
   "cell_type": "code",
   "execution_count": 27,
   "metadata": {},
   "outputs": [
    {
     "data": {
      "text/plain": [
       "131"
      ]
     },
     "execution_count": 27,
     "metadata": {},
     "output_type": "execute_result"
    }
   ],
   "source": [
    "tokenizer.word_index['telkomsel']"
   ]
  },
  {
   "cell_type": "code",
   "execution_count": 28,
   "metadata": {},
   "outputs": [],
   "source": [
    "# reverse index to word\n",
    "reverse_word_index = dict([(value, key) for (key, value) in tokenizer.word_index.items()])\n",
    "\n",
    "def decode_review(text):\n",
    "    return ' '.join([reverse_word_index.get(i, '') for i in text])"
   ]
  },
  {
   "cell_type": "code",
   "execution_count": 29,
   "metadata": {},
   "outputs": [
    {
     "data": {
      "text/plain": [
       "'telkomsel revenue telkomsel infrastruktur jaringan network jaringan optik sto berbeda optik berbeda sto jaringan optik jaringan sto layanan telkom barat melaksanakan jaringan telkomsel kebijakan telkomsel telepon berbasis perusahaan target telkomsel revenue meningkatkan layanan revenue gangguan node b telkomsel service level telkom telkomsel 3 jam 10 jam time 2017 10 2017 data node b telkomsel barat perangkat access metro e ont gpon core metro gangguan'"
      ]
     },
     "execution_count": 29,
     "metadata": {},
     "output_type": "execute_result"
    }
   ],
   "source": [
    "decode_review(X_train[144])"
   ]
  },
  {
   "cell_type": "code",
   "execution_count": 30,
   "metadata": {},
   "outputs": [],
   "source": [
    "from sklearn.preprocessing import LabelEncoder\n",
    "\n",
    "# Encode Label\n",
    "Encoder = LabelEncoder()\n",
    "y_train = Encoder.fit_transform(y_train)\n",
    "y_valid = Encoder.fit_transform(y_valid)\n",
    "y_test = Encoder.fit_transform(y_test)"
   ]
  },
  {
   "cell_type": "code",
   "execution_count": 31,
   "metadata": {},
   "outputs": [
    {
     "data": {
      "text/plain": [
       "array([3, 3, 3, ..., 2, 3, 3])"
      ]
     },
     "execution_count": 31,
     "metadata": {},
     "output_type": "execute_result"
    }
   ],
   "source": [
    "# len(y_train)\n",
    "y_train"
   ]
  },
  {
   "cell_type": "markdown",
   "metadata": {},
   "source": [
    "## Padding"
   ]
  },
  {
   "cell_type": "code",
   "execution_count": 32,
   "metadata": {},
   "outputs": [],
   "source": [
    "from tensorflow.keras.preprocessing.sequence import pad_sequences\n",
    "\n",
    "MAX_LENGTH = max(len(X_train) for X_train in X_train)\n",
    "X_train = pad_sequences(X_train, maxlen=MAX_LENGTH)\n",
    "X_valid = pad_sequences(X_valid, maxlen=MAX_LENGTH)\n",
    "X_test = pad_sequences(X_test, maxlen=MAX_LENGTH)"
   ]
  },
  {
   "cell_type": "code",
   "execution_count": 33,
   "metadata": {},
   "outputs": [
    {
     "data": {
      "text/plain": [
       "454"
      ]
     },
     "execution_count": 33,
     "metadata": {},
     "output_type": "execute_result"
    }
   ],
   "source": [
    "MAX_LENGTH"
   ]
  },
  {
   "cell_type": "code",
   "execution_count": 34,
   "metadata": {},
   "outputs": [
    {
     "name": "stdout",
     "output_type": "stream",
     "text": [
      "[  0   0   0   0   0   0   0   0   0   0   0   0   0   0   0   0   0   0\n",
      "   0   0   0   0   0   0   0   0   0   0   0   0   0   0   0   0   0   0\n",
      "   0   0   0   0   0   0   0   0   0   0   0   0   0   0   0   0   0   0\n",
      "   0   0   0   0   0   0   0   0   0   0   0   0   0   0   0   0   0   0\n",
      "   0   0   0   0   0   0   0   0   0   0   0   0   0   0   0   0   0   0\n",
      "   0   0   0   0   0   0   0   0   0   0   0   0   0   0   0   0   0   0\n",
      "   0   0   0   0   0   0   0   0   0   0   0   0   0   0   0   0   0   0\n",
      "   0   0   0   0   0   0   0   0   0   0   0   0   0   0   0   0   0   0\n",
      "   0   0   0   0   0   0   0   0   0   0   0   0   0   0   0   0   0   0\n",
      "   0   0   0   0   0   0   0   0   0   0   0   0   0   0   0   0   0   0\n",
      "   0   0   0   0   0   0   0   0   0   0   0   0   0   0   0   0   0   0\n",
      "   0   0   0   0   0   0   0   0   0   0   0   0   0   0   0   0   0   0\n",
      "   0   0   0   0   0   0   0   0   0   0   0   0   0   0   0   0   0   0\n",
      "   0   0   0   0   0   0   0   0   0   0   0   0   0   0   0   0   0   0\n",
      "   0   0   0   0   0   0   0   0   0   0   0   0   0   0   0   0   0   0\n",
      "   0   0   0   0   0   0   0   0   0   0   0   0   0   0   0   0   0   0\n",
      "   0   0   0   0   0   0   0   0   0   0   0   0   0   0   0   0   0   0\n",
      "   0   0   0   0   0   0   0   0   0   0   0   0   0   0   0   0   0   0\n",
      "   0   0   0   0   0   0   0   0   0   0   0   0   0   0   0   0   0   0\n",
      "   0   0   0   0   0   0   0   0   0   0   0   0   0   0   0   0   0   0\n",
      "   0   0   0   0   0   0   0   0   0   0   0   0   0   0   0   0   0   0\n",
      "   0   0   0   0   0   0   0   0   0   0   0   0   0   0   0   0   0   0\n",
      "   0   0   0   0   0   0   0   0   0   0   0   0   0   0   0   0   0   0\n",
      "   0   0   0   0   0   0  63 106  92  25  92   1  63  56 191 156 112 333\n",
      "   3   1   1  63  40 356  29  63  23 333   3 264 227  92 469  21 269  48\n",
      "  35  39  23 290]\n"
     ]
    }
   ],
   "source": [
    "print(X_train[1])"
   ]
  },
  {
   "cell_type": "code",
   "execution_count": 35,
   "metadata": {},
   "outputs": [
    {
     "data": {
      "text/plain": [
       "1"
      ]
     },
     "execution_count": 35,
     "metadata": {},
     "output_type": "execute_result"
    }
   ],
   "source": [
    "y_train[98]"
   ]
  },
  {
   "cell_type": "markdown",
   "metadata": {},
   "source": [
    "## Build Model 1  - Binary Crossentropy"
   ]
  },
  {
   "cell_type": "code",
   "execution_count": 1,
   "metadata": {},
   "outputs": [
    {
     "ename": "NameError",
     "evalue": "name 'tf' is not defined",
     "output_type": "error",
     "traceback": [
      "\u001b[1;31m---------------------------------------------------------------------------\u001b[0m",
      "\u001b[1;31mNameError\u001b[0m                                 Traceback (most recent call last)",
      "\u001b[1;32m<ipython-input-1-48505aed69f8>\u001b[0m in \u001b[0;36m<module>\u001b[1;34m\u001b[0m\n\u001b[1;32m----> 1\u001b[1;33m \u001b[0mmodel\u001b[0m \u001b[1;33m=\u001b[0m \u001b[0mtf\u001b[0m\u001b[1;33m.\u001b[0m\u001b[0mkeras\u001b[0m\u001b[1;33m.\u001b[0m\u001b[0mmodels\u001b[0m\u001b[1;33m.\u001b[0m\u001b[0mSequential\u001b[0m\u001b[1;33m(\u001b[0m\u001b[1;33m)\u001b[0m\u001b[1;33m\u001b[0m\u001b[1;33m\u001b[0m\u001b[0m\n\u001b[0m\u001b[0;32m      2\u001b[0m \u001b[1;33m\u001b[0m\u001b[0m\n\u001b[0;32m      3\u001b[0m model.add(\n\u001b[0;32m      4\u001b[0m     tf.keras.layers.Embedding(\n\u001b[0;32m      5\u001b[0m         \u001b[0minput_dim\u001b[0m \u001b[1;33m=\u001b[0m \u001b[0mMAX_FEATURES\u001b[0m\u001b[1;33m,\u001b[0m\u001b[1;33m\u001b[0m\u001b[1;33m\u001b[0m\u001b[0m\n",
      "\u001b[1;31mNameError\u001b[0m: name 'tf' is not defined"
     ]
    }
   ],
   "source": [
    "model = tf.keras.models.Sequential()\n",
    "\n",
    "model.add(\n",
    "    tf.keras.layers.Embedding(\n",
    "        input_dim = MAX_FEATURES,\n",
    "        output_dim = 32,\n",
    "        input_length = MAX_LENGTH\n",
    "    )\n",
    ")\n",
    "\n",
    "model.add(\n",
    "    tf.keras.layers.Dropout(\n",
    "        rate=0.25\n",
    "    )\n",
    ")\n",
    "\n",
    "model.add(\n",
    "    tf.keras.layers.LSTM(\n",
    "        units=32\n",
    "    )\n",
    ")\n",
    "\n",
    "model.add(\n",
    "    tf.keras.layers.Dropout(\n",
    "        rate=0.25\n",
    "    )\n",
    ")\n",
    "\n",
    "model.add(\n",
    "    tf.keras.layers.Dense(\n",
    "        units=1,\n",
    "        activation='sigmoid'\n",
    "    )\n",
    ")"
   ]
  },
  {
   "cell_type": "code",
   "execution_count": 37,
   "metadata": {},
   "outputs": [
    {
     "name": "stdout",
     "output_type": "stream",
     "text": [
      "Model: \"sequential\"\n",
      "_________________________________________________________________\n",
      "Layer (type)                 Output Shape              Param #   \n",
      "=================================================================\n",
      "embedding (Embedding)        (None, 454, 32)           16000     \n",
      "_________________________________________________________________\n",
      "dropout (Dropout)            (None, 454, 32)           0         \n",
      "_________________________________________________________________\n",
      "lstm (LSTM)                  (None, 32)                8320      \n",
      "_________________________________________________________________\n",
      "dropout_1 (Dropout)          (None, 32)                0         \n",
      "_________________________________________________________________\n",
      "dense (Dense)                (None, 1)                 33        \n",
      "=================================================================\n",
      "Total params: 24,353\n",
      "Trainable params: 24,353\n",
      "Non-trainable params: 0\n",
      "_________________________________________________________________\n"
     ]
    }
   ],
   "source": [
    "model.compile(\n",
    "    loss=tf.keras.losses.binary_crossentropy,\n",
    "    optimizer=tf.keras.optimizers.Adam(),\n",
    "    metrics=['accuracy']\n",
    ")\n",
    "\n",
    "model.summary()"
   ]
  },
  {
   "cell_type": "code",
   "execution_count": 38,
   "metadata": {},
   "outputs": [
    {
     "name": "stdout",
     "output_type": "stream",
     "text": [
      "Epoch 1/150\n",
      "36/36 [==============================] - 23s 169ms/step - loss: 0.2178 - accuracy: 0.2611 - val_loss: -2.7607 - val_accuracy: 0.2678\n",
      "Epoch 2/150\n",
      "36/36 [==============================] - 4s 117ms/step - loss: -3.1537 - accuracy: 0.2597 - val_loss: -4.5762 - val_accuracy: 0.2678\n",
      "Epoch 3/150\n",
      "36/36 [==============================] - 4s 118ms/step - loss: -4.6204 - accuracy: 0.2616 - val_loss: -5.6643 - val_accuracy: 0.2678\n",
      "Epoch 4/150\n",
      "36/36 [==============================] - 4s 117ms/step - loss: -5.7495 - accuracy: 0.2618 - val_loss: -6.5423 - val_accuracy: 0.2678\n",
      "Epoch 5/150\n",
      "36/36 [==============================] - 4s 117ms/step - loss: -6.4401 - accuracy: 0.2623 - val_loss: -7.3337 - val_accuracy: 0.2678\n",
      "Epoch 6/150\n",
      "36/36 [==============================] - 4s 119ms/step - loss: -7.2274 - accuracy: 0.2637 - val_loss: -8.1047 - val_accuracy: 0.2678\n",
      "Epoch 7/150\n",
      "36/36 [==============================] - 4s 121ms/step - loss: -7.9786 - accuracy: 0.2652 - val_loss: -8.8348 - val_accuracy: 0.2678\n",
      "Epoch 8/150\n",
      "36/36 [==============================] - 4s 118ms/step - loss: -8.4898 - accuracy: 0.2681 - val_loss: -9.5728 - val_accuracy: 0.2678\n",
      "Epoch 9/150\n",
      "36/36 [==============================] - 4s 118ms/step - loss: -9.2776 - accuracy: 0.2701 - val_loss: -10.2905 - val_accuracy: 0.2678\n",
      "Epoch 10/150\n",
      "36/36 [==============================] - 4s 117ms/step - loss: -10.2640 - accuracy: 0.2584 - val_loss: -11.0025 - val_accuracy: 0.2678\n",
      "Epoch 11/150\n",
      "36/36 [==============================] - 4s 118ms/step - loss: -10.8509 - accuracy: 0.2673 - val_loss: -11.6928 - val_accuracy: 0.2678\n",
      "Epoch 12/150\n",
      "36/36 [==============================] - 4s 117ms/step - loss: -11.5106 - accuracy: 0.2661 - val_loss: -12.3709 - val_accuracy: 0.2678\n",
      "Epoch 13/150\n",
      "36/36 [==============================] - 4s 117ms/step - loss: -12.2279 - accuracy: 0.2510 - val_loss: -13.0462 - val_accuracy: 0.2678\n",
      "Epoch 14/150\n",
      "36/36 [==============================] - 4s 117ms/step - loss: -12.9320 - accuracy: 0.2626 - val_loss: -13.7308 - val_accuracy: 0.2678\n",
      "Epoch 15/150\n",
      "36/36 [==============================] - 4s 117ms/step - loss: -13.5007 - accuracy: 0.2615 - val_loss: -14.4263 - val_accuracy: 0.2678\n",
      "Epoch 16/150\n",
      "36/36 [==============================] - 4s 117ms/step - loss: -14.1652 - accuracy: 0.2664 - val_loss: -15.0924 - val_accuracy: 0.2678\n",
      "Epoch 17/150\n",
      "36/36 [==============================] - 4s 117ms/step - loss: -15.0455 - accuracy: 0.2631 - val_loss: -15.7870 - val_accuracy: 0.2678\n",
      "Epoch 18/150\n",
      "36/36 [==============================] - 4s 118ms/step - loss: -15.3771 - accuracy: 0.2606 - val_loss: -16.4584 - val_accuracy: 0.2678\n",
      "Epoch 19/150\n",
      "36/36 [==============================] - 4s 117ms/step - loss: -16.1345 - accuracy: 0.2532 - val_loss: -17.1235 - val_accuracy: 0.2678\n",
      "Epoch 20/150\n",
      "36/36 [==============================] - 4s 118ms/step - loss: -16.8730 - accuracy: 0.2617 - val_loss: -17.7794 - val_accuracy: 0.2678\n",
      "Epoch 21/150\n",
      "36/36 [==============================] - 4s 117ms/step - loss: -17.3918 - accuracy: 0.2625 - val_loss: -18.4462 - val_accuracy: 0.2678\n",
      "Epoch 22/150\n",
      "36/36 [==============================] - 4s 118ms/step - loss: -17.7839 - accuracy: 0.2595 - val_loss: -19.0785 - val_accuracy: 0.2678\n",
      "Epoch 23/150\n",
      "36/36 [==============================] - 4s 117ms/step - loss: -18.5692 - accuracy: 0.2632 - val_loss: -19.7728 - val_accuracy: 0.2678\n",
      "Epoch 24/150\n",
      "36/36 [==============================] - 4s 117ms/step - loss: -19.1904 - accuracy: 0.2610 - val_loss: -20.4595 - val_accuracy: 0.2678\n",
      "Epoch 25/150\n",
      "36/36 [==============================] - 4s 118ms/step - loss: -20.2035 - accuracy: 0.2595 - val_loss: -21.1439 - val_accuracy: 0.2678\n",
      "Epoch 26/150\n",
      "36/36 [==============================] - 4s 117ms/step - loss: -20.4200 - accuracy: 0.2607 - val_loss: -21.8053 - val_accuracy: 0.2678\n",
      "Epoch 27/150\n",
      "36/36 [==============================] - 4s 117ms/step - loss: -21.6053 - accuracy: 0.2663 - val_loss: -22.4447 - val_accuracy: 0.2678\n",
      "Epoch 28/150\n",
      "36/36 [==============================] - 4s 117ms/step - loss: -21.6389 - accuracy: 0.2605 - val_loss: -23.0947 - val_accuracy: 0.2678\n",
      "Epoch 29/150\n",
      "36/36 [==============================] - 4s 117ms/step - loss: -22.9297 - accuracy: 0.2616 - val_loss: -23.7389 - val_accuracy: 0.2678\n",
      "Epoch 30/150\n",
      "36/36 [==============================] - 4s 118ms/step - loss: -23.9919 - accuracy: 0.2617 - val_loss: -24.4000 - val_accuracy: 0.2678\n",
      "Epoch 31/150\n",
      "36/36 [==============================] - 4s 117ms/step - loss: -24.6981 - accuracy: 0.2541 - val_loss: -25.0688 - val_accuracy: 0.2708\n",
      "Epoch 32/150\n",
      "36/36 [==============================] - 4s 118ms/step - loss: -25.4933 - accuracy: 0.2715 - val_loss: -26.2944 - val_accuracy: 0.2818\n",
      "Epoch 33/150\n",
      "36/36 [==============================] - 4s 118ms/step - loss: -26.4192 - accuracy: 0.2762 - val_loss: -26.5094 - val_accuracy: 0.2758\n",
      "Epoch 34/150\n",
      "36/36 [==============================] - 4s 117ms/step - loss: -27.1500 - accuracy: 0.2748 - val_loss: -27.4558 - val_accuracy: 0.2748\n",
      "Epoch 35/150\n",
      "36/36 [==============================] - 4s 117ms/step - loss: -29.0319 - accuracy: 0.2837 - val_loss: -26.7618 - val_accuracy: 0.2909\n",
      "Epoch 36/150\n",
      "36/36 [==============================] - 4s 118ms/step - loss: -27.8715 - accuracy: 0.2915 - val_loss: -29.4254 - val_accuracy: 0.2859\n",
      "Epoch 37/150\n",
      "36/36 [==============================] - 4s 118ms/step - loss: -29.6582 - accuracy: 0.2921 - val_loss: -30.1193 - val_accuracy: 0.2889\n",
      "Epoch 38/150\n",
      "36/36 [==============================] - 4s 120ms/step - loss: -28.9257 - accuracy: 0.3028 - val_loss: -29.6664 - val_accuracy: 0.2778\n",
      "Epoch 39/150\n",
      "36/36 [==============================] - 4s 118ms/step - loss: -30.8465 - accuracy: 0.2748 - val_loss: -31.0631 - val_accuracy: 0.2758\n",
      "Epoch 40/150\n",
      "36/36 [==============================] - 4s 118ms/step - loss: -32.3602 - accuracy: 0.2731 - val_loss: -31.6995 - val_accuracy: 0.2768\n",
      "Epoch 41/150\n",
      "36/36 [==============================] - 4s 119ms/step - loss: -33.2745 - accuracy: 0.2789 - val_loss: -32.6120 - val_accuracy: 0.2818\n",
      "Epoch 42/150\n",
      "36/36 [==============================] - 4s 119ms/step - loss: -34.0753 - accuracy: 0.2792 - val_loss: -33.5202 - val_accuracy: 0.2818\n",
      "Epoch 43/150\n",
      "36/36 [==============================] - 4s 119ms/step - loss: -35.4459 - accuracy: 0.2814 - val_loss: -34.1459 - val_accuracy: 0.2889\n",
      "Epoch 44/150\n",
      "36/36 [==============================] - 4s 119ms/step - loss: -34.5390 - accuracy: 0.3002 - val_loss: -34.9175 - val_accuracy: 0.2909\n",
      "Epoch 45/150\n",
      "36/36 [==============================] - 4s 117ms/step - loss: -35.6377 - accuracy: 0.2881 - val_loss: -35.7978 - val_accuracy: 0.2899\n",
      "Epoch 46/150\n",
      "36/36 [==============================] - 4s 118ms/step - loss: -37.8151 - accuracy: 0.2945 - val_loss: -36.5865 - val_accuracy: 0.2889\n",
      "Epoch 47/150\n",
      "36/36 [==============================] - 4s 120ms/step - loss: -38.8808 - accuracy: 0.2897 - val_loss: -37.4119 - val_accuracy: 0.2909\n",
      "Epoch 48/150\n",
      "36/36 [==============================] - 4s 122ms/step - loss: -38.5390 - accuracy: 0.2988 - val_loss: -38.2972 - val_accuracy: 0.2929\n",
      "Epoch 49/150\n",
      "36/36 [==============================] - 4s 119ms/step - loss: -40.0341 - accuracy: 0.2907 - val_loss: -38.7746 - val_accuracy: 0.2949\n",
      "Epoch 50/150\n",
      "36/36 [==============================] - 4s 119ms/step - loss: -39.9951 - accuracy: 0.2984 - val_loss: -39.6190 - val_accuracy: 0.2969\n",
      "Epoch 51/150\n",
      "36/36 [==============================] - 4s 119ms/step - loss: -42.0429 - accuracy: 0.2967 - val_loss: -40.2618 - val_accuracy: 0.2939\n",
      "Epoch 52/150\n",
      "36/36 [==============================] - 4s 119ms/step - loss: -41.3913 - accuracy: 0.3011 - val_loss: -41.1311 - val_accuracy: 0.2839\n",
      "Epoch 53/150\n",
      "36/36 [==============================] - 4s 119ms/step - loss: -42.9441 - accuracy: 0.2928 - val_loss: -40.4546 - val_accuracy: 0.2919\n",
      "Epoch 54/150\n",
      "36/36 [==============================] - 4s 121ms/step - loss: -42.8814 - accuracy: 0.2966 - val_loss: -42.5660 - val_accuracy: 0.2939\n",
      "Epoch 55/150\n",
      "36/36 [==============================] - 4s 119ms/step - loss: -44.3507 - accuracy: 0.2975 - val_loss: -43.4387 - val_accuracy: 0.2969\n",
      "Epoch 56/150\n",
      "36/36 [==============================] - 4s 120ms/step - loss: -45.2667 - accuracy: 0.3038 - val_loss: -44.1435 - val_accuracy: 0.2949\n",
      "Epoch 57/150\n",
      "36/36 [==============================] - 4s 121ms/step - loss: -45.9776 - accuracy: 0.3017 - val_loss: -44.7613 - val_accuracy: 0.2989\n",
      "Epoch 58/150\n",
      "36/36 [==============================] - 4s 122ms/step - loss: -46.2349 - accuracy: 0.3102 - val_loss: -45.6372 - val_accuracy: 0.2969\n",
      "Epoch 59/150\n",
      "36/36 [==============================] - 4s 120ms/step - loss: -49.4870 - accuracy: 0.2885 - val_loss: -46.5140 - val_accuracy: 0.2959\n",
      "Epoch 60/150\n",
      "36/36 [==============================] - 4s 118ms/step - loss: -48.3176 - accuracy: 0.3051 - val_loss: -47.0022 - val_accuracy: 0.2969\n",
      "Epoch 61/150\n",
      "36/36 [==============================] - 4s 119ms/step - loss: -50.1504 - accuracy: 0.3117 - val_loss: -47.6629 - val_accuracy: 0.3019\n",
      "Epoch 62/150\n",
      "36/36 [==============================] - 4s 119ms/step - loss: -51.3462 - accuracy: 0.3114 - val_loss: -48.2624 - val_accuracy: 0.3009\n",
      "Epoch 63/150\n",
      "36/36 [==============================] - 4s 120ms/step - loss: -52.1649 - accuracy: 0.3044 - val_loss: -48.8304 - val_accuracy: 0.2959\n",
      "Epoch 64/150\n",
      "36/36 [==============================] - 4s 119ms/step - loss: -52.5400 - accuracy: 0.3107 - val_loss: -49.5989 - val_accuracy: 0.2929\n",
      "Epoch 65/150\n",
      "36/36 [==============================] - 4s 119ms/step - loss: -53.9294 - accuracy: 0.3102 - val_loss: -50.1851 - val_accuracy: 0.3009\n",
      "Epoch 66/150\n",
      "36/36 [==============================] - 4s 118ms/step - loss: -53.5717 - accuracy: 0.3095 - val_loss: -51.2105 - val_accuracy: 0.2959\n",
      "Epoch 67/150\n",
      "36/36 [==============================] - 4s 118ms/step - loss: -53.5664 - accuracy: 0.2954 - val_loss: -51.5176 - val_accuracy: 0.2999\n",
      "Epoch 68/150\n",
      "36/36 [==============================] - 4s 119ms/step - loss: -55.2083 - accuracy: 0.3066 - val_loss: -52.1805 - val_accuracy: 0.2989\n",
      "Epoch 69/150\n",
      "36/36 [==============================] - 4s 118ms/step - loss: -55.1035 - accuracy: 0.3155 - val_loss: -53.0148 - val_accuracy: 0.2989\n",
      "Epoch 70/150\n",
      "36/36 [==============================] - 4s 118ms/step - loss: -58.4140 - accuracy: 0.3093 - val_loss: -53.8884 - val_accuracy: 0.3009\n",
      "Epoch 71/150\n",
      "36/36 [==============================] - 4s 120ms/step - loss: -57.4203 - accuracy: 0.3129 - val_loss: -54.6176 - val_accuracy: 0.3019\n",
      "Epoch 72/150\n",
      "36/36 [==============================] - 4s 119ms/step - loss: -58.9488 - accuracy: 0.3092 - val_loss: -54.8613 - val_accuracy: 0.3059\n",
      "Epoch 73/150\n",
      "36/36 [==============================] - 4s 117ms/step - loss: -60.1819 - accuracy: 0.3089 - val_loss: -55.5421 - val_accuracy: 0.3039\n",
      "Epoch 74/150\n",
      "36/36 [==============================] - 4s 118ms/step - loss: -60.2124 - accuracy: 0.3176 - val_loss: -54.6218 - val_accuracy: 0.3069\n",
      "Epoch 75/150\n",
      "36/36 [==============================] - 4s 119ms/step - loss: -58.9490 - accuracy: 0.3194 - val_loss: -56.7536 - val_accuracy: 0.2939\n",
      "Epoch 76/150\n",
      "36/36 [==============================] - 4s 118ms/step - loss: -63.0532 - accuracy: 0.2957 - val_loss: -56.8614 - val_accuracy: 0.2939\n",
      "Epoch 77/150\n",
      "36/36 [==============================] - 4s 118ms/step - loss: -62.1684 - accuracy: 0.3099 - val_loss: -57.6586 - val_accuracy: 0.2929\n",
      "Epoch 78/150\n",
      "36/36 [==============================] - 4s 118ms/step - loss: -63.2489 - accuracy: 0.3085 - val_loss: -59.1975 - val_accuracy: 0.2929\n",
      "Epoch 79/150\n",
      "36/36 [==============================] - 4s 119ms/step - loss: -63.6176 - accuracy: 0.3166 - val_loss: -59.9401 - val_accuracy: 0.2979\n",
      "Epoch 80/150\n",
      "36/36 [==============================] - 4s 118ms/step - loss: -65.9911 - accuracy: 0.3135 - val_loss: -60.2226 - val_accuracy: 0.3009\n",
      "Epoch 81/150\n",
      "36/36 [==============================] - 4s 119ms/step - loss: -65.4732 - accuracy: 0.3137 - val_loss: -61.3984 - val_accuracy: 0.3009\n",
      "Epoch 82/150\n",
      "36/36 [==============================] - 4s 118ms/step - loss: -67.4088 - accuracy: 0.3095 - val_loss: -61.8464 - val_accuracy: 0.2999\n",
      "Epoch 83/150\n",
      "36/36 [==============================] - 4s 117ms/step - loss: -67.3168 - accuracy: 0.3169 - val_loss: -62.4028 - val_accuracy: 0.3019\n",
      "Epoch 84/150\n",
      "36/36 [==============================] - 4s 120ms/step - loss: -67.8606 - accuracy: 0.3158 - val_loss: -63.0242 - val_accuracy: 0.2989\n",
      "Epoch 85/150\n",
      "36/36 [==============================] - 4s 118ms/step - loss: -68.5601 - accuracy: 0.3275 - val_loss: -63.8425 - val_accuracy: 0.2999\n",
      "Epoch 86/150\n",
      "36/36 [==============================] - 4s 119ms/step - loss: -68.9823 - accuracy: 0.3163 - val_loss: -65.1412 - val_accuracy: 0.3029\n",
      "Epoch 87/150\n",
      "36/36 [==============================] - 4s 119ms/step - loss: -70.7014 - accuracy: 0.3181 - val_loss: -65.3821 - val_accuracy: 0.2999\n",
      "Epoch 88/150\n",
      "36/36 [==============================] - 4s 118ms/step - loss: -69.4477 - accuracy: 0.3238 - val_loss: -66.7278 - val_accuracy: 0.2989\n",
      "Epoch 89/150\n",
      "36/36 [==============================] - 4s 119ms/step - loss: -74.1462 - accuracy: 0.3120 - val_loss: -66.0128 - val_accuracy: 0.3049\n",
      "Epoch 90/150\n",
      "36/36 [==============================] - 4s 118ms/step - loss: -72.1192 - accuracy: 0.3181 - val_loss: -67.5707 - val_accuracy: 0.3019\n",
      "Epoch 91/150\n",
      "36/36 [==============================] - 4s 119ms/step - loss: -72.7598 - accuracy: 0.3267 - val_loss: -68.5658 - val_accuracy: 0.2979\n",
      "Epoch 92/150\n",
      "36/36 [==============================] - 4s 118ms/step - loss: -73.1176 - accuracy: 0.3264 - val_loss: -69.2035 - val_accuracy: 0.2949\n",
      "Epoch 93/150\n",
      "36/36 [==============================] - 4s 119ms/step - loss: -74.6573 - accuracy: 0.3149 - val_loss: -69.8669 - val_accuracy: 0.2969\n",
      "Epoch 94/150\n",
      "36/36 [==============================] - 4s 118ms/step - loss: -75.6372 - accuracy: 0.3184 - val_loss: -70.5517 - val_accuracy: 0.2969\n",
      "Epoch 95/150\n",
      "36/36 [==============================] - 4s 118ms/step - loss: -76.8330 - accuracy: 0.3108 - val_loss: -70.9286 - val_accuracy: 0.2989\n",
      "Epoch 96/150\n",
      "36/36 [==============================] - 4s 119ms/step - loss: -78.6616 - accuracy: 0.3149 - val_loss: -71.7278 - val_accuracy: 0.2999\n",
      "Epoch 97/150\n",
      "36/36 [==============================] - 4s 117ms/step - loss: -78.3539 - accuracy: 0.3231 - val_loss: -73.0325 - val_accuracy: 0.2969\n",
      "Epoch 98/150\n",
      "36/36 [==============================] - 4s 118ms/step - loss: -80.0097 - accuracy: 0.3203 - val_loss: -73.9527 - val_accuracy: 0.2969\n",
      "Epoch 99/150\n",
      "36/36 [==============================] - 4s 119ms/step - loss: -80.7261 - accuracy: 0.3167 - val_loss: -73.9953 - val_accuracy: 0.3029\n",
      "Epoch 100/150\n",
      "36/36 [==============================] - 4s 118ms/step - loss: -81.5527 - accuracy: 0.3093 - val_loss: -75.0577 - val_accuracy: 0.3009\n",
      "Epoch 101/150\n",
      "36/36 [==============================] - 4s 118ms/step - loss: -81.8973 - accuracy: 0.3217 - val_loss: -75.6377 - val_accuracy: 0.3009\n",
      "Epoch 102/150\n",
      "36/36 [==============================] - 4s 118ms/step - loss: -81.5986 - accuracy: 0.3171 - val_loss: -76.1288 - val_accuracy: 0.2999\n",
      "Epoch 103/150\n",
      "36/36 [==============================] - 4s 119ms/step - loss: -86.0608 - accuracy: 0.3182 - val_loss: -76.4425 - val_accuracy: 0.3009\n",
      "Epoch 104/150\n",
      "36/36 [==============================] - 4s 118ms/step - loss: -82.8495 - accuracy: 0.3147 - val_loss: -77.1745 - val_accuracy: 0.2989\n",
      "Epoch 105/150\n",
      "36/36 [==============================] - 4s 119ms/step - loss: -85.7319 - accuracy: 0.3233 - val_loss: -77.5847 - val_accuracy: 0.2999\n",
      "Epoch 106/150\n",
      "36/36 [==============================] - 4s 118ms/step - loss: -86.5883 - accuracy: 0.3158 - val_loss: -78.9833 - val_accuracy: 0.3049\n",
      "Epoch 107/150\n",
      "36/36 [==============================] - 4s 119ms/step - loss: -87.0858 - accuracy: 0.3273 - val_loss: -79.1279 - val_accuracy: 0.3019\n",
      "Epoch 108/150\n",
      "36/36 [==============================] - 4s 118ms/step - loss: -89.3419 - accuracy: 0.3095 - val_loss: -80.3101 - val_accuracy: 0.3029\n",
      "Epoch 109/150\n",
      "36/36 [==============================] - 4s 120ms/step - loss: -89.9185 - accuracy: 0.3231 - val_loss: -80.7097 - val_accuracy: 0.3019\n",
      "Epoch 110/150\n",
      "36/36 [==============================] - 4s 119ms/step - loss: -89.3604 - accuracy: 0.3127 - val_loss: -81.4538 - val_accuracy: 0.2989\n",
      "Epoch 111/150\n"
     ]
    },
    {
     "name": "stdout",
     "output_type": "stream",
     "text": [
      "36/36 [==============================] - 4s 119ms/step - loss: -91.1375 - accuracy: 0.3170 - val_loss: -82.0719 - val_accuracy: 0.2989\n",
      "Epoch 112/150\n",
      "36/36 [==============================] - 4s 119ms/step - loss: -91.0744 - accuracy: 0.3215 - val_loss: -82.3311 - val_accuracy: 0.3009\n",
      "Epoch 113/150\n",
      "36/36 [==============================] - 4s 118ms/step - loss: -93.3594 - accuracy: 0.3167 - val_loss: -82.7739 - val_accuracy: 0.2959\n",
      "Epoch 114/150\n",
      "36/36 [==============================] - 4s 119ms/step - loss: -92.4240 - accuracy: 0.3225 - val_loss: -83.9201 - val_accuracy: 0.2959\n",
      "Epoch 115/150\n",
      "36/36 [==============================] - 4s 120ms/step - loss: -93.2958 - accuracy: 0.3184 - val_loss: -84.4980 - val_accuracy: 0.2989\n",
      "Epoch 116/150\n",
      "36/36 [==============================] - 4s 119ms/step - loss: -96.0958 - accuracy: 0.3145 - val_loss: -85.1080 - val_accuracy: 0.2979\n",
      "Epoch 117/150\n",
      "36/36 [==============================] - 4s 119ms/step - loss: -94.7217 - accuracy: 0.3194 - val_loss: -85.3535 - val_accuracy: 0.3019\n",
      "Epoch 118/150\n",
      "36/36 [==============================] - 4s 119ms/step - loss: -96.8582 - accuracy: 0.3256 - val_loss: -85.5495 - val_accuracy: 0.3029\n",
      "Epoch 119/150\n",
      "36/36 [==============================] - 4s 119ms/step - loss: -97.2171 - accuracy: 0.3176 - val_loss: -87.8131 - val_accuracy: 0.2979\n",
      "Epoch 120/150\n",
      "36/36 [==============================] - 4s 119ms/step - loss: -94.5695 - accuracy: 0.3230 - val_loss: -88.2234 - val_accuracy: 0.3019\n",
      "Epoch 121/150\n",
      "36/36 [==============================] - 4s 118ms/step - loss: -96.2864 - accuracy: 0.3283 - val_loss: -86.1729 - val_accuracy: 0.3029\n",
      "Epoch 122/150\n",
      "36/36 [==============================] - 4s 119ms/step - loss: -98.4080 - accuracy: 0.3210 - val_loss: -88.3353 - val_accuracy: 0.3009\n",
      "Epoch 123/150\n",
      "36/36 [==============================] - 4s 118ms/step - loss: -99.3381 - accuracy: 0.3226 - val_loss: -89.7964 - val_accuracy: 0.3019\n",
      "Epoch 124/150\n",
      "36/36 [==============================] - 4s 119ms/step - loss: -98.6226 - accuracy: 0.3291 - val_loss: -91.0447 - val_accuracy: 0.2989\n",
      "Epoch 125/150\n",
      "36/36 [==============================] - 4s 119ms/step - loss: -102.7148 - accuracy: 0.3173 - val_loss: -91.4437 - val_accuracy: 0.3009\n",
      "Epoch 126/150\n",
      "36/36 [==============================] - 4s 119ms/step - loss: -103.5078 - accuracy: 0.3218 - val_loss: -91.6695 - val_accuracy: 0.3029\n",
      "Epoch 127/150\n",
      "36/36 [==============================] - 4s 118ms/step - loss: -103.2585 - accuracy: 0.3268 - val_loss: -89.1168 - val_accuracy: 0.3069\n",
      "Epoch 128/150\n",
      "36/36 [==============================] - 4s 119ms/step - loss: -100.9248 - accuracy: 0.3167 - val_loss: -92.4711 - val_accuracy: 0.2989\n",
      "Epoch 129/150\n",
      "36/36 [==============================] - 4s 118ms/step - loss: -104.2302 - accuracy: 0.3218 - val_loss: -94.8902 - val_accuracy: 0.2989\n",
      "Epoch 130/150\n",
      "36/36 [==============================] - 4s 118ms/step - loss: -102.7523 - accuracy: 0.3242 - val_loss: -95.7036 - val_accuracy: 0.2949\n",
      "Epoch 131/150\n",
      "36/36 [==============================] - 4s 119ms/step - loss: -105.8825 - accuracy: 0.3251 - val_loss: -96.0663 - val_accuracy: 0.2959\n",
      "Epoch 132/150\n",
      "36/36 [==============================] - 4s 119ms/step - loss: -102.7384 - accuracy: 0.3323 - val_loss: -95.2040 - val_accuracy: 0.2989\n",
      "Epoch 133/150\n",
      "36/36 [==============================] - 4s 119ms/step - loss: -107.3171 - accuracy: 0.3204 - val_loss: -97.3071 - val_accuracy: 0.2869\n",
      "Epoch 134/150\n",
      "36/36 [==============================] - 4s 118ms/step - loss: -105.1919 - accuracy: 0.3218 - val_loss: -97.3091 - val_accuracy: 0.2959\n",
      "Epoch 135/150\n",
      "36/36 [==============================] - 4s 119ms/step - loss: -110.3055 - accuracy: 0.3278 - val_loss: -96.7048 - val_accuracy: 0.2969\n",
      "Epoch 136/150\n",
      "36/36 [==============================] - 4s 119ms/step - loss: -108.9548 - accuracy: 0.3282 - val_loss: -97.3297 - val_accuracy: 0.2959\n",
      "Epoch 137/150\n",
      "36/36 [==============================] - 4s 119ms/step - loss: -106.8806 - accuracy: 0.3243 - val_loss: -99.1098 - val_accuracy: 0.2969\n",
      "Epoch 138/150\n",
      "36/36 [==============================] - 4s 118ms/step - loss: -109.8037 - accuracy: 0.3314 - val_loss: -100.6833 - val_accuracy: 0.2959\n",
      "Epoch 139/150\n",
      "36/36 [==============================] - 4s 119ms/step - loss: -110.2003 - accuracy: 0.3240 - val_loss: -101.4221 - val_accuracy: 0.2999\n",
      "Epoch 140/150\n",
      "36/36 [==============================] - 4s 118ms/step - loss: -114.9791 - accuracy: 0.3204 - val_loss: -100.0852 - val_accuracy: 0.3009\n",
      "Epoch 141/150\n",
      "36/36 [==============================] - 4s 119ms/step - loss: -111.2969 - accuracy: 0.3326 - val_loss: -102.3442 - val_accuracy: 0.3009\n",
      "Epoch 142/150\n",
      "36/36 [==============================] - 4s 119ms/step - loss: -113.3341 - accuracy: 0.3286 - val_loss: -100.9366 - val_accuracy: 0.3019\n",
      "Epoch 143/150\n",
      "36/36 [==============================] - 4s 118ms/step - loss: -116.5323 - accuracy: 0.3184 - val_loss: -102.8893 - val_accuracy: 0.3029\n",
      "Epoch 144/150\n",
      "36/36 [==============================] - 4s 119ms/step - loss: -116.0887 - accuracy: 0.3271 - val_loss: -104.7096 - val_accuracy: 0.3009\n",
      "Epoch 145/150\n",
      "36/36 [==============================] - 4s 118ms/step - loss: -115.2713 - accuracy: 0.3199 - val_loss: -105.7654 - val_accuracy: 0.2979\n",
      "Epoch 146/150\n",
      "36/36 [==============================] - 4s 119ms/step - loss: -115.0668 - accuracy: 0.3324 - val_loss: -105.4679 - val_accuracy: 0.2979\n",
      "Epoch 147/150\n",
      "36/36 [==============================] - 4s 119ms/step - loss: -119.8936 - accuracy: 0.3204 - val_loss: -105.5152 - val_accuracy: 0.2969\n",
      "Epoch 148/150\n",
      "36/36 [==============================] - 4s 119ms/step - loss: -118.1327 - accuracy: 0.3334 - val_loss: -107.5302 - val_accuracy: 0.2989\n",
      "Epoch 149/150\n",
      "36/36 [==============================] - 4s 119ms/step - loss: -117.2054 - accuracy: 0.3334 - val_loss: -106.4901 - val_accuracy: 0.2999\n",
      "Epoch 150/150\n",
      "36/36 [==============================] - 4s 118ms/step - loss: -122.6820 - accuracy: 0.3214 - val_loss: -107.9380 - val_accuracy: 0.2999\n"
     ]
    }
   ],
   "source": [
    "history = model.fit(X_train, y_train, batch_size=256, epochs=150, validation_data=(X_valid, y_valid))"
   ]
  },
  {
   "cell_type": "markdown",
   "metadata": {},
   "source": [
    "### Evaluate Model 1"
   ]
  },
  {
   "cell_type": "code",
   "execution_count": 39,
   "metadata": {},
   "outputs": [],
   "source": [
    "import matplotlib.pyplot as plt"
   ]
  },
  {
   "cell_type": "code",
   "execution_count": 40,
   "metadata": {},
   "outputs": [
    {
     "data": {
      "image/png": "[encoded data removed]",
      "text/plain": [
       "<Figure size 576x360 with 1 Axes>"
      ]
     },
     "metadata": {
      "needs_background": "light"
     },
     "output_type": "display_data"
    }
   ],
   "source": [
    "# Model 1\n",
    "\n",
    "pd.DataFrame(history.history).plot(figsize=(8, 5))\n",
    "plt.grid(True)\n",
    "plt.gca().set_ylim(0, 1)\n",
    "plt.show()"
   ]
  },
  {
   "cell_type": "markdown",
   "metadata": {},
   "source": [
    "Model 1 dengan binary crossentropy, akurasi rendah dan error sangat tinggi"
   ]
  },
  {
   "cell_type": "markdown",
   "metadata": {},
   "source": [
    "### Build Model 2 - Categorical Crossentropy"
   ]
  },
  {
   "cell_type": "code",
   "execution_count": 42,
   "metadata": {},
   "outputs": [],
   "source": [
    "# Model 2: 5 output\n",
    "# Convert to categorical with 4 output\n",
    "\n",
    "y_train = tf.keras.utils.to_categorical(y_train, 4, dtype=\"float32\")\n",
    "y_valid = tf.keras.utils.to_categorical(y_valid, 4, dtype=\"float32\")\n",
    "y_test = tf.keras.utils.to_categorical(y_test, 4, dtype=\"float32\")"
   ]
  },
  {
   "cell_type": "code",
   "execution_count": 43,
   "metadata": {},
   "outputs": [
    {
     "name": "stdout",
     "output_type": "stream",
     "text": [
      "(8967, 454)\n",
      "(8967, 4)\n"
     ]
    }
   ],
   "source": [
    "print(X_train.shape)\n",
    "print(y_train.shape)"
   ]
  },
  {
   "cell_type": "code",
   "execution_count": 44,
   "metadata": {},
   "outputs": [],
   "source": [
    "# Model 2: Categorical_crossentropy\n",
    "\n",
    "model2 = tf.keras.models.Sequential()\n",
    "\n",
    "model2.add(\n",
    "    tf.keras.layers.Embedding(\n",
    "        input_dim = MAX_FEATURES,\n",
    "        output_dim = 32,\n",
    "        input_length = MAX_LENGTH\n",
    "    )\n",
    ")\n",
    "\n",
    "model2.add(tf.keras.layers.LSTM(units=32, dropout=0.5))\n",
    "\n",
    "model2.add(tf.keras.layers.Dense(4, activation='softmax'))"
   ]
  },
  {
   "cell_type": "code",
   "execution_count": 45,
   "metadata": {},
   "outputs": [
    {
     "name": "stdout",
     "output_type": "stream",
     "text": [
      "Model: \"sequential_1\"\n",
      "_________________________________________________________________\n",
      "Layer (type)                 Output Shape              Param #   \n",
      "=================================================================\n",
      "embedding_1 (Embedding)      (None, 454, 32)           16000     \n",
      "_________________________________________________________________\n",
      "lstm_1 (LSTM)                (None, 32)                8320      \n",
      "_________________________________________________________________\n",
      "dense_1 (Dense)              (None, 4)                 132       \n",
      "=================================================================\n",
      "Total params: 24,452\n",
      "Trainable params: 24,452\n",
      "Non-trainable params: 0\n",
      "_________________________________________________________________\n"
     ]
    }
   ],
   "source": [
    "model2.compile(optimizer='rmsprop',loss='categorical_crossentropy', metrics=['accuracy'])\n",
    "\n",
    "model2.summary()"
   ]
  },
  {
   "cell_type": "code",
   "execution_count": 46,
   "metadata": {},
   "outputs": [
    {
     "name": "stdout",
     "output_type": "stream",
     "text": [
      "Epoch 1/150\n",
      "36/36 [==============================] - 9s 143ms/step - loss: 1.3545 - accuracy: 0.3354 - val_loss: 1.2886 - val_accuracy: 0.3821\n",
      "Epoch 2/150\n",
      "36/36 [==============================] - 4s 120ms/step - loss: 1.2352 - accuracy: 0.4436 - val_loss: 1.1881 - val_accuracy: 0.5286\n",
      "Epoch 3/150\n",
      "36/36 [==============================] - 4s 121ms/step - loss: 1.1529 - accuracy: 0.5338 - val_loss: 1.1365 - val_accuracy: 0.5286\n",
      "Epoch 4/150\n",
      "36/36 [==============================] - 4s 122ms/step - loss: 1.0824 - accuracy: 0.5655 - val_loss: 1.0846 - val_accuracy: 0.5617\n",
      "Epoch 5/150\n",
      "36/36 [==============================] - 4s 122ms/step - loss: 1.0494 - accuracy: 0.5746 - val_loss: 1.0856 - val_accuracy: 0.5707\n",
      "Epoch 6/150\n",
      "36/36 [==============================] - 4s 122ms/step - loss: 1.0251 - accuracy: 0.5887 - val_loss: 1.0774 - val_accuracy: 0.5597\n",
      "Epoch 7/150\n",
      "36/36 [==============================] - 4s 122ms/step - loss: 0.9960 - accuracy: 0.6064 - val_loss: 1.1463 - val_accuracy: 0.5527\n",
      "Epoch 8/150\n",
      "36/36 [==============================] - 4s 121ms/step - loss: 1.0033 - accuracy: 0.5970 - val_loss: 1.1242 - val_accuracy: 0.5256\n",
      "Epoch 9/150\n",
      "36/36 [==============================] - 4s 122ms/step - loss: 0.9927 - accuracy: 0.6021 - val_loss: 1.0817 - val_accuracy: 0.5547\n",
      "Epoch 10/150\n",
      "36/36 [==============================] - 4s 124ms/step - loss: 0.9671 - accuracy: 0.6222 - val_loss: 1.0811 - val_accuracy: 0.5486\n",
      "Epoch 11/150\n",
      "36/36 [==============================] - 4s 123ms/step - loss: 0.9563 - accuracy: 0.6234 - val_loss: 1.0577 - val_accuracy: 0.5707\n",
      "Epoch 12/150\n",
      "36/36 [==============================] - 4s 121ms/step - loss: 0.9230 - accuracy: 0.6463 - val_loss: 1.0794 - val_accuracy: 0.5677\n",
      "Epoch 13/150\n",
      "36/36 [==============================] - 4s 119ms/step - loss: 0.9238 - accuracy: 0.6318 - val_loss: 1.0816 - val_accuracy: 0.5848\n",
      "Epoch 14/150\n",
      "36/36 [==============================] - 4s 120ms/step - loss: 0.9134 - accuracy: 0.6442 - val_loss: 1.1247 - val_accuracy: 0.5496\n",
      "Epoch 15/150\n",
      "36/36 [==============================] - 4s 119ms/step - loss: 0.9279 - accuracy: 0.6342 - val_loss: 1.0678 - val_accuracy: 0.5848\n",
      "Epoch 16/150\n",
      "36/36 [==============================] - 4s 119ms/step - loss: 0.8994 - accuracy: 0.6502 - val_loss: 1.0386 - val_accuracy: 0.5717\n",
      "Epoch 17/150\n",
      "36/36 [==============================] - 4s 119ms/step - loss: 0.8898 - accuracy: 0.6570 - val_loss: 1.0595 - val_accuracy: 0.5537\n",
      "Epoch 18/150\n",
      "36/36 [==============================] - 4s 120ms/step - loss: 0.9011 - accuracy: 0.6420 - val_loss: 1.0861 - val_accuracy: 0.5707\n",
      "Epoch 19/150\n",
      "36/36 [==============================] - 4s 119ms/step - loss: 0.8832 - accuracy: 0.6540 - val_loss: 1.0497 - val_accuracy: 0.5717\n",
      "Epoch 20/150\n",
      "36/36 [==============================] - 4s 120ms/step - loss: 0.8897 - accuracy: 0.6510 - val_loss: 1.1130 - val_accuracy: 0.5707\n",
      "Epoch 21/150\n",
      "36/36 [==============================] - 4s 120ms/step - loss: 0.8911 - accuracy: 0.6514 - val_loss: 1.0707 - val_accuracy: 0.5747\n",
      "Epoch 22/150\n",
      "36/36 [==============================] - 4s 120ms/step - loss: 0.8909 - accuracy: 0.6540 - val_loss: 1.0323 - val_accuracy: 0.5737\n",
      "Epoch 23/150\n",
      "36/36 [==============================] - 4s 120ms/step - loss: 0.8701 - accuracy: 0.6657 - val_loss: 1.0647 - val_accuracy: 0.5777\n",
      "Epoch 24/150\n",
      "36/36 [==============================] - 4s 120ms/step - loss: 0.8821 - accuracy: 0.6547 - val_loss: 1.0654 - val_accuracy: 0.5577\n",
      "Epoch 25/150\n",
      "36/36 [==============================] - 4s 120ms/step - loss: 0.8691 - accuracy: 0.6655 - val_loss: 1.0291 - val_accuracy: 0.5918\n",
      "Epoch 26/150\n",
      "36/36 [==============================] - 4s 121ms/step - loss: 0.8769 - accuracy: 0.6532 - val_loss: 1.0850 - val_accuracy: 0.5747\n",
      "Epoch 27/150\n",
      "36/36 [==============================] - 4s 121ms/step - loss: 0.8691 - accuracy: 0.6633 - val_loss: 1.0531 - val_accuracy: 0.5787\n",
      "Epoch 28/150\n",
      "36/36 [==============================] - 4s 120ms/step - loss: 0.8639 - accuracy: 0.6652 - val_loss: 1.0785 - val_accuracy: 0.5717\n",
      "Epoch 29/150\n",
      "36/36 [==============================] - 4s 120ms/step - loss: 0.8617 - accuracy: 0.6634 - val_loss: 1.0325 - val_accuracy: 0.5888\n",
      "Epoch 30/150\n",
      "36/36 [==============================] - 4s 121ms/step - loss: 0.8667 - accuracy: 0.6641 - val_loss: 1.0612 - val_accuracy: 0.5727\n",
      "Epoch 31/150\n",
      "36/36 [==============================] - 4s 121ms/step - loss: 0.8629 - accuracy: 0.6655 - val_loss: 1.0800 - val_accuracy: 0.5727\n",
      "Epoch 32/150\n",
      "36/36 [==============================] - 4s 121ms/step - loss: 0.8515 - accuracy: 0.6712 - val_loss: 1.0548 - val_accuracy: 0.5868\n",
      "Epoch 33/150\n",
      "36/36 [==============================] - 4s 121ms/step - loss: 0.8560 - accuracy: 0.6667 - val_loss: 1.0373 - val_accuracy: 0.5858\n",
      "Epoch 34/150\n",
      "36/36 [==============================] - 4s 121ms/step - loss: 0.8403 - accuracy: 0.6740 - val_loss: 1.0561 - val_accuracy: 0.5908\n",
      "Epoch 35/150\n",
      "36/36 [==============================] - 4s 121ms/step - loss: 0.8526 - accuracy: 0.6697 - val_loss: 1.0651 - val_accuracy: 0.5868\n",
      "Epoch 36/150\n",
      "36/36 [==============================] - 4s 120ms/step - loss: 0.8321 - accuracy: 0.6820 - val_loss: 1.1058 - val_accuracy: 0.5567\n",
      "Epoch 37/150\n",
      "36/36 [==============================] - 4s 120ms/step - loss: 0.8615 - accuracy: 0.6639 - val_loss: 1.0712 - val_accuracy: 0.5717\n",
      "Epoch 38/150\n",
      "36/36 [==============================] - 4s 121ms/step - loss: 0.8272 - accuracy: 0.6824 - val_loss: 1.0449 - val_accuracy: 0.5968\n",
      "Epoch 39/150\n",
      "36/36 [==============================] - 4s 121ms/step - loss: 0.8361 - accuracy: 0.6670 - val_loss: 1.0562 - val_accuracy: 0.5827\n",
      "Epoch 40/150\n",
      "36/36 [==============================] - 4s 120ms/step - loss: 0.8369 - accuracy: 0.6764 - val_loss: 1.0694 - val_accuracy: 0.5817\n",
      "Epoch 41/150\n",
      "36/36 [==============================] - 4s 121ms/step - loss: 0.8420 - accuracy: 0.6698 - val_loss: 1.0414 - val_accuracy: 0.5878\n",
      "Epoch 42/150\n",
      "36/36 [==============================] - 4s 121ms/step - loss: 0.8213 - accuracy: 0.6793 - val_loss: 1.0904 - val_accuracy: 0.5838\n",
      "Epoch 43/150\n",
      "36/36 [==============================] - 4s 121ms/step - loss: 0.8385 - accuracy: 0.6674 - val_loss: 1.0780 - val_accuracy: 0.5787\n",
      "Epoch 44/150\n",
      "36/36 [==============================] - 4s 121ms/step - loss: 0.8363 - accuracy: 0.6760 - val_loss: 1.0614 - val_accuracy: 0.5948\n",
      "Epoch 45/150\n",
      "36/36 [==============================] - 4s 121ms/step - loss: 0.8262 - accuracy: 0.6854 - val_loss: 1.0645 - val_accuracy: 0.5817\n",
      "Epoch 46/150\n",
      "36/36 [==============================] - 4s 121ms/step - loss: 0.8152 - accuracy: 0.6849 - val_loss: 1.0583 - val_accuracy: 0.5858\n",
      "Epoch 47/150\n",
      "36/36 [==============================] - 4s 120ms/step - loss: 0.8107 - accuracy: 0.6907 - val_loss: 1.0549 - val_accuracy: 0.5888\n",
      "Epoch 48/150\n",
      "36/36 [==============================] - 4s 120ms/step - loss: 0.8095 - accuracy: 0.6850 - val_loss: 1.0420 - val_accuracy: 0.5938\n",
      "Epoch 49/150\n",
      "36/36 [==============================] - 4s 122ms/step - loss: 0.8305 - accuracy: 0.6795 - val_loss: 1.0755 - val_accuracy: 0.5807\n",
      "Epoch 50/150\n",
      "36/36 [==============================] - 4s 121ms/step - loss: 0.8370 - accuracy: 0.6699 - val_loss: 1.0646 - val_accuracy: 0.5878\n",
      "Epoch 51/150\n",
      "36/36 [==============================] - 4s 121ms/step - loss: 0.8156 - accuracy: 0.6880 - val_loss: 1.0583 - val_accuracy: 0.5918\n",
      "Epoch 52/150\n",
      "36/36 [==============================] - 4s 121ms/step - loss: 0.8063 - accuracy: 0.6916 - val_loss: 1.0587 - val_accuracy: 0.5878\n",
      "Epoch 53/150\n",
      "36/36 [==============================] - 4s 121ms/step - loss: 0.8120 - accuracy: 0.6896 - val_loss: 1.0808 - val_accuracy: 0.5807\n",
      "Epoch 54/150\n",
      "36/36 [==============================] - 4s 121ms/step - loss: 0.8009 - accuracy: 0.6897 - val_loss: 1.0681 - val_accuracy: 0.5878\n",
      "Epoch 55/150\n",
      "36/36 [==============================] - 4s 122ms/step - loss: 0.8180 - accuracy: 0.6828 - val_loss: 1.0736 - val_accuracy: 0.5817\n",
      "Epoch 56/150\n",
      "36/36 [==============================] - 4s 121ms/step - loss: 0.8084 - accuracy: 0.6898 - val_loss: 1.0949 - val_accuracy: 0.5777\n",
      "Epoch 57/150\n",
      "36/36 [==============================] - 4s 121ms/step - loss: 0.8144 - accuracy: 0.6841 - val_loss: 1.0907 - val_accuracy: 0.5677\n"
     ]
    },
    {
     "name": "stdout",
     "output_type": "stream",
     "text": [
      "Epoch 58/150\n",
      "36/36 [==============================] - 4s 123ms/step - loss: 0.8272 - accuracy: 0.6762 - val_loss: 1.0555 - val_accuracy: 0.5827\n",
      "Epoch 59/150\n",
      "36/36 [==============================] - 4s 122ms/step - loss: 0.7991 - accuracy: 0.6937 - val_loss: 1.0532 - val_accuracy: 0.5908\n",
      "Epoch 60/150\n",
      "36/36 [==============================] - 4s 121ms/step - loss: 0.7891 - accuracy: 0.6926 - val_loss: 1.0810 - val_accuracy: 0.5858\n",
      "Epoch 61/150\n",
      "36/36 [==============================] - 4s 121ms/step - loss: 0.8048 - accuracy: 0.6913 - val_loss: 1.0870 - val_accuracy: 0.5677\n",
      "Epoch 62/150\n",
      "36/36 [==============================] - 4s 122ms/step - loss: 0.8026 - accuracy: 0.6925 - val_loss: 1.1028 - val_accuracy: 0.5888\n",
      "Epoch 63/150\n",
      "36/36 [==============================] - 4s 121ms/step - loss: 0.7995 - accuracy: 0.6863 - val_loss: 1.0915 - val_accuracy: 0.5938\n",
      "Epoch 64/150\n",
      "36/36 [==============================] - 4s 122ms/step - loss: 0.8055 - accuracy: 0.6875 - val_loss: 1.0707 - val_accuracy: 0.5988\n",
      "Epoch 65/150\n",
      "36/36 [==============================] - 4s 122ms/step - loss: 0.7865 - accuracy: 0.6987 - val_loss: 1.0689 - val_accuracy: 0.5888\n",
      "Epoch 66/150\n",
      "36/36 [==============================] - 4s 121ms/step - loss: 0.8043 - accuracy: 0.6918 - val_loss: 1.0663 - val_accuracy: 0.5817\n",
      "Epoch 67/150\n",
      "36/36 [==============================] - 4s 122ms/step - loss: 0.7868 - accuracy: 0.6972 - val_loss: 1.0745 - val_accuracy: 0.5928\n",
      "Epoch 68/150\n",
      "36/36 [==============================] - 4s 121ms/step - loss: 0.7856 - accuracy: 0.6930 - val_loss: 1.0641 - val_accuracy: 0.5978\n",
      "Epoch 69/150\n",
      "36/36 [==============================] - 4s 120ms/step - loss: 0.7995 - accuracy: 0.6990 - val_loss: 1.0749 - val_accuracy: 0.5817\n",
      "Epoch 70/150\n",
      "36/36 [==============================] - 4s 120ms/step - loss: 0.7823 - accuracy: 0.6952 - val_loss: 1.0938 - val_accuracy: 0.6038\n",
      "Epoch 71/150\n",
      "36/36 [==============================] - 4s 121ms/step - loss: 0.7808 - accuracy: 0.7018 - val_loss: 1.1093 - val_accuracy: 0.5858\n",
      "Epoch 72/150\n",
      "36/36 [==============================] - 4s 121ms/step - loss: 0.7900 - accuracy: 0.6976 - val_loss: 1.1040 - val_accuracy: 0.5757\n",
      "Epoch 73/150\n",
      "36/36 [==============================] - 4s 121ms/step - loss: 0.8032 - accuracy: 0.6819 - val_loss: 1.1001 - val_accuracy: 0.5817\n",
      "Epoch 74/150\n",
      "36/36 [==============================] - 4s 122ms/step - loss: 0.7884 - accuracy: 0.6930 - val_loss: 1.1550 - val_accuracy: 0.5827\n",
      "Epoch 75/150\n",
      "36/36 [==============================] - 4s 121ms/step - loss: 0.7888 - accuracy: 0.6948 - val_loss: 1.1226 - val_accuracy: 0.5727\n",
      "Epoch 76/150\n",
      "36/36 [==============================] - 4s 121ms/step - loss: 0.7904 - accuracy: 0.6933 - val_loss: 1.0978 - val_accuracy: 0.5938\n",
      "Epoch 77/150\n",
      "36/36 [==============================] - 4s 121ms/step - loss: 0.7708 - accuracy: 0.7049 - val_loss: 1.0987 - val_accuracy: 0.5777\n",
      "Epoch 78/150\n",
      "36/36 [==============================] - 4s 121ms/step - loss: 0.7729 - accuracy: 0.7049 - val_loss: 1.1153 - val_accuracy: 0.5838\n",
      "Epoch 79/150\n",
      "36/36 [==============================] - 4s 121ms/step - loss: 0.7633 - accuracy: 0.7031 - val_loss: 1.0722 - val_accuracy: 0.5938\n",
      "Epoch 80/150\n",
      "36/36 [==============================] - 4s 124ms/step - loss: 0.7745 - accuracy: 0.7021 - val_loss: 1.1044 - val_accuracy: 0.5888\n",
      "Epoch 81/150\n",
      "36/36 [==============================] - 4s 123ms/step - loss: 0.7748 - accuracy: 0.6999 - val_loss: 1.1211 - val_accuracy: 0.5737\n",
      "Epoch 82/150\n",
      "36/36 [==============================] - 4s 120ms/step - loss: 0.7701 - accuracy: 0.7035 - val_loss: 1.0800 - val_accuracy: 0.5978\n",
      "Epoch 83/150\n",
      "36/36 [==============================] - 4s 121ms/step - loss: 0.7729 - accuracy: 0.7013 - val_loss: 1.1299 - val_accuracy: 0.5908\n",
      "Epoch 84/150\n",
      "36/36 [==============================] - 4s 122ms/step - loss: 0.7683 - accuracy: 0.7045 - val_loss: 1.1108 - val_accuracy: 0.5898\n",
      "Epoch 85/150\n",
      "36/36 [==============================] - 4s 122ms/step - loss: 0.7642 - accuracy: 0.7026 - val_loss: 1.0835 - val_accuracy: 0.5978\n",
      "Epoch 86/150\n",
      "36/36 [==============================] - 4s 125ms/step - loss: 0.7651 - accuracy: 0.7065 - val_loss: 1.1153 - val_accuracy: 0.5878\n",
      "Epoch 87/150\n",
      "36/36 [==============================] - 4s 124ms/step - loss: 0.7424 - accuracy: 0.7078 - val_loss: 1.0797 - val_accuracy: 0.5888\n",
      "Epoch 88/150\n",
      "36/36 [==============================] - 4s 123ms/step - loss: 0.7335 - accuracy: 0.7227 - val_loss: 1.0891 - val_accuracy: 0.6148\n",
      "Epoch 89/150\n",
      "36/36 [==============================] - 5s 125ms/step - loss: 0.7503 - accuracy: 0.7113 - val_loss: 1.0739 - val_accuracy: 0.5958\n",
      "Epoch 90/150\n",
      "36/36 [==============================] - 4s 122ms/step - loss: 0.7465 - accuracy: 0.7099 - val_loss: 1.1228 - val_accuracy: 0.5848\n",
      "Epoch 91/150\n",
      "36/36 [==============================] - 4s 124ms/step - loss: 0.7501 - accuracy: 0.7095 - val_loss: 1.0996 - val_accuracy: 0.5817\n",
      "Epoch 92/150\n",
      "36/36 [==============================] - 5s 126ms/step - loss: 0.7597 - accuracy: 0.7089 - val_loss: 1.0771 - val_accuracy: 0.5928\n",
      "Epoch 93/150\n",
      "36/36 [==============================] - 4s 124ms/step - loss: 0.7447 - accuracy: 0.7184 - val_loss: 1.1249 - val_accuracy: 0.5978\n",
      "Epoch 94/150\n",
      "36/36 [==============================] - 4s 123ms/step - loss: 0.7454 - accuracy: 0.7132 - val_loss: 1.1074 - val_accuracy: 0.5988\n",
      "Epoch 95/150\n",
      "36/36 [==============================] - 4s 122ms/step - loss: 0.7513 - accuracy: 0.7102 - val_loss: 1.1000 - val_accuracy: 0.5898\n",
      "Epoch 96/150\n",
      "36/36 [==============================] - 4s 122ms/step - loss: 0.7390 - accuracy: 0.7134 - val_loss: 1.1283 - val_accuracy: 0.5868\n",
      "Epoch 97/150\n",
      "36/36 [==============================] - 4s 121ms/step - loss: 0.7386 - accuracy: 0.7166 - val_loss: 1.1121 - val_accuracy: 0.5958\n",
      "Epoch 98/150\n",
      "36/36 [==============================] - 4s 122ms/step - loss: 0.7398 - accuracy: 0.7124 - val_loss: 1.0963 - val_accuracy: 0.5928\n",
      "Epoch 99/150\n",
      "36/36 [==============================] - 4s 121ms/step - loss: 0.7362 - accuracy: 0.7169 - val_loss: 1.1141 - val_accuracy: 0.6048\n",
      "Epoch 100/150\n",
      "36/36 [==============================] - 4s 121ms/step - loss: 0.7451 - accuracy: 0.7109 - val_loss: 1.1161 - val_accuracy: 0.5928\n",
      "Epoch 101/150\n",
      "36/36 [==============================] - 4s 121ms/step - loss: 0.7574 - accuracy: 0.7104 - val_loss: 1.1204 - val_accuracy: 0.5968\n",
      "Epoch 102/150\n",
      "36/36 [==============================] - 4s 121ms/step - loss: 0.7450 - accuracy: 0.7147 - val_loss: 1.0987 - val_accuracy: 0.5958\n",
      "Epoch 103/150\n",
      "36/36 [==============================] - 4s 121ms/step - loss: 0.7209 - accuracy: 0.7245 - val_loss: 1.0935 - val_accuracy: 0.5958\n",
      "Epoch 104/150\n",
      "36/36 [==============================] - 4s 121ms/step - loss: 0.7404 - accuracy: 0.7130 - val_loss: 1.1373 - val_accuracy: 0.5918\n",
      "Epoch 105/150\n",
      "36/36 [==============================] - 4s 121ms/step - loss: 0.7279 - accuracy: 0.7191 - val_loss: 1.1591 - val_accuracy: 0.5868\n",
      "Epoch 106/150\n",
      "36/36 [==============================] - 4s 122ms/step - loss: 0.7418 - accuracy: 0.7178 - val_loss: 1.1094 - val_accuracy: 0.5998\n",
      "Epoch 107/150\n",
      "36/36 [==============================] - 4s 122ms/step - loss: 0.7210 - accuracy: 0.7317 - val_loss: 1.1144 - val_accuracy: 0.5898\n",
      "Epoch 108/150\n",
      "36/36 [==============================] - 4s 123ms/step - loss: 0.7327 - accuracy: 0.7118 - val_loss: 1.1225 - val_accuracy: 0.5928\n",
      "Epoch 109/150\n",
      "36/36 [==============================] - 4s 122ms/step - loss: 0.7220 - accuracy: 0.7231 - val_loss: 1.1130 - val_accuracy: 0.5998\n",
      "Epoch 110/150\n",
      "36/36 [==============================] - 4s 122ms/step - loss: 0.7155 - accuracy: 0.7234 - val_loss: 1.1142 - val_accuracy: 0.5888\n",
      "Epoch 111/150\n",
      "36/36 [==============================] - 4s 120ms/step - loss: 0.7109 - accuracy: 0.7260 - val_loss: 1.1038 - val_accuracy: 0.5958\n",
      "Epoch 112/150\n",
      "36/36 [==============================] - 4s 121ms/step - loss: 0.7209 - accuracy: 0.7208 - val_loss: 1.1131 - val_accuracy: 0.6038\n",
      "Epoch 113/150\n",
      "36/36 [==============================] - 4s 122ms/step - loss: 0.7223 - accuracy: 0.7114 - val_loss: 1.1659 - val_accuracy: 0.5807\n",
      "Epoch 114/150\n",
      "36/36 [==============================] - 4s 122ms/step - loss: 0.7405 - accuracy: 0.7120 - val_loss: 1.1316 - val_accuracy: 0.5888\n"
     ]
    },
    {
     "name": "stdout",
     "output_type": "stream",
     "text": [
      "Epoch 115/150\n",
      "36/36 [==============================] - 4s 122ms/step - loss: 0.7192 - accuracy: 0.7236 - val_loss: 1.1095 - val_accuracy: 0.5958\n",
      "Epoch 116/150\n",
      "36/36 [==============================] - 4s 122ms/step - loss: 0.7224 - accuracy: 0.7239 - val_loss: 1.1569 - val_accuracy: 0.6008\n",
      "Epoch 117/150\n",
      "36/36 [==============================] - 4s 121ms/step - loss: 0.7290 - accuracy: 0.7186 - val_loss: 1.0993 - val_accuracy: 0.6068\n",
      "Epoch 118/150\n",
      "36/36 [==============================] - 4s 122ms/step - loss: 0.7089 - accuracy: 0.7307 - val_loss: 1.1565 - val_accuracy: 0.5878\n",
      "Epoch 119/150\n",
      "36/36 [==============================] - 4s 121ms/step - loss: 0.7150 - accuracy: 0.7240 - val_loss: 1.1435 - val_accuracy: 0.5848\n",
      "Epoch 120/150\n",
      "36/36 [==============================] - 4s 121ms/step - loss: 0.7207 - accuracy: 0.7207 - val_loss: 1.1342 - val_accuracy: 0.6058\n",
      "Epoch 121/150\n",
      "36/36 [==============================] - 4s 122ms/step - loss: 0.7167 - accuracy: 0.7200 - val_loss: 1.1375 - val_accuracy: 0.5998\n",
      "Epoch 122/150\n",
      "36/36 [==============================] - 4s 121ms/step - loss: 0.7059 - accuracy: 0.7331 - val_loss: 1.1377 - val_accuracy: 0.5988\n",
      "Epoch 123/150\n",
      "36/36 [==============================] - 4s 121ms/step - loss: 0.7207 - accuracy: 0.7224 - val_loss: 1.1431 - val_accuracy: 0.5978\n",
      "Epoch 124/150\n",
      "36/36 [==============================] - 4s 122ms/step - loss: 0.7200 - accuracy: 0.7226 - val_loss: 1.1514 - val_accuracy: 0.5777\n",
      "Epoch 125/150\n",
      "36/36 [==============================] - 4s 122ms/step - loss: 0.7184 - accuracy: 0.7198 - val_loss: 1.1542 - val_accuracy: 0.5938\n",
      "Epoch 126/150\n",
      "36/36 [==============================] - 4s 121ms/step - loss: 0.7207 - accuracy: 0.7244 - val_loss: 1.1384 - val_accuracy: 0.6018\n",
      "Epoch 127/150\n",
      "36/36 [==============================] - 4s 123ms/step - loss: 0.6892 - accuracy: 0.7368 - val_loss: 1.1409 - val_accuracy: 0.5908\n",
      "Epoch 128/150\n",
      "36/36 [==============================] - 4s 122ms/step - loss: 0.7107 - accuracy: 0.7231 - val_loss: 1.1430 - val_accuracy: 0.5888\n",
      "Epoch 129/150\n",
      "36/36 [==============================] - 4s 121ms/step - loss: 0.7024 - accuracy: 0.7262 - val_loss: 1.1192 - val_accuracy: 0.6028\n",
      "Epoch 130/150\n",
      "36/36 [==============================] - 4s 121ms/step - loss: 0.7068 - accuracy: 0.7274 - val_loss: 1.1371 - val_accuracy: 0.6058\n",
      "Epoch 131/150\n",
      "36/36 [==============================] - 4s 122ms/step - loss: 0.7008 - accuracy: 0.7301 - val_loss: 1.1296 - val_accuracy: 0.6058\n",
      "Epoch 132/150\n",
      "36/36 [==============================] - 4s 121ms/step - loss: 0.6969 - accuracy: 0.7327 - val_loss: 1.1614 - val_accuracy: 0.6068\n",
      "Epoch 133/150\n",
      "36/36 [==============================] - 4s 121ms/step - loss: 0.7074 - accuracy: 0.7211 - val_loss: 1.1385 - val_accuracy: 0.6058\n",
      "Epoch 134/150\n",
      "36/36 [==============================] - 4s 121ms/step - loss: 0.7119 - accuracy: 0.7284 - val_loss: 1.1337 - val_accuracy: 0.6008\n",
      "Epoch 135/150\n",
      "36/36 [==============================] - 4s 121ms/step - loss: 0.7002 - accuracy: 0.7181 - val_loss: 1.1704 - val_accuracy: 0.6068\n",
      "Epoch 136/150\n",
      "36/36 [==============================] - 4s 123ms/step - loss: 0.6995 - accuracy: 0.7331 - val_loss: 1.1635 - val_accuracy: 0.5918\n",
      "Epoch 137/150\n",
      "36/36 [==============================] - 4s 122ms/step - loss: 0.7011 - accuracy: 0.7260 - val_loss: 1.1292 - val_accuracy: 0.5928\n",
      "Epoch 138/150\n",
      "36/36 [==============================] - 4s 121ms/step - loss: 0.6897 - accuracy: 0.7280 - val_loss: 1.1316 - val_accuracy: 0.6028\n",
      "Epoch 139/150\n",
      "36/36 [==============================] - 4s 120ms/step - loss: 0.6902 - accuracy: 0.7343 - val_loss: 1.1538 - val_accuracy: 0.6098\n",
      "Epoch 140/150\n",
      "36/36 [==============================] - 4s 121ms/step - loss: 0.6808 - accuracy: 0.7428 - val_loss: 1.1234 - val_accuracy: 0.6088\n",
      "Epoch 141/150\n",
      "36/36 [==============================] - 4s 121ms/step - loss: 0.6949 - accuracy: 0.7327 - val_loss: 1.1434 - val_accuracy: 0.6008\n",
      "Epoch 142/150\n",
      "36/36 [==============================] - 4s 121ms/step - loss: 0.6971 - accuracy: 0.7346 - val_loss: 1.1534 - val_accuracy: 0.5898\n",
      "Epoch 143/150\n",
      "36/36 [==============================] - 4s 121ms/step - loss: 0.7057 - accuracy: 0.7293 - val_loss: 1.1848 - val_accuracy: 0.5958\n",
      "Epoch 144/150\n",
      "36/36 [==============================] - 4s 122ms/step - loss: 0.6742 - accuracy: 0.7418 - val_loss: 1.1767 - val_accuracy: 0.5908\n",
      "Epoch 145/150\n",
      "36/36 [==============================] - 4s 121ms/step - loss: 0.6885 - accuracy: 0.7332 - val_loss: 1.1603 - val_accuracy: 0.5998\n",
      "Epoch 146/150\n",
      "36/36 [==============================] - 4s 121ms/step - loss: 0.6768 - accuracy: 0.7368 - val_loss: 1.1646 - val_accuracy: 0.5998\n",
      "Epoch 147/150\n",
      "36/36 [==============================] - 4s 120ms/step - loss: 0.6891 - accuracy: 0.7324 - val_loss: 1.1691 - val_accuracy: 0.5998\n",
      "Epoch 148/150\n",
      "36/36 [==============================] - 4s 121ms/step - loss: 0.6898 - accuracy: 0.7343 - val_loss: 1.1499 - val_accuracy: 0.6078\n",
      "Epoch 149/150\n",
      "36/36 [==============================] - 4s 121ms/step - loss: 0.6783 - accuracy: 0.7415 - val_loss: 1.1711 - val_accuracy: 0.5998\n",
      "Epoch 150/150\n",
      "36/36 [==============================] - 4s 122ms/step - loss: 0.7042 - accuracy: 0.7197 - val_loss: 1.1621 - val_accuracy: 0.5938\n"
     ]
    }
   ],
   "source": [
    "# history 2\n",
    "history2 = model2.fit(X_train, y_train, batch_size=256, epochs=150, validation_data=(X_valid, y_valid))"
   ]
  },
  {
   "cell_type": "markdown",
   "metadata": {},
   "source": [
    "## Evaluate Model 2"
   ]
  },
  {
   "cell_type": "code",
   "execution_count": 48,
   "metadata": {
    "scrolled": true
   },
   "outputs": [
    {
     "data": {
      "image/png": "[encoded data removed]",
      "text/plain": [
       "<Figure size 576x360 with 1 Axes>"
      ]
     },
     "metadata": {
      "needs_background": "light"
     },
     "output_type": "display_data"
    }
   ],
   "source": [
    "# Model 2\n",
    "\n",
    "pd.DataFrame(history2.history).plot(figsize=(8, 5))\n",
    "plt.grid(True)\n",
    "plt.gca().set_ylim(0, 1)\n",
    "plt.show()"
   ]
  },
  {
   "cell_type": "code",
   "execution_count": 111,
   "metadata": {},
   "outputs": [
    {
     "name": "stdout",
     "output_type": "stream",
     "text": [
      "35/35 [==============================] - 1s 16ms/step - loss: 1.0607 - accuracy: 0.6164\n"
     ]
    },
    {
     "data": {
      "text/plain": [
       "[1.0606697797775269, 0.6164259910583496]"
      ]
     },
     "execution_count": 111,
     "metadata": {},
     "output_type": "execute_result"
    }
   ],
   "source": [
    "model2.evaluate(X_test, y_test)"
   ]
  },
  {
   "cell_type": "code",
   "execution_count": null,
   "metadata": {},
   "outputs": [],
   "source": [
    "class_name = Encoder.classes_.tolist()\n",
    "class_name"
   ]
  },
  {
   "cell_type": "code",
   "execution_count": 71,
   "metadata": {},
   "outputs": [
    {
     "data": {
      "text/plain": [
       "array([[155,  23,  25,  24],\n",
       "       [ 16, 177,  43,  32],\n",
       "       [ 21,  52, 261,  51],\n",
       "       [ 50,  46,  42,  90]], dtype=int64)"
      ]
     },
     "execution_count": 71,
     "metadata": {},
     "output_type": "execute_result"
    }
   ],
   "source": [
    "cm"
   ]
  },
  {
   "cell_type": "code",
   "execution_count": 110,
   "metadata": {
    "scrolled": true
   },
   "outputs": [
    {
     "data": {
      "image/png": "[encoded data removed]",
      "text/plain": [
       "<Figure size 576x576 with 2 Axes>"
      ]
     },
     "metadata": {
      "needs_background": "light"
     },
     "output_type": "display_data"
    }
   ],
   "source": [
    "from sklearn.metrics import classification_report, confusion_matrix\n",
    "import seaborn as sns\n",
    "\n",
    "y_pred = model2.predict(X_test)\n",
    "\n",
    "cm = confusion_matrix(y_test.argmax(axis=1), np.argmax(y_pred, axis=1))\n",
    "cm = pd.DataFrame(cm, index=class_name, columns=class_name)\n",
    "\n",
    "plt.subplots(figsize=(8, 8))\n",
    "sns.heatmap(cm, annot=True, annot_kws={\"size\": 12}, fmt=\"d\")\n",
    "\n",
    "plt.xlabel('Predicted')\n",
    "plt.ylabel('Actual')\n",
    "plt.show()"
   ]
  },
  {
   "cell_type": "markdown",
   "metadata": {},
   "source": [
    "# Summary"
   ]
  },
  {
   "cell_type": "markdown",
   "metadata": {},
   "source": [
    "Model 2 LSTM categorical crossentropy diperoleh akurasi 61% namun tingkat loss pada model masih tinggi dan model tergolong overfit karena validation loss jauh lebih tinggi dari training loss, hal ini bisa disebabkan oleh \n",
    "1. Dataset yang kecil (11072 data untuk 4 label) \n",
    "2. Data label yang tidak seimbang. Data label dapat disampling agar seimbang, namun dataset menjadi lebih kecil\n",
    "3. Data deskripsi yang tidak relevan dengan label"
   ]
  }
 ],
 "metadata": {
  "kernelspec": {
   "display_name": "Python 3",
   "language": "python",
   "name": "python3"
  },
  "language_info": {
   "codemirror_mode": {
    "name": "ipython",
    "version": 3
   },
   "file_extension": ".py",
   "mimetype": "text/x-python",
   "name": "python",
   "nbconvert_exporter": "python",
   "pygments_lexer": "ipython3",
   "version": "3.8.7"
  }
 },
 "nbformat": 4,
 "nbformat_minor": 4
}
