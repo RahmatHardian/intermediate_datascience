{
<<<<<<< HEAD
 "cells": [
  {
   "cell_type": "markdown",
   "metadata": {
    "id": "2RwnvSI_1EzK"
   },
   "source": [
    "<img src = \"https://global-uploads.webflow.com/5f0d53c042a9ed6288de7f8d/5f6337ae2cfaa10946ceeb06_Hacktiv8%20logo%20horizontal%2001%20black-p-500.png\" width = 400 >\n",
    "<h1 align=center><font size = 5>Hacktiv8 Intermediate Python for Data Science</font></h1>"
   ]
  },
  {
   "cell_type": "markdown",
   "metadata": {
    "id": "9I8s7LCH1oit"
   },
   "source": [
    "Project Overview\n",
    "\n",
    "The data were obtained in a survey of students math and portuguese language courses in secondary school. It contains a lot of interesting social, gender and study information about students.\n",
    "\n",
    "The dataset contains 1044 instances and 32 variables (most of which binary and categorical). It consists of 2 other datasets. The first provides data for students enrolled in Portuguese class. The second describes students enrolled in a math course. There is overlap between the datasets, that is some students attend both classes.\n",
    "\n",
    "**Build an NN model for classifying whether a student has alcohol consumption problem.**"
   ]
  },
  {
   "cell_type": "markdown",
   "metadata": {
    "id": "7q7_QZdH3R5Y"
   },
   "source": [
    "Criteria:\tMeet Expectations\n",
    "\n",
    "Neural Network:\tMengimplementasikan NN dengan Tensorflow untuk membuat Klasifikasi\n",
    "\n",
    "Preprocessing:\tStudent Melakukan Preproses Dataset Sebelum Membuat Model.\n",
    "\n",
    "Apakah Kode Berjalan Tanpa Ada Error?:\tSeluruh Kode Berfungsi Dan Dibuat Dengan Benar."
   ]
  },
  {
   "cell_type": "markdown",
   "metadata": {
    "id": "UVjhIHHl4ajU"
   },
   "source": [
    "# Library"
   ]
  },
  {
   "cell_type": "code",
   "execution_count": 5,
   "metadata": {
    "id": "7jjYK7UC4fWt"
   },
   "outputs": [],
   "source": [
    "import pandas as pd\n",
    "import seaborn as sns\n",
    "import matplotlib.pyplot as plt\n",
    "from sklearn.model_selection import train_test_split\n",
    "from sklearn.preprocessing import StandardScaler\n",
    "import numpy as np\n",
    "from sklearn.metrics import classification_report, confusion_matrix"
   ]
  },
  {
   "cell_type": "markdown",
   "metadata": {
    "id": "sfh1f_cwQdMW"
   },
   "source": [
    "# EDA"
   ]
  },
  {
   "cell_type": "code",
   "execution_count": 6,
   "metadata": {
    "colab": {
     "base_uri": "https://localhost:8080/",
     "height": 439
    },
    "id": "GiH_kNJvzXem",
    "outputId": "3f76008d-2413-4921-b6c4-0a2c3d9507ad"
   },
   "outputs": [
    {
     "data": {
      "text/html": [
       "<div>\n",
       "<style scoped>\n",
       "    .dataframe tbody tr th:only-of-type {\n",
       "        vertical-align: middle;\n",
       "    }\n",
       "\n",
       "    .dataframe tbody tr th {\n",
       "        vertical-align: top;\n",
       "    }\n",
       "\n",
       "    .dataframe thead th {\n",
       "        text-align: right;\n",
       "    }\n",
       "</style>\n",
       "<table border=\"1\" class=\"dataframe\">\n",
       "  <thead>\n",
       "    <tr style=\"text-align: right;\">\n",
       "      <th></th>\n",
       "      <th>school</th>\n",
       "      <th>sex</th>\n",
       "      <th>age</th>\n",
       "      <th>address</th>\n",
       "      <th>famsize</th>\n",
       "      <th>Pstatus</th>\n",
       "      <th>Medu</th>\n",
       "      <th>Fedu</th>\n",
       "      <th>Mjob</th>\n",
       "      <th>Fjob</th>\n",
       "      <th>...</th>\n",
       "      <th>famrel</th>\n",
       "      <th>freetime</th>\n",
       "      <th>goout</th>\n",
       "      <th>Dalc</th>\n",
       "      <th>Walc</th>\n",
       "      <th>health</th>\n",
       "      <th>absences</th>\n",
       "      <th>G1</th>\n",
       "      <th>G2</th>\n",
       "      <th>G3</th>\n",
       "    </tr>\n",
       "  </thead>\n",
       "  <tbody>\n",
       "    <tr>\n",
       "      <th>0</th>\n",
       "      <td>GP</td>\n",
       "      <td>F</td>\n",
       "      <td>18</td>\n",
       "      <td>U</td>\n",
       "      <td>GT3</td>\n",
       "      <td>A</td>\n",
       "      <td>4</td>\n",
       "      <td>4</td>\n",
       "      <td>at_home</td>\n",
       "      <td>teacher</td>\n",
       "      <td>...</td>\n",
       "      <td>4</td>\n",
       "      <td>3</td>\n",
       "      <td>4</td>\n",
       "      <td>1</td>\n",
       "      <td>1</td>\n",
       "      <td>3</td>\n",
       "      <td>6</td>\n",
       "      <td>5</td>\n",
       "      <td>6</td>\n",
       "      <td>6</td>\n",
       "    </tr>\n",
       "    <tr>\n",
       "      <th>1</th>\n",
       "      <td>GP</td>\n",
       "      <td>F</td>\n",
       "      <td>17</td>\n",
       "      <td>U</td>\n",
       "      <td>GT3</td>\n",
       "      <td>T</td>\n",
       "      <td>1</td>\n",
       "      <td>1</td>\n",
       "      <td>at_home</td>\n",
       "      <td>other</td>\n",
       "      <td>...</td>\n",
       "      <td>5</td>\n",
       "      <td>3</td>\n",
       "      <td>3</td>\n",
       "      <td>1</td>\n",
       "      <td>1</td>\n",
       "      <td>3</td>\n",
       "      <td>4</td>\n",
       "      <td>5</td>\n",
       "      <td>5</td>\n",
       "      <td>6</td>\n",
       "    </tr>\n",
       "    <tr>\n",
       "      <th>2</th>\n",
       "      <td>GP</td>\n",
       "      <td>F</td>\n",
       "      <td>15</td>\n",
       "      <td>U</td>\n",
       "      <td>LE3</td>\n",
       "      <td>T</td>\n",
       "      <td>1</td>\n",
       "      <td>1</td>\n",
       "      <td>at_home</td>\n",
       "      <td>other</td>\n",
       "      <td>...</td>\n",
       "      <td>4</td>\n",
       "      <td>3</td>\n",
       "      <td>2</td>\n",
       "      <td>2</td>\n",
       "      <td>3</td>\n",
       "      <td>3</td>\n",
       "      <td>10</td>\n",
       "      <td>7</td>\n",
       "      <td>8</td>\n",
       "      <td>10</td>\n",
       "    </tr>\n",
       "    <tr>\n",
       "      <th>3</th>\n",
       "      <td>GP</td>\n",
       "      <td>F</td>\n",
       "      <td>15</td>\n",
       "      <td>U</td>\n",
       "      <td>GT3</td>\n",
       "      <td>T</td>\n",
       "      <td>4</td>\n",
       "      <td>2</td>\n",
       "      <td>health</td>\n",
       "      <td>services</td>\n",
       "      <td>...</td>\n",
       "      <td>3</td>\n",
       "      <td>2</td>\n",
       "      <td>2</td>\n",
       "      <td>1</td>\n",
       "      <td>1</td>\n",
       "      <td>5</td>\n",
       "      <td>2</td>\n",
       "      <td>15</td>\n",
       "      <td>14</td>\n",
       "      <td>15</td>\n",
       "    </tr>\n",
       "    <tr>\n",
       "      <th>4</th>\n",
       "      <td>GP</td>\n",
       "      <td>F</td>\n",
       "      <td>16</td>\n",
       "      <td>U</td>\n",
       "      <td>GT3</td>\n",
       "      <td>T</td>\n",
       "      <td>3</td>\n",
       "      <td>3</td>\n",
       "      <td>other</td>\n",
       "      <td>other</td>\n",
       "      <td>...</td>\n",
       "      <td>4</td>\n",
       "      <td>3</td>\n",
       "      <td>2</td>\n",
       "      <td>1</td>\n",
       "      <td>2</td>\n",
       "      <td>5</td>\n",
       "      <td>4</td>\n",
       "      <td>6</td>\n",
       "      <td>10</td>\n",
       "      <td>10</td>\n",
       "    </tr>\n",
       "    <tr>\n",
       "      <th>...</th>\n",
       "      <td>...</td>\n",
       "      <td>...</td>\n",
       "      <td>...</td>\n",
       "      <td>...</td>\n",
       "      <td>...</td>\n",
       "      <td>...</td>\n",
       "      <td>...</td>\n",
       "      <td>...</td>\n",
       "      <td>...</td>\n",
       "      <td>...</td>\n",
       "      <td>...</td>\n",
       "      <td>...</td>\n",
       "      <td>...</td>\n",
       "      <td>...</td>\n",
       "      <td>...</td>\n",
       "      <td>...</td>\n",
       "      <td>...</td>\n",
       "      <td>...</td>\n",
       "      <td>...</td>\n",
       "      <td>...</td>\n",
       "      <td>...</td>\n",
       "    </tr>\n",
       "    <tr>\n",
       "      <th>390</th>\n",
       "      <td>MS</td>\n",
       "      <td>M</td>\n",
       "      <td>20</td>\n",
       "      <td>U</td>\n",
       "      <td>LE3</td>\n",
       "      <td>A</td>\n",
       "      <td>2</td>\n",
       "      <td>2</td>\n",
       "      <td>services</td>\n",
       "      <td>services</td>\n",
       "      <td>...</td>\n",
       "      <td>5</td>\n",
       "      <td>5</td>\n",
       "      <td>4</td>\n",
       "      <td>4</td>\n",
       "      <td>5</td>\n",
       "      <td>4</td>\n",
       "      <td>11</td>\n",
       "      <td>9</td>\n",
       "      <td>9</td>\n",
       "      <td>9</td>\n",
       "    </tr>\n",
       "    <tr>\n",
       "      <th>391</th>\n",
       "      <td>MS</td>\n",
       "      <td>M</td>\n",
       "      <td>17</td>\n",
       "      <td>U</td>\n",
       "      <td>LE3</td>\n",
       "      <td>T</td>\n",
       "      <td>3</td>\n",
       "      <td>1</td>\n",
       "      <td>services</td>\n",
       "      <td>services</td>\n",
       "      <td>...</td>\n",
       "      <td>2</td>\n",
       "      <td>4</td>\n",
       "      <td>5</td>\n",
       "      <td>3</td>\n",
       "      <td>4</td>\n",
       "      <td>2</td>\n",
       "      <td>3</td>\n",
       "      <td>14</td>\n",
       "      <td>16</td>\n",
       "      <td>16</td>\n",
       "    </tr>\n",
       "    <tr>\n",
       "      <th>392</th>\n",
       "      <td>MS</td>\n",
       "      <td>M</td>\n",
       "      <td>21</td>\n",
       "      <td>R</td>\n",
       "      <td>GT3</td>\n",
       "      <td>T</td>\n",
       "      <td>1</td>\n",
       "      <td>1</td>\n",
       "      <td>other</td>\n",
       "      <td>other</td>\n",
       "      <td>...</td>\n",
       "      <td>5</td>\n",
       "      <td>5</td>\n",
       "      <td>3</td>\n",
       "      <td>3</td>\n",
       "      <td>3</td>\n",
       "      <td>3</td>\n",
       "      <td>3</td>\n",
       "      <td>10</td>\n",
       "      <td>8</td>\n",
       "      <td>7</td>\n",
       "    </tr>\n",
       "    <tr>\n",
       "      <th>393</th>\n",
       "      <td>MS</td>\n",
       "      <td>M</td>\n",
       "      <td>18</td>\n",
       "      <td>R</td>\n",
       "      <td>LE3</td>\n",
       "      <td>T</td>\n",
       "      <td>3</td>\n",
       "      <td>2</td>\n",
       "      <td>services</td>\n",
       "      <td>other</td>\n",
       "      <td>...</td>\n",
       "      <td>4</td>\n",
       "      <td>4</td>\n",
       "      <td>1</td>\n",
       "      <td>3</td>\n",
       "      <td>4</td>\n",
       "      <td>5</td>\n",
       "      <td>0</td>\n",
       "      <td>11</td>\n",
       "      <td>12</td>\n",
       "      <td>10</td>\n",
       "    </tr>\n",
       "    <tr>\n",
       "      <th>394</th>\n",
       "      <td>MS</td>\n",
       "      <td>M</td>\n",
       "      <td>19</td>\n",
       "      <td>U</td>\n",
       "      <td>LE3</td>\n",
       "      <td>T</td>\n",
       "      <td>1</td>\n",
       "      <td>1</td>\n",
       "      <td>other</td>\n",
       "      <td>at_home</td>\n",
       "      <td>...</td>\n",
       "      <td>3</td>\n",
       "      <td>2</td>\n",
       "      <td>3</td>\n",
       "      <td>3</td>\n",
       "      <td>3</td>\n",
       "      <td>5</td>\n",
       "      <td>5</td>\n",
       "      <td>8</td>\n",
       "      <td>9</td>\n",
       "      <td>9</td>\n",
       "    </tr>\n",
       "  </tbody>\n",
       "</table>\n",
       "<p>395 rows × 33 columns</p>\n",
       "</div>"
      ],
      "text/plain": [
       "    school sex  age address famsize Pstatus  Medu  Fedu      Mjob      Fjob  \\\n",
       "0       GP   F   18       U     GT3       A     4     4   at_home   teacher   \n",
       "1       GP   F   17       U     GT3       T     1     1   at_home     other   \n",
       "2       GP   F   15       U     LE3       T     1     1   at_home     other   \n",
       "3       GP   F   15       U     GT3       T     4     2    health  services   \n",
       "4       GP   F   16       U     GT3       T     3     3     other     other   \n",
       "..     ...  ..  ...     ...     ...     ...   ...   ...       ...       ...   \n",
       "390     MS   M   20       U     LE3       A     2     2  services  services   \n",
       "391     MS   M   17       U     LE3       T     3     1  services  services   \n",
       "392     MS   M   21       R     GT3       T     1     1     other     other   \n",
       "393     MS   M   18       R     LE3       T     3     2  services     other   \n",
       "394     MS   M   19       U     LE3       T     1     1     other   at_home   \n",
       "\n",
       "     ... famrel freetime  goout  Dalc  Walc health absences  G1  G2  G3  \n",
       "0    ...      4        3      4     1     1      3        6   5   6   6  \n",
       "1    ...      5        3      3     1     1      3        4   5   5   6  \n",
       "2    ...      4        3      2     2     3      3       10   7   8  10  \n",
       "3    ...      3        2      2     1     1      5        2  15  14  15  \n",
       "4    ...      4        3      2     1     2      5        4   6  10  10  \n",
       "..   ...    ...      ...    ...   ...   ...    ...      ...  ..  ..  ..  \n",
       "390  ...      5        5      4     4     5      4       11   9   9   9  \n",
       "391  ...      2        4      5     3     4      2        3  14  16  16  \n",
       "392  ...      5        5      3     3     3      3        3  10   8   7  \n",
       "393  ...      4        4      1     3     4      5        0  11  12  10  \n",
       "394  ...      3        2      3     3     3      5        5   8   9   9  \n",
       "\n",
       "[395 rows x 33 columns]"
      ]
     },
     "execution_count": 6,
     "metadata": {},
     "output_type": "execute_result"
    }
   ],
   "source": [
    "import pandas as pd\n",
    "#studentmat = pd.read_csv('student-mat.csv')\n",
    "studentmat = pd.read_csv(\"dataset/student-mat.csv\")\n",
    "studentmat"
   ]
  },
  {
   "cell_type": "code",
   "execution_count": 7,
   "metadata": {
    "colab": {
     "base_uri": "https://localhost:8080/",
     "height": 439
    },
    "id": "HCOwWI0K056r",
    "outputId": "cee083d1-2078-4217-ba5b-e2719ae4564a"
   },
   "outputs": [
    {
     "data": {
      "text/html": [
       "<div>\n",
       "<style scoped>\n",
       "    .dataframe tbody tr th:only-of-type {\n",
       "        vertical-align: middle;\n",
       "    }\n",
       "\n",
       "    .dataframe tbody tr th {\n",
       "        vertical-align: top;\n",
       "    }\n",
       "\n",
       "    .dataframe thead th {\n",
       "        text-align: right;\n",
       "    }\n",
       "</style>\n",
       "<table border=\"1\" class=\"dataframe\">\n",
       "  <thead>\n",
       "    <tr style=\"text-align: right;\">\n",
       "      <th></th>\n",
       "      <th>school</th>\n",
       "      <th>sex</th>\n",
       "      <th>age</th>\n",
       "      <th>address</th>\n",
       "      <th>famsize</th>\n",
       "      <th>Pstatus</th>\n",
       "      <th>Medu</th>\n",
       "      <th>Fedu</th>\n",
       "      <th>Mjob</th>\n",
       "      <th>Fjob</th>\n",
       "      <th>...</th>\n",
       "      <th>famrel</th>\n",
       "      <th>freetime</th>\n",
       "      <th>goout</th>\n",
       "      <th>Dalc</th>\n",
       "      <th>Walc</th>\n",
       "      <th>health</th>\n",
       "      <th>absences</th>\n",
       "      <th>G1</th>\n",
       "      <th>G2</th>\n",
       "      <th>G3</th>\n",
       "    </tr>\n",
       "  </thead>\n",
       "  <tbody>\n",
       "    <tr>\n",
       "      <th>0</th>\n",
       "      <td>GP</td>\n",
       "      <td>F</td>\n",
       "      <td>18</td>\n",
       "      <td>U</td>\n",
       "      <td>GT3</td>\n",
       "      <td>A</td>\n",
       "      <td>4</td>\n",
       "      <td>4</td>\n",
       "      <td>at_home</td>\n",
       "      <td>teacher</td>\n",
       "      <td>...</td>\n",
       "      <td>4</td>\n",
       "      <td>3</td>\n",
       "      <td>4</td>\n",
       "      <td>1</td>\n",
       "      <td>1</td>\n",
       "      <td>3</td>\n",
       "      <td>4</td>\n",
       "      <td>0</td>\n",
       "      <td>11</td>\n",
       "      <td>11</td>\n",
       "    </tr>\n",
       "    <tr>\n",
       "      <th>1</th>\n",
       "      <td>GP</td>\n",
       "      <td>F</td>\n",
       "      <td>17</td>\n",
       "      <td>U</td>\n",
       "      <td>GT3</td>\n",
       "      <td>T</td>\n",
       "      <td>1</td>\n",
       "      <td>1</td>\n",
       "      <td>at_home</td>\n",
       "      <td>other</td>\n",
       "      <td>...</td>\n",
       "      <td>5</td>\n",
       "      <td>3</td>\n",
       "      <td>3</td>\n",
       "      <td>1</td>\n",
       "      <td>1</td>\n",
       "      <td>3</td>\n",
       "      <td>2</td>\n",
       "      <td>9</td>\n",
       "      <td>11</td>\n",
       "      <td>11</td>\n",
       "    </tr>\n",
       "    <tr>\n",
       "      <th>2</th>\n",
       "      <td>GP</td>\n",
       "      <td>F</td>\n",
       "      <td>15</td>\n",
       "      <td>U</td>\n",
       "      <td>LE3</td>\n",
       "      <td>T</td>\n",
       "      <td>1</td>\n",
       "      <td>1</td>\n",
       "      <td>at_home</td>\n",
       "      <td>other</td>\n",
       "      <td>...</td>\n",
       "      <td>4</td>\n",
       "      <td>3</td>\n",
       "      <td>2</td>\n",
       "      <td>2</td>\n",
       "      <td>3</td>\n",
       "      <td>3</td>\n",
       "      <td>6</td>\n",
       "      <td>12</td>\n",
       "      <td>13</td>\n",
       "      <td>12</td>\n",
       "    </tr>\n",
       "    <tr>\n",
       "      <th>3</th>\n",
       "      <td>GP</td>\n",
       "      <td>F</td>\n",
       "      <td>15</td>\n",
       "      <td>U</td>\n",
       "      <td>GT3</td>\n",
       "      <td>T</td>\n",
       "      <td>4</td>\n",
       "      <td>2</td>\n",
       "      <td>health</td>\n",
       "      <td>services</td>\n",
       "      <td>...</td>\n",
       "      <td>3</td>\n",
       "      <td>2</td>\n",
       "      <td>2</td>\n",
       "      <td>1</td>\n",
       "      <td>1</td>\n",
       "      <td>5</td>\n",
       "      <td>0</td>\n",
       "      <td>14</td>\n",
       "      <td>14</td>\n",
       "      <td>14</td>\n",
       "    </tr>\n",
       "    <tr>\n",
       "      <th>4</th>\n",
       "      <td>GP</td>\n",
       "      <td>F</td>\n",
       "      <td>16</td>\n",
       "      <td>U</td>\n",
       "      <td>GT3</td>\n",
       "      <td>T</td>\n",
       "      <td>3</td>\n",
       "      <td>3</td>\n",
       "      <td>other</td>\n",
       "      <td>other</td>\n",
       "      <td>...</td>\n",
       "      <td>4</td>\n",
       "      <td>3</td>\n",
       "      <td>2</td>\n",
       "      <td>1</td>\n",
       "      <td>2</td>\n",
       "      <td>5</td>\n",
       "      <td>0</td>\n",
       "      <td>11</td>\n",
       "      <td>13</td>\n",
       "      <td>13</td>\n",
       "    </tr>\n",
       "    <tr>\n",
       "      <th>...</th>\n",
       "      <td>...</td>\n",
       "      <td>...</td>\n",
       "      <td>...</td>\n",
       "      <td>...</td>\n",
       "      <td>...</td>\n",
       "      <td>...</td>\n",
       "      <td>...</td>\n",
       "      <td>...</td>\n",
       "      <td>...</td>\n",
       "      <td>...</td>\n",
       "      <td>...</td>\n",
       "      <td>...</td>\n",
       "      <td>...</td>\n",
       "      <td>...</td>\n",
       "      <td>...</td>\n",
       "      <td>...</td>\n",
       "      <td>...</td>\n",
       "      <td>...</td>\n",
       "      <td>...</td>\n",
       "      <td>...</td>\n",
       "      <td>...</td>\n",
       "    </tr>\n",
       "    <tr>\n",
       "      <th>644</th>\n",
       "      <td>MS</td>\n",
       "      <td>F</td>\n",
       "      <td>19</td>\n",
       "      <td>R</td>\n",
       "      <td>GT3</td>\n",
       "      <td>T</td>\n",
       "      <td>2</td>\n",
       "      <td>3</td>\n",
       "      <td>services</td>\n",
       "      <td>other</td>\n",
       "      <td>...</td>\n",
       "      <td>5</td>\n",
       "      <td>4</td>\n",
       "      <td>2</td>\n",
       "      <td>1</td>\n",
       "      <td>2</td>\n",
       "      <td>5</td>\n",
       "      <td>4</td>\n",
       "      <td>10</td>\n",
       "      <td>11</td>\n",
       "      <td>10</td>\n",
       "    </tr>\n",
       "    <tr>\n",
       "      <th>645</th>\n",
       "      <td>MS</td>\n",
       "      <td>F</td>\n",
       "      <td>18</td>\n",
       "      <td>U</td>\n",
       "      <td>LE3</td>\n",
       "      <td>T</td>\n",
       "      <td>3</td>\n",
       "      <td>1</td>\n",
       "      <td>teacher</td>\n",
       "      <td>services</td>\n",
       "      <td>...</td>\n",
       "      <td>4</td>\n",
       "      <td>3</td>\n",
       "      <td>4</td>\n",
       "      <td>1</td>\n",
       "      <td>1</td>\n",
       "      <td>1</td>\n",
       "      <td>4</td>\n",
       "      <td>15</td>\n",
       "      <td>15</td>\n",
       "      <td>16</td>\n",
       "    </tr>\n",
       "    <tr>\n",
       "      <th>646</th>\n",
       "      <td>MS</td>\n",
       "      <td>F</td>\n",
       "      <td>18</td>\n",
       "      <td>U</td>\n",
       "      <td>GT3</td>\n",
       "      <td>T</td>\n",
       "      <td>1</td>\n",
       "      <td>1</td>\n",
       "      <td>other</td>\n",
       "      <td>other</td>\n",
       "      <td>...</td>\n",
       "      <td>1</td>\n",
       "      <td>1</td>\n",
       "      <td>1</td>\n",
       "      <td>1</td>\n",
       "      <td>1</td>\n",
       "      <td>5</td>\n",
       "      <td>6</td>\n",
       "      <td>11</td>\n",
       "      <td>12</td>\n",
       "      <td>9</td>\n",
       "    </tr>\n",
       "    <tr>\n",
       "      <th>647</th>\n",
       "      <td>MS</td>\n",
       "      <td>M</td>\n",
       "      <td>17</td>\n",
       "      <td>U</td>\n",
       "      <td>LE3</td>\n",
       "      <td>T</td>\n",
       "      <td>3</td>\n",
       "      <td>1</td>\n",
       "      <td>services</td>\n",
       "      <td>services</td>\n",
       "      <td>...</td>\n",
       "      <td>2</td>\n",
       "      <td>4</td>\n",
       "      <td>5</td>\n",
       "      <td>3</td>\n",
       "      <td>4</td>\n",
       "      <td>2</td>\n",
       "      <td>6</td>\n",
       "      <td>10</td>\n",
       "      <td>10</td>\n",
       "      <td>10</td>\n",
       "    </tr>\n",
       "    <tr>\n",
       "      <th>648</th>\n",
       "      <td>MS</td>\n",
       "      <td>M</td>\n",
       "      <td>18</td>\n",
       "      <td>R</td>\n",
       "      <td>LE3</td>\n",
       "      <td>T</td>\n",
       "      <td>3</td>\n",
       "      <td>2</td>\n",
       "      <td>services</td>\n",
       "      <td>other</td>\n",
       "      <td>...</td>\n",
       "      <td>4</td>\n",
       "      <td>4</td>\n",
       "      <td>1</td>\n",
       "      <td>3</td>\n",
       "      <td>4</td>\n",
       "      <td>5</td>\n",
       "      <td>4</td>\n",
       "      <td>10</td>\n",
       "      <td>11</td>\n",
       "      <td>11</td>\n",
       "    </tr>\n",
       "  </tbody>\n",
       "</table>\n",
       "<p>649 rows × 33 columns</p>\n",
       "</div>"
      ],
      "text/plain": [
       "    school sex  age address famsize Pstatus  Medu  Fedu      Mjob      Fjob  \\\n",
       "0       GP   F   18       U     GT3       A     4     4   at_home   teacher   \n",
       "1       GP   F   17       U     GT3       T     1     1   at_home     other   \n",
       "2       GP   F   15       U     LE3       T     1     1   at_home     other   \n",
       "3       GP   F   15       U     GT3       T     4     2    health  services   \n",
       "4       GP   F   16       U     GT3       T     3     3     other     other   \n",
       "..     ...  ..  ...     ...     ...     ...   ...   ...       ...       ...   \n",
       "644     MS   F   19       R     GT3       T     2     3  services     other   \n",
       "645     MS   F   18       U     LE3       T     3     1   teacher  services   \n",
       "646     MS   F   18       U     GT3       T     1     1     other     other   \n",
       "647     MS   M   17       U     LE3       T     3     1  services  services   \n",
       "648     MS   M   18       R     LE3       T     3     2  services     other   \n",
       "\n",
       "     ... famrel freetime  goout  Dalc  Walc health absences  G1  G2  G3  \n",
       "0    ...      4        3      4     1     1      3        4   0  11  11  \n",
       "1    ...      5        3      3     1     1      3        2   9  11  11  \n",
       "2    ...      4        3      2     2     3      3        6  12  13  12  \n",
       "3    ...      3        2      2     1     1      5        0  14  14  14  \n",
       "4    ...      4        3      2     1     2      5        0  11  13  13  \n",
       "..   ...    ...      ...    ...   ...   ...    ...      ...  ..  ..  ..  \n",
       "644  ...      5        4      2     1     2      5        4  10  11  10  \n",
       "645  ...      4        3      4     1     1      1        4  15  15  16  \n",
       "646  ...      1        1      1     1     1      5        6  11  12   9  \n",
       "647  ...      2        4      5     3     4      2        6  10  10  10  \n",
       "648  ...      4        4      1     3     4      5        4  10  11  11  \n",
       "\n",
       "[649 rows x 33 columns]"
      ]
     },
     "execution_count": 7,
     "metadata": {},
     "output_type": "execute_result"
    }
   ],
   "source": [
    "#studentpor = pd.read_csv('student-por.csv')\n",
    "studentpor = pd.read_csv(\"dataset/student-por.csv\")\n",
    "studentpor"
   ]
  },
  {
   "cell_type": "code",
   "execution_count": 8,
   "metadata": {
    "colab": {
     "base_uri": "https://localhost:8080/"
    },
    "id": "JIKrzjWX0tSF",
    "outputId": "72e1c718-8de0-472d-88a6-45562a78f7fd"
   },
   "outputs": [
    {
     "data": {
      "text/plain": [
       "pandas.core.frame.DataFrame"
      ]
     },
     "execution_count": 8,
     "metadata": {},
     "output_type": "execute_result"
    }
   ],
   "source": [
    "type(studentpor)"
   ]
  },
  {
   "cell_type": "code",
   "execution_count": 9,
   "metadata": {
    "colab": {
     "base_uri": "https://localhost:8080/"
    },
    "id": "uMo6OJNKXB7-",
    "outputId": "d148fb71-846f-4b9c-c5d5-637d4466f894"
   },
   "outputs": [
    {
     "data": {
      "text/plain": [
       "Index(['school', 'sex', 'age', 'address', 'famsize', 'Pstatus', 'Medu', 'Fedu',\n",
       "       'Mjob', 'Fjob', 'reason', 'guardian', 'traveltime', 'studytime',\n",
       "       'failures', 'schoolsup', 'famsup', 'paid', 'activities', 'nursery',\n",
       "       'higher', 'internet', 'romantic', 'famrel', 'freetime', 'goout', 'Dalc',\n",
       "       'Walc', 'health', 'absences', 'G1', 'G2', 'G3'],\n",
       "      dtype='object')"
      ]
     },
     "execution_count": 9,
     "metadata": {},
     "output_type": "execute_result"
    }
   ],
   "source": [
    "studentmat.columns"
   ]
  },
  {
   "cell_type": "code",
   "execution_count": 10,
   "metadata": {
    "colab": {
     "base_uri": "https://localhost:8080/",
     "height": 439
    },
    "id": "e4Tp16IPXFrz",
    "outputId": "0474ea8a-f35f-4ba4-dd53-fc59f3bc4ac5"
   },
   "outputs": [
    {
     "data": {
      "text/html": [
       "<div>\n",
       "<style scoped>\n",
       "    .dataframe tbody tr th:only-of-type {\n",
       "        vertical-align: middle;\n",
       "    }\n",
       "\n",
       "    .dataframe tbody tr th {\n",
       "        vertical-align: top;\n",
       "    }\n",
       "\n",
       "    .dataframe thead th {\n",
       "        text-align: right;\n",
       "    }\n",
       "</style>\n",
       "<table border=\"1\" class=\"dataframe\">\n",
       "  <thead>\n",
       "    <tr style=\"text-align: right;\">\n",
       "      <th></th>\n",
       "      <th>school</th>\n",
       "      <th>sex</th>\n",
       "      <th>age</th>\n",
       "      <th>address</th>\n",
       "      <th>famsize</th>\n",
       "      <th>Pstatus</th>\n",
       "      <th>Medu</th>\n",
       "      <th>Fedu</th>\n",
       "      <th>Mjob</th>\n",
       "      <th>Fjob</th>\n",
       "      <th>...</th>\n",
       "      <th>famrel</th>\n",
       "      <th>freetime</th>\n",
       "      <th>goout</th>\n",
       "      <th>Dalc</th>\n",
       "      <th>Walc</th>\n",
       "      <th>health</th>\n",
       "      <th>absences</th>\n",
       "      <th>G1</th>\n",
       "      <th>G2</th>\n",
       "      <th>G3</th>\n",
       "    </tr>\n",
       "  </thead>\n",
       "  <tbody>\n",
       "    <tr>\n",
       "      <th>0</th>\n",
       "      <td>GP</td>\n",
       "      <td>F</td>\n",
       "      <td>18</td>\n",
       "      <td>U</td>\n",
       "      <td>GT3</td>\n",
       "      <td>A</td>\n",
       "      <td>4</td>\n",
       "      <td>4</td>\n",
       "      <td>at_home</td>\n",
       "      <td>teacher</td>\n",
       "      <td>...</td>\n",
       "      <td>4</td>\n",
       "      <td>3</td>\n",
       "      <td>4</td>\n",
       "      <td>1</td>\n",
       "      <td>1</td>\n",
       "      <td>3</td>\n",
       "      <td>6</td>\n",
       "      <td>5</td>\n",
       "      <td>6</td>\n",
       "      <td>6</td>\n",
       "    </tr>\n",
       "    <tr>\n",
       "      <th>1</th>\n",
       "      <td>GP</td>\n",
       "      <td>F</td>\n",
       "      <td>17</td>\n",
       "      <td>U</td>\n",
       "      <td>GT3</td>\n",
       "      <td>T</td>\n",
       "      <td>1</td>\n",
       "      <td>1</td>\n",
       "      <td>at_home</td>\n",
       "      <td>other</td>\n",
       "      <td>...</td>\n",
       "      <td>5</td>\n",
       "      <td>3</td>\n",
       "      <td>3</td>\n",
       "      <td>1</td>\n",
       "      <td>1</td>\n",
       "      <td>3</td>\n",
       "      <td>4</td>\n",
       "      <td>5</td>\n",
       "      <td>5</td>\n",
       "      <td>6</td>\n",
       "    </tr>\n",
       "    <tr>\n",
       "      <th>2</th>\n",
       "      <td>GP</td>\n",
       "      <td>F</td>\n",
       "      <td>15</td>\n",
       "      <td>U</td>\n",
       "      <td>LE3</td>\n",
       "      <td>T</td>\n",
       "      <td>1</td>\n",
       "      <td>1</td>\n",
       "      <td>at_home</td>\n",
       "      <td>other</td>\n",
       "      <td>...</td>\n",
       "      <td>4</td>\n",
       "      <td>3</td>\n",
       "      <td>2</td>\n",
       "      <td>2</td>\n",
       "      <td>3</td>\n",
       "      <td>3</td>\n",
       "      <td>10</td>\n",
       "      <td>7</td>\n",
       "      <td>8</td>\n",
       "      <td>10</td>\n",
       "    </tr>\n",
       "    <tr>\n",
       "      <th>3</th>\n",
       "      <td>GP</td>\n",
       "      <td>F</td>\n",
       "      <td>15</td>\n",
       "      <td>U</td>\n",
       "      <td>GT3</td>\n",
       "      <td>T</td>\n",
       "      <td>4</td>\n",
       "      <td>2</td>\n",
       "      <td>health</td>\n",
       "      <td>services</td>\n",
       "      <td>...</td>\n",
       "      <td>3</td>\n",
       "      <td>2</td>\n",
       "      <td>2</td>\n",
       "      <td>1</td>\n",
       "      <td>1</td>\n",
       "      <td>5</td>\n",
       "      <td>2</td>\n",
       "      <td>15</td>\n",
       "      <td>14</td>\n",
       "      <td>15</td>\n",
       "    </tr>\n",
       "    <tr>\n",
       "      <th>4</th>\n",
       "      <td>GP</td>\n",
       "      <td>F</td>\n",
       "      <td>16</td>\n",
       "      <td>U</td>\n",
       "      <td>GT3</td>\n",
       "      <td>T</td>\n",
       "      <td>3</td>\n",
       "      <td>3</td>\n",
       "      <td>other</td>\n",
       "      <td>other</td>\n",
       "      <td>...</td>\n",
       "      <td>4</td>\n",
       "      <td>3</td>\n",
       "      <td>2</td>\n",
       "      <td>1</td>\n",
       "      <td>2</td>\n",
       "      <td>5</td>\n",
       "      <td>4</td>\n",
       "      <td>6</td>\n",
       "      <td>10</td>\n",
       "      <td>10</td>\n",
       "    </tr>\n",
       "    <tr>\n",
       "      <th>...</th>\n",
       "      <td>...</td>\n",
       "      <td>...</td>\n",
       "      <td>...</td>\n",
       "      <td>...</td>\n",
       "      <td>...</td>\n",
       "      <td>...</td>\n",
       "      <td>...</td>\n",
       "      <td>...</td>\n",
       "      <td>...</td>\n",
       "      <td>...</td>\n",
       "      <td>...</td>\n",
       "      <td>...</td>\n",
       "      <td>...</td>\n",
       "      <td>...</td>\n",
       "      <td>...</td>\n",
       "      <td>...</td>\n",
       "      <td>...</td>\n",
       "      <td>...</td>\n",
       "      <td>...</td>\n",
       "      <td>...</td>\n",
       "      <td>...</td>\n",
       "    </tr>\n",
       "    <tr>\n",
       "      <th>1039</th>\n",
       "      <td>MS</td>\n",
       "      <td>F</td>\n",
       "      <td>19</td>\n",
       "      <td>R</td>\n",
       "      <td>GT3</td>\n",
       "      <td>T</td>\n",
       "      <td>2</td>\n",
       "      <td>3</td>\n",
       "      <td>services</td>\n",
       "      <td>other</td>\n",
       "      <td>...</td>\n",
       "      <td>5</td>\n",
       "      <td>4</td>\n",
       "      <td>2</td>\n",
       "      <td>1</td>\n",
       "      <td>2</td>\n",
       "      <td>5</td>\n",
       "      <td>4</td>\n",
       "      <td>10</td>\n",
       "      <td>11</td>\n",
       "      <td>10</td>\n",
       "    </tr>\n",
       "    <tr>\n",
       "      <th>1040</th>\n",
       "      <td>MS</td>\n",
       "      <td>F</td>\n",
       "      <td>18</td>\n",
       "      <td>U</td>\n",
       "      <td>LE3</td>\n",
       "      <td>T</td>\n",
       "      <td>3</td>\n",
       "      <td>1</td>\n",
       "      <td>teacher</td>\n",
       "      <td>services</td>\n",
       "      <td>...</td>\n",
       "      <td>4</td>\n",
       "      <td>3</td>\n",
       "      <td>4</td>\n",
       "      <td>1</td>\n",
       "      <td>1</td>\n",
       "      <td>1</td>\n",
       "      <td>4</td>\n",
       "      <td>15</td>\n",
       "      <td>15</td>\n",
       "      <td>16</td>\n",
       "    </tr>\n",
       "    <tr>\n",
       "      <th>1041</th>\n",
       "      <td>MS</td>\n",
       "      <td>F</td>\n",
       "      <td>18</td>\n",
       "      <td>U</td>\n",
       "      <td>GT3</td>\n",
       "      <td>T</td>\n",
       "      <td>1</td>\n",
       "      <td>1</td>\n",
       "      <td>other</td>\n",
       "      <td>other</td>\n",
       "      <td>...</td>\n",
       "      <td>1</td>\n",
       "      <td>1</td>\n",
       "      <td>1</td>\n",
       "      <td>1</td>\n",
       "      <td>1</td>\n",
       "      <td>5</td>\n",
       "      <td>6</td>\n",
       "      <td>11</td>\n",
       "      <td>12</td>\n",
       "      <td>9</td>\n",
       "    </tr>\n",
       "    <tr>\n",
       "      <th>1042</th>\n",
       "      <td>MS</td>\n",
       "      <td>M</td>\n",
       "      <td>17</td>\n",
       "      <td>U</td>\n",
       "      <td>LE3</td>\n",
       "      <td>T</td>\n",
       "      <td>3</td>\n",
       "      <td>1</td>\n",
       "      <td>services</td>\n",
       "      <td>services</td>\n",
       "      <td>...</td>\n",
       "      <td>2</td>\n",
       "      <td>4</td>\n",
       "      <td>5</td>\n",
       "      <td>3</td>\n",
       "      <td>4</td>\n",
       "      <td>2</td>\n",
       "      <td>6</td>\n",
       "      <td>10</td>\n",
       "      <td>10</td>\n",
       "      <td>10</td>\n",
       "    </tr>\n",
       "    <tr>\n",
       "      <th>1043</th>\n",
       "      <td>MS</td>\n",
       "      <td>M</td>\n",
       "      <td>18</td>\n",
       "      <td>R</td>\n",
       "      <td>LE3</td>\n",
       "      <td>T</td>\n",
       "      <td>3</td>\n",
       "      <td>2</td>\n",
       "      <td>services</td>\n",
       "      <td>other</td>\n",
       "      <td>...</td>\n",
       "      <td>4</td>\n",
       "      <td>4</td>\n",
       "      <td>1</td>\n",
       "      <td>3</td>\n",
       "      <td>4</td>\n",
       "      <td>5</td>\n",
       "      <td>4</td>\n",
       "      <td>10</td>\n",
       "      <td>11</td>\n",
       "      <td>11</td>\n",
       "    </tr>\n",
       "  </tbody>\n",
       "</table>\n",
       "<p>1044 rows × 33 columns</p>\n",
       "</div>"
      ],
      "text/plain": [
       "     school sex  age address famsize Pstatus  Medu  Fedu      Mjob      Fjob  \\\n",
       "0        GP   F   18       U     GT3       A     4     4   at_home   teacher   \n",
       "1        GP   F   17       U     GT3       T     1     1   at_home     other   \n",
       "2        GP   F   15       U     LE3       T     1     1   at_home     other   \n",
       "3        GP   F   15       U     GT3       T     4     2    health  services   \n",
       "4        GP   F   16       U     GT3       T     3     3     other     other   \n",
       "...     ...  ..  ...     ...     ...     ...   ...   ...       ...       ...   \n",
       "1039     MS   F   19       R     GT3       T     2     3  services     other   \n",
       "1040     MS   F   18       U     LE3       T     3     1   teacher  services   \n",
       "1041     MS   F   18       U     GT3       T     1     1     other     other   \n",
       "1042     MS   M   17       U     LE3       T     3     1  services  services   \n",
       "1043     MS   M   18       R     LE3       T     3     2  services     other   \n",
       "\n",
       "      ... famrel freetime  goout  Dalc  Walc health absences  G1  G2  G3  \n",
       "0     ...      4        3      4     1     1      3        6   5   6   6  \n",
       "1     ...      5        3      3     1     1      3        4   5   5   6  \n",
       "2     ...      4        3      2     2     3      3       10   7   8  10  \n",
       "3     ...      3        2      2     1     1      5        2  15  14  15  \n",
       "4     ...      4        3      2     1     2      5        4   6  10  10  \n",
       "...   ...    ...      ...    ...   ...   ...    ...      ...  ..  ..  ..  \n",
       "1039  ...      5        4      2     1     2      5        4  10  11  10  \n",
       "1040  ...      4        3      4     1     1      1        4  15  15  16  \n",
       "1041  ...      1        1      1     1     1      5        6  11  12   9  \n",
       "1042  ...      2        4      5     3     4      2        6  10  10  10  \n",
       "1043  ...      4        4      1     3     4      5        4  10  11  11  \n",
       "\n",
       "[1044 rows x 33 columns]"
      ]
     },
     "execution_count": 10,
     "metadata": {},
     "output_type": "execute_result"
    }
   ],
   "source": [
    "data = pd.concat([studentmat, studentpor], ignore_index=True)\n",
    "data"
   ]
  },
  {
   "cell_type": "code",
   "execution_count": 12,
   "metadata": {
    "colab": {
     "base_uri": "https://localhost:8080/"
    },
    "id": "522Nk3EwbWiC",
    "outputId": "9dc50cd4-300e-46dc-be59-b44aca721550"
   },
   "outputs": [
    {
     "data": {
      "text/plain": [
       "school        False\n",
       "sex           False\n",
       "age           False\n",
       "address       False\n",
       "famsize       False\n",
       "Pstatus       False\n",
       "Medu          False\n",
       "Fedu          False\n",
       "Mjob          False\n",
       "Fjob          False\n",
       "reason        False\n",
       "guardian      False\n",
       "traveltime    False\n",
       "studytime     False\n",
       "failures      False\n",
       "schoolsup     False\n",
       "famsup        False\n",
       "paid          False\n",
       "activities    False\n",
       "nursery       False\n",
       "higher        False\n",
       "internet      False\n",
       "romantic      False\n",
       "famrel        False\n",
       "freetime      False\n",
       "goout         False\n",
       "Dalc          False\n",
       "Walc          False\n",
       "health        False\n",
       "absences      False\n",
       "G1            False\n",
       "G2            False\n",
       "G3            False\n",
       "dtype: bool"
      ]
     },
     "execution_count": 12,
     "metadata": {},
     "output_type": "execute_result"
    }
   ],
   "source": [
    "data.isna().any()"
   ]
  },
  {
   "cell_type": "code",
   "execution_count": 13,
   "metadata": {
    "colab": {
     "base_uri": "https://localhost:8080/"
    },
    "id": "mKNoraeXsBKy",
    "outputId": "fd4727bb-9663-4c7d-94c5-9f6be15847fd"
   },
   "outputs": [
    {
     "name": "stdout",
     "output_type": "stream",
     "text": [
      "<class 'pandas.core.frame.DataFrame'>\n",
      "RangeIndex: 1044 entries, 0 to 1043\n",
      "Data columns (total 33 columns):\n",
      " #   Column      Non-Null Count  Dtype \n",
      "---  ------      --------------  ----- \n",
      " 0   school      1044 non-null   object\n",
      " 1   sex         1044 non-null   object\n",
      " 2   age         1044 non-null   int64 \n",
      " 3   address     1044 non-null   object\n",
      " 4   famsize     1044 non-null   object\n",
      " 5   Pstatus     1044 non-null   object\n",
      " 6   Medu        1044 non-null   int64 \n",
      " 7   Fedu        1044 non-null   int64 \n",
      " 8   Mjob        1044 non-null   object\n",
      " 9   Fjob        1044 non-null   object\n",
      " 10  reason      1044 non-null   object\n",
      " 11  guardian    1044 non-null   object\n",
      " 12  traveltime  1044 non-null   int64 \n",
      " 13  studytime   1044 non-null   int64 \n",
      " 14  failures    1044 non-null   int64 \n",
      " 15  schoolsup   1044 non-null   object\n",
      " 16  famsup      1044 non-null   object\n",
      " 17  paid        1044 non-null   object\n",
      " 18  activities  1044 non-null   object\n",
      " 19  nursery     1044 non-null   object\n",
      " 20  higher      1044 non-null   object\n",
      " 21  internet    1044 non-null   object\n",
      " 22  romantic    1044 non-null   object\n",
      " 23  famrel      1044 non-null   int64 \n",
      " 24  freetime    1044 non-null   int64 \n",
      " 25  goout       1044 non-null   int64 \n",
      " 26  Dalc        1044 non-null   int64 \n",
      " 27  Walc        1044 non-null   int64 \n",
      " 28  health      1044 non-null   int64 \n",
      " 29  absences    1044 non-null   int64 \n",
      " 30  G1          1044 non-null   int64 \n",
      " 31  G2          1044 non-null   int64 \n",
      " 32  G3          1044 non-null   int64 \n",
      "dtypes: int64(16), object(17)\n",
      "memory usage: 269.3+ KB\n"
     ]
    }
   ],
   "source": [
    "data.info()"
   ]
  },
  {
   "cell_type": "code",
   "execution_count": 54,
   "metadata": {
    "colab": {
     "base_uri": "https://localhost:8080/",
     "height": 439
    },
    "id": "awOYDaPUo3bl",
    "outputId": "6eff33e2-b3a9-4650-a0e8-77ecf4797203"
   },
   "outputs": [
    {
     "data": {
      "text/html": [
       "<div>\n",
       "<style scoped>\n",
       "    .dataframe tbody tr th:only-of-type {\n",
       "        vertical-align: middle;\n",
       "    }\n",
       "\n",
       "    .dataframe tbody tr th {\n",
       "        vertical-align: top;\n",
       "    }\n",
       "\n",
       "    .dataframe thead th {\n",
       "        text-align: right;\n",
       "    }\n",
       "</style>\n",
       "<table border=\"1\" class=\"dataframe\">\n",
       "  <thead>\n",
       "    <tr style=\"text-align: right;\">\n",
       "      <th></th>\n",
       "      <th>school</th>\n",
       "      <th>sex</th>\n",
       "      <th>age</th>\n",
       "      <th>address</th>\n",
       "      <th>famsize</th>\n",
       "      <th>Pstatus</th>\n",
       "      <th>Medu</th>\n",
       "      <th>Fedu</th>\n",
       "      <th>Mjob</th>\n",
       "      <th>Fjob</th>\n",
       "      <th>...</th>\n",
       "      <th>Dalc</th>\n",
       "      <th>Walc</th>\n",
       "      <th>health</th>\n",
       "      <th>absences</th>\n",
       "      <th>G1</th>\n",
       "      <th>G2</th>\n",
       "      <th>G3</th>\n",
       "      <th>all_day_in_week_alc</th>\n",
       "      <th>ave_grade</th>\n",
       "      <th>alcohol_consumption_problem</th>\n",
       "    </tr>\n",
       "  </thead>\n",
       "  <tbody>\n",
       "    <tr>\n",
       "      <th>0</th>\n",
       "      <td>0</td>\n",
       "      <td>0</td>\n",
       "      <td>18</td>\n",
       "      <td>0</td>\n",
       "      <td>0</td>\n",
       "      <td>0</td>\n",
       "      <td>4</td>\n",
       "      <td>4</td>\n",
       "      <td>0</td>\n",
       "      <td>0</td>\n",
       "      <td>...</td>\n",
       "      <td>1</td>\n",
       "      <td>1</td>\n",
       "      <td>3</td>\n",
       "      <td>6</td>\n",
       "      <td>5</td>\n",
       "      <td>6</td>\n",
       "      <td>6</td>\n",
       "      <td>2</td>\n",
       "      <td>5.67</td>\n",
       "      <td>0</td>\n",
       "    </tr>\n",
       "    <tr>\n",
       "      <th>1</th>\n",
       "      <td>0</td>\n",
       "      <td>0</td>\n",
       "      <td>17</td>\n",
       "      <td>0</td>\n",
       "      <td>0</td>\n",
       "      <td>1</td>\n",
       "      <td>1</td>\n",
       "      <td>1</td>\n",
       "      <td>0</td>\n",
       "      <td>1</td>\n",
       "      <td>...</td>\n",
       "      <td>1</td>\n",
       "      <td>1</td>\n",
       "      <td>3</td>\n",
       "      <td>4</td>\n",
       "      <td>5</td>\n",
       "      <td>5</td>\n",
       "      <td>6</td>\n",
       "      <td>2</td>\n",
       "      <td>5.33</td>\n",
       "      <td>0</td>\n",
       "    </tr>\n",
       "    <tr>\n",
       "      <th>2</th>\n",
       "      <td>0</td>\n",
       "      <td>0</td>\n",
       "      <td>15</td>\n",
       "      <td>0</td>\n",
       "      <td>1</td>\n",
       "      <td>1</td>\n",
       "      <td>1</td>\n",
       "      <td>1</td>\n",
       "      <td>0</td>\n",
       "      <td>1</td>\n",
       "      <td>...</td>\n",
       "      <td>2</td>\n",
       "      <td>3</td>\n",
       "      <td>3</td>\n",
       "      <td>10</td>\n",
       "      <td>7</td>\n",
       "      <td>8</td>\n",
       "      <td>10</td>\n",
       "      <td>5</td>\n",
       "      <td>8.33</td>\n",
       "      <td>0</td>\n",
       "    </tr>\n",
       "    <tr>\n",
       "      <th>3</th>\n",
       "      <td>0</td>\n",
       "      <td>0</td>\n",
       "      <td>15</td>\n",
       "      <td>0</td>\n",
       "      <td>0</td>\n",
       "      <td>1</td>\n",
       "      <td>4</td>\n",
       "      <td>2</td>\n",
       "      <td>1</td>\n",
       "      <td>2</td>\n",
       "      <td>...</td>\n",
       "      <td>1</td>\n",
       "      <td>1</td>\n",
       "      <td>5</td>\n",
       "      <td>2</td>\n",
       "      <td>15</td>\n",
       "      <td>14</td>\n",
       "      <td>15</td>\n",
       "      <td>2</td>\n",
       "      <td>14.67</td>\n",
       "      <td>0</td>\n",
       "    </tr>\n",
       "    <tr>\n",
       "      <th>4</th>\n",
       "      <td>0</td>\n",
       "      <td>0</td>\n",
       "      <td>16</td>\n",
       "      <td>0</td>\n",
       "      <td>0</td>\n",
       "      <td>1</td>\n",
       "      <td>3</td>\n",
       "      <td>3</td>\n",
       "      <td>2</td>\n",
       "      <td>1</td>\n",
       "      <td>...</td>\n",
       "      <td>1</td>\n",
       "      <td>2</td>\n",
       "      <td>5</td>\n",
       "      <td>4</td>\n",
       "      <td>6</td>\n",
       "      <td>10</td>\n",
       "      <td>10</td>\n",
       "      <td>3</td>\n",
       "      <td>8.67</td>\n",
       "      <td>0</td>\n",
       "    </tr>\n",
       "  </tbody>\n",
       "</table>\n",
       "<p>5 rows × 36 columns</p>\n",
       "</div>"
      ],
      "text/plain": [
       "   school  sex  age  address  famsize  Pstatus  Medu  Fedu  Mjob  Fjob  ...  \\\n",
       "0       0    0   18        0        0        0     4     4     0     0  ...   \n",
       "1       0    0   17        0        0        1     1     1     0     1  ...   \n",
       "2       0    0   15        0        1        1     1     1     0     1  ...   \n",
       "3       0    0   15        0        0        1     4     2     1     2  ...   \n",
       "4       0    0   16        0        0        1     3     3     2     1  ...   \n",
       "\n",
       "   Dalc  Walc  health  absences  G1  G2  G3  all_day_in_week_alc  ave_grade  \\\n",
       "0     1     1       3         6   5   6   6                    2       5.67   \n",
       "1     1     1       3         4   5   5   6                    2       5.33   \n",
       "2     2     3       3        10   7   8  10                    5       8.33   \n",
       "3     1     1       5         2  15  14  15                    2      14.67   \n",
       "4     1     2       5         4   6  10  10                    3       8.67   \n",
       "\n",
       "   alcohol_consumption_problem  \n",
       "0                            0  \n",
       "1                            0  \n",
       "2                            0  \n",
       "3                            0  \n",
       "4                            0  \n",
       "\n",
       "[5 rows x 36 columns]"
      ]
     },
     "execution_count": 54,
     "metadata": {},
     "output_type": "execute_result"
    }
   ],
   "source": [
    "data.head(5)"
   ]
  },
  {
   "cell_type": "code",
   "execution_count": 15,
   "metadata": {
    "colab": {
     "base_uri": "https://localhost:8080/"
    },
    "id": "4GzrPP6FsnmM",
    "outputId": "0407238b-4417-46ac-f98f-eff0065ae06f"
   },
   "outputs": [
    {
     "name": "stdout",
     "output_type": "stream",
     "text": [
      "<class 'pandas.core.frame.DataFrame'>\n",
      "RangeIndex: 1044 entries, 0 to 1043\n",
      "Data columns (total 33 columns):\n",
      " #   Column      Non-Null Count  Dtype\n",
      "---  ------      --------------  -----\n",
      " 0   school      1044 non-null   int64\n",
      " 1   sex         1044 non-null   int64\n",
      " 2   age         1044 non-null   int64\n",
      " 3   address     1044 non-null   int64\n",
      " 4   famsize     1044 non-null   int64\n",
      " 5   Pstatus     1044 non-null   int64\n",
      " 6   Medu        1044 non-null   int64\n",
      " 7   Fedu        1044 non-null   int64\n",
      " 8   Mjob        1044 non-null   int64\n",
      " 9   Fjob        1044 non-null   int64\n",
      " 10  reason      1044 non-null   int64\n",
      " 11  guardian    1044 non-null   int64\n",
      " 12  traveltime  1044 non-null   int64\n",
      " 13  studytime   1044 non-null   int64\n",
      " 14  failures    1044 non-null   int64\n",
      " 15  schoolsup   1044 non-null   int64\n",
      " 16  famsup      1044 non-null   int64\n",
      " 17  paid        1044 non-null   int64\n",
      " 18  activities  1044 non-null   int64\n",
      " 19  nursery     1044 non-null   int64\n",
      " 20  higher      1044 non-null   int64\n",
      " 21  internet    1044 non-null   int64\n",
      " 22  romantic    1044 non-null   int64\n",
      " 23  famrel      1044 non-null   int64\n",
      " 24  freetime    1044 non-null   int64\n",
      " 25  goout       1044 non-null   int64\n",
      " 26  Dalc        1044 non-null   int64\n",
      " 27  Walc        1044 non-null   int64\n",
      " 28  health      1044 non-null   int64\n",
      " 29  absences    1044 non-null   int64\n",
      " 30  G1          1044 non-null   int64\n",
      " 31  G2          1044 non-null   int64\n",
      " 32  G3          1044 non-null   int64\n",
      "dtypes: int64(33)\n",
      "memory usage: 269.3 KB\n"
     ]
    }
   ],
   "source": [
    "obj_col = data.select_dtypes(['object']).columns\n",
    "data[obj_col] = data[obj_col].apply(lambda x: pd.factorize(x)[0]) #Convert object data to int (decode)\n",
    "data.info()"
   ]
  },
  {
   "cell_type": "code",
   "execution_count": 16,
   "metadata": {
    "colab": {
     "base_uri": "https://localhost:8080/"
    },
    "id": "TVk7PuQHyDZe",
    "outputId": "0796f1b7-32b6-46a3-d6f6-4f785b0cc632"
   },
   "outputs": [
    {
     "data": {
      "text/plain": [
       "2     391\n",
       "3     182\n",
       "4     159\n",
       "5     118\n",
       "6      85\n",
       "7      49\n",
       "8      26\n",
       "10     24\n",
       "9      10\n",
       "Name: all_day_in_week_alc, dtype: int64"
      ]
     },
     "execution_count": 16,
     "metadata": {},
     "output_type": "execute_result"
    }
   ],
   "source": [
    "# Combine day alcohol and week alcohol\n",
    "data['all_day_in_week_alc']= data['Dalc']+data['Walc']\n",
    "data['all_day_in_week_alc'].value_counts()"
   ]
  },
  {
   "cell_type": "code",
   "execution_count": 17,
   "metadata": {
    "colab": {
     "base_uri": "https://localhost:8080/"
    },
    "id": "FGT-94Ovymhc",
    "outputId": "752b8f01-9e97-4664-80d4-ab41ebae05d0"
   },
   "outputs": [
    {
     "data": {
      "text/plain": [
       "2     391\n",
       "3     182\n",
       "4     159\n",
       "5     118\n",
       "6      85\n",
       "7      49\n",
       "8      26\n",
       "10     24\n",
       "9      10\n",
       "Name: all_day_in_week_alc, dtype: int64"
      ]
     },
     "execution_count": 17,
     "metadata": {},
     "output_type": "execute_result"
    }
   ],
   "source": [
    "data['all_day_in_week_alc'].value_counts()"
   ]
  },
  {
   "cell_type": "code",
   "execution_count": 18,
   "metadata": {
    "id": "c4dBGEirAFKw"
   },
   "outputs": [],
   "source": [
    "data['ave_grade'] = round((data.G1 + data.G2 + data.G3)/3, 2)"
   ]
  },
  {
   "cell_type": "code",
   "execution_count": 19,
   "metadata": {
    "colab": {
     "base_uri": "https://localhost:8080/",
     "height": 519
    },
    "id": "NCi-o5sz2aaa",
    "outputId": "ff69cd40-d8c8-4c35-8761-2a78f185db8b"
   },
   "outputs": [
    {
     "name": "stdout",
     "output_type": "stream",
     "text": [
      "0    850\n",
      "1    194\n",
      "Name: alcohol_consumption_problem, dtype: int64\n",
      "0    0.814176\n",
      "1    0.185824\n",
      "Name: alcohol_consumption_problem, dtype: float64\n"
     ]
    },
    {
     "data": {
      "text/plain": [
       "Text(0.5, 1.0, 'Distribution of those with and without alcohol consumption problem')"
      ]
     },
     "execution_count": 19,
     "metadata": {},
     "output_type": "execute_result"
    },
    {
     "data": {
      "image/png": "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\n",
      "text/plain": [
       "<Figure size 360x360 with 1 Axes>"
      ]
     },
     "metadata": {
      "needs_background": "light"
     },
     "output_type": "display_data"
    }
   ],
   "source": [
    "# thresshold for student with alcohol consumption problem is > 5\n",
    "data['alcohol_consumption_problem'] = [0 if x <= 5 else 1 for x in data['all_day_in_week_alc']] \n",
    "        \n",
    "print(data['alcohol_consumption_problem'].value_counts())\n",
    "print(data['alcohol_consumption_problem'].value_counts(normalize = True))\n",
    "\n",
    "sns.catplot(x=\"alcohol_consumption_problem\", kind=\"count\", data=data)\n",
    "plt.title('Distribution of those with and without alcohol consumption problem')"
   ]
  },
  {
   "cell_type": "code",
   "execution_count": 57,
   "metadata": {
    "colab": {
     "base_uri": "https://localhost:8080/"
    },
    "id": "LoGeARUa6AW_",
    "outputId": "80a2b5ad-25db-4086-f5ec-5e27b89f8bbe"
   },
   "outputs": [
    {
     "data": {
      "text/plain": [
       "alcohol_consumption_problem    1.000000\n",
       "all_day_in_week_alc            0.815198\n",
       "Dalc                           0.765071\n",
       "Walc                           0.718573\n",
       "goout                          0.330711\n",
       "sex                            0.312146\n",
       "failures                       0.149118\n",
       "freetime                       0.131313\n",
       "absences                       0.118481\n",
       "health                         0.106591\n",
       "higher                         0.101075\n",
       "traveltime                     0.099463\n",
       "age                            0.097649\n",
       "address                        0.077611\n",
       "nursery                        0.074853\n",
       "famsize                        0.071077\n",
       "schoolsup                      0.047370\n",
       "guardian                       0.039138\n",
       "paid                           0.024870\n",
       "school                         0.019389\n",
       "Pstatus                        0.019115\n",
       "Fjob                           0.016477\n",
       "Mjob                           0.015064\n",
       "internet                       0.014103\n",
       "activities                     0.010417\n",
       "Fedu                          -0.016259\n",
       "romantic                      -0.030565\n",
       "Medu                          -0.035194\n",
       "famrel                        -0.048963\n",
       "reason                        -0.056473\n",
       "famsup                        -0.090640\n",
       "G3                            -0.143651\n",
       "G2                            -0.153565\n",
       "ave_grade                     -0.163422\n",
       "G1                            -0.173785\n",
       "studytime                     -0.198551\n",
       "dtype: float64"
      ]
     },
     "execution_count": 57,
     "metadata": {},
     "output_type": "execute_result"
    }
   ],
   "source": [
    "# Correlation alcohol consumption problem with other features\n",
    "data.corrwith(data['alcohol_consumption_problem']).sort_values(ascending=False)"
   ]
  },
  {
   "cell_type": "code",
   "execution_count": 59,
   "metadata": {
    "colab": {
     "base_uri": "https://localhost:8080/",
     "height": 265
    },
    "id": "AjQxo-oIU7r3",
    "outputId": "fc6b517f-1123-4f94-a249-66d9c1fc7e38"
   },
   "outputs": [
    {
     "data": {
      "image/png": "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\n",
      "text/plain": [
       "<Figure size 432x288 with 1 Axes>"
      ]
     },
     "metadata": {
      "needs_background": "light"
     },
     "output_type": "display_data"
    }
   ],
   "source": [
    "# Comparing Correlation \n",
    "\n",
    "plt.hist([data.corrwith(data['alcohol_consumption_problem']).values, \n",
    "          data.corrwith(data['alcohol_consumption_problem'], method='spearman').values])\n",
    "plt.show()"
   ]
  },
  {
   "cell_type": "code",
   "execution_count": 64,
   "metadata": {
    "colab": {
     "base_uri": "https://localhost:8080/",
     "height": 439
    },
    "id": "5gPD9y9d7-Vd",
    "outputId": "d706e7f3-5dc9-4179-ec99-0aa7c63861c4"
   },
   "outputs": [
    {
     "data": {
      "text/html": [
       "<div>\n",
       "<style scoped>\n",
       "    .dataframe tbody tr th:only-of-type {\n",
       "        vertical-align: middle;\n",
       "    }\n",
       "\n",
       "    .dataframe tbody tr th {\n",
       "        vertical-align: top;\n",
       "    }\n",
       "\n",
       "    .dataframe thead th {\n",
       "        text-align: right;\n",
       "    }\n",
       "</style>\n",
       "<table border=\"1\" class=\"dataframe\">\n",
       "  <thead>\n",
       "    <tr style=\"text-align: right;\">\n",
       "      <th></th>\n",
       "      <th>school</th>\n",
       "      <th>sex</th>\n",
       "      <th>age</th>\n",
       "      <th>address</th>\n",
       "      <th>famsize</th>\n",
       "      <th>Pstatus</th>\n",
       "      <th>Medu</th>\n",
       "      <th>Fedu</th>\n",
       "      <th>Mjob</th>\n",
       "      <th>Fjob</th>\n",
       "      <th>...</th>\n",
       "      <th>Dalc</th>\n",
       "      <th>Walc</th>\n",
       "      <th>health</th>\n",
       "      <th>absences</th>\n",
       "      <th>G1</th>\n",
       "      <th>G2</th>\n",
       "      <th>G3</th>\n",
       "      <th>all_day_in_week_alc</th>\n",
       "      <th>ave_grade</th>\n",
       "      <th>alcohol_consumption_problem</th>\n",
       "    </tr>\n",
       "  </thead>\n",
       "  <tbody>\n",
       "    <tr>\n",
       "      <th>0</th>\n",
       "      <td>0</td>\n",
       "      <td>0</td>\n",
       "      <td>18</td>\n",
       "      <td>0</td>\n",
       "      <td>0</td>\n",
       "      <td>0</td>\n",
       "      <td>4</td>\n",
       "      <td>4</td>\n",
       "      <td>0</td>\n",
       "      <td>0</td>\n",
       "      <td>...</td>\n",
       "      <td>1</td>\n",
       "      <td>1</td>\n",
       "      <td>3</td>\n",
       "      <td>6</td>\n",
       "      <td>5</td>\n",
       "      <td>6</td>\n",
       "      <td>6</td>\n",
       "      <td>2</td>\n",
       "      <td>5.67</td>\n",
       "      <td>0</td>\n",
       "    </tr>\n",
       "    <tr>\n",
       "      <th>1</th>\n",
       "      <td>0</td>\n",
       "      <td>0</td>\n",
       "      <td>17</td>\n",
       "      <td>0</td>\n",
       "      <td>0</td>\n",
       "      <td>1</td>\n",
       "      <td>1</td>\n",
       "      <td>1</td>\n",
       "      <td>0</td>\n",
       "      <td>1</td>\n",
       "      <td>...</td>\n",
       "      <td>1</td>\n",
       "      <td>1</td>\n",
       "      <td>3</td>\n",
       "      <td>4</td>\n",
       "      <td>5</td>\n",
       "      <td>5</td>\n",
       "      <td>6</td>\n",
       "      <td>2</td>\n",
       "      <td>5.33</td>\n",
       "      <td>0</td>\n",
       "    </tr>\n",
       "    <tr>\n",
       "      <th>2</th>\n",
       "      <td>0</td>\n",
       "      <td>0</td>\n",
       "      <td>15</td>\n",
       "      <td>0</td>\n",
       "      <td>1</td>\n",
       "      <td>1</td>\n",
       "      <td>1</td>\n",
       "      <td>1</td>\n",
       "      <td>0</td>\n",
       "      <td>1</td>\n",
       "      <td>...</td>\n",
       "      <td>2</td>\n",
       "      <td>3</td>\n",
       "      <td>3</td>\n",
       "      <td>10</td>\n",
       "      <td>7</td>\n",
       "      <td>8</td>\n",
       "      <td>10</td>\n",
       "      <td>5</td>\n",
       "      <td>8.33</td>\n",
       "      <td>0</td>\n",
       "    </tr>\n",
       "    <tr>\n",
       "      <th>3</th>\n",
       "      <td>0</td>\n",
       "      <td>0</td>\n",
       "      <td>15</td>\n",
       "      <td>0</td>\n",
       "      <td>0</td>\n",
       "      <td>1</td>\n",
       "      <td>4</td>\n",
       "      <td>2</td>\n",
       "      <td>1</td>\n",
       "      <td>2</td>\n",
       "      <td>...</td>\n",
       "      <td>1</td>\n",
       "      <td>1</td>\n",
       "      <td>5</td>\n",
       "      <td>2</td>\n",
       "      <td>15</td>\n",
       "      <td>14</td>\n",
       "      <td>15</td>\n",
       "      <td>2</td>\n",
       "      <td>14.67</td>\n",
       "      <td>0</td>\n",
       "    </tr>\n",
       "    <tr>\n",
       "      <th>4</th>\n",
       "      <td>0</td>\n",
       "      <td>0</td>\n",
       "      <td>16</td>\n",
       "      <td>0</td>\n",
       "      <td>0</td>\n",
       "      <td>1</td>\n",
       "      <td>3</td>\n",
       "      <td>3</td>\n",
       "      <td>2</td>\n",
       "      <td>1</td>\n",
       "      <td>...</td>\n",
       "      <td>1</td>\n",
       "      <td>2</td>\n",
       "      <td>5</td>\n",
       "      <td>4</td>\n",
       "      <td>6</td>\n",
       "      <td>10</td>\n",
       "      <td>10</td>\n",
       "      <td>3</td>\n",
       "      <td>8.67</td>\n",
       "      <td>0</td>\n",
       "    </tr>\n",
       "  </tbody>\n",
       "</table>\n",
       "<p>5 rows × 36 columns</p>\n",
       "</div>"
      ],
      "text/plain": [
       "   school  sex  age  address  famsize  Pstatus  Medu  Fedu  Mjob  Fjob  ...  \\\n",
       "0       0    0   18        0        0        0     4     4     0     0  ...   \n",
       "1       0    0   17        0        0        1     1     1     0     1  ...   \n",
       "2       0    0   15        0        1        1     1     1     0     1  ...   \n",
       "3       0    0   15        0        0        1     4     2     1     2  ...   \n",
       "4       0    0   16        0        0        1     3     3     2     1  ...   \n",
       "\n",
       "   Dalc  Walc  health  absences  G1  G2  G3  all_day_in_week_alc  ave_grade  \\\n",
       "0     1     1       3         6   5   6   6                    2       5.67   \n",
       "1     1     1       3         4   5   5   6                    2       5.33   \n",
       "2     2     3       3        10   7   8  10                    5       8.33   \n",
       "3     1     1       5         2  15  14  15                    2      14.67   \n",
       "4     1     2       5         4   6  10  10                    3       8.67   \n",
       "\n",
       "   alcohol_consumption_problem  \n",
       "0                            0  \n",
       "1                            0  \n",
       "2                            0  \n",
       "3                            0  \n",
       "4                            0  \n",
       "\n",
       "[5 rows x 36 columns]"
      ]
     },
     "execution_count": 64,
     "metadata": {},
     "output_type": "execute_result"
    }
   ],
   "source": [
    "# data['alcohol_consumption_problem'].value_counts()\n",
    "data.head(5)"
   ]
  },
  {
   "cell_type": "markdown",
   "metadata": {},
   "source": [
    "# Imbalance Class"
   ]
  },
  {
   "cell_type": "code",
   "execution_count": null,
   "metadata": {},
   "outputs": [],
   "source": []
  },
  {
   "cell_type": "code",
   "execution_count": 71,
   "metadata": {},
   "outputs": [
    {
     "data": {
      "text/plain": [
       "0    850\n",
       "1    194\n",
       "Name: alcohol_consumption_problem, dtype: int64"
      ]
     },
     "execution_count": 71,
     "metadata": {},
     "output_type": "execute_result"
    }
   ],
   "source": [
    "data['alcohol_consumption_problem'].value_counts()"
   ]
  },
  {
   "cell_type": "code",
   "execution_count": 65,
   "metadata": {
    "colab": {
     "base_uri": "https://localhost:8080/"
    },
    "id": "2hsPp0HqH3Wl",
    "outputId": "cafe55bc-1ed4-46bc-8a20-8ac98f8f3377"
   },
   "outputs": [
    {
     "data": {
      "text/plain": [
       "0       0\n",
       "1       0\n",
       "2       0\n",
       "3       0\n",
       "4       0\n",
       "       ..\n",
       "1039    0\n",
       "1040    0\n",
       "1041    0\n",
       "1042    1\n",
       "1043    1\n",
       "Name: alcohol_consumption_problem, Length: 1044, dtype: int64"
      ]
     },
     "execution_count": 65,
     "metadata": {},
     "output_type": "execute_result"
    }
   ],
   "source": [
    "y = data['alcohol_consumption_problem']\n",
    "y"
   ]
  },
  {
   "cell_type": "code",
   "execution_count": 66,
   "metadata": {
    "colab": {
     "base_uri": "https://localhost:8080/",
     "height": 439
    },
    "id": "5kaF0SpzUGte",
    "outputId": "924afb17-621f-4662-d94a-3737761afdac"
   },
   "outputs": [
    {
     "data": {
      "text/html": [
       "<div>\n",
       "<style scoped>\n",
       "    .dataframe tbody tr th:only-of-type {\n",
       "        vertical-align: middle;\n",
       "    }\n",
       "\n",
       "    .dataframe tbody tr th {\n",
       "        vertical-align: top;\n",
       "    }\n",
       "\n",
       "    .dataframe thead th {\n",
       "        text-align: right;\n",
       "    }\n",
       "</style>\n",
       "<table border=\"1\" class=\"dataframe\">\n",
       "  <thead>\n",
       "    <tr style=\"text-align: right;\">\n",
       "      <th></th>\n",
       "      <th>school</th>\n",
       "      <th>sex</th>\n",
       "      <th>age</th>\n",
       "      <th>address</th>\n",
       "      <th>famsize</th>\n",
       "      <th>Pstatus</th>\n",
       "      <th>Medu</th>\n",
       "      <th>Fedu</th>\n",
       "      <th>Mjob</th>\n",
       "      <th>Fjob</th>\n",
       "      <th>...</th>\n",
       "      <th>goout</th>\n",
       "      <th>Dalc</th>\n",
       "      <th>Walc</th>\n",
       "      <th>health</th>\n",
       "      <th>absences</th>\n",
       "      <th>G1</th>\n",
       "      <th>G2</th>\n",
       "      <th>G3</th>\n",
       "      <th>all_day_in_week_alc</th>\n",
       "      <th>ave_grade</th>\n",
       "    </tr>\n",
       "  </thead>\n",
       "  <tbody>\n",
       "    <tr>\n",
       "      <th>0</th>\n",
       "      <td>0</td>\n",
       "      <td>0</td>\n",
       "      <td>18</td>\n",
       "      <td>0</td>\n",
       "      <td>0</td>\n",
       "      <td>0</td>\n",
       "      <td>4</td>\n",
       "      <td>4</td>\n",
       "      <td>0</td>\n",
       "      <td>0</td>\n",
       "      <td>...</td>\n",
       "      <td>4</td>\n",
       "      <td>1</td>\n",
       "      <td>1</td>\n",
       "      <td>3</td>\n",
       "      <td>6</td>\n",
       "      <td>5</td>\n",
       "      <td>6</td>\n",
       "      <td>6</td>\n",
       "      <td>2</td>\n",
       "      <td>5.67</td>\n",
       "    </tr>\n",
       "    <tr>\n",
       "      <th>1</th>\n",
       "      <td>0</td>\n",
       "      <td>0</td>\n",
       "      <td>17</td>\n",
       "      <td>0</td>\n",
       "      <td>0</td>\n",
       "      <td>1</td>\n",
       "      <td>1</td>\n",
       "      <td>1</td>\n",
       "      <td>0</td>\n",
       "      <td>1</td>\n",
       "      <td>...</td>\n",
       "      <td>3</td>\n",
       "      <td>1</td>\n",
       "      <td>1</td>\n",
       "      <td>3</td>\n",
       "      <td>4</td>\n",
       "      <td>5</td>\n",
       "      <td>5</td>\n",
       "      <td>6</td>\n",
       "      <td>2</td>\n",
       "      <td>5.33</td>\n",
       "    </tr>\n",
       "    <tr>\n",
       "      <th>2</th>\n",
       "      <td>0</td>\n",
       "      <td>0</td>\n",
       "      <td>15</td>\n",
       "      <td>0</td>\n",
       "      <td>1</td>\n",
       "      <td>1</td>\n",
       "      <td>1</td>\n",
       "      <td>1</td>\n",
       "      <td>0</td>\n",
       "      <td>1</td>\n",
       "      <td>...</td>\n",
       "      <td>2</td>\n",
       "      <td>2</td>\n",
       "      <td>3</td>\n",
       "      <td>3</td>\n",
       "      <td>10</td>\n",
       "      <td>7</td>\n",
       "      <td>8</td>\n",
       "      <td>10</td>\n",
       "      <td>5</td>\n",
       "      <td>8.33</td>\n",
       "    </tr>\n",
       "    <tr>\n",
       "      <th>3</th>\n",
       "      <td>0</td>\n",
       "      <td>0</td>\n",
       "      <td>15</td>\n",
       "      <td>0</td>\n",
       "      <td>0</td>\n",
       "      <td>1</td>\n",
       "      <td>4</td>\n",
       "      <td>2</td>\n",
       "      <td>1</td>\n",
       "      <td>2</td>\n",
       "      <td>...</td>\n",
       "      <td>2</td>\n",
       "      <td>1</td>\n",
       "      <td>1</td>\n",
       "      <td>5</td>\n",
       "      <td>2</td>\n",
       "      <td>15</td>\n",
       "      <td>14</td>\n",
       "      <td>15</td>\n",
       "      <td>2</td>\n",
       "      <td>14.67</td>\n",
       "    </tr>\n",
       "    <tr>\n",
       "      <th>4</th>\n",
       "      <td>0</td>\n",
       "      <td>0</td>\n",
       "      <td>16</td>\n",
       "      <td>0</td>\n",
       "      <td>0</td>\n",
       "      <td>1</td>\n",
       "      <td>3</td>\n",
       "      <td>3</td>\n",
       "      <td>2</td>\n",
       "      <td>1</td>\n",
       "      <td>...</td>\n",
       "      <td>2</td>\n",
       "      <td>1</td>\n",
       "      <td>2</td>\n",
       "      <td>5</td>\n",
       "      <td>4</td>\n",
       "      <td>6</td>\n",
       "      <td>10</td>\n",
       "      <td>10</td>\n",
       "      <td>3</td>\n",
       "      <td>8.67</td>\n",
       "    </tr>\n",
       "    <tr>\n",
       "      <th>...</th>\n",
       "      <td>...</td>\n",
       "      <td>...</td>\n",
       "      <td>...</td>\n",
       "      <td>...</td>\n",
       "      <td>...</td>\n",
       "      <td>...</td>\n",
       "      <td>...</td>\n",
       "      <td>...</td>\n",
       "      <td>...</td>\n",
       "      <td>...</td>\n",
       "      <td>...</td>\n",
       "      <td>...</td>\n",
       "      <td>...</td>\n",
       "      <td>...</td>\n",
       "      <td>...</td>\n",
       "      <td>...</td>\n",
       "      <td>...</td>\n",
       "      <td>...</td>\n",
       "      <td>...</td>\n",
       "      <td>...</td>\n",
       "      <td>...</td>\n",
       "    </tr>\n",
       "    <tr>\n",
       "      <th>1039</th>\n",
       "      <td>1</td>\n",
       "      <td>0</td>\n",
       "      <td>19</td>\n",
       "      <td>1</td>\n",
       "      <td>0</td>\n",
       "      <td>1</td>\n",
       "      <td>2</td>\n",
       "      <td>3</td>\n",
       "      <td>3</td>\n",
       "      <td>1</td>\n",
       "      <td>...</td>\n",
       "      <td>2</td>\n",
       "      <td>1</td>\n",
       "      <td>2</td>\n",
       "      <td>5</td>\n",
       "      <td>4</td>\n",
       "      <td>10</td>\n",
       "      <td>11</td>\n",
       "      <td>10</td>\n",
       "      <td>3</td>\n",
       "      <td>10.33</td>\n",
       "    </tr>\n",
       "    <tr>\n",
       "      <th>1040</th>\n",
       "      <td>1</td>\n",
       "      <td>0</td>\n",
       "      <td>18</td>\n",
       "      <td>0</td>\n",
       "      <td>1</td>\n",
       "      <td>1</td>\n",
       "      <td>3</td>\n",
       "      <td>1</td>\n",
       "      <td>4</td>\n",
       "      <td>2</td>\n",
       "      <td>...</td>\n",
       "      <td>4</td>\n",
       "      <td>1</td>\n",
       "      <td>1</td>\n",
       "      <td>1</td>\n",
       "      <td>4</td>\n",
       "      <td>15</td>\n",
       "      <td>15</td>\n",
       "      <td>16</td>\n",
       "      <td>2</td>\n",
       "      <td>15.33</td>\n",
       "    </tr>\n",
       "    <tr>\n",
       "      <th>1041</th>\n",
       "      <td>1</td>\n",
       "      <td>0</td>\n",
       "      <td>18</td>\n",
       "      <td>0</td>\n",
       "      <td>0</td>\n",
       "      <td>1</td>\n",
       "      <td>1</td>\n",
       "      <td>1</td>\n",
       "      <td>2</td>\n",
       "      <td>1</td>\n",
       "      <td>...</td>\n",
       "      <td>1</td>\n",
       "      <td>1</td>\n",
       "      <td>1</td>\n",
       "      <td>5</td>\n",
       "      <td>6</td>\n",
       "      <td>11</td>\n",
       "      <td>12</td>\n",
       "      <td>9</td>\n",
       "      <td>2</td>\n",
       "      <td>10.67</td>\n",
       "    </tr>\n",
       "    <tr>\n",
       "      <th>1042</th>\n",
       "      <td>1</td>\n",
       "      <td>1</td>\n",
       "      <td>17</td>\n",
       "      <td>0</td>\n",
       "      <td>1</td>\n",
       "      <td>1</td>\n",
       "      <td>3</td>\n",
       "      <td>1</td>\n",
       "      <td>3</td>\n",
       "      <td>2</td>\n",
       "      <td>...</td>\n",
       "      <td>5</td>\n",
       "      <td>3</td>\n",
       "      <td>4</td>\n",
       "      <td>2</td>\n",
       "      <td>6</td>\n",
       "      <td>10</td>\n",
       "      <td>10</td>\n",
       "      <td>10</td>\n",
       "      <td>7</td>\n",
       "      <td>10.00</td>\n",
       "    </tr>\n",
       "    <tr>\n",
       "      <th>1043</th>\n",
       "      <td>1</td>\n",
       "      <td>1</td>\n",
       "      <td>18</td>\n",
       "      <td>1</td>\n",
       "      <td>1</td>\n",
       "      <td>1</td>\n",
       "      <td>3</td>\n",
       "      <td>2</td>\n",
       "      <td>3</td>\n",
       "      <td>1</td>\n",
       "      <td>...</td>\n",
       "      <td>1</td>\n",
       "      <td>3</td>\n",
       "      <td>4</td>\n",
       "      <td>5</td>\n",
       "      <td>4</td>\n",
       "      <td>10</td>\n",
       "      <td>11</td>\n",
       "      <td>11</td>\n",
       "      <td>7</td>\n",
       "      <td>10.67</td>\n",
       "    </tr>\n",
       "  </tbody>\n",
       "</table>\n",
       "<p>1044 rows × 35 columns</p>\n",
       "</div>"
      ],
      "text/plain": [
       "      school  sex  age  address  famsize  Pstatus  Medu  Fedu  Mjob  Fjob  \\\n",
       "0          0    0   18        0        0        0     4     4     0     0   \n",
       "1          0    0   17        0        0        1     1     1     0     1   \n",
       "2          0    0   15        0        1        1     1     1     0     1   \n",
       "3          0    0   15        0        0        1     4     2     1     2   \n",
       "4          0    0   16        0        0        1     3     3     2     1   \n",
       "...      ...  ...  ...      ...      ...      ...   ...   ...   ...   ...   \n",
       "1039       1    0   19        1        0        1     2     3     3     1   \n",
       "1040       1    0   18        0        1        1     3     1     4     2   \n",
       "1041       1    0   18        0        0        1     1     1     2     1   \n",
       "1042       1    1   17        0        1        1     3     1     3     2   \n",
       "1043       1    1   18        1        1        1     3     2     3     1   \n",
       "\n",
       "      ...  goout  Dalc  Walc  health  absences  G1  G2  G3  \\\n",
       "0     ...      4     1     1       3         6   5   6   6   \n",
       "1     ...      3     1     1       3         4   5   5   6   \n",
       "2     ...      2     2     3       3        10   7   8  10   \n",
       "3     ...      2     1     1       5         2  15  14  15   \n",
       "4     ...      2     1     2       5         4   6  10  10   \n",
       "...   ...    ...   ...   ...     ...       ...  ..  ..  ..   \n",
       "1039  ...      2     1     2       5         4  10  11  10   \n",
       "1040  ...      4     1     1       1         4  15  15  16   \n",
       "1041  ...      1     1     1       5         6  11  12   9   \n",
       "1042  ...      5     3     4       2         6  10  10  10   \n",
       "1043  ...      1     3     4       5         4  10  11  11   \n",
       "\n",
       "      all_day_in_week_alc  ave_grade  \n",
       "0                       2       5.67  \n",
       "1                       2       5.33  \n",
       "2                       5       8.33  \n",
       "3                       2      14.67  \n",
       "4                       3       8.67  \n",
       "...                   ...        ...  \n",
       "1039                    3      10.33  \n",
       "1040                    2      15.33  \n",
       "1041                    2      10.67  \n",
       "1042                    7      10.00  \n",
       "1043                    7      10.67  \n",
       "\n",
       "[1044 rows x 35 columns]"
      ]
     },
     "execution_count": 66,
     "metadata": {},
     "output_type": "execute_result"
    }
   ],
   "source": [
    "X = data\n",
    "X = X.drop('alcohol_consumption_problem', axis=1)\n",
    "X"
   ]
  },
  {
   "cell_type": "code",
   "execution_count": 70,
   "metadata": {},
   "outputs": [
    {
     "name": "stdout",
     "output_type": "stream",
     "text": [
      "(1044, 35)\n",
      "(1044,)\n"
     ]
    }
   ],
   "source": [
    "print(X.shape)\n",
    "print(y.shape)"
   ]
  },
  {
   "cell_type": "markdown",
   "metadata": {
    "id": "P2EpWYa-H38q"
   },
   "source": [
    "# Splitting Data"
   ]
  },
  {
   "cell_type": "code",
   "execution_count": 30,
   "metadata": {
    "id": "WavPTr9cLTG3"
   },
   "outputs": [],
   "source": [
    "# class_names = [data['alcohol_consumption_problem'].value_counts().index]\n",
    "\n",
    "class_names=['no alcohol problem', 'alcohol problem']"
   ]
  },
  {
   "cell_type": "code",
   "execution_count": 31,
   "metadata": {
    "colab": {
     "base_uri": "https://localhost:8080/"
    },
    "id": "zWSk3Jb9jJp4",
    "outputId": "e17ba6cd-edcc-4d56-df5d-cf3120b3b557"
   },
   "outputs": [
    {
     "name": "stdout",
     "output_type": "stream",
     "text": [
      "Training set - Features:  (587, 35) Target:  (587,)\n",
      "Test set - Features:  (261, 35) Target:  (261,)\n",
      "0    0.805792\n",
      "1    0.194208\n",
      "Name: alcohol_consumption_problem, dtype: float64\n",
      "0    0.842912\n",
      "1    0.157088\n",
      "Name: alcohol_consumption_problem, dtype: float64\n"
     ]
    }
   ],
   "source": [
    "#checking the shape of the training set and test set\n",
    "print(\"Training set - Features: \", X_train.shape, \"Target: \", y_train.shape,)\n",
    "print(\"Test set - Features: \", X_test.shape, \"Target: \",y_test.shape,)\n",
    "print(y_train.value_counts(normalize = True))\n",
    "print(y_test.value_counts(normalize = True))"
   ]
  },
  {
   "cell_type": "markdown",
   "metadata": {
    "id": "uft4YkwjS6o4"
   },
   "source": [
    "Fix Class Imbalance"
   ]
  },
  {
   "cell_type": "code",
   "execution_count": 32,
   "metadata": {
    "colab": {
     "base_uri": "https://localhost:8080/"
    },
    "id": "RLol4-rUS4kG",
    "outputId": "835f23c0-10c8-48cc-8385-9319fa226473"
   },
   "outputs": [
    {
     "name": "stdout",
     "output_type": "stream",
     "text": [
      "no_problem count: 850\n",
      "alc_problem count: 194\n"
     ]
    }
   ],
   "source": [
    "# separate minority and majority classes\n",
    "no_problem = data[data.alcohol_consumption_problem==0]\n",
    "alc_problem = data[data.alcohol_consumption_problem==1]\n",
    "\n",
    "# Get a class count to understand the class imbalance.\n",
    "print('no_problem count: '+ str(len(no_problem)))\n",
    "print('alc_problem count: '+ str(len(alc_problem)))"
   ]
  },
  {
   "cell_type": "code",
   "execution_count": 33,
   "metadata": {
    "id": "lCV8X8o6UcHx"
   },
   "outputs": [],
   "source": [
    "from sklearn.utils import resample"
   ]
  },
  {
   "cell_type": "code",
   "execution_count": 34,
   "metadata": {
    "colab": {
     "base_uri": "https://localhost:8080/"
    },
    "id": "WRe-YG8EUd08",
    "outputId": "edcff801-aef5-4cde-f2bc-0fd3efdbdb38"
   },
   "outputs": [
    {
     "data": {
      "text/plain": [
       "(850, 36)"
      ]
     },
     "execution_count": 34,
     "metadata": {},
     "output_type": "execute_result"
    }
   ],
   "source": [
    "# upsample minority: alcohol problem\n",
    "alc_problem_upsampled = resample(alc_problem,\n",
    "                          replace=True, # sample with replacement\n",
    "                          n_samples=len(no_problem), # match number in majority class\n",
    "                          random_state=23) # reproducible results\n",
    "alc_problem_upsampled.shape"
   ]
  },
  {
   "cell_type": "code",
   "execution_count": 35,
   "metadata": {
    "colab": {
     "base_uri": "https://localhost:8080/"
    },
    "id": "TFOLH3_AU3e8",
    "outputId": "c48344cc-90f0-4b92-d904-ed20a8a8a8c2"
   },
   "outputs": [
    {
     "data": {
      "text/plain": [
       "1    850\n",
       "0    850\n",
       "Name: alcohol_consumption_problem, dtype: int64"
      ]
     },
     "execution_count": 35,
     "metadata": {},
     "output_type": "execute_result"
    }
   ],
   "source": [
    "# combine majority and upsampled minority\n",
    "upsampled = pd.concat([no_problem, alc_problem_upsampled])\n",
    "# upsampled\n",
    "# check new class counts\n",
    "upsampled.alcohol_consumption_problem.value_counts()"
   ]
  },
  {
   "cell_type": "code",
   "execution_count": 36,
   "metadata": {
    "colab": {
     "base_uri": "https://localhost:8080/"
    },
    "id": "ZzjAWSJPVzPS",
    "outputId": "498f0cac-d1ea-42dd-e3b3-99f9ec5012ac"
   },
   "outputs": [
    {
     "data": {
      "text/plain": [
       "(1700, 35)"
      ]
     },
     "execution_count": 36,
     "metadata": {},
     "output_type": "execute_result"
    }
   ],
   "source": [
    "y_train_up = upsampled.alcohol_consumption_problem\n",
    "X_train_up = upsampled.drop(columns = 'alcohol_consumption_problem', axis=1)\n",
    "X_train_up.shape\n",
    "\n",
    "# print(y_train_u.value_counts(normalize = True))\n",
    "# print(X_train_u.value_counts(normalize = True))"
   ]
  },
  {
   "cell_type": "markdown",
   "metadata": {
    "id": "Rq9-0EpX8Mqu"
   },
   "source": [
    "# Split data"
   ]
  },
  {
   "cell_type": "code",
   "execution_count": 67,
   "metadata": {
    "id": "C4nRiEv7IC9m"
   },
   "outputs": [],
   "source": [
    "X_train_full, X_test, y_train_full, y_test = train_test_split(X, y, random_state=22)\n",
    "X_train, X_valid, y_train, y_valid = train_test_split(X_train_full, y_train_full, random_state=22)\n",
    "\n",
    "# scaler = StandardScaler()\n",
    "# X_train = scaler.fit_transform(X_train)\n",
    "# X_valid = scaler.transform(X_valid)\n",
    "# X_test = scaler.transform(X_test)"
   ]
  },
  {
   "cell_type": "markdown",
   "metadata": {
    "id": "fD_DudQvWUGc"
   },
   "source": [
    "Resplit Data"
   ]
  },
  {
   "cell_type": "code",
   "execution_count": 37,
   "metadata": {
    "id": "Capv1fcjWTct"
   },
   "outputs": [],
   "source": [
    "# from keras.utils import to_categorical \n",
    "\n",
    "X_train_full, X_test, y_train_full, y_test = train_test_split(X_train_up, y_train_up, random_state=150)\n",
    "X_train, X_valid, y_train, y_valid = train_test_split(X_train_full, y_train_full, random_state=150)\n",
    "\n",
    "# # Skipped for binary\n",
    "# scaler = StandardScaler()\n",
    "# X_train = scaler.fit_transform(X_train)\n",
    "# X_valid = scaler.transform(X_valid)\n",
    "# X_test = scaler.transform(X_test)\n",
    "\n",
    "# # y_train=to_categorical(y_train)\n",
    "# # y_test=to_categorical(y_test)"
   ]
  },
  {
   "cell_type": "code",
   "execution_count": null,
   "metadata": {
    "id": "cAZ4MtVWecwk"
   },
   "outputs": [],
   "source": []
  },
  {
   "cell_type": "code",
   "execution_count": 38,
   "metadata": {
    "colab": {
     "base_uri": "https://localhost:8080/"
    },
    "id": "tiCGeBZpefUn",
    "outputId": "6bca4e0b-fed0-4059-cea2-5dbce1c841c2"
   },
   "outputs": [
    {
     "data": {
      "text/plain": [
       "(319, 35)"
      ]
     },
     "execution_count": 38,
     "metadata": {},
     "output_type": "execute_result"
    }
   ],
   "source": [
    "X_valid.shape"
   ]
  },
  {
   "cell_type": "markdown",
   "metadata": {
    "id": "6IEyUt2jStHJ"
   },
   "source": [
    "# Need Encoding"
   ]
  },
  {
   "cell_type": "code",
   "execution_count": 39,
   "metadata": {
    "id": "PNzsdMxqDFaf"
   },
   "outputs": [],
   "source": [
    "import tensorflow as tf\n",
    "from tensorflow import keras"
   ]
  },
  {
   "cell_type": "code",
   "execution_count": 40,
   "metadata": {
    "id": "WwsORdXReuD2"
   },
   "outputs": [],
   "source": [
    "np.random.seed(42)\n",
    "tf.random.set_seed(42)"
   ]
  },
  {
   "cell_type": "code",
   "execution_count": 41,
   "metadata": {
    "colab": {
     "base_uri": "https://localhost:8080/"
    },
    "id": "Up0epMnmnGxv",
    "outputId": "1dc52c24-f89d-4f3f-8a13-e14d0c1358c3"
   },
   "outputs": [
    {
     "data": {
      "text/plain": [
       "(35,)"
      ]
     },
     "execution_count": 41,
     "metadata": {},
     "output_type": "execute_result"
    }
   ],
   "source": [
    "X_train.shape[1:]"
   ]
  },
  {
   "cell_type": "code",
   "execution_count": 42,
   "metadata": {
    "colab": {
     "base_uri": "https://localhost:8080/"
    },
    "id": "XLiTSx-MdzIn",
    "outputId": "42919881-71b4-441e-8809-d913e8fbf2ef"
   },
   "outputs": [
    {
     "name": "stdout",
     "output_type": "stream",
     "text": [
      "Epoch 1/100\n",
      "30/30 [==============================] - 7s 43ms/step - loss: 0.3537 - accuracy: 0.3277 - val_loss: 0.2809 - val_accuracy: 0.3981\n",
      "Epoch 2/100\n",
      "30/30 [==============================] - 0s 6ms/step - loss: 0.2776 - accuracy: 0.3500 - val_loss: 0.2515 - val_accuracy: 0.3417\n",
      "Epoch 3/100\n",
      "30/30 [==============================] - 0s 6ms/step - loss: 0.2462 - accuracy: 0.3004 - val_loss: 0.2318 - val_accuracy: 0.3135\n",
      "Epoch 4/100\n",
      "30/30 [==============================] - 0s 6ms/step - loss: 0.2295 - accuracy: 0.3197 - val_loss: 0.2162 - val_accuracy: 0.3041\n",
      "Epoch 5/100\n",
      "30/30 [==============================] - 0s 6ms/step - loss: 0.2182 - accuracy: 0.3267 - val_loss: 0.2069 - val_accuracy: 0.2947\n",
      "Epoch 6/100\n",
      "30/30 [==============================] - 0s 6ms/step - loss: 0.2064 - accuracy: 0.3324 - val_loss: 0.1981 - val_accuracy: 0.2947\n",
      "Epoch 7/100\n",
      "30/30 [==============================] - 0s 6ms/step - loss: 0.1956 - accuracy: 0.3114 - val_loss: 0.1913 - val_accuracy: 0.2915\n",
      "Epoch 8/100\n",
      "30/30 [==============================] - 0s 6ms/step - loss: 0.1877 - accuracy: 0.3061 - val_loss: 0.1858 - val_accuracy: 0.2884\n",
      "Epoch 9/100\n",
      "30/30 [==============================] - 0s 6ms/step - loss: 0.1868 - accuracy: 0.3122 - val_loss: 0.1806 - val_accuracy: 0.2915\n",
      "Epoch 10/100\n",
      "30/30 [==============================] - 0s 7ms/step - loss: 0.1800 - accuracy: 0.3199 - val_loss: 0.1737 - val_accuracy: 0.2947\n",
      "Epoch 11/100\n",
      "30/30 [==============================] - 0s 8ms/step - loss: 0.1752 - accuracy: 0.3207 - val_loss: 0.1691 - val_accuracy: 0.2821\n",
      "Epoch 12/100\n",
      "30/30 [==============================] - 0s 9ms/step - loss: 0.1700 - accuracy: 0.2993 - val_loss: 0.1635 - val_accuracy: 0.2853\n",
      "Epoch 13/100\n",
      "30/30 [==============================] - 0s 9ms/step - loss: 0.1681 - accuracy: 0.2976 - val_loss: 0.1602 - val_accuracy: 0.2853\n",
      "Epoch 14/100\n",
      "30/30 [==============================] - 0s 10ms/step - loss: 0.1637 - accuracy: 0.3131 - val_loss: 0.1554 - val_accuracy: 0.2884\n",
      "Epoch 15/100\n",
      "30/30 [==============================] - 0s 10ms/step - loss: 0.1580 - accuracy: 0.3032 - val_loss: 0.1520 - val_accuracy: 0.2978\n",
      "Epoch 16/100\n",
      "30/30 [==============================] - 0s 9ms/step - loss: 0.1522 - accuracy: 0.3146 - val_loss: 0.1478 - val_accuracy: 0.2978\n",
      "Epoch 17/100\n",
      "30/30 [==============================] - 0s 9ms/step - loss: 0.1500 - accuracy: 0.3008 - val_loss: 0.1439 - val_accuracy: 0.3009\n",
      "Epoch 18/100\n",
      "30/30 [==============================] - 0s 9ms/step - loss: 0.1477 - accuracy: 0.2986 - val_loss: 0.1412 - val_accuracy: 0.3041\n",
      "Epoch 19/100\n",
      "30/30 [==============================] - 0s 9ms/step - loss: 0.1436 - accuracy: 0.3173 - val_loss: 0.1373 - val_accuracy: 0.3041\n",
      "Epoch 20/100\n",
      "30/30 [==============================] - 0s 9ms/step - loss: 0.1395 - accuracy: 0.3203 - val_loss: 0.1344 - val_accuracy: 0.3009\n",
      "Epoch 21/100\n",
      "30/30 [==============================] - 0s 9ms/step - loss: 0.1347 - accuracy: 0.3108 - val_loss: 0.1305 - val_accuracy: 0.3103\n",
      "Epoch 22/100\n",
      "30/30 [==============================] - 0s 8ms/step - loss: 0.1281 - accuracy: 0.3112 - val_loss: 0.1285 - val_accuracy: 0.3072\n",
      "Epoch 23/100\n",
      "30/30 [==============================] - 0s 9ms/step - loss: 0.1267 - accuracy: 0.3152 - val_loss: 0.1250 - val_accuracy: 0.3166\n",
      "Epoch 24/100\n",
      "30/30 [==============================] - 0s 8ms/step - loss: 0.1249 - accuracy: 0.3324 - val_loss: 0.1212 - val_accuracy: 0.3166\n",
      "Epoch 25/100\n",
      "30/30 [==============================] - 0s 10ms/step - loss: 0.1215 - accuracy: 0.3372 - val_loss: 0.1176 - val_accuracy: 0.3197\n",
      "Epoch 26/100\n",
      "30/30 [==============================] - 0s 13ms/step - loss: 0.1191 - accuracy: 0.3271 - val_loss: 0.1160 - val_accuracy: 0.3229\n",
      "Epoch 27/100\n",
      "30/30 [==============================] - 0s 13ms/step - loss: 0.1155 - accuracy: 0.3337 - val_loss: 0.1137 - val_accuracy: 0.3292\n",
      "Epoch 28/100\n",
      "30/30 [==============================] - 0s 10ms/step - loss: 0.1133 - accuracy: 0.3021 - val_loss: 0.1110 - val_accuracy: 0.3292\n",
      "Epoch 29/100\n",
      "30/30 [==============================] - 0s 9ms/step - loss: 0.1141 - accuracy: 0.3423 - val_loss: 0.1078 - val_accuracy: 0.3323\n",
      "Epoch 30/100\n",
      "30/30 [==============================] - 0s 9ms/step - loss: 0.1081 - accuracy: 0.3438 - val_loss: 0.1057 - val_accuracy: 0.3323\n",
      "Epoch 31/100\n",
      "30/30 [==============================] - 0s 9ms/step - loss: 0.1135 - accuracy: 0.3312 - val_loss: 0.1041 - val_accuracy: 0.3354\n",
      "Epoch 32/100\n",
      "30/30 [==============================] - 0s 8ms/step - loss: 0.1039 - accuracy: 0.3445 - val_loss: 0.1023 - val_accuracy: 0.3386\n",
      "Epoch 33/100\n",
      "30/30 [==============================] - 0s 9ms/step - loss: 0.1088 - accuracy: 0.3695 - val_loss: 0.1001 - val_accuracy: 0.3386\n",
      "Epoch 34/100\n",
      "30/30 [==============================] - 0s 9ms/step - loss: 0.1019 - accuracy: 0.3356 - val_loss: 0.0990 - val_accuracy: 0.3417\n",
      "Epoch 35/100\n",
      "30/30 [==============================] - 0s 9ms/step - loss: 0.0994 - accuracy: 0.3407 - val_loss: 0.0968 - val_accuracy: 0.3417\n",
      "Epoch 36/100\n",
      "30/30 [==============================] - 0s 11ms/step - loss: 0.0984 - accuracy: 0.3558 - val_loss: 0.0950 - val_accuracy: 0.3448\n",
      "Epoch 37/100\n",
      "30/30 [==============================] - 0s 9ms/step - loss: 0.0939 - accuracy: 0.3304 - val_loss: 0.0933 - val_accuracy: 0.3448\n",
      "Epoch 38/100\n",
      "30/30 [==============================] - 0s 11ms/step - loss: 0.0953 - accuracy: 0.3534 - val_loss: 0.0923 - val_accuracy: 0.3448\n",
      "Epoch 39/100\n",
      "30/30 [==============================] - 0s 10ms/step - loss: 0.0904 - accuracy: 0.3660 - val_loss: 0.0902 - val_accuracy: 0.3511\n",
      "Epoch 40/100\n",
      "30/30 [==============================] - 0s 9ms/step - loss: 0.0934 - accuracy: 0.3646 - val_loss: 0.0893 - val_accuracy: 0.3511\n",
      "Epoch 41/100\n",
      "30/30 [==============================] - 0s 10ms/step - loss: 0.0935 - accuracy: 0.3638 - val_loss: 0.0874 - val_accuracy: 0.3668\n",
      "Epoch 42/100\n",
      "30/30 [==============================] - 0s 11ms/step - loss: 0.0882 - accuracy: 0.3631 - val_loss: 0.0875 - val_accuracy: 0.3699\n",
      "Epoch 43/100\n",
      "30/30 [==============================] - 0s 14ms/step - loss: 0.0866 - accuracy: 0.3505 - val_loss: 0.0860 - val_accuracy: 0.3730\n",
      "Epoch 44/100\n",
      "30/30 [==============================] - 0s 12ms/step - loss: 0.0878 - accuracy: 0.3770 - val_loss: 0.0837 - val_accuracy: 0.3668\n",
      "Epoch 45/100\n",
      "30/30 [==============================] - 0s 11ms/step - loss: 0.0836 - accuracy: 0.3686 - val_loss: 0.0827 - val_accuracy: 0.3668\n",
      "Epoch 46/100\n",
      "30/30 [==============================] - 0s 9ms/step - loss: 0.0844 - accuracy: 0.3866 - val_loss: 0.0815 - val_accuracy: 0.3699\n",
      "Epoch 47/100\n",
      "30/30 [==============================] - 0s 9ms/step - loss: 0.0820 - accuracy: 0.3820 - val_loss: 0.0806 - val_accuracy: 0.3699\n",
      "Epoch 48/100\n",
      "30/30 [==============================] - 0s 9ms/step - loss: 0.0804 - accuracy: 0.3572 - val_loss: 0.0785 - val_accuracy: 0.3668\n",
      "Epoch 49/100\n",
      "30/30 [==============================] - 0s 9ms/step - loss: 0.0809 - accuracy: 0.3738 - val_loss: 0.0781 - val_accuracy: 0.3636\n",
      "Epoch 50/100\n",
      "30/30 [==============================] - 0s 9ms/step - loss: 0.0772 - accuracy: 0.3515 - val_loss: 0.0769 - val_accuracy: 0.3668\n",
      "Epoch 51/100\n",
      "30/30 [==============================] - 0s 9ms/step - loss: 0.0765 - accuracy: 0.3818 - val_loss: 0.0757 - val_accuracy: 0.3636\n",
      "Epoch 52/100\n",
      "30/30 [==============================] - 0s 9ms/step - loss: 0.0801 - accuracy: 0.3590 - val_loss: 0.0753 - val_accuracy: 0.3762\n",
      "Epoch 53/100\n",
      "30/30 [==============================] - 0s 8ms/step - loss: 0.0772 - accuracy: 0.3649 - val_loss: 0.0742 - val_accuracy: 0.3824\n",
      "Epoch 54/100\n",
      "30/30 [==============================] - 0s 8ms/step - loss: 0.0780 - accuracy: 0.3753 - val_loss: 0.0735 - val_accuracy: 0.3824\n",
      "Epoch 55/100\n",
      "30/30 [==============================] - 0s 8ms/step - loss: 0.0750 - accuracy: 0.4047 - val_loss: 0.0723 - val_accuracy: 0.3824\n",
      "Epoch 56/100\n",
      "30/30 [==============================] - 0s 8ms/step - loss: 0.0721 - accuracy: 0.3632 - val_loss: 0.0714 - val_accuracy: 0.3918\n",
      "Epoch 57/100\n",
      "30/30 [==============================] - 0s 8ms/step - loss: 0.0747 - accuracy: 0.4076 - val_loss: 0.0703 - val_accuracy: 0.3887\n",
      "Epoch 58/100\n"
     ]
    },
    {
     "name": "stdout",
     "output_type": "stream",
     "text": [
      "30/30 [==============================] - 0s 8ms/step - loss: 0.0729 - accuracy: 0.4061 - val_loss: 0.0691 - val_accuracy: 0.3918\n",
      "Epoch 59/100\n",
      "30/30 [==============================] - 0s 8ms/step - loss: 0.0726 - accuracy: 0.4042 - val_loss: 0.0687 - val_accuracy: 0.3981\n",
      "Epoch 60/100\n",
      "30/30 [==============================] - 0s 8ms/step - loss: 0.0688 - accuracy: 0.4349 - val_loss: 0.0679 - val_accuracy: 0.3981\n",
      "Epoch 61/100\n",
      "30/30 [==============================] - 0s 7ms/step - loss: 0.0685 - accuracy: 0.3869 - val_loss: 0.0668 - val_accuracy: 0.3981\n",
      "Epoch 62/100\n",
      "30/30 [==============================] - 0s 8ms/step - loss: 0.0686 - accuracy: 0.4241 - val_loss: 0.0662 - val_accuracy: 0.3918\n",
      "Epoch 63/100\n",
      "30/30 [==============================] - 0s 8ms/step - loss: 0.0675 - accuracy: 0.3922 - val_loss: 0.0656 - val_accuracy: 0.3918\n",
      "Epoch 64/100\n",
      "30/30 [==============================] - 0s 8ms/step - loss: 0.0626 - accuracy: 0.3984 - val_loss: 0.0645 - val_accuracy: 0.3950\n",
      "Epoch 65/100\n",
      "30/30 [==============================] - 0s 8ms/step - loss: 0.0634 - accuracy: 0.4059 - val_loss: 0.0640 - val_accuracy: 0.3981\n",
      "Epoch 66/100\n",
      "30/30 [==============================] - 0s 7ms/step - loss: 0.0652 - accuracy: 0.3838 - val_loss: 0.0637 - val_accuracy: 0.3918\n",
      "Epoch 67/100\n",
      "30/30 [==============================] - 0s 8ms/step - loss: 0.0648 - accuracy: 0.4088 - val_loss: 0.0630 - val_accuracy: 0.3918\n",
      "Epoch 68/100\n",
      "30/30 [==============================] - 0s 8ms/step - loss: 0.0635 - accuracy: 0.3869 - val_loss: 0.0621 - val_accuracy: 0.4107\n",
      "Epoch 69/100\n",
      "30/30 [==============================] - 0s 8ms/step - loss: 0.0651 - accuracy: 0.4408 - val_loss: 0.0612 - val_accuracy: 0.4013\n",
      "Epoch 70/100\n",
      "30/30 [==============================] - 0s 7ms/step - loss: 0.0626 - accuracy: 0.4057 - val_loss: 0.0607 - val_accuracy: 0.3981\n",
      "Epoch 71/100\n",
      "30/30 [==============================] - 0s 7ms/step - loss: 0.0609 - accuracy: 0.4019 - val_loss: 0.0604 - val_accuracy: 0.4044\n",
      "Epoch 72/100\n",
      "30/30 [==============================] - 0s 7ms/step - loss: 0.0670 - accuracy: 0.4205 - val_loss: 0.0593 - val_accuracy: 0.4169\n",
      "Epoch 73/100\n",
      "30/30 [==============================] - 0s 7ms/step - loss: 0.0597 - accuracy: 0.4106 - val_loss: 0.0586 - val_accuracy: 0.4107\n",
      "Epoch 74/100\n",
      "30/30 [==============================] - 0s 7ms/step - loss: 0.0613 - accuracy: 0.4062 - val_loss: 0.0582 - val_accuracy: 0.4169\n",
      "Epoch 75/100\n",
      "30/30 [==============================] - 0s 7ms/step - loss: 0.0607 - accuracy: 0.4326 - val_loss: 0.0576 - val_accuracy: 0.4138\n",
      "Epoch 76/100\n",
      "30/30 [==============================] - 0s 7ms/step - loss: 0.0568 - accuracy: 0.4462 - val_loss: 0.0568 - val_accuracy: 0.4138\n",
      "Epoch 77/100\n",
      "30/30 [==============================] - 0s 8ms/step - loss: 0.0543 - accuracy: 0.4248 - val_loss: 0.0570 - val_accuracy: 0.4169\n",
      "Epoch 78/100\n",
      "30/30 [==============================] - 0s 8ms/step - loss: 0.0590 - accuracy: 0.4183 - val_loss: 0.0567 - val_accuracy: 0.4169\n",
      "Epoch 79/100\n",
      "30/30 [==============================] - 0s 7ms/step - loss: 0.0544 - accuracy: 0.4392 - val_loss: 0.0559 - val_accuracy: 0.4169\n",
      "Epoch 80/100\n",
      "30/30 [==============================] - 0s 8ms/step - loss: 0.0533 - accuracy: 0.4243 - val_loss: 0.0549 - val_accuracy: 0.4201\n",
      "Epoch 81/100\n",
      "30/30 [==============================] - 0s 9ms/step - loss: 0.0548 - accuracy: 0.4133 - val_loss: 0.0545 - val_accuracy: 0.4169\n",
      "Epoch 82/100\n",
      "30/30 [==============================] - 0s 11ms/step - loss: 0.0544 - accuracy: 0.4105 - val_loss: 0.0543 - val_accuracy: 0.4138\n",
      "Epoch 83/100\n",
      "30/30 [==============================] - 0s 13ms/step - loss: 0.0543 - accuracy: 0.4307 - val_loss: 0.0535 - val_accuracy: 0.4138\n",
      "Epoch 84/100\n",
      "30/30 [==============================] - 0s 12ms/step - loss: 0.0511 - accuracy: 0.4277 - val_loss: 0.0536 - val_accuracy: 0.4138\n",
      "Epoch 85/100\n",
      "30/30 [==============================] - 0s 12ms/step - loss: 0.0594 - accuracy: 0.4353 - val_loss: 0.0527 - val_accuracy: 0.4138\n",
      "Epoch 86/100\n",
      "30/30 [==============================] - 0s 10ms/step - loss: 0.0576 - accuracy: 0.4380 - val_loss: 0.0523 - val_accuracy: 0.4138\n",
      "Epoch 87/100\n",
      "30/30 [==============================] - 0s 13ms/step - loss: 0.0524 - accuracy: 0.4178 - val_loss: 0.0524 - val_accuracy: 0.4138\n",
      "Epoch 88/100\n",
      "30/30 [==============================] - 0s 11ms/step - loss: 0.0551 - accuracy: 0.4379 - val_loss: 0.0517 - val_accuracy: 0.4138\n",
      "Epoch 89/100\n",
      "30/30 [==============================] - 0s 9ms/step - loss: 0.0518 - accuracy: 0.4252 - val_loss: 0.0514 - val_accuracy: 0.4201\n",
      "Epoch 90/100\n",
      "30/30 [==============================] - 0s 8ms/step - loss: 0.0519 - accuracy: 0.4305 - val_loss: 0.0512 - val_accuracy: 0.4201\n",
      "Epoch 91/100\n",
      "30/30 [==============================] - 0s 9ms/step - loss: 0.0511 - accuracy: 0.4300 - val_loss: 0.0505 - val_accuracy: 0.4138\n",
      "Epoch 92/100\n",
      "30/30 [==============================] - 0s 8ms/step - loss: 0.0529 - accuracy: 0.4217 - val_loss: 0.0497 - val_accuracy: 0.4169\n",
      "Epoch 93/100\n",
      "30/30 [==============================] - 0s 8ms/step - loss: 0.0517 - accuracy: 0.4170 - val_loss: 0.0494 - val_accuracy: 0.4169\n",
      "Epoch 94/100\n",
      "30/30 [==============================] - 0s 8ms/step - loss: 0.0486 - accuracy: 0.4405 - val_loss: 0.0493 - val_accuracy: 0.4201\n",
      "Epoch 95/100\n",
      "30/30 [==============================] - 0s 8ms/step - loss: 0.0499 - accuracy: 0.4266 - val_loss: 0.0487 - val_accuracy: 0.4201\n",
      "Epoch 96/100\n",
      "30/30 [==============================] - 0s 8ms/step - loss: 0.0507 - accuracy: 0.4358 - val_loss: 0.0484 - val_accuracy: 0.4201\n",
      "Epoch 97/100\n",
      "30/30 [==============================] - 0s 8ms/step - loss: 0.0494 - accuracy: 0.4388 - val_loss: 0.0481 - val_accuracy: 0.4201\n",
      "Epoch 98/100\n",
      "30/30 [==============================] - 0s 8ms/step - loss: 0.0458 - accuracy: 0.4495 - val_loss: 0.0479 - val_accuracy: 0.4169\n",
      "Epoch 99/100\n",
      "30/30 [==============================] - 0s 8ms/step - loss: 0.0486 - accuracy: 0.4302 - val_loss: 0.0474 - val_accuracy: 0.4201\n",
      "Epoch 100/100\n",
      "30/30 [==============================] - 0s 7ms/step - loss: 0.0515 - accuracy: 0.4607 - val_loss: 0.0470 - val_accuracy: 0.4201\n",
      "14/14 [==============================] - 0s 4ms/step - loss: 0.0450 - accuracy: 0.4071\n"
     ]
    },
    {
     "data": {
      "text/plain": [
       "[0.04500691965222359, 0.40705883502960205]"
      ]
     },
     "execution_count": 42,
     "metadata": {},
     "output_type": "execute_result"
    }
   ],
   "source": [
    "# All Feature\n",
    "model = keras.models.Sequential([\n",
    "    keras.layers.Dense(300, activation=\"relu\", input_shape=X_train.shape[1:]),\n",
    "    keras.layers.Dense(50, activation='relu'),\n",
    "    keras.layers.Dense(25, activation='relu'),\n",
    "    keras.layers.Dense(2, activation='sigmoid')\n",
    "])\n",
    "\n",
    "model.compile(loss=\"mean_squared_error\", optimizer=keras.optimizers.SGD(lr=1e-3), metrics=[\"accuracy\"])\n",
    "history = model.fit(X_train, y_train, epochs=100, validation_data=(X_valid, y_valid))\n",
    "model.evaluate(X_test, y_test)"
   ]
  },
  {
   "cell_type": "code",
   "execution_count": 43,
   "metadata": {
    "colab": {
     "base_uri": "https://localhost:8080/",
     "height": 805
    },
    "id": "56n_ScXsFMu5",
    "outputId": "72992aba-751e-4378-a139-85596b0c5859"
   },
   "outputs": [
    {
     "name": "stdout",
     "output_type": "stream",
     "text": [
      "Model: \"sequential\"\n",
      "_________________________________________________________________\n",
      "Layer (type)                 Output Shape              Param #   \n",
      "=================================================================\n",
      "dense (Dense)                (None, 300)               10800     \n",
      "_________________________________________________________________\n",
      "dense_1 (Dense)              (None, 50)                15050     \n",
      "_________________________________________________________________\n",
      "dense_2 (Dense)              (None, 25)                1275      \n",
      "_________________________________________________________________\n",
      "dense_3 (Dense)              (None, 2)                 52        \n",
      "=================================================================\n",
      "Total params: 27,177\n",
      "Trainable params: 27,177\n",
      "Non-trainable params: 0\n",
      "_________________________________________________________________\n",
      "('Failed to import pydot. You must `pip install pydot` and install graphviz (https://graphviz.gitlab.io/download/), ', 'for `pydotprint` to work.')\n"
     ]
    }
   ],
   "source": [
    "model.summary()\n",
    "keras.utils.plot_model(model, \"my_model.png\", show_shapes=True)"
   ]
  },
  {
   "cell_type": "code",
   "execution_count": 44,
   "metadata": {
    "colab": {
     "base_uri": "https://localhost:8080/",
     "height": 35
    },
    "id": "B2-oo1w2HIrL",
    "outputId": "03d4f359-1e24-4e85-ac89-6e894be46d5b"
   },
   "outputs": [
    {
     "data": {
      "text/plain": [
       "'dense_1'"
      ]
     },
     "execution_count": 44,
     "metadata": {},
     "output_type": "execute_result"
    }
   ],
   "source": [
    "hidden1 = model.layers[1]\n",
    "hidden1.name"
   ]
  },
  {
   "cell_type": "code",
   "execution_count": 45,
   "metadata": {
    "colab": {
     "base_uri": "https://localhost:8080/"
    },
    "id": "-Ylh8ChjHJtb",
    "outputId": "47c817f1-c76f-4515-cb54-92b14d375fe2"
   },
   "outputs": [
    {
     "data": {
      "text/plain": [
       "True"
      ]
     },
     "execution_count": 45,
     "metadata": {},
     "output_type": "execute_result"
    }
   ],
   "source": [
    "model.get_layer(hidden1.name) is hidden1"
   ]
  },
  {
   "cell_type": "code",
   "execution_count": 46,
   "metadata": {
    "id": "MiKMRs8cHM4O"
   },
   "outputs": [],
   "source": [
    "weights, biases = hidden1.get_weights()"
   ]
  },
  {
   "cell_type": "code",
   "execution_count": 47,
   "metadata": {
    "id": "0TU1DeVhHVB0"
   },
   "outputs": [],
   "source": [
    "# print(weights)\n",
    "# print(weights.shape)"
   ]
  },
  {
   "cell_type": "code",
   "execution_count": 48,
   "metadata": {
    "colab": {
     "base_uri": "https://localhost:8080/"
    },
    "id": "JmhYr4KoHc3n",
    "outputId": "7d99ab88-d333-4846-9cdb-da533b2f6778"
   },
   "outputs": [
    {
     "name": "stdout",
     "output_type": "stream",
     "text": [
      "[ 1.0319006e-03  0.0000000e+00 -4.4532339e-04  0.0000000e+00\n",
      " -2.5848603e-06  1.4802214e-03 -2.4855763e-05  4.6372938e-04\n",
      " -2.2907050e-03 -1.3895503e-03 -1.2962916e-03  1.6656562e-05\n",
      "  0.0000000e+00  1.0615553e-03  6.8279309e-04  1.9295378e-04\n",
      "  0.0000000e+00 -1.6806545e-04 -1.5133129e-05 -3.0886271e-04\n",
      " -1.3317658e-03 -2.2949704e-03 -1.5285410e-03 -2.7871408e-04\n",
      " -1.1112844e-03  1.7357954e-03  0.0000000e+00 -3.1152659e-03\n",
      "  3.0549135e-04  1.4781011e-05  3.4274701e-03  4.4735565e-04\n",
      " -1.0425011e-04  8.7421395e-05  2.3060564e-03 -5.0628075e-04\n",
      " -3.3601737e-04  9.5263938e-04 -2.9687112e-04  1.3756390e-04\n",
      "  0.0000000e+00 -9.0229319e-04  3.6156143e-03 -3.3361500e-04\n",
      " -2.3533920e-04 -1.7275625e-04  2.4532762e-03 -9.8111574e-04\n",
      "  0.0000000e+00 -6.2456046e-04]\n",
      "(50,)\n"
     ]
    }
   ],
   "source": [
    "print(biases)\n",
    "print(biases.shape)"
   ]
  },
  {
   "cell_type": "code",
   "execution_count": 49,
   "metadata": {
    "colab": {
     "base_uri": "https://localhost:8080/"
    },
    "id": "Ti0oOehB53Xw",
    "outputId": "1cc8f201-5482-4bf7-e33c-c242f838268a"
   },
   "outputs": [
    {
     "data": {
      "text/plain": [
       "(956,)"
      ]
     },
     "execution_count": 49,
     "metadata": {},
     "output_type": "execute_result"
    }
   ],
   "source": [
    "y_train.shape"
   ]
  },
  {
   "cell_type": "code",
   "execution_count": 50,
   "metadata": {
    "colab": {
     "base_uri": "https://localhost:8080/"
    },
    "id": "nGQnQ-1A61i0",
    "outputId": "e4f1941c-8af5-4bb5-aa81-1a1ba5ffb63c"
   },
   "outputs": [
    {
     "data": {
      "text/plain": [
       "(956, 35)"
      ]
     },
     "execution_count": 50,
     "metadata": {},
     "output_type": "execute_result"
    }
   ],
   "source": [
    "X_train.shape"
   ]
  },
  {
   "cell_type": "markdown",
   "metadata": {
    "id": "7E4K5O4wSzbr"
   },
   "source": [
    "# Training"
   ]
  },
  {
   "cell_type": "code",
   "execution_count": 51,
   "metadata": {
    "colab": {
     "base_uri": "https://localhost:8080/",
     "height": 324
    },
    "id": "r5nXbhcaitUH",
    "outputId": "10077eb9-b8d0-4881-b058-ec95589c3a8b"
   },
   "outputs": [
    {
     "data": {
      "image/png": "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\n",
      "text/plain": [
       "<Figure size 576x360 with 1 Axes>"
      ]
     },
     "metadata": {
      "needs_background": "light"
     },
     "output_type": "display_data"
    }
   ],
   "source": [
    "pd.DataFrame(history.history).plot(figsize=(8, 5))\n",
    "plt.grid(True)\n",
    "plt.gca().set_ylim(0, 1)\n",
    "plt.show()"
   ]
  },
  {
   "cell_type": "code",
   "execution_count": 52,
   "metadata": {
    "colab": {
     "base_uri": "https://localhost:8080/"
    },
    "id": "DuZuxeNchhDK",
    "outputId": "b6e3538c-4a1e-43e8-bafd-1e6fbe5fdac3"
   },
   "outputs": [
    {
     "name": "stdout",
     "output_type": "stream",
     "text": [
      "14/14 [==============================] - 0s 3ms/step - loss: 0.0450 - accuracy: 0.4071\n"
     ]
    },
    {
     "data": {
      "text/plain": [
       "[0.04500691965222359, 0.40705883502960205]"
      ]
     },
     "execution_count": 52,
     "metadata": {},
     "output_type": "execute_result"
    }
   ],
   "source": [
    "model.evaluate(X_test, y_test)"
   ]
  },
  {
   "cell_type": "code",
   "execution_count": 53,
   "metadata": {
    "colab": {
     "base_uri": "https://localhost:8080/",
     "height": 483
    },
    "id": "B_0oRGt4NFTK",
    "outputId": "26a0ec9f-edc8-42b7-adb5-07bc6f307dbd"
   },
   "outputs": [
    {
     "data": {
      "image/png": "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\n",
      "text/plain": [
       "<Figure size 576x576 with 1 Axes>"
      ]
     },
     "metadata": {
      "needs_background": "light"
     },
     "output_type": "display_data"
    }
   ],
   "source": [
    "X_new = X_test\n",
    "y_pred = np.argmax(model.predict(X_new), axis=-1)\n",
    "\n",
    "cm = confusion_matrix(y_test, y_pred)\n",
    "\n",
    "fig, ax = plt.subplots(figsize=(8, 8))\n",
    "ax.imshow(cm)\n",
    "ax.grid(False)\n",
    "ax.xaxis.set(ticks=(0, 1), ticklabels=('Predicted No Alcohol Problem', 'Predicted Alcohol Problem'))\n",
    "ax.yaxis.set(ticks=(0, 1), ticklabels=('Actual No Alcohol Problem', 'Actual Alcohol Problem'))\n",
    "ax.set_ylim(1.5, -0.5)\n",
    "for i in range(2):\n",
    "    for j in range(2):\n",
    "        ax.text(j, i, cm[i, j], ha='center', va='center', color='white')\n",
    "plt.show()"
   ]
  },
  {
   "cell_type": "code",
   "execution_count": null,
   "metadata": {
    "id": "CU-2aO7IBial"
   },
   "outputs": [],
   "source": []
  }
 ],
 "metadata": {
  "accelerator": "GPU",
  "colab": {
   "collapsed_sections": [],
   "name": "PYTN_Assign01v02_Rahmat Hardian",
   "provenance": [],
   "toc_visible": true
  },
  "kernelspec": {
   "display_name": "Python 3",
   "language": "python",
   "name": "python3"
  },
  "language_info": {
   "codemirror_mode": {
    "name": "ipython",
    "version": 3
   },
   "file_extension": ".py",
   "mimetype": "text/x-python",
   "name": "python",
   "nbconvert_exporter": "python",
   "pygments_lexer": "ipython3",
   "version": "3.8.7"
  }
 },
 "nbformat": 4,
 "nbformat_minor": 1
}
=======
  "nbformat": 4,
  "nbformat_minor": 0,
  "metadata": {
    "colab": {
      "name": "PYTN_Assign01v02_Rahmat Hardian",
      "provenance": [],
      "collapsed_sections": [],
      "toc_visible": true,
      "mount_file_id": "1WQS5sBryWgNTVJrWBWfOZ3NxHQgePfXR",
      "authorship_tag": "ABX9TyMKDsHZN9Uu3V9STXwIsJbB",
      "include_colab_link": true
    },
    "kernelspec": {
      "display_name": "Python 3",
      "name": "python3"
    },
    "language_info": {
      "name": "python"
    },
    "accelerator": "GPU"
  },
  "cells": [
    {
      "cell_type": "markdown",
      "metadata": {
        "id": "view-in-github",
        "colab_type": "text"
      },
      "source": [
        "<a href=\"https://colab.research.google.com/github/RahmatHardian/intermediate_datascience/blob/master/PYTN_Assign01v02_Rahmat_Hardian.ipynb\" target=\"_parent\"><img src=\"https://colab.research.google.com/assets/colab-badge.svg\" alt=\"Open In Colab\"/></a>"
      ]
    },
    {
      "cell_type": "markdown",
      "metadata": {
        "id": "2RwnvSI_1EzK"
      },
      "source": [
        "<img src = \"https://global-uploads.webflow.com/5f0d53c042a9ed6288de7f8d/5f6337ae2cfaa10946ceeb06_Hacktiv8%20logo%20horizontal%2001%20black-p-500.png\" width = 400 >\n",
        "<h1 align=center><font size = 5>Hacktiv8 Intermediate Python for Data Science</font></h1>"
      ]
    },
    {
      "cell_type": "markdown",
      "metadata": {
        "id": "9I8s7LCH1oit"
      },
      "source": [
        "Project Overview\n",
        "\n",
        "The data were obtained in a survey of students math and portuguese language courses in secondary school. It contains a lot of interesting social, gender and study information about students.\n",
        "\n",
        "The dataset contains 1044 instances and 32 variables (most of which binary and categorical). It consists of 2 other datasets. The first provides data for students enrolled in Portuguese class. The second describes students enrolled in a math course. There is overlap between the datasets, that is some students attend both classes.\n",
        "\n",
        "**Build an NN model for classifying whether a student has alcohol consumption problem.**"
      ]
    },
    {
      "cell_type": "markdown",
      "metadata": {
        "id": "7q7_QZdH3R5Y"
      },
      "source": [
        "Criteria:\tMeet Expectations\n",
        "\n",
        "Neural Network:\tMengimplementasikan NN dengan Tensorflow untuk membuat Klasifikasi\n",
        "\n",
        "Preprocessing:\tStudent Melakukan Preproses Dataset Sebelum Membuat Model.\n",
        "\n",
        "Apakah Kode Berjalan Tanpa Ada Error?:\tSeluruh Kode Berfungsi Dan Dibuat Dengan Benar."
      ]
    },
    {
      "cell_type": "markdown",
      "metadata": {
        "id": "UVjhIHHl4ajU"
      },
      "source": [
        "# Library"
      ]
    },
    {
      "cell_type": "code",
      "metadata": {
        "id": "7jjYK7UC4fWt"
      },
      "source": [
        "import pandas as pd\n",
        "import seaborn as sns\n",
        "import matplotlib.pyplot as plt\n",
        "from sklearn.model_selection import train_test_split\n",
        "from sklearn.preprocessing import StandardScaler\n",
        "import numpy as np\n",
        "from sklearn.metrics import classification_report, confusion_matrix"
      ],
      "execution_count": null,
      "outputs": []
    },
    {
      "cell_type": "markdown",
      "metadata": {
        "id": "sfh1f_cwQdMW"
      },
      "source": [
        "# EDA"
      ]
    },
    {
      "cell_type": "code",
      "metadata": {
        "colab": {
          "base_uri": "https://localhost:8080/",
          "height": 439
        },
        "id": "GiH_kNJvzXem",
        "outputId": "bc3676eb-57e8-4b65-89ff-82507d8d3b9a"
      },
      "source": [
        "import pandas as pd\n",
        "#studentmat = pd.read_csv('student-mat.csv')\n",
        "studentmat = pd.read_csv(\"drive/MyDrive/Colab Notebooks/student-mat.csv\")\n",
        "studentmat"
      ],
      "execution_count": null,
      "outputs": [
        {
          "output_type": "execute_result",
          "data": {
            "text/html": [
              "<div>\n",
              "<style scoped>\n",
              "    .dataframe tbody tr th:only-of-type {\n",
              "        vertical-align: middle;\n",
              "    }\n",
              "\n",
              "    .dataframe tbody tr th {\n",
              "        vertical-align: top;\n",
              "    }\n",
              "\n",
              "    .dataframe thead th {\n",
              "        text-align: right;\n",
              "    }\n",
              "</style>\n",
              "<table border=\"1\" class=\"dataframe\">\n",
              "  <thead>\n",
              "    <tr style=\"text-align: right;\">\n",
              "      <th></th>\n",
              "      <th>school</th>\n",
              "      <th>sex</th>\n",
              "      <th>age</th>\n",
              "      <th>address</th>\n",
              "      <th>famsize</th>\n",
              "      <th>Pstatus</th>\n",
              "      <th>Medu</th>\n",
              "      <th>Fedu</th>\n",
              "      <th>Mjob</th>\n",
              "      <th>Fjob</th>\n",
              "      <th>reason</th>\n",
              "      <th>guardian</th>\n",
              "      <th>traveltime</th>\n",
              "      <th>studytime</th>\n",
              "      <th>failures</th>\n",
              "      <th>schoolsup</th>\n",
              "      <th>famsup</th>\n",
              "      <th>paid</th>\n",
              "      <th>activities</th>\n",
              "      <th>nursery</th>\n",
              "      <th>higher</th>\n",
              "      <th>internet</th>\n",
              "      <th>romantic</th>\n",
              "      <th>famrel</th>\n",
              "      <th>freetime</th>\n",
              "      <th>goout</th>\n",
              "      <th>Dalc</th>\n",
              "      <th>Walc</th>\n",
              "      <th>health</th>\n",
              "      <th>absences</th>\n",
              "      <th>G1</th>\n",
              "      <th>G2</th>\n",
              "      <th>G3</th>\n",
              "    </tr>\n",
              "  </thead>\n",
              "  <tbody>\n",
              "    <tr>\n",
              "      <th>0</th>\n",
              "      <td>GP</td>\n",
              "      <td>F</td>\n",
              "      <td>18</td>\n",
              "      <td>U</td>\n",
              "      <td>GT3</td>\n",
              "      <td>A</td>\n",
              "      <td>4</td>\n",
              "      <td>4</td>\n",
              "      <td>at_home</td>\n",
              "      <td>teacher</td>\n",
              "      <td>course</td>\n",
              "      <td>mother</td>\n",
              "      <td>2</td>\n",
              "      <td>2</td>\n",
              "      <td>0</td>\n",
              "      <td>yes</td>\n",
              "      <td>no</td>\n",
              "      <td>no</td>\n",
              "      <td>no</td>\n",
              "      <td>yes</td>\n",
              "      <td>yes</td>\n",
              "      <td>no</td>\n",
              "      <td>no</td>\n",
              "      <td>4</td>\n",
              "      <td>3</td>\n",
              "      <td>4</td>\n",
              "      <td>1</td>\n",
              "      <td>1</td>\n",
              "      <td>3</td>\n",
              "      <td>6</td>\n",
              "      <td>5</td>\n",
              "      <td>6</td>\n",
              "      <td>6</td>\n",
              "    </tr>\n",
              "    <tr>\n",
              "      <th>1</th>\n",
              "      <td>GP</td>\n",
              "      <td>F</td>\n",
              "      <td>17</td>\n",
              "      <td>U</td>\n",
              "      <td>GT3</td>\n",
              "      <td>T</td>\n",
              "      <td>1</td>\n",
              "      <td>1</td>\n",
              "      <td>at_home</td>\n",
              "      <td>other</td>\n",
              "      <td>course</td>\n",
              "      <td>father</td>\n",
              "      <td>1</td>\n",
              "      <td>2</td>\n",
              "      <td>0</td>\n",
              "      <td>no</td>\n",
              "      <td>yes</td>\n",
              "      <td>no</td>\n",
              "      <td>no</td>\n",
              "      <td>no</td>\n",
              "      <td>yes</td>\n",
              "      <td>yes</td>\n",
              "      <td>no</td>\n",
              "      <td>5</td>\n",
              "      <td>3</td>\n",
              "      <td>3</td>\n",
              "      <td>1</td>\n",
              "      <td>1</td>\n",
              "      <td>3</td>\n",
              "      <td>4</td>\n",
              "      <td>5</td>\n",
              "      <td>5</td>\n",
              "      <td>6</td>\n",
              "    </tr>\n",
              "    <tr>\n",
              "      <th>2</th>\n",
              "      <td>GP</td>\n",
              "      <td>F</td>\n",
              "      <td>15</td>\n",
              "      <td>U</td>\n",
              "      <td>LE3</td>\n",
              "      <td>T</td>\n",
              "      <td>1</td>\n",
              "      <td>1</td>\n",
              "      <td>at_home</td>\n",
              "      <td>other</td>\n",
              "      <td>other</td>\n",
              "      <td>mother</td>\n",
              "      <td>1</td>\n",
              "      <td>2</td>\n",
              "      <td>3</td>\n",
              "      <td>yes</td>\n",
              "      <td>no</td>\n",
              "      <td>yes</td>\n",
              "      <td>no</td>\n",
              "      <td>yes</td>\n",
              "      <td>yes</td>\n",
              "      <td>yes</td>\n",
              "      <td>no</td>\n",
              "      <td>4</td>\n",
              "      <td>3</td>\n",
              "      <td>2</td>\n",
              "      <td>2</td>\n",
              "      <td>3</td>\n",
              "      <td>3</td>\n",
              "      <td>10</td>\n",
              "      <td>7</td>\n",
              "      <td>8</td>\n",
              "      <td>10</td>\n",
              "    </tr>\n",
              "    <tr>\n",
              "      <th>3</th>\n",
              "      <td>GP</td>\n",
              "      <td>F</td>\n",
              "      <td>15</td>\n",
              "      <td>U</td>\n",
              "      <td>GT3</td>\n",
              "      <td>T</td>\n",
              "      <td>4</td>\n",
              "      <td>2</td>\n",
              "      <td>health</td>\n",
              "      <td>services</td>\n",
              "      <td>home</td>\n",
              "      <td>mother</td>\n",
              "      <td>1</td>\n",
              "      <td>3</td>\n",
              "      <td>0</td>\n",
              "      <td>no</td>\n",
              "      <td>yes</td>\n",
              "      <td>yes</td>\n",
              "      <td>yes</td>\n",
              "      <td>yes</td>\n",
              "      <td>yes</td>\n",
              "      <td>yes</td>\n",
              "      <td>yes</td>\n",
              "      <td>3</td>\n",
              "      <td>2</td>\n",
              "      <td>2</td>\n",
              "      <td>1</td>\n",
              "      <td>1</td>\n",
              "      <td>5</td>\n",
              "      <td>2</td>\n",
              "      <td>15</td>\n",
              "      <td>14</td>\n",
              "      <td>15</td>\n",
              "    </tr>\n",
              "    <tr>\n",
              "      <th>4</th>\n",
              "      <td>GP</td>\n",
              "      <td>F</td>\n",
              "      <td>16</td>\n",
              "      <td>U</td>\n",
              "      <td>GT3</td>\n",
              "      <td>T</td>\n",
              "      <td>3</td>\n",
              "      <td>3</td>\n",
              "      <td>other</td>\n",
              "      <td>other</td>\n",
              "      <td>home</td>\n",
              "      <td>father</td>\n",
              "      <td>1</td>\n",
              "      <td>2</td>\n",
              "      <td>0</td>\n",
              "      <td>no</td>\n",
              "      <td>yes</td>\n",
              "      <td>yes</td>\n",
              "      <td>no</td>\n",
              "      <td>yes</td>\n",
              "      <td>yes</td>\n",
              "      <td>no</td>\n",
              "      <td>no</td>\n",
              "      <td>4</td>\n",
              "      <td>3</td>\n",
              "      <td>2</td>\n",
              "      <td>1</td>\n",
              "      <td>2</td>\n",
              "      <td>5</td>\n",
              "      <td>4</td>\n",
              "      <td>6</td>\n",
              "      <td>10</td>\n",
              "      <td>10</td>\n",
              "    </tr>\n",
              "    <tr>\n",
              "      <th>...</th>\n",
              "      <td>...</td>\n",
              "      <td>...</td>\n",
              "      <td>...</td>\n",
              "      <td>...</td>\n",
              "      <td>...</td>\n",
              "      <td>...</td>\n",
              "      <td>...</td>\n",
              "      <td>...</td>\n",
              "      <td>...</td>\n",
              "      <td>...</td>\n",
              "      <td>...</td>\n",
              "      <td>...</td>\n",
              "      <td>...</td>\n",
              "      <td>...</td>\n",
              "      <td>...</td>\n",
              "      <td>...</td>\n",
              "      <td>...</td>\n",
              "      <td>...</td>\n",
              "      <td>...</td>\n",
              "      <td>...</td>\n",
              "      <td>...</td>\n",
              "      <td>...</td>\n",
              "      <td>...</td>\n",
              "      <td>...</td>\n",
              "      <td>...</td>\n",
              "      <td>...</td>\n",
              "      <td>...</td>\n",
              "      <td>...</td>\n",
              "      <td>...</td>\n",
              "      <td>...</td>\n",
              "      <td>...</td>\n",
              "      <td>...</td>\n",
              "      <td>...</td>\n",
              "    </tr>\n",
              "    <tr>\n",
              "      <th>390</th>\n",
              "      <td>MS</td>\n",
              "      <td>M</td>\n",
              "      <td>20</td>\n",
              "      <td>U</td>\n",
              "      <td>LE3</td>\n",
              "      <td>A</td>\n",
              "      <td>2</td>\n",
              "      <td>2</td>\n",
              "      <td>services</td>\n",
              "      <td>services</td>\n",
              "      <td>course</td>\n",
              "      <td>other</td>\n",
              "      <td>1</td>\n",
              "      <td>2</td>\n",
              "      <td>2</td>\n",
              "      <td>no</td>\n",
              "      <td>yes</td>\n",
              "      <td>yes</td>\n",
              "      <td>no</td>\n",
              "      <td>yes</td>\n",
              "      <td>yes</td>\n",
              "      <td>no</td>\n",
              "      <td>no</td>\n",
              "      <td>5</td>\n",
              "      <td>5</td>\n",
              "      <td>4</td>\n",
              "      <td>4</td>\n",
              "      <td>5</td>\n",
              "      <td>4</td>\n",
              "      <td>11</td>\n",
              "      <td>9</td>\n",
              "      <td>9</td>\n",
              "      <td>9</td>\n",
              "    </tr>\n",
              "    <tr>\n",
              "      <th>391</th>\n",
              "      <td>MS</td>\n",
              "      <td>M</td>\n",
              "      <td>17</td>\n",
              "      <td>U</td>\n",
              "      <td>LE3</td>\n",
              "      <td>T</td>\n",
              "      <td>3</td>\n",
              "      <td>1</td>\n",
              "      <td>services</td>\n",
              "      <td>services</td>\n",
              "      <td>course</td>\n",
              "      <td>mother</td>\n",
              "      <td>2</td>\n",
              "      <td>1</td>\n",
              "      <td>0</td>\n",
              "      <td>no</td>\n",
              "      <td>no</td>\n",
              "      <td>no</td>\n",
              "      <td>no</td>\n",
              "      <td>no</td>\n",
              "      <td>yes</td>\n",
              "      <td>yes</td>\n",
              "      <td>no</td>\n",
              "      <td>2</td>\n",
              "      <td>4</td>\n",
              "      <td>5</td>\n",
              "      <td>3</td>\n",
              "      <td>4</td>\n",
              "      <td>2</td>\n",
              "      <td>3</td>\n",
              "      <td>14</td>\n",
              "      <td>16</td>\n",
              "      <td>16</td>\n",
              "    </tr>\n",
              "    <tr>\n",
              "      <th>392</th>\n",
              "      <td>MS</td>\n",
              "      <td>M</td>\n",
              "      <td>21</td>\n",
              "      <td>R</td>\n",
              "      <td>GT3</td>\n",
              "      <td>T</td>\n",
              "      <td>1</td>\n",
              "      <td>1</td>\n",
              "      <td>other</td>\n",
              "      <td>other</td>\n",
              "      <td>course</td>\n",
              "      <td>other</td>\n",
              "      <td>1</td>\n",
              "      <td>1</td>\n",
              "      <td>3</td>\n",
              "      <td>no</td>\n",
              "      <td>no</td>\n",
              "      <td>no</td>\n",
              "      <td>no</td>\n",
              "      <td>no</td>\n",
              "      <td>yes</td>\n",
              "      <td>no</td>\n",
              "      <td>no</td>\n",
              "      <td>5</td>\n",
              "      <td>5</td>\n",
              "      <td>3</td>\n",
              "      <td>3</td>\n",
              "      <td>3</td>\n",
              "      <td>3</td>\n",
              "      <td>3</td>\n",
              "      <td>10</td>\n",
              "      <td>8</td>\n",
              "      <td>7</td>\n",
              "    </tr>\n",
              "    <tr>\n",
              "      <th>393</th>\n",
              "      <td>MS</td>\n",
              "      <td>M</td>\n",
              "      <td>18</td>\n",
              "      <td>R</td>\n",
              "      <td>LE3</td>\n",
              "      <td>T</td>\n",
              "      <td>3</td>\n",
              "      <td>2</td>\n",
              "      <td>services</td>\n",
              "      <td>other</td>\n",
              "      <td>course</td>\n",
              "      <td>mother</td>\n",
              "      <td>3</td>\n",
              "      <td>1</td>\n",
              "      <td>0</td>\n",
              "      <td>no</td>\n",
              "      <td>no</td>\n",
              "      <td>no</td>\n",
              "      <td>no</td>\n",
              "      <td>no</td>\n",
              "      <td>yes</td>\n",
              "      <td>yes</td>\n",
              "      <td>no</td>\n",
              "      <td>4</td>\n",
              "      <td>4</td>\n",
              "      <td>1</td>\n",
              "      <td>3</td>\n",
              "      <td>4</td>\n",
              "      <td>5</td>\n",
              "      <td>0</td>\n",
              "      <td>11</td>\n",
              "      <td>12</td>\n",
              "      <td>10</td>\n",
              "    </tr>\n",
              "    <tr>\n",
              "      <th>394</th>\n",
              "      <td>MS</td>\n",
              "      <td>M</td>\n",
              "      <td>19</td>\n",
              "      <td>U</td>\n",
              "      <td>LE3</td>\n",
              "      <td>T</td>\n",
              "      <td>1</td>\n",
              "      <td>1</td>\n",
              "      <td>other</td>\n",
              "      <td>at_home</td>\n",
              "      <td>course</td>\n",
              "      <td>father</td>\n",
              "      <td>1</td>\n",
              "      <td>1</td>\n",
              "      <td>0</td>\n",
              "      <td>no</td>\n",
              "      <td>no</td>\n",
              "      <td>no</td>\n",
              "      <td>no</td>\n",
              "      <td>yes</td>\n",
              "      <td>yes</td>\n",
              "      <td>yes</td>\n",
              "      <td>no</td>\n",
              "      <td>3</td>\n",
              "      <td>2</td>\n",
              "      <td>3</td>\n",
              "      <td>3</td>\n",
              "      <td>3</td>\n",
              "      <td>5</td>\n",
              "      <td>5</td>\n",
              "      <td>8</td>\n",
              "      <td>9</td>\n",
              "      <td>9</td>\n",
              "    </tr>\n",
              "  </tbody>\n",
              "</table>\n",
              "<p>395 rows × 33 columns</p>\n",
              "</div>"
            ],
            "text/plain": [
              "    school sex  age address famsize Pstatus  ...  Walc  health absences  G1  G2  G3\n",
              "0       GP   F   18       U     GT3       A  ...     1       3        6   5   6   6\n",
              "1       GP   F   17       U     GT3       T  ...     1       3        4   5   5   6\n",
              "2       GP   F   15       U     LE3       T  ...     3       3       10   7   8  10\n",
              "3       GP   F   15       U     GT3       T  ...     1       5        2  15  14  15\n",
              "4       GP   F   16       U     GT3       T  ...     2       5        4   6  10  10\n",
              "..     ...  ..  ...     ...     ...     ...  ...   ...     ...      ...  ..  ..  ..\n",
              "390     MS   M   20       U     LE3       A  ...     5       4       11   9   9   9\n",
              "391     MS   M   17       U     LE3       T  ...     4       2        3  14  16  16\n",
              "392     MS   M   21       R     GT3       T  ...     3       3        3  10   8   7\n",
              "393     MS   M   18       R     LE3       T  ...     4       5        0  11  12  10\n",
              "394     MS   M   19       U     LE3       T  ...     3       5        5   8   9   9\n",
              "\n",
              "[395 rows x 33 columns]"
            ]
          },
          "metadata": {
            "tags": []
          },
          "execution_count": 51
        }
      ]
    },
    {
      "cell_type": "code",
      "metadata": {
        "colab": {
          "base_uri": "https://localhost:8080/",
          "height": 439
        },
        "id": "HCOwWI0K056r",
        "outputId": "744b6556-8bd6-45d9-f520-b77ffd9e6003"
      },
      "source": [
        "#studentpor = pd.read_csv('student-por.csv')\n",
        "studentpor = pd.read_csv(\"drive/MyDrive/Colab Notebooks/student-por.csv\")\n",
        "studentpor"
      ],
      "execution_count": null,
      "outputs": [
        {
          "output_type": "execute_result",
          "data": {
            "text/html": [
              "<div>\n",
              "<style scoped>\n",
              "    .dataframe tbody tr th:only-of-type {\n",
              "        vertical-align: middle;\n",
              "    }\n",
              "\n",
              "    .dataframe tbody tr th {\n",
              "        vertical-align: top;\n",
              "    }\n",
              "\n",
              "    .dataframe thead th {\n",
              "        text-align: right;\n",
              "    }\n",
              "</style>\n",
              "<table border=\"1\" class=\"dataframe\">\n",
              "  <thead>\n",
              "    <tr style=\"text-align: right;\">\n",
              "      <th></th>\n",
              "      <th>school</th>\n",
              "      <th>sex</th>\n",
              "      <th>age</th>\n",
              "      <th>address</th>\n",
              "      <th>famsize</th>\n",
              "      <th>Pstatus</th>\n",
              "      <th>Medu</th>\n",
              "      <th>Fedu</th>\n",
              "      <th>Mjob</th>\n",
              "      <th>Fjob</th>\n",
              "      <th>reason</th>\n",
              "      <th>guardian</th>\n",
              "      <th>traveltime</th>\n",
              "      <th>studytime</th>\n",
              "      <th>failures</th>\n",
              "      <th>schoolsup</th>\n",
              "      <th>famsup</th>\n",
              "      <th>paid</th>\n",
              "      <th>activities</th>\n",
              "      <th>nursery</th>\n",
              "      <th>higher</th>\n",
              "      <th>internet</th>\n",
              "      <th>romantic</th>\n",
              "      <th>famrel</th>\n",
              "      <th>freetime</th>\n",
              "      <th>goout</th>\n",
              "      <th>Dalc</th>\n",
              "      <th>Walc</th>\n",
              "      <th>health</th>\n",
              "      <th>absences</th>\n",
              "      <th>G1</th>\n",
              "      <th>G2</th>\n",
              "      <th>G3</th>\n",
              "    </tr>\n",
              "  </thead>\n",
              "  <tbody>\n",
              "    <tr>\n",
              "      <th>0</th>\n",
              "      <td>GP</td>\n",
              "      <td>F</td>\n",
              "      <td>18</td>\n",
              "      <td>U</td>\n",
              "      <td>GT3</td>\n",
              "      <td>A</td>\n",
              "      <td>4</td>\n",
              "      <td>4</td>\n",
              "      <td>at_home</td>\n",
              "      <td>teacher</td>\n",
              "      <td>course</td>\n",
              "      <td>mother</td>\n",
              "      <td>2</td>\n",
              "      <td>2</td>\n",
              "      <td>0</td>\n",
              "      <td>yes</td>\n",
              "      <td>no</td>\n",
              "      <td>no</td>\n",
              "      <td>no</td>\n",
              "      <td>yes</td>\n",
              "      <td>yes</td>\n",
              "      <td>no</td>\n",
              "      <td>no</td>\n",
              "      <td>4</td>\n",
              "      <td>3</td>\n",
              "      <td>4</td>\n",
              "      <td>1</td>\n",
              "      <td>1</td>\n",
              "      <td>3</td>\n",
              "      <td>4</td>\n",
              "      <td>0</td>\n",
              "      <td>11</td>\n",
              "      <td>11</td>\n",
              "    </tr>\n",
              "    <tr>\n",
              "      <th>1</th>\n",
              "      <td>GP</td>\n",
              "      <td>F</td>\n",
              "      <td>17</td>\n",
              "      <td>U</td>\n",
              "      <td>GT3</td>\n",
              "      <td>T</td>\n",
              "      <td>1</td>\n",
              "      <td>1</td>\n",
              "      <td>at_home</td>\n",
              "      <td>other</td>\n",
              "      <td>course</td>\n",
              "      <td>father</td>\n",
              "      <td>1</td>\n",
              "      <td>2</td>\n",
              "      <td>0</td>\n",
              "      <td>no</td>\n",
              "      <td>yes</td>\n",
              "      <td>no</td>\n",
              "      <td>no</td>\n",
              "      <td>no</td>\n",
              "      <td>yes</td>\n",
              "      <td>yes</td>\n",
              "      <td>no</td>\n",
              "      <td>5</td>\n",
              "      <td>3</td>\n",
              "      <td>3</td>\n",
              "      <td>1</td>\n",
              "      <td>1</td>\n",
              "      <td>3</td>\n",
              "      <td>2</td>\n",
              "      <td>9</td>\n",
              "      <td>11</td>\n",
              "      <td>11</td>\n",
              "    </tr>\n",
              "    <tr>\n",
              "      <th>2</th>\n",
              "      <td>GP</td>\n",
              "      <td>F</td>\n",
              "      <td>15</td>\n",
              "      <td>U</td>\n",
              "      <td>LE3</td>\n",
              "      <td>T</td>\n",
              "      <td>1</td>\n",
              "      <td>1</td>\n",
              "      <td>at_home</td>\n",
              "      <td>other</td>\n",
              "      <td>other</td>\n",
              "      <td>mother</td>\n",
              "      <td>1</td>\n",
              "      <td>2</td>\n",
              "      <td>0</td>\n",
              "      <td>yes</td>\n",
              "      <td>no</td>\n",
              "      <td>no</td>\n",
              "      <td>no</td>\n",
              "      <td>yes</td>\n",
              "      <td>yes</td>\n",
              "      <td>yes</td>\n",
              "      <td>no</td>\n",
              "      <td>4</td>\n",
              "      <td>3</td>\n",
              "      <td>2</td>\n",
              "      <td>2</td>\n",
              "      <td>3</td>\n",
              "      <td>3</td>\n",
              "      <td>6</td>\n",
              "      <td>12</td>\n",
              "      <td>13</td>\n",
              "      <td>12</td>\n",
              "    </tr>\n",
              "    <tr>\n",
              "      <th>3</th>\n",
              "      <td>GP</td>\n",
              "      <td>F</td>\n",
              "      <td>15</td>\n",
              "      <td>U</td>\n",
              "      <td>GT3</td>\n",
              "      <td>T</td>\n",
              "      <td>4</td>\n",
              "      <td>2</td>\n",
              "      <td>health</td>\n",
              "      <td>services</td>\n",
              "      <td>home</td>\n",
              "      <td>mother</td>\n",
              "      <td>1</td>\n",
              "      <td>3</td>\n",
              "      <td>0</td>\n",
              "      <td>no</td>\n",
              "      <td>yes</td>\n",
              "      <td>no</td>\n",
              "      <td>yes</td>\n",
              "      <td>yes</td>\n",
              "      <td>yes</td>\n",
              "      <td>yes</td>\n",
              "      <td>yes</td>\n",
              "      <td>3</td>\n",
              "      <td>2</td>\n",
              "      <td>2</td>\n",
              "      <td>1</td>\n",
              "      <td>1</td>\n",
              "      <td>5</td>\n",
              "      <td>0</td>\n",
              "      <td>14</td>\n",
              "      <td>14</td>\n",
              "      <td>14</td>\n",
              "    </tr>\n",
              "    <tr>\n",
              "      <th>4</th>\n",
              "      <td>GP</td>\n",
              "      <td>F</td>\n",
              "      <td>16</td>\n",
              "      <td>U</td>\n",
              "      <td>GT3</td>\n",
              "      <td>T</td>\n",
              "      <td>3</td>\n",
              "      <td>3</td>\n",
              "      <td>other</td>\n",
              "      <td>other</td>\n",
              "      <td>home</td>\n",
              "      <td>father</td>\n",
              "      <td>1</td>\n",
              "      <td>2</td>\n",
              "      <td>0</td>\n",
              "      <td>no</td>\n",
              "      <td>yes</td>\n",
              "      <td>no</td>\n",
              "      <td>no</td>\n",
              "      <td>yes</td>\n",
              "      <td>yes</td>\n",
              "      <td>no</td>\n",
              "      <td>no</td>\n",
              "      <td>4</td>\n",
              "      <td>3</td>\n",
              "      <td>2</td>\n",
              "      <td>1</td>\n",
              "      <td>2</td>\n",
              "      <td>5</td>\n",
              "      <td>0</td>\n",
              "      <td>11</td>\n",
              "      <td>13</td>\n",
              "      <td>13</td>\n",
              "    </tr>\n",
              "    <tr>\n",
              "      <th>...</th>\n",
              "      <td>...</td>\n",
              "      <td>...</td>\n",
              "      <td>...</td>\n",
              "      <td>...</td>\n",
              "      <td>...</td>\n",
              "      <td>...</td>\n",
              "      <td>...</td>\n",
              "      <td>...</td>\n",
              "      <td>...</td>\n",
              "      <td>...</td>\n",
              "      <td>...</td>\n",
              "      <td>...</td>\n",
              "      <td>...</td>\n",
              "      <td>...</td>\n",
              "      <td>...</td>\n",
              "      <td>...</td>\n",
              "      <td>...</td>\n",
              "      <td>...</td>\n",
              "      <td>...</td>\n",
              "      <td>...</td>\n",
              "      <td>...</td>\n",
              "      <td>...</td>\n",
              "      <td>...</td>\n",
              "      <td>...</td>\n",
              "      <td>...</td>\n",
              "      <td>...</td>\n",
              "      <td>...</td>\n",
              "      <td>...</td>\n",
              "      <td>...</td>\n",
              "      <td>...</td>\n",
              "      <td>...</td>\n",
              "      <td>...</td>\n",
              "      <td>...</td>\n",
              "    </tr>\n",
              "    <tr>\n",
              "      <th>644</th>\n",
              "      <td>MS</td>\n",
              "      <td>F</td>\n",
              "      <td>19</td>\n",
              "      <td>R</td>\n",
              "      <td>GT3</td>\n",
              "      <td>T</td>\n",
              "      <td>2</td>\n",
              "      <td>3</td>\n",
              "      <td>services</td>\n",
              "      <td>other</td>\n",
              "      <td>course</td>\n",
              "      <td>mother</td>\n",
              "      <td>1</td>\n",
              "      <td>3</td>\n",
              "      <td>1</td>\n",
              "      <td>no</td>\n",
              "      <td>no</td>\n",
              "      <td>no</td>\n",
              "      <td>yes</td>\n",
              "      <td>no</td>\n",
              "      <td>yes</td>\n",
              "      <td>yes</td>\n",
              "      <td>no</td>\n",
              "      <td>5</td>\n",
              "      <td>4</td>\n",
              "      <td>2</td>\n",
              "      <td>1</td>\n",
              "      <td>2</td>\n",
              "      <td>5</td>\n",
              "      <td>4</td>\n",
              "      <td>10</td>\n",
              "      <td>11</td>\n",
              "      <td>10</td>\n",
              "    </tr>\n",
              "    <tr>\n",
              "      <th>645</th>\n",
              "      <td>MS</td>\n",
              "      <td>F</td>\n",
              "      <td>18</td>\n",
              "      <td>U</td>\n",
              "      <td>LE3</td>\n",
              "      <td>T</td>\n",
              "      <td>3</td>\n",
              "      <td>1</td>\n",
              "      <td>teacher</td>\n",
              "      <td>services</td>\n",
              "      <td>course</td>\n",
              "      <td>mother</td>\n",
              "      <td>1</td>\n",
              "      <td>2</td>\n",
              "      <td>0</td>\n",
              "      <td>no</td>\n",
              "      <td>yes</td>\n",
              "      <td>no</td>\n",
              "      <td>no</td>\n",
              "      <td>yes</td>\n",
              "      <td>yes</td>\n",
              "      <td>yes</td>\n",
              "      <td>no</td>\n",
              "      <td>4</td>\n",
              "      <td>3</td>\n",
              "      <td>4</td>\n",
              "      <td>1</td>\n",
              "      <td>1</td>\n",
              "      <td>1</td>\n",
              "      <td>4</td>\n",
              "      <td>15</td>\n",
              "      <td>15</td>\n",
              "      <td>16</td>\n",
              "    </tr>\n",
              "    <tr>\n",
              "      <th>646</th>\n",
              "      <td>MS</td>\n",
              "      <td>F</td>\n",
              "      <td>18</td>\n",
              "      <td>U</td>\n",
              "      <td>GT3</td>\n",
              "      <td>T</td>\n",
              "      <td>1</td>\n",
              "      <td>1</td>\n",
              "      <td>other</td>\n",
              "      <td>other</td>\n",
              "      <td>course</td>\n",
              "      <td>mother</td>\n",
              "      <td>2</td>\n",
              "      <td>2</td>\n",
              "      <td>0</td>\n",
              "      <td>no</td>\n",
              "      <td>no</td>\n",
              "      <td>no</td>\n",
              "      <td>yes</td>\n",
              "      <td>yes</td>\n",
              "      <td>yes</td>\n",
              "      <td>no</td>\n",
              "      <td>no</td>\n",
              "      <td>1</td>\n",
              "      <td>1</td>\n",
              "      <td>1</td>\n",
              "      <td>1</td>\n",
              "      <td>1</td>\n",
              "      <td>5</td>\n",
              "      <td>6</td>\n",
              "      <td>11</td>\n",
              "      <td>12</td>\n",
              "      <td>9</td>\n",
              "    </tr>\n",
              "    <tr>\n",
              "      <th>647</th>\n",
              "      <td>MS</td>\n",
              "      <td>M</td>\n",
              "      <td>17</td>\n",
              "      <td>U</td>\n",
              "      <td>LE3</td>\n",
              "      <td>T</td>\n",
              "      <td>3</td>\n",
              "      <td>1</td>\n",
              "      <td>services</td>\n",
              "      <td>services</td>\n",
              "      <td>course</td>\n",
              "      <td>mother</td>\n",
              "      <td>2</td>\n",
              "      <td>1</td>\n",
              "      <td>0</td>\n",
              "      <td>no</td>\n",
              "      <td>no</td>\n",
              "      <td>no</td>\n",
              "      <td>no</td>\n",
              "      <td>no</td>\n",
              "      <td>yes</td>\n",
              "      <td>yes</td>\n",
              "      <td>no</td>\n",
              "      <td>2</td>\n",
              "      <td>4</td>\n",
              "      <td>5</td>\n",
              "      <td>3</td>\n",
              "      <td>4</td>\n",
              "      <td>2</td>\n",
              "      <td>6</td>\n",
              "      <td>10</td>\n",
              "      <td>10</td>\n",
              "      <td>10</td>\n",
              "    </tr>\n",
              "    <tr>\n",
              "      <th>648</th>\n",
              "      <td>MS</td>\n",
              "      <td>M</td>\n",
              "      <td>18</td>\n",
              "      <td>R</td>\n",
              "      <td>LE3</td>\n",
              "      <td>T</td>\n",
              "      <td>3</td>\n",
              "      <td>2</td>\n",
              "      <td>services</td>\n",
              "      <td>other</td>\n",
              "      <td>course</td>\n",
              "      <td>mother</td>\n",
              "      <td>3</td>\n",
              "      <td>1</td>\n",
              "      <td>0</td>\n",
              "      <td>no</td>\n",
              "      <td>no</td>\n",
              "      <td>no</td>\n",
              "      <td>no</td>\n",
              "      <td>no</td>\n",
              "      <td>yes</td>\n",
              "      <td>yes</td>\n",
              "      <td>no</td>\n",
              "      <td>4</td>\n",
              "      <td>4</td>\n",
              "      <td>1</td>\n",
              "      <td>3</td>\n",
              "      <td>4</td>\n",
              "      <td>5</td>\n",
              "      <td>4</td>\n",
              "      <td>10</td>\n",
              "      <td>11</td>\n",
              "      <td>11</td>\n",
              "    </tr>\n",
              "  </tbody>\n",
              "</table>\n",
              "<p>649 rows × 33 columns</p>\n",
              "</div>"
            ],
            "text/plain": [
              "    school sex  age address famsize Pstatus  ...  Walc  health absences  G1  G2  G3\n",
              "0       GP   F   18       U     GT3       A  ...     1       3        4   0  11  11\n",
              "1       GP   F   17       U     GT3       T  ...     1       3        2   9  11  11\n",
              "2       GP   F   15       U     LE3       T  ...     3       3        6  12  13  12\n",
              "3       GP   F   15       U     GT3       T  ...     1       5        0  14  14  14\n",
              "4       GP   F   16       U     GT3       T  ...     2       5        0  11  13  13\n",
              "..     ...  ..  ...     ...     ...     ...  ...   ...     ...      ...  ..  ..  ..\n",
              "644     MS   F   19       R     GT3       T  ...     2       5        4  10  11  10\n",
              "645     MS   F   18       U     LE3       T  ...     1       1        4  15  15  16\n",
              "646     MS   F   18       U     GT3       T  ...     1       5        6  11  12   9\n",
              "647     MS   M   17       U     LE3       T  ...     4       2        6  10  10  10\n",
              "648     MS   M   18       R     LE3       T  ...     4       5        4  10  11  11\n",
              "\n",
              "[649 rows x 33 columns]"
            ]
          },
          "metadata": {
            "tags": []
          },
          "execution_count": 52
        }
      ]
    },
    {
      "cell_type": "code",
      "metadata": {
        "id": "kPL7StAFR6gE"
      },
      "source": [
        ""
      ],
      "execution_count": null,
      "outputs": []
    },
    {
      "cell_type": "code",
      "metadata": {
        "colab": {
          "base_uri": "https://localhost:8080/"
        },
        "id": "JIKrzjWX0tSF",
        "outputId": "025a0872-9853-47c7-8be9-dead1f1e4a30"
      },
      "source": [
        "type(studentpor)"
      ],
      "execution_count": null,
      "outputs": [
        {
          "output_type": "execute_result",
          "data": {
            "text/plain": [
              "pandas.core.frame.DataFrame"
            ]
          },
          "metadata": {
            "tags": []
          },
          "execution_count": 53
        }
      ]
    },
    {
      "cell_type": "code",
      "metadata": {
        "colab": {
          "base_uri": "https://localhost:8080/"
        },
        "id": "uMo6OJNKXB7-",
        "outputId": "57ece04f-23df-447e-fe8a-1c46799b66b5"
      },
      "source": [
        "studentmat.columns"
      ],
      "execution_count": null,
      "outputs": [
        {
          "output_type": "execute_result",
          "data": {
            "text/plain": [
              "Index(['school', 'sex', 'age', 'address', 'famsize', 'Pstatus', 'Medu', 'Fedu',\n",
              "       'Mjob', 'Fjob', 'reason', 'guardian', 'traveltime', 'studytime',\n",
              "       'failures', 'schoolsup', 'famsup', 'paid', 'activities', 'nursery',\n",
              "       'higher', 'internet', 'romantic', 'famrel', 'freetime', 'goout', 'Dalc',\n",
              "       'Walc', 'health', 'absences', 'G1', 'G2', 'G3'],\n",
              "      dtype='object')"
            ]
          },
          "metadata": {
            "tags": []
          },
          "execution_count": 54
        }
      ]
    },
    {
      "cell_type": "code",
      "metadata": {
        "colab": {
          "base_uri": "https://localhost:8080/",
          "height": 439
        },
        "id": "e4Tp16IPXFrz",
        "outputId": "438be216-8532-4d09-ea38-f7533c9fd753"
      },
      "source": [
        "data = pd.concat([studentmat, studentpor], ignore_index=True)\n",
        "data"
      ],
      "execution_count": null,
      "outputs": [
        {
          "output_type": "execute_result",
          "data": {
            "text/html": [
              "<div>\n",
              "<style scoped>\n",
              "    .dataframe tbody tr th:only-of-type {\n",
              "        vertical-align: middle;\n",
              "    }\n",
              "\n",
              "    .dataframe tbody tr th {\n",
              "        vertical-align: top;\n",
              "    }\n",
              "\n",
              "    .dataframe thead th {\n",
              "        text-align: right;\n",
              "    }\n",
              "</style>\n",
              "<table border=\"1\" class=\"dataframe\">\n",
              "  <thead>\n",
              "    <tr style=\"text-align: right;\">\n",
              "      <th></th>\n",
              "      <th>school</th>\n",
              "      <th>sex</th>\n",
              "      <th>age</th>\n",
              "      <th>address</th>\n",
              "      <th>famsize</th>\n",
              "      <th>Pstatus</th>\n",
              "      <th>Medu</th>\n",
              "      <th>Fedu</th>\n",
              "      <th>Mjob</th>\n",
              "      <th>Fjob</th>\n",
              "      <th>reason</th>\n",
              "      <th>guardian</th>\n",
              "      <th>traveltime</th>\n",
              "      <th>studytime</th>\n",
              "      <th>failures</th>\n",
              "      <th>schoolsup</th>\n",
              "      <th>famsup</th>\n",
              "      <th>paid</th>\n",
              "      <th>activities</th>\n",
              "      <th>nursery</th>\n",
              "      <th>higher</th>\n",
              "      <th>internet</th>\n",
              "      <th>romantic</th>\n",
              "      <th>famrel</th>\n",
              "      <th>freetime</th>\n",
              "      <th>goout</th>\n",
              "      <th>Dalc</th>\n",
              "      <th>Walc</th>\n",
              "      <th>health</th>\n",
              "      <th>absences</th>\n",
              "      <th>G1</th>\n",
              "      <th>G2</th>\n",
              "      <th>G3</th>\n",
              "    </tr>\n",
              "  </thead>\n",
              "  <tbody>\n",
              "    <tr>\n",
              "      <th>0</th>\n",
              "      <td>GP</td>\n",
              "      <td>F</td>\n",
              "      <td>18</td>\n",
              "      <td>U</td>\n",
              "      <td>GT3</td>\n",
              "      <td>A</td>\n",
              "      <td>4</td>\n",
              "      <td>4</td>\n",
              "      <td>at_home</td>\n",
              "      <td>teacher</td>\n",
              "      <td>course</td>\n",
              "      <td>mother</td>\n",
              "      <td>2</td>\n",
              "      <td>2</td>\n",
              "      <td>0</td>\n",
              "      <td>yes</td>\n",
              "      <td>no</td>\n",
              "      <td>no</td>\n",
              "      <td>no</td>\n",
              "      <td>yes</td>\n",
              "      <td>yes</td>\n",
              "      <td>no</td>\n",
              "      <td>no</td>\n",
              "      <td>4</td>\n",
              "      <td>3</td>\n",
              "      <td>4</td>\n",
              "      <td>1</td>\n",
              "      <td>1</td>\n",
              "      <td>3</td>\n",
              "      <td>6</td>\n",
              "      <td>5</td>\n",
              "      <td>6</td>\n",
              "      <td>6</td>\n",
              "    </tr>\n",
              "    <tr>\n",
              "      <th>1</th>\n",
              "      <td>GP</td>\n",
              "      <td>F</td>\n",
              "      <td>17</td>\n",
              "      <td>U</td>\n",
              "      <td>GT3</td>\n",
              "      <td>T</td>\n",
              "      <td>1</td>\n",
              "      <td>1</td>\n",
              "      <td>at_home</td>\n",
              "      <td>other</td>\n",
              "      <td>course</td>\n",
              "      <td>father</td>\n",
              "      <td>1</td>\n",
              "      <td>2</td>\n",
              "      <td>0</td>\n",
              "      <td>no</td>\n",
              "      <td>yes</td>\n",
              "      <td>no</td>\n",
              "      <td>no</td>\n",
              "      <td>no</td>\n",
              "      <td>yes</td>\n",
              "      <td>yes</td>\n",
              "      <td>no</td>\n",
              "      <td>5</td>\n",
              "      <td>3</td>\n",
              "      <td>3</td>\n",
              "      <td>1</td>\n",
              "      <td>1</td>\n",
              "      <td>3</td>\n",
              "      <td>4</td>\n",
              "      <td>5</td>\n",
              "      <td>5</td>\n",
              "      <td>6</td>\n",
              "    </tr>\n",
              "    <tr>\n",
              "      <th>2</th>\n",
              "      <td>GP</td>\n",
              "      <td>F</td>\n",
              "      <td>15</td>\n",
              "      <td>U</td>\n",
              "      <td>LE3</td>\n",
              "      <td>T</td>\n",
              "      <td>1</td>\n",
              "      <td>1</td>\n",
              "      <td>at_home</td>\n",
              "      <td>other</td>\n",
              "      <td>other</td>\n",
              "      <td>mother</td>\n",
              "      <td>1</td>\n",
              "      <td>2</td>\n",
              "      <td>3</td>\n",
              "      <td>yes</td>\n",
              "      <td>no</td>\n",
              "      <td>yes</td>\n",
              "      <td>no</td>\n",
              "      <td>yes</td>\n",
              "      <td>yes</td>\n",
              "      <td>yes</td>\n",
              "      <td>no</td>\n",
              "      <td>4</td>\n",
              "      <td>3</td>\n",
              "      <td>2</td>\n",
              "      <td>2</td>\n",
              "      <td>3</td>\n",
              "      <td>3</td>\n",
              "      <td>10</td>\n",
              "      <td>7</td>\n",
              "      <td>8</td>\n",
              "      <td>10</td>\n",
              "    </tr>\n",
              "    <tr>\n",
              "      <th>3</th>\n",
              "      <td>GP</td>\n",
              "      <td>F</td>\n",
              "      <td>15</td>\n",
              "      <td>U</td>\n",
              "      <td>GT3</td>\n",
              "      <td>T</td>\n",
              "      <td>4</td>\n",
              "      <td>2</td>\n",
              "      <td>health</td>\n",
              "      <td>services</td>\n",
              "      <td>home</td>\n",
              "      <td>mother</td>\n",
              "      <td>1</td>\n",
              "      <td>3</td>\n",
              "      <td>0</td>\n",
              "      <td>no</td>\n",
              "      <td>yes</td>\n",
              "      <td>yes</td>\n",
              "      <td>yes</td>\n",
              "      <td>yes</td>\n",
              "      <td>yes</td>\n",
              "      <td>yes</td>\n",
              "      <td>yes</td>\n",
              "      <td>3</td>\n",
              "      <td>2</td>\n",
              "      <td>2</td>\n",
              "      <td>1</td>\n",
              "      <td>1</td>\n",
              "      <td>5</td>\n",
              "      <td>2</td>\n",
              "      <td>15</td>\n",
              "      <td>14</td>\n",
              "      <td>15</td>\n",
              "    </tr>\n",
              "    <tr>\n",
              "      <th>4</th>\n",
              "      <td>GP</td>\n",
              "      <td>F</td>\n",
              "      <td>16</td>\n",
              "      <td>U</td>\n",
              "      <td>GT3</td>\n",
              "      <td>T</td>\n",
              "      <td>3</td>\n",
              "      <td>3</td>\n",
              "      <td>other</td>\n",
              "      <td>other</td>\n",
              "      <td>home</td>\n",
              "      <td>father</td>\n",
              "      <td>1</td>\n",
              "      <td>2</td>\n",
              "      <td>0</td>\n",
              "      <td>no</td>\n",
              "      <td>yes</td>\n",
              "      <td>yes</td>\n",
              "      <td>no</td>\n",
              "      <td>yes</td>\n",
              "      <td>yes</td>\n",
              "      <td>no</td>\n",
              "      <td>no</td>\n",
              "      <td>4</td>\n",
              "      <td>3</td>\n",
              "      <td>2</td>\n",
              "      <td>1</td>\n",
              "      <td>2</td>\n",
              "      <td>5</td>\n",
              "      <td>4</td>\n",
              "      <td>6</td>\n",
              "      <td>10</td>\n",
              "      <td>10</td>\n",
              "    </tr>\n",
              "    <tr>\n",
              "      <th>...</th>\n",
              "      <td>...</td>\n",
              "      <td>...</td>\n",
              "      <td>...</td>\n",
              "      <td>...</td>\n",
              "      <td>...</td>\n",
              "      <td>...</td>\n",
              "      <td>...</td>\n",
              "      <td>...</td>\n",
              "      <td>...</td>\n",
              "      <td>...</td>\n",
              "      <td>...</td>\n",
              "      <td>...</td>\n",
              "      <td>...</td>\n",
              "      <td>...</td>\n",
              "      <td>...</td>\n",
              "      <td>...</td>\n",
              "      <td>...</td>\n",
              "      <td>...</td>\n",
              "      <td>...</td>\n",
              "      <td>...</td>\n",
              "      <td>...</td>\n",
              "      <td>...</td>\n",
              "      <td>...</td>\n",
              "      <td>...</td>\n",
              "      <td>...</td>\n",
              "      <td>...</td>\n",
              "      <td>...</td>\n",
              "      <td>...</td>\n",
              "      <td>...</td>\n",
              "      <td>...</td>\n",
              "      <td>...</td>\n",
              "      <td>...</td>\n",
              "      <td>...</td>\n",
              "    </tr>\n",
              "    <tr>\n",
              "      <th>1039</th>\n",
              "      <td>MS</td>\n",
              "      <td>F</td>\n",
              "      <td>19</td>\n",
              "      <td>R</td>\n",
              "      <td>GT3</td>\n",
              "      <td>T</td>\n",
              "      <td>2</td>\n",
              "      <td>3</td>\n",
              "      <td>services</td>\n",
              "      <td>other</td>\n",
              "      <td>course</td>\n",
              "      <td>mother</td>\n",
              "      <td>1</td>\n",
              "      <td>3</td>\n",
              "      <td>1</td>\n",
              "      <td>no</td>\n",
              "      <td>no</td>\n",
              "      <td>no</td>\n",
              "      <td>yes</td>\n",
              "      <td>no</td>\n",
              "      <td>yes</td>\n",
              "      <td>yes</td>\n",
              "      <td>no</td>\n",
              "      <td>5</td>\n",
              "      <td>4</td>\n",
              "      <td>2</td>\n",
              "      <td>1</td>\n",
              "      <td>2</td>\n",
              "      <td>5</td>\n",
              "      <td>4</td>\n",
              "      <td>10</td>\n",
              "      <td>11</td>\n",
              "      <td>10</td>\n",
              "    </tr>\n",
              "    <tr>\n",
              "      <th>1040</th>\n",
              "      <td>MS</td>\n",
              "      <td>F</td>\n",
              "      <td>18</td>\n",
              "      <td>U</td>\n",
              "      <td>LE3</td>\n",
              "      <td>T</td>\n",
              "      <td>3</td>\n",
              "      <td>1</td>\n",
              "      <td>teacher</td>\n",
              "      <td>services</td>\n",
              "      <td>course</td>\n",
              "      <td>mother</td>\n",
              "      <td>1</td>\n",
              "      <td>2</td>\n",
              "      <td>0</td>\n",
              "      <td>no</td>\n",
              "      <td>yes</td>\n",
              "      <td>no</td>\n",
              "      <td>no</td>\n",
              "      <td>yes</td>\n",
              "      <td>yes</td>\n",
              "      <td>yes</td>\n",
              "      <td>no</td>\n",
              "      <td>4</td>\n",
              "      <td>3</td>\n",
              "      <td>4</td>\n",
              "      <td>1</td>\n",
              "      <td>1</td>\n",
              "      <td>1</td>\n",
              "      <td>4</td>\n",
              "      <td>15</td>\n",
              "      <td>15</td>\n",
              "      <td>16</td>\n",
              "    </tr>\n",
              "    <tr>\n",
              "      <th>1041</th>\n",
              "      <td>MS</td>\n",
              "      <td>F</td>\n",
              "      <td>18</td>\n",
              "      <td>U</td>\n",
              "      <td>GT3</td>\n",
              "      <td>T</td>\n",
              "      <td>1</td>\n",
              "      <td>1</td>\n",
              "      <td>other</td>\n",
              "      <td>other</td>\n",
              "      <td>course</td>\n",
              "      <td>mother</td>\n",
              "      <td>2</td>\n",
              "      <td>2</td>\n",
              "      <td>0</td>\n",
              "      <td>no</td>\n",
              "      <td>no</td>\n",
              "      <td>no</td>\n",
              "      <td>yes</td>\n",
              "      <td>yes</td>\n",
              "      <td>yes</td>\n",
              "      <td>no</td>\n",
              "      <td>no</td>\n",
              "      <td>1</td>\n",
              "      <td>1</td>\n",
              "      <td>1</td>\n",
              "      <td>1</td>\n",
              "      <td>1</td>\n",
              "      <td>5</td>\n",
              "      <td>6</td>\n",
              "      <td>11</td>\n",
              "      <td>12</td>\n",
              "      <td>9</td>\n",
              "    </tr>\n",
              "    <tr>\n",
              "      <th>1042</th>\n",
              "      <td>MS</td>\n",
              "      <td>M</td>\n",
              "      <td>17</td>\n",
              "      <td>U</td>\n",
              "      <td>LE3</td>\n",
              "      <td>T</td>\n",
              "      <td>3</td>\n",
              "      <td>1</td>\n",
              "      <td>services</td>\n",
              "      <td>services</td>\n",
              "      <td>course</td>\n",
              "      <td>mother</td>\n",
              "      <td>2</td>\n",
              "      <td>1</td>\n",
              "      <td>0</td>\n",
              "      <td>no</td>\n",
              "      <td>no</td>\n",
              "      <td>no</td>\n",
              "      <td>no</td>\n",
              "      <td>no</td>\n",
              "      <td>yes</td>\n",
              "      <td>yes</td>\n",
              "      <td>no</td>\n",
              "      <td>2</td>\n",
              "      <td>4</td>\n",
              "      <td>5</td>\n",
              "      <td>3</td>\n",
              "      <td>4</td>\n",
              "      <td>2</td>\n",
              "      <td>6</td>\n",
              "      <td>10</td>\n",
              "      <td>10</td>\n",
              "      <td>10</td>\n",
              "    </tr>\n",
              "    <tr>\n",
              "      <th>1043</th>\n",
              "      <td>MS</td>\n",
              "      <td>M</td>\n",
              "      <td>18</td>\n",
              "      <td>R</td>\n",
              "      <td>LE3</td>\n",
              "      <td>T</td>\n",
              "      <td>3</td>\n",
              "      <td>2</td>\n",
              "      <td>services</td>\n",
              "      <td>other</td>\n",
              "      <td>course</td>\n",
              "      <td>mother</td>\n",
              "      <td>3</td>\n",
              "      <td>1</td>\n",
              "      <td>0</td>\n",
              "      <td>no</td>\n",
              "      <td>no</td>\n",
              "      <td>no</td>\n",
              "      <td>no</td>\n",
              "      <td>no</td>\n",
              "      <td>yes</td>\n",
              "      <td>yes</td>\n",
              "      <td>no</td>\n",
              "      <td>4</td>\n",
              "      <td>4</td>\n",
              "      <td>1</td>\n",
              "      <td>3</td>\n",
              "      <td>4</td>\n",
              "      <td>5</td>\n",
              "      <td>4</td>\n",
              "      <td>10</td>\n",
              "      <td>11</td>\n",
              "      <td>11</td>\n",
              "    </tr>\n",
              "  </tbody>\n",
              "</table>\n",
              "<p>1044 rows × 33 columns</p>\n",
              "</div>"
            ],
            "text/plain": [
              "     school sex  age address famsize  ... health  absences  G1  G2  G3\n",
              "0        GP   F   18       U     GT3  ...      3         6   5   6   6\n",
              "1        GP   F   17       U     GT3  ...      3         4   5   5   6\n",
              "2        GP   F   15       U     LE3  ...      3        10   7   8  10\n",
              "3        GP   F   15       U     GT3  ...      5         2  15  14  15\n",
              "4        GP   F   16       U     GT3  ...      5         4   6  10  10\n",
              "...     ...  ..  ...     ...     ...  ...    ...       ...  ..  ..  ..\n",
              "1039     MS   F   19       R     GT3  ...      5         4  10  11  10\n",
              "1040     MS   F   18       U     LE3  ...      1         4  15  15  16\n",
              "1041     MS   F   18       U     GT3  ...      5         6  11  12   9\n",
              "1042     MS   M   17       U     LE3  ...      2         6  10  10  10\n",
              "1043     MS   M   18       R     LE3  ...      5         4  10  11  11\n",
              "\n",
              "[1044 rows x 33 columns]"
            ]
          },
          "metadata": {
            "tags": []
          },
          "execution_count": 55
        }
      ]
    },
    {
      "cell_type": "code",
      "metadata": {
        "id": "uTdyZPpSQHUg"
      },
      "source": [
        "#data['alcohol_consumption_problem'].value_counts(normalize=True)"
      ],
      "execution_count": null,
      "outputs": []
    },
    {
      "cell_type": "code",
      "metadata": {
        "colab": {
          "base_uri": "https://localhost:8080/"
        },
        "id": "522Nk3EwbWiC",
        "outputId": "2c2338b2-dbd8-4eb8-ad38-44f4b0637a23"
      },
      "source": [
        "data.isna().any()"
      ],
      "execution_count": null,
      "outputs": [
        {
          "output_type": "execute_result",
          "data": {
            "text/plain": [
              "school        False\n",
              "sex           False\n",
              "age           False\n",
              "address       False\n",
              "famsize       False\n",
              "Pstatus       False\n",
              "Medu          False\n",
              "Fedu          False\n",
              "Mjob          False\n",
              "Fjob          False\n",
              "reason        False\n",
              "guardian      False\n",
              "traveltime    False\n",
              "studytime     False\n",
              "failures      False\n",
              "schoolsup     False\n",
              "famsup        False\n",
              "paid          False\n",
              "activities    False\n",
              "nursery       False\n",
              "higher        False\n",
              "internet      False\n",
              "romantic      False\n",
              "famrel        False\n",
              "freetime      False\n",
              "goout         False\n",
              "Dalc          False\n",
              "Walc          False\n",
              "health        False\n",
              "absences      False\n",
              "G1            False\n",
              "G2            False\n",
              "G3            False\n",
              "dtype: bool"
            ]
          },
          "metadata": {
            "tags": []
          },
          "execution_count": 57
        }
      ]
    },
    {
      "cell_type": "code",
      "metadata": {
        "colab": {
          "base_uri": "https://localhost:8080/"
        },
        "id": "mKNoraeXsBKy",
        "outputId": "4e0aebfa-f363-443d-996f-1e41863dba3b"
      },
      "source": [
        "data.info()"
      ],
      "execution_count": null,
      "outputs": [
        {
          "output_type": "stream",
          "text": [
            "<class 'pandas.core.frame.DataFrame'>\n",
            "RangeIndex: 1044 entries, 0 to 1043\n",
            "Data columns (total 33 columns):\n",
            " #   Column      Non-Null Count  Dtype \n",
            "---  ------      --------------  ----- \n",
            " 0   school      1044 non-null   object\n",
            " 1   sex         1044 non-null   object\n",
            " 2   age         1044 non-null   int64 \n",
            " 3   address     1044 non-null   object\n",
            " 4   famsize     1044 non-null   object\n",
            " 5   Pstatus     1044 non-null   object\n",
            " 6   Medu        1044 non-null   int64 \n",
            " 7   Fedu        1044 non-null   int64 \n",
            " 8   Mjob        1044 non-null   object\n",
            " 9   Fjob        1044 non-null   object\n",
            " 10  reason      1044 non-null   object\n",
            " 11  guardian    1044 non-null   object\n",
            " 12  traveltime  1044 non-null   int64 \n",
            " 13  studytime   1044 non-null   int64 \n",
            " 14  failures    1044 non-null   int64 \n",
            " 15  schoolsup   1044 non-null   object\n",
            " 16  famsup      1044 non-null   object\n",
            " 17  paid        1044 non-null   object\n",
            " 18  activities  1044 non-null   object\n",
            " 19  nursery     1044 non-null   object\n",
            " 20  higher      1044 non-null   object\n",
            " 21  internet    1044 non-null   object\n",
            " 22  romantic    1044 non-null   object\n",
            " 23  famrel      1044 non-null   int64 \n",
            " 24  freetime    1044 non-null   int64 \n",
            " 25  goout       1044 non-null   int64 \n",
            " 26  Dalc        1044 non-null   int64 \n",
            " 27  Walc        1044 non-null   int64 \n",
            " 28  health      1044 non-null   int64 \n",
            " 29  absences    1044 non-null   int64 \n",
            " 30  G1          1044 non-null   int64 \n",
            " 31  G2          1044 non-null   int64 \n",
            " 32  G3          1044 non-null   int64 \n",
            "dtypes: int64(16), object(17)\n",
            "memory usage: 269.3+ KB\n"
          ],
          "name": "stdout"
        }
      ]
    },
    {
      "cell_type": "code",
      "metadata": {
        "colab": {
          "base_uri": "https://localhost:8080/"
        },
        "id": "4GzrPP6FsnmM",
        "outputId": "5d4c1de0-4e2d-46ef-ed24-3d1f4e914d81"
      },
      "source": [
        "obj_col = data.select_dtypes(['object']).columns\n",
        "data[obj_col] = data[obj_col].apply(lambda x: pd.factorize(x)[0]) #Convert object data to int (decode)\n",
        "data.info()"
      ],
      "execution_count": null,
      "outputs": [
        {
          "output_type": "stream",
          "text": [
            "<class 'pandas.core.frame.DataFrame'>\n",
            "RangeIndex: 1044 entries, 0 to 1043\n",
            "Data columns (total 33 columns):\n",
            " #   Column      Non-Null Count  Dtype\n",
            "---  ------      --------------  -----\n",
            " 0   school      1044 non-null   int64\n",
            " 1   sex         1044 non-null   int64\n",
            " 2   age         1044 non-null   int64\n",
            " 3   address     1044 non-null   int64\n",
            " 4   famsize     1044 non-null   int64\n",
            " 5   Pstatus     1044 non-null   int64\n",
            " 6   Medu        1044 non-null   int64\n",
            " 7   Fedu        1044 non-null   int64\n",
            " 8   Mjob        1044 non-null   int64\n",
            " 9   Fjob        1044 non-null   int64\n",
            " 10  reason      1044 non-null   int64\n",
            " 11  guardian    1044 non-null   int64\n",
            " 12  traveltime  1044 non-null   int64\n",
            " 13  studytime   1044 non-null   int64\n",
            " 14  failures    1044 non-null   int64\n",
            " 15  schoolsup   1044 non-null   int64\n",
            " 16  famsup      1044 non-null   int64\n",
            " 17  paid        1044 non-null   int64\n",
            " 18  activities  1044 non-null   int64\n",
            " 19  nursery     1044 non-null   int64\n",
            " 20  higher      1044 non-null   int64\n",
            " 21  internet    1044 non-null   int64\n",
            " 22  romantic    1044 non-null   int64\n",
            " 23  famrel      1044 non-null   int64\n",
            " 24  freetime    1044 non-null   int64\n",
            " 25  goout       1044 non-null   int64\n",
            " 26  Dalc        1044 non-null   int64\n",
            " 27  Walc        1044 non-null   int64\n",
            " 28  health      1044 non-null   int64\n",
            " 29  absences    1044 non-null   int64\n",
            " 30  G1          1044 non-null   int64\n",
            " 31  G2          1044 non-null   int64\n",
            " 32  G3          1044 non-null   int64\n",
            "dtypes: int64(33)\n",
            "memory usage: 269.3 KB\n"
          ],
          "name": "stdout"
        }
      ]
    },
    {
      "cell_type": "code",
      "metadata": {
        "colab": {
          "base_uri": "https://localhost:8080/"
        },
        "id": "TVk7PuQHyDZe",
        "outputId": "69ae5ffb-f3d1-4f4f-95cc-e28216748864"
      },
      "source": [
        "# Combine day alcohol and week alcohol\n",
        "data['all_day_in_week_alc']= data['Dalc']+data['Walc']\n",
        "data['all_day_in_week_alc'].value_counts()"
      ],
      "execution_count": null,
      "outputs": [
        {
          "output_type": "execute_result",
          "data": {
            "text/plain": [
              "2     391\n",
              "3     182\n",
              "4     159\n",
              "5     118\n",
              "6      85\n",
              "7      49\n",
              "8      26\n",
              "10     24\n",
              "9      10\n",
              "Name: all_day_in_week_alc, dtype: int64"
            ]
          },
          "metadata": {
            "tags": []
          },
          "execution_count": 60
        }
      ]
    },
    {
      "cell_type": "code",
      "metadata": {
        "colab": {
          "base_uri": "https://localhost:8080/"
        },
        "id": "FGT-94Ovymhc",
        "outputId": "5e6aa56e-e9dc-4014-e9ef-d277ba223bda"
      },
      "source": [
        "data['all_day_in_week_alc'].value_counts()"
      ],
      "execution_count": null,
      "outputs": [
        {
          "output_type": "execute_result",
          "data": {
            "text/plain": [
              "2     391\n",
              "3     182\n",
              "4     159\n",
              "5     118\n",
              "6      85\n",
              "7      49\n",
              "8      26\n",
              "10     24\n",
              "9      10\n",
              "Name: all_day_in_week_alc, dtype: int64"
            ]
          },
          "metadata": {
            "tags": []
          },
          "execution_count": 61
        }
      ]
    },
    {
      "cell_type": "code",
      "metadata": {
        "id": "c4dBGEirAFKw"
      },
      "source": [
        "data['ave_grade'] = round((data.G1 + data.G2 + data.G3)/3, 2)"
      ],
      "execution_count": null,
      "outputs": []
    },
    {
      "cell_type": "code",
      "metadata": {
        "colab": {
          "base_uri": "https://localhost:8080/",
          "height": 519
        },
        "id": "NCi-o5sz2aaa",
        "outputId": "368bf78e-51c6-438a-9214-cf4f2b31a334"
      },
      "source": [
        "# thresshold for student with alcohol consumption problem is > 5\n",
        "data['alcohol_consumption_problem'] = [0 if x <= 5 else 1 for x in data['all_day_in_week_alc']] \n",
        "        \n",
        "print(data['alcohol_consumption_problem'].value_counts())\n",
        "print(data['alcohol_consumption_problem'].value_counts(normalize = True))\n",
        "\n",
        "sns.catplot(x=\"alcohol_consumption_problem\", kind=\"count\", data=data)\n",
        "plt.title('Distribution of those with and without alcohol consumption problem')"
      ],
      "execution_count": null,
      "outputs": [
        {
          "output_type": "stream",
          "text": [
            "0    850\n",
            "1    194\n",
            "Name: alcohol_consumption_problem, dtype: int64\n",
            "0    0.814176\n",
            "1    0.185824\n",
            "Name: alcohol_consumption_problem, dtype: float64\n"
          ],
          "name": "stdout"
        },
        {
          "output_type": "execute_result",
          "data": {
            "text/plain": [
              "Text(0.5, 1.0, 'Distribution of those with and without alcohol consumption problem')"
            ]
          },
          "metadata": {
            "tags": []
          },
          "execution_count": 63
        },
        {
          "output_type": "display_data",
          "data": {
            "image/png": "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\n",
            "text/plain": [
              "<Figure size 360x360 with 1 Axes>"
            ]
          },
          "metadata": {
            "tags": [],
            "needs_background": "light"
          }
        }
      ]
    },
    {
      "cell_type": "code",
      "metadata": {
        "colab": {
          "base_uri": "https://localhost:8080/"
        },
        "id": "LoGeARUa6AW_",
        "outputId": "3c3978b8-83e8-40ac-d801-07d8c0b14bf6"
      },
      "source": [
        "# Correlation alcohol consumption problem with other features\n",
        "data.corrwith(data['alcohol_consumption_problem'])"
      ],
      "execution_count": null,
      "outputs": [
        {
          "output_type": "execute_result",
          "data": {
            "text/plain": [
              "school                         0.019389\n",
              "sex                            0.312146\n",
              "age                            0.097649\n",
              "address                        0.077611\n",
              "famsize                        0.071077\n",
              "Pstatus                        0.019115\n",
              "Medu                          -0.035194\n",
              "Fedu                          -0.016259\n",
              "Mjob                           0.015064\n",
              "Fjob                           0.016477\n",
              "reason                        -0.056473\n",
              "guardian                       0.039138\n",
              "traveltime                     0.099463\n",
              "studytime                     -0.198551\n",
              "failures                       0.149118\n",
              "schoolsup                      0.047370\n",
              "famsup                        -0.090640\n",
              "paid                           0.024870\n",
              "activities                     0.010417\n",
              "nursery                        0.074853\n",
              "higher                         0.101075\n",
              "internet                       0.014103\n",
              "romantic                      -0.030565\n",
              "famrel                        -0.048963\n",
              "freetime                       0.131313\n",
              "goout                          0.330711\n",
              "Dalc                           0.765071\n",
              "Walc                           0.718573\n",
              "health                         0.106591\n",
              "absences                       0.118481\n",
              "G1                            -0.173785\n",
              "G2                            -0.153565\n",
              "G3                            -0.143651\n",
              "all_day_in_week_alc            0.815198\n",
              "ave_grade                     -0.163422\n",
              "alcohol_consumption_problem    1.000000\n",
              "dtype: float64"
            ]
          },
          "metadata": {
            "tags": []
          },
          "execution_count": 64
        }
      ]
    },
    {
      "cell_type": "code",
      "metadata": {
        "colab": {
          "base_uri": "https://localhost:8080/"
        },
        "id": "znZOMw_QU3Le",
        "outputId": "27db4f67-6744-4373-f078-3bcc28e6c7cb"
      },
      "source": [
        "type(data.corrwith(data['alcohol_consumption_problem'], method='pearson').index.astype(str))"
      ],
      "execution_count": null,
      "outputs": [
        {
          "output_type": "execute_result",
          "data": {
            "text/plain": [
              "pandas.core.indexes.base.Index"
            ]
          },
          "metadata": {
            "tags": []
          },
          "execution_count": 65
        }
      ]
    },
    {
      "cell_type": "code",
      "metadata": {
        "colab": {
          "base_uri": "https://localhost:8080/",
          "height": 265
        },
        "id": "AjQxo-oIU7r3",
        "outputId": "81917d09-519e-4463-f4c1-8366d360d1f6"
      },
      "source": [
        "plt.hist([data.corrwith(data['alcohol_consumption_problem']).values, \n",
        "          data.corrwith(data['alcohol_consumption_problem'], method='spearman').values])\n",
        "plt.show()"
      ],
      "execution_count": null,
      "outputs": [
        {
          "output_type": "display_data",
          "data": {
            "image/png": "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\n",
            "text/plain": [
              "<Figure size 432x288 with 1 Axes>"
            ]
          },
          "metadata": {
            "tags": [],
            "needs_background": "light"
          }
        }
      ]
    },
    {
      "cell_type": "code",
      "metadata": {
        "id": "n6V3ha_tYnH_"
      },
      "source": [
        "# plt.hist(y=[data.corrwith(data['alcohol_consumption_problem']).values, \n",
        "#           data.corrwith(data['alcohol_consumption_problem'], method='spearman').values],\n",
        "#          x=)\n",
        "# plt.show()"
      ],
      "execution_count": null,
      "outputs": []
    },
    {
      "cell_type": "code",
      "metadata": {
        "colab": {
          "base_uri": "https://localhost:8080/"
        },
        "id": "ifVN8Zx67udF",
        "outputId": "f13ada38-0313-4655-e071-7b7b2a7e24e2"
      },
      "source": [
        "data.info()"
      ],
      "execution_count": null,
      "outputs": [
        {
          "output_type": "stream",
          "text": [
            "<class 'pandas.core.frame.DataFrame'>\n",
            "RangeIndex: 1044 entries, 0 to 1043\n",
            "Data columns (total 36 columns):\n",
            " #   Column                       Non-Null Count  Dtype  \n",
            "---  ------                       --------------  -----  \n",
            " 0   school                       1044 non-null   int64  \n",
            " 1   sex                          1044 non-null   int64  \n",
            " 2   age                          1044 non-null   int64  \n",
            " 3   address                      1044 non-null   int64  \n",
            " 4   famsize                      1044 non-null   int64  \n",
            " 5   Pstatus                      1044 non-null   int64  \n",
            " 6   Medu                         1044 non-null   int64  \n",
            " 7   Fedu                         1044 non-null   int64  \n",
            " 8   Mjob                         1044 non-null   int64  \n",
            " 9   Fjob                         1044 non-null   int64  \n",
            " 10  reason                       1044 non-null   int64  \n",
            " 11  guardian                     1044 non-null   int64  \n",
            " 12  traveltime                   1044 non-null   int64  \n",
            " 13  studytime                    1044 non-null   int64  \n",
            " 14  failures                     1044 non-null   int64  \n",
            " 15  schoolsup                    1044 non-null   int64  \n",
            " 16  famsup                       1044 non-null   int64  \n",
            " 17  paid                         1044 non-null   int64  \n",
            " 18  activities                   1044 non-null   int64  \n",
            " 19  nursery                      1044 non-null   int64  \n",
            " 20  higher                       1044 non-null   int64  \n",
            " 21  internet                     1044 non-null   int64  \n",
            " 22  romantic                     1044 non-null   int64  \n",
            " 23  famrel                       1044 non-null   int64  \n",
            " 24  freetime                     1044 non-null   int64  \n",
            " 25  goout                        1044 non-null   int64  \n",
            " 26  Dalc                         1044 non-null   int64  \n",
            " 27  Walc                         1044 non-null   int64  \n",
            " 28  health                       1044 non-null   int64  \n",
            " 29  absences                     1044 non-null   int64  \n",
            " 30  G1                           1044 non-null   int64  \n",
            " 31  G2                           1044 non-null   int64  \n",
            " 32  G3                           1044 non-null   int64  \n",
            " 33  all_day_in_week_alc          1044 non-null   int64  \n",
            " 34  ave_grade                    1044 non-null   float64\n",
            " 35  alcohol_consumption_problem  1044 non-null   int64  \n",
            "dtypes: float64(1), int64(35)\n",
            "memory usage: 293.8 KB\n"
          ],
          "name": "stdout"
        }
      ]
    },
    {
      "cell_type": "code",
      "metadata": {
        "colab": {
          "base_uri": "https://localhost:8080/"
        },
        "id": "xxZ-4N_yaa8-",
        "outputId": "bb6e14af-2b8b-4d17-9ae3-7416b3a3ed3f"
      },
      "source": [
        "data.shape"
      ],
      "execution_count": null,
      "outputs": [
        {
          "output_type": "execute_result",
          "data": {
            "text/plain": [
              "(1044, 36)"
            ]
          },
          "metadata": {
            "tags": []
          },
          "execution_count": 69
        }
      ]
    },
    {
      "cell_type": "code",
      "metadata": {
        "colab": {
          "base_uri": "https://localhost:8080/",
          "height": 439
        },
        "id": "5gPD9y9d7-Vd",
        "outputId": "087c9d3e-6fb6-42ac-e6a6-92021b61b6b1"
      },
      "source": [
        "data"
      ],
      "execution_count": null,
      "outputs": [
        {
          "output_type": "execute_result",
          "data": {
            "text/html": [
              "<div>\n",
              "<style scoped>\n",
              "    .dataframe tbody tr th:only-of-type {\n",
              "        vertical-align: middle;\n",
              "    }\n",
              "\n",
              "    .dataframe tbody tr th {\n",
              "        vertical-align: top;\n",
              "    }\n",
              "\n",
              "    .dataframe thead th {\n",
              "        text-align: right;\n",
              "    }\n",
              "</style>\n",
              "<table border=\"1\" class=\"dataframe\">\n",
              "  <thead>\n",
              "    <tr style=\"text-align: right;\">\n",
              "      <th></th>\n",
              "      <th>school</th>\n",
              "      <th>sex</th>\n",
              "      <th>age</th>\n",
              "      <th>address</th>\n",
              "      <th>famsize</th>\n",
              "      <th>Pstatus</th>\n",
              "      <th>Medu</th>\n",
              "      <th>Fedu</th>\n",
              "      <th>Mjob</th>\n",
              "      <th>Fjob</th>\n",
              "      <th>reason</th>\n",
              "      <th>guardian</th>\n",
              "      <th>traveltime</th>\n",
              "      <th>studytime</th>\n",
              "      <th>failures</th>\n",
              "      <th>schoolsup</th>\n",
              "      <th>famsup</th>\n",
              "      <th>paid</th>\n",
              "      <th>activities</th>\n",
              "      <th>nursery</th>\n",
              "      <th>higher</th>\n",
              "      <th>internet</th>\n",
              "      <th>romantic</th>\n",
              "      <th>famrel</th>\n",
              "      <th>freetime</th>\n",
              "      <th>goout</th>\n",
              "      <th>Dalc</th>\n",
              "      <th>Walc</th>\n",
              "      <th>health</th>\n",
              "      <th>absences</th>\n",
              "      <th>G1</th>\n",
              "      <th>G2</th>\n",
              "      <th>G3</th>\n",
              "      <th>all_day_in_week_alc</th>\n",
              "      <th>ave_grade</th>\n",
              "      <th>alcohol_consumption_problem</th>\n",
              "    </tr>\n",
              "  </thead>\n",
              "  <tbody>\n",
              "    <tr>\n",
              "      <th>0</th>\n",
              "      <td>0</td>\n",
              "      <td>0</td>\n",
              "      <td>18</td>\n",
              "      <td>0</td>\n",
              "      <td>0</td>\n",
              "      <td>0</td>\n",
              "      <td>4</td>\n",
              "      <td>4</td>\n",
              "      <td>0</td>\n",
              "      <td>0</td>\n",
              "      <td>0</td>\n",
              "      <td>0</td>\n",
              "      <td>2</td>\n",
              "      <td>2</td>\n",
              "      <td>0</td>\n",
              "      <td>0</td>\n",
              "      <td>0</td>\n",
              "      <td>0</td>\n",
              "      <td>0</td>\n",
              "      <td>0</td>\n",
              "      <td>0</td>\n",
              "      <td>0</td>\n",
              "      <td>0</td>\n",
              "      <td>4</td>\n",
              "      <td>3</td>\n",
              "      <td>4</td>\n",
              "      <td>1</td>\n",
              "      <td>1</td>\n",
              "      <td>3</td>\n",
              "      <td>6</td>\n",
              "      <td>5</td>\n",
              "      <td>6</td>\n",
              "      <td>6</td>\n",
              "      <td>2</td>\n",
              "      <td>5.67</td>\n",
              "      <td>0</td>\n",
              "    </tr>\n",
              "    <tr>\n",
              "      <th>1</th>\n",
              "      <td>0</td>\n",
              "      <td>0</td>\n",
              "      <td>17</td>\n",
              "      <td>0</td>\n",
              "      <td>0</td>\n",
              "      <td>1</td>\n",
              "      <td>1</td>\n",
              "      <td>1</td>\n",
              "      <td>0</td>\n",
              "      <td>1</td>\n",
              "      <td>0</td>\n",
              "      <td>1</td>\n",
              "      <td>1</td>\n",
              "      <td>2</td>\n",
              "      <td>0</td>\n",
              "      <td>1</td>\n",
              "      <td>1</td>\n",
              "      <td>0</td>\n",
              "      <td>0</td>\n",
              "      <td>1</td>\n",
              "      <td>0</td>\n",
              "      <td>1</td>\n",
              "      <td>0</td>\n",
              "      <td>5</td>\n",
              "      <td>3</td>\n",
              "      <td>3</td>\n",
              "      <td>1</td>\n",
              "      <td>1</td>\n",
              "      <td>3</td>\n",
              "      <td>4</td>\n",
              "      <td>5</td>\n",
              "      <td>5</td>\n",
              "      <td>6</td>\n",
              "      <td>2</td>\n",
              "      <td>5.33</td>\n",
              "      <td>0</td>\n",
              "    </tr>\n",
              "    <tr>\n",
              "      <th>2</th>\n",
              "      <td>0</td>\n",
              "      <td>0</td>\n",
              "      <td>15</td>\n",
              "      <td>0</td>\n",
              "      <td>1</td>\n",
              "      <td>1</td>\n",
              "      <td>1</td>\n",
              "      <td>1</td>\n",
              "      <td>0</td>\n",
              "      <td>1</td>\n",
              "      <td>1</td>\n",
              "      <td>0</td>\n",
              "      <td>1</td>\n",
              "      <td>2</td>\n",
              "      <td>3</td>\n",
              "      <td>0</td>\n",
              "      <td>0</td>\n",
              "      <td>1</td>\n",
              "      <td>0</td>\n",
              "      <td>0</td>\n",
              "      <td>0</td>\n",
              "      <td>1</td>\n",
              "      <td>0</td>\n",
              "      <td>4</td>\n",
              "      <td>3</td>\n",
              "      <td>2</td>\n",
              "      <td>2</td>\n",
              "      <td>3</td>\n",
              "      <td>3</td>\n",
              "      <td>10</td>\n",
              "      <td>7</td>\n",
              "      <td>8</td>\n",
              "      <td>10</td>\n",
              "      <td>5</td>\n",
              "      <td>8.33</td>\n",
              "      <td>0</td>\n",
              "    </tr>\n",
              "    <tr>\n",
              "      <th>3</th>\n",
              "      <td>0</td>\n",
              "      <td>0</td>\n",
              "      <td>15</td>\n",
              "      <td>0</td>\n",
              "      <td>0</td>\n",
              "      <td>1</td>\n",
              "      <td>4</td>\n",
              "      <td>2</td>\n",
              "      <td>1</td>\n",
              "      <td>2</td>\n",
              "      <td>2</td>\n",
              "      <td>0</td>\n",
              "      <td>1</td>\n",
              "      <td>3</td>\n",
              "      <td>0</td>\n",
              "      <td>1</td>\n",
              "      <td>1</td>\n",
              "      <td>1</td>\n",
              "      <td>1</td>\n",
              "      <td>0</td>\n",
              "      <td>0</td>\n",
              "      <td>1</td>\n",
              "      <td>1</td>\n",
              "      <td>3</td>\n",
              "      <td>2</td>\n",
              "      <td>2</td>\n",
              "      <td>1</td>\n",
              "      <td>1</td>\n",
              "      <td>5</td>\n",
              "      <td>2</td>\n",
              "      <td>15</td>\n",
              "      <td>14</td>\n",
              "      <td>15</td>\n",
              "      <td>2</td>\n",
              "      <td>14.67</td>\n",
              "      <td>0</td>\n",
              "    </tr>\n",
              "    <tr>\n",
              "      <th>4</th>\n",
              "      <td>0</td>\n",
              "      <td>0</td>\n",
              "      <td>16</td>\n",
              "      <td>0</td>\n",
              "      <td>0</td>\n",
              "      <td>1</td>\n",
              "      <td>3</td>\n",
              "      <td>3</td>\n",
              "      <td>2</td>\n",
              "      <td>1</td>\n",
              "      <td>2</td>\n",
              "      <td>1</td>\n",
              "      <td>1</td>\n",
              "      <td>2</td>\n",
              "      <td>0</td>\n",
              "      <td>1</td>\n",
              "      <td>1</td>\n",
              "      <td>1</td>\n",
              "      <td>0</td>\n",
              "      <td>0</td>\n",
              "      <td>0</td>\n",
              "      <td>0</td>\n",
              "      <td>0</td>\n",
              "      <td>4</td>\n",
              "      <td>3</td>\n",
              "      <td>2</td>\n",
              "      <td>1</td>\n",
              "      <td>2</td>\n",
              "      <td>5</td>\n",
              "      <td>4</td>\n",
              "      <td>6</td>\n",
              "      <td>10</td>\n",
              "      <td>10</td>\n",
              "      <td>3</td>\n",
              "      <td>8.67</td>\n",
              "      <td>0</td>\n",
              "    </tr>\n",
              "    <tr>\n",
              "      <th>...</th>\n",
              "      <td>...</td>\n",
              "      <td>...</td>\n",
              "      <td>...</td>\n",
              "      <td>...</td>\n",
              "      <td>...</td>\n",
              "      <td>...</td>\n",
              "      <td>...</td>\n",
              "      <td>...</td>\n",
              "      <td>...</td>\n",
              "      <td>...</td>\n",
              "      <td>...</td>\n",
              "      <td>...</td>\n",
              "      <td>...</td>\n",
              "      <td>...</td>\n",
              "      <td>...</td>\n",
              "      <td>...</td>\n",
              "      <td>...</td>\n",
              "      <td>...</td>\n",
              "      <td>...</td>\n",
              "      <td>...</td>\n",
              "      <td>...</td>\n",
              "      <td>...</td>\n",
              "      <td>...</td>\n",
              "      <td>...</td>\n",
              "      <td>...</td>\n",
              "      <td>...</td>\n",
              "      <td>...</td>\n",
              "      <td>...</td>\n",
              "      <td>...</td>\n",
              "      <td>...</td>\n",
              "      <td>...</td>\n",
              "      <td>...</td>\n",
              "      <td>...</td>\n",
              "      <td>...</td>\n",
              "      <td>...</td>\n",
              "      <td>...</td>\n",
              "    </tr>\n",
              "    <tr>\n",
              "      <th>1039</th>\n",
              "      <td>1</td>\n",
              "      <td>0</td>\n",
              "      <td>19</td>\n",
              "      <td>1</td>\n",
              "      <td>0</td>\n",
              "      <td>1</td>\n",
              "      <td>2</td>\n",
              "      <td>3</td>\n",
              "      <td>3</td>\n",
              "      <td>1</td>\n",
              "      <td>0</td>\n",
              "      <td>0</td>\n",
              "      <td>1</td>\n",
              "      <td>3</td>\n",
              "      <td>1</td>\n",
              "      <td>1</td>\n",
              "      <td>0</td>\n",
              "      <td>0</td>\n",
              "      <td>1</td>\n",
              "      <td>1</td>\n",
              "      <td>0</td>\n",
              "      <td>1</td>\n",
              "      <td>0</td>\n",
              "      <td>5</td>\n",
              "      <td>4</td>\n",
              "      <td>2</td>\n",
              "      <td>1</td>\n",
              "      <td>2</td>\n",
              "      <td>5</td>\n",
              "      <td>4</td>\n",
              "      <td>10</td>\n",
              "      <td>11</td>\n",
              "      <td>10</td>\n",
              "      <td>3</td>\n",
              "      <td>10.33</td>\n",
              "      <td>0</td>\n",
              "    </tr>\n",
              "    <tr>\n",
              "      <th>1040</th>\n",
              "      <td>1</td>\n",
              "      <td>0</td>\n",
              "      <td>18</td>\n",
              "      <td>0</td>\n",
              "      <td>1</td>\n",
              "      <td>1</td>\n",
              "      <td>3</td>\n",
              "      <td>1</td>\n",
              "      <td>4</td>\n",
              "      <td>2</td>\n",
              "      <td>0</td>\n",
              "      <td>0</td>\n",
              "      <td>1</td>\n",
              "      <td>2</td>\n",
              "      <td>0</td>\n",
              "      <td>1</td>\n",
              "      <td>1</td>\n",
              "      <td>0</td>\n",
              "      <td>0</td>\n",
              "      <td>0</td>\n",
              "      <td>0</td>\n",
              "      <td>1</td>\n",
              "      <td>0</td>\n",
              "      <td>4</td>\n",
              "      <td>3</td>\n",
              "      <td>4</td>\n",
              "      <td>1</td>\n",
              "      <td>1</td>\n",
              "      <td>1</td>\n",
              "      <td>4</td>\n",
              "      <td>15</td>\n",
              "      <td>15</td>\n",
              "      <td>16</td>\n",
              "      <td>2</td>\n",
              "      <td>15.33</td>\n",
              "      <td>0</td>\n",
              "    </tr>\n",
              "    <tr>\n",
              "      <th>1041</th>\n",
              "      <td>1</td>\n",
              "      <td>0</td>\n",
              "      <td>18</td>\n",
              "      <td>0</td>\n",
              "      <td>0</td>\n",
              "      <td>1</td>\n",
              "      <td>1</td>\n",
              "      <td>1</td>\n",
              "      <td>2</td>\n",
              "      <td>1</td>\n",
              "      <td>0</td>\n",
              "      <td>0</td>\n",
              "      <td>2</td>\n",
              "      <td>2</td>\n",
              "      <td>0</td>\n",
              "      <td>1</td>\n",
              "      <td>0</td>\n",
              "      <td>0</td>\n",
              "      <td>1</td>\n",
              "      <td>0</td>\n",
              "      <td>0</td>\n",
              "      <td>0</td>\n",
              "      <td>0</td>\n",
              "      <td>1</td>\n",
              "      <td>1</td>\n",
              "      <td>1</td>\n",
              "      <td>1</td>\n",
              "      <td>1</td>\n",
              "      <td>5</td>\n",
              "      <td>6</td>\n",
              "      <td>11</td>\n",
              "      <td>12</td>\n",
              "      <td>9</td>\n",
              "      <td>2</td>\n",
              "      <td>10.67</td>\n",
              "      <td>0</td>\n",
              "    </tr>\n",
              "    <tr>\n",
              "      <th>1042</th>\n",
              "      <td>1</td>\n",
              "      <td>1</td>\n",
              "      <td>17</td>\n",
              "      <td>0</td>\n",
              "      <td>1</td>\n",
              "      <td>1</td>\n",
              "      <td>3</td>\n",
              "      <td>1</td>\n",
              "      <td>3</td>\n",
              "      <td>2</td>\n",
              "      <td>0</td>\n",
              "      <td>0</td>\n",
              "      <td>2</td>\n",
              "      <td>1</td>\n",
              "      <td>0</td>\n",
              "      <td>1</td>\n",
              "      <td>0</td>\n",
              "      <td>0</td>\n",
              "      <td>0</td>\n",
              "      <td>1</td>\n",
              "      <td>0</td>\n",
              "      <td>1</td>\n",
              "      <td>0</td>\n",
              "      <td>2</td>\n",
              "      <td>4</td>\n",
              "      <td>5</td>\n",
              "      <td>3</td>\n",
              "      <td>4</td>\n",
              "      <td>2</td>\n",
              "      <td>6</td>\n",
              "      <td>10</td>\n",
              "      <td>10</td>\n",
              "      <td>10</td>\n",
              "      <td>7</td>\n",
              "      <td>10.00</td>\n",
              "      <td>1</td>\n",
              "    </tr>\n",
              "    <tr>\n",
              "      <th>1043</th>\n",
              "      <td>1</td>\n",
              "      <td>1</td>\n",
              "      <td>18</td>\n",
              "      <td>1</td>\n",
              "      <td>1</td>\n",
              "      <td>1</td>\n",
              "      <td>3</td>\n",
              "      <td>2</td>\n",
              "      <td>3</td>\n",
              "      <td>1</td>\n",
              "      <td>0</td>\n",
              "      <td>0</td>\n",
              "      <td>3</td>\n",
              "      <td>1</td>\n",
              "      <td>0</td>\n",
              "      <td>1</td>\n",
              "      <td>0</td>\n",
              "      <td>0</td>\n",
              "      <td>0</td>\n",
              "      <td>1</td>\n",
              "      <td>0</td>\n",
              "      <td>1</td>\n",
              "      <td>0</td>\n",
              "      <td>4</td>\n",
              "      <td>4</td>\n",
              "      <td>1</td>\n",
              "      <td>3</td>\n",
              "      <td>4</td>\n",
              "      <td>5</td>\n",
              "      <td>4</td>\n",
              "      <td>10</td>\n",
              "      <td>11</td>\n",
              "      <td>11</td>\n",
              "      <td>7</td>\n",
              "      <td>10.67</td>\n",
              "      <td>1</td>\n",
              "    </tr>\n",
              "  </tbody>\n",
              "</table>\n",
              "<p>1044 rows × 36 columns</p>\n",
              "</div>"
            ],
            "text/plain": [
              "      school  sex  ...  ave_grade  alcohol_consumption_problem\n",
              "0          0    0  ...       5.67                            0\n",
              "1          0    0  ...       5.33                            0\n",
              "2          0    0  ...       8.33                            0\n",
              "3          0    0  ...      14.67                            0\n",
              "4          0    0  ...       8.67                            0\n",
              "...      ...  ...  ...        ...                          ...\n",
              "1039       1    0  ...      10.33                            0\n",
              "1040       1    0  ...      15.33                            0\n",
              "1041       1    0  ...      10.67                            0\n",
              "1042       1    1  ...      10.00                            1\n",
              "1043       1    1  ...      10.67                            1\n",
              "\n",
              "[1044 rows x 36 columns]"
            ]
          },
          "metadata": {
            "tags": []
          },
          "execution_count": 70
        }
      ]
    },
    {
      "cell_type": "code",
      "metadata": {
        "colab": {
          "base_uri": "https://localhost:8080/"
        },
        "id": "2hsPp0HqH3Wl",
        "outputId": "af4dcb7d-b743-4586-f856-5759423047dc"
      },
      "source": [
        "y = data['alcohol_consumption_problem']\n",
        "y"
      ],
      "execution_count": null,
      "outputs": [
        {
          "output_type": "execute_result",
          "data": {
            "text/plain": [
              "0       0\n",
              "1       0\n",
              "2       0\n",
              "3       0\n",
              "4       0\n",
              "       ..\n",
              "1039    0\n",
              "1040    0\n",
              "1041    0\n",
              "1042    1\n",
              "1043    1\n",
              "Name: alcohol_consumption_problem, Length: 1044, dtype: int64"
            ]
          },
          "metadata": {
            "tags": []
          },
          "execution_count": 71
        }
      ]
    },
    {
      "cell_type": "code",
      "metadata": {
        "colab": {
          "base_uri": "https://localhost:8080/",
          "height": 439
        },
        "id": "5kaF0SpzUGte",
        "outputId": "faadcb00-a26f-4cf7-cc60-4b875ab68cdf"
      },
      "source": [
        "X = data\n",
        "X = X.drop('alcohol_consumption_problem', axis=1)\n",
        "X"
      ],
      "execution_count": null,
      "outputs": [
        {
          "output_type": "execute_result",
          "data": {
            "text/html": [
              "<div>\n",
              "<style scoped>\n",
              "    .dataframe tbody tr th:only-of-type {\n",
              "        vertical-align: middle;\n",
              "    }\n",
              "\n",
              "    .dataframe tbody tr th {\n",
              "        vertical-align: top;\n",
              "    }\n",
              "\n",
              "    .dataframe thead th {\n",
              "        text-align: right;\n",
              "    }\n",
              "</style>\n",
              "<table border=\"1\" class=\"dataframe\">\n",
              "  <thead>\n",
              "    <tr style=\"text-align: right;\">\n",
              "      <th></th>\n",
              "      <th>school</th>\n",
              "      <th>sex</th>\n",
              "      <th>age</th>\n",
              "      <th>address</th>\n",
              "      <th>famsize</th>\n",
              "      <th>Pstatus</th>\n",
              "      <th>Medu</th>\n",
              "      <th>Fedu</th>\n",
              "      <th>Mjob</th>\n",
              "      <th>Fjob</th>\n",
              "      <th>reason</th>\n",
              "      <th>guardian</th>\n",
              "      <th>traveltime</th>\n",
              "      <th>studytime</th>\n",
              "      <th>failures</th>\n",
              "      <th>schoolsup</th>\n",
              "      <th>famsup</th>\n",
              "      <th>paid</th>\n",
              "      <th>activities</th>\n",
              "      <th>nursery</th>\n",
              "      <th>higher</th>\n",
              "      <th>internet</th>\n",
              "      <th>romantic</th>\n",
              "      <th>famrel</th>\n",
              "      <th>freetime</th>\n",
              "      <th>goout</th>\n",
              "      <th>Dalc</th>\n",
              "      <th>Walc</th>\n",
              "      <th>health</th>\n",
              "      <th>absences</th>\n",
              "      <th>G1</th>\n",
              "      <th>G2</th>\n",
              "      <th>G3</th>\n",
              "      <th>all_day_in_week_alc</th>\n",
              "      <th>ave_grade</th>\n",
              "    </tr>\n",
              "  </thead>\n",
              "  <tbody>\n",
              "    <tr>\n",
              "      <th>0</th>\n",
              "      <td>0</td>\n",
              "      <td>0</td>\n",
              "      <td>18</td>\n",
              "      <td>0</td>\n",
              "      <td>0</td>\n",
              "      <td>0</td>\n",
              "      <td>4</td>\n",
              "      <td>4</td>\n",
              "      <td>0</td>\n",
              "      <td>0</td>\n",
              "      <td>0</td>\n",
              "      <td>0</td>\n",
              "      <td>2</td>\n",
              "      <td>2</td>\n",
              "      <td>0</td>\n",
              "      <td>0</td>\n",
              "      <td>0</td>\n",
              "      <td>0</td>\n",
              "      <td>0</td>\n",
              "      <td>0</td>\n",
              "      <td>0</td>\n",
              "      <td>0</td>\n",
              "      <td>0</td>\n",
              "      <td>4</td>\n",
              "      <td>3</td>\n",
              "      <td>4</td>\n",
              "      <td>1</td>\n",
              "      <td>1</td>\n",
              "      <td>3</td>\n",
              "      <td>6</td>\n",
              "      <td>5</td>\n",
              "      <td>6</td>\n",
              "      <td>6</td>\n",
              "      <td>2</td>\n",
              "      <td>5.67</td>\n",
              "    </tr>\n",
              "    <tr>\n",
              "      <th>1</th>\n",
              "      <td>0</td>\n",
              "      <td>0</td>\n",
              "      <td>17</td>\n",
              "      <td>0</td>\n",
              "      <td>0</td>\n",
              "      <td>1</td>\n",
              "      <td>1</td>\n",
              "      <td>1</td>\n",
              "      <td>0</td>\n",
              "      <td>1</td>\n",
              "      <td>0</td>\n",
              "      <td>1</td>\n",
              "      <td>1</td>\n",
              "      <td>2</td>\n",
              "      <td>0</td>\n",
              "      <td>1</td>\n",
              "      <td>1</td>\n",
              "      <td>0</td>\n",
              "      <td>0</td>\n",
              "      <td>1</td>\n",
              "      <td>0</td>\n",
              "      <td>1</td>\n",
              "      <td>0</td>\n",
              "      <td>5</td>\n",
              "      <td>3</td>\n",
              "      <td>3</td>\n",
              "      <td>1</td>\n",
              "      <td>1</td>\n",
              "      <td>3</td>\n",
              "      <td>4</td>\n",
              "      <td>5</td>\n",
              "      <td>5</td>\n",
              "      <td>6</td>\n",
              "      <td>2</td>\n",
              "      <td>5.33</td>\n",
              "    </tr>\n",
              "    <tr>\n",
              "      <th>2</th>\n",
              "      <td>0</td>\n",
              "      <td>0</td>\n",
              "      <td>15</td>\n",
              "      <td>0</td>\n",
              "      <td>1</td>\n",
              "      <td>1</td>\n",
              "      <td>1</td>\n",
              "      <td>1</td>\n",
              "      <td>0</td>\n",
              "      <td>1</td>\n",
              "      <td>1</td>\n",
              "      <td>0</td>\n",
              "      <td>1</td>\n",
              "      <td>2</td>\n",
              "      <td>3</td>\n",
              "      <td>0</td>\n",
              "      <td>0</td>\n",
              "      <td>1</td>\n",
              "      <td>0</td>\n",
              "      <td>0</td>\n",
              "      <td>0</td>\n",
              "      <td>1</td>\n",
              "      <td>0</td>\n",
              "      <td>4</td>\n",
              "      <td>3</td>\n",
              "      <td>2</td>\n",
              "      <td>2</td>\n",
              "      <td>3</td>\n",
              "      <td>3</td>\n",
              "      <td>10</td>\n",
              "      <td>7</td>\n",
              "      <td>8</td>\n",
              "      <td>10</td>\n",
              "      <td>5</td>\n",
              "      <td>8.33</td>\n",
              "    </tr>\n",
              "    <tr>\n",
              "      <th>3</th>\n",
              "      <td>0</td>\n",
              "      <td>0</td>\n",
              "      <td>15</td>\n",
              "      <td>0</td>\n",
              "      <td>0</td>\n",
              "      <td>1</td>\n",
              "      <td>4</td>\n",
              "      <td>2</td>\n",
              "      <td>1</td>\n",
              "      <td>2</td>\n",
              "      <td>2</td>\n",
              "      <td>0</td>\n",
              "      <td>1</td>\n",
              "      <td>3</td>\n",
              "      <td>0</td>\n",
              "      <td>1</td>\n",
              "      <td>1</td>\n",
              "      <td>1</td>\n",
              "      <td>1</td>\n",
              "      <td>0</td>\n",
              "      <td>0</td>\n",
              "      <td>1</td>\n",
              "      <td>1</td>\n",
              "      <td>3</td>\n",
              "      <td>2</td>\n",
              "      <td>2</td>\n",
              "      <td>1</td>\n",
              "      <td>1</td>\n",
              "      <td>5</td>\n",
              "      <td>2</td>\n",
              "      <td>15</td>\n",
              "      <td>14</td>\n",
              "      <td>15</td>\n",
              "      <td>2</td>\n",
              "      <td>14.67</td>\n",
              "    </tr>\n",
              "    <tr>\n",
              "      <th>4</th>\n",
              "      <td>0</td>\n",
              "      <td>0</td>\n",
              "      <td>16</td>\n",
              "      <td>0</td>\n",
              "      <td>0</td>\n",
              "      <td>1</td>\n",
              "      <td>3</td>\n",
              "      <td>3</td>\n",
              "      <td>2</td>\n",
              "      <td>1</td>\n",
              "      <td>2</td>\n",
              "      <td>1</td>\n",
              "      <td>1</td>\n",
              "      <td>2</td>\n",
              "      <td>0</td>\n",
              "      <td>1</td>\n",
              "      <td>1</td>\n",
              "      <td>1</td>\n",
              "      <td>0</td>\n",
              "      <td>0</td>\n",
              "      <td>0</td>\n",
              "      <td>0</td>\n",
              "      <td>0</td>\n",
              "      <td>4</td>\n",
              "      <td>3</td>\n",
              "      <td>2</td>\n",
              "      <td>1</td>\n",
              "      <td>2</td>\n",
              "      <td>5</td>\n",
              "      <td>4</td>\n",
              "      <td>6</td>\n",
              "      <td>10</td>\n",
              "      <td>10</td>\n",
              "      <td>3</td>\n",
              "      <td>8.67</td>\n",
              "    </tr>\n",
              "    <tr>\n",
              "      <th>...</th>\n",
              "      <td>...</td>\n",
              "      <td>...</td>\n",
              "      <td>...</td>\n",
              "      <td>...</td>\n",
              "      <td>...</td>\n",
              "      <td>...</td>\n",
              "      <td>...</td>\n",
              "      <td>...</td>\n",
              "      <td>...</td>\n",
              "      <td>...</td>\n",
              "      <td>...</td>\n",
              "      <td>...</td>\n",
              "      <td>...</td>\n",
              "      <td>...</td>\n",
              "      <td>...</td>\n",
              "      <td>...</td>\n",
              "      <td>...</td>\n",
              "      <td>...</td>\n",
              "      <td>...</td>\n",
              "      <td>...</td>\n",
              "      <td>...</td>\n",
              "      <td>...</td>\n",
              "      <td>...</td>\n",
              "      <td>...</td>\n",
              "      <td>...</td>\n",
              "      <td>...</td>\n",
              "      <td>...</td>\n",
              "      <td>...</td>\n",
              "      <td>...</td>\n",
              "      <td>...</td>\n",
              "      <td>...</td>\n",
              "      <td>...</td>\n",
              "      <td>...</td>\n",
              "      <td>...</td>\n",
              "      <td>...</td>\n",
              "    </tr>\n",
              "    <tr>\n",
              "      <th>1039</th>\n",
              "      <td>1</td>\n",
              "      <td>0</td>\n",
              "      <td>19</td>\n",
              "      <td>1</td>\n",
              "      <td>0</td>\n",
              "      <td>1</td>\n",
              "      <td>2</td>\n",
              "      <td>3</td>\n",
              "      <td>3</td>\n",
              "      <td>1</td>\n",
              "      <td>0</td>\n",
              "      <td>0</td>\n",
              "      <td>1</td>\n",
              "      <td>3</td>\n",
              "      <td>1</td>\n",
              "      <td>1</td>\n",
              "      <td>0</td>\n",
              "      <td>0</td>\n",
              "      <td>1</td>\n",
              "      <td>1</td>\n",
              "      <td>0</td>\n",
              "      <td>1</td>\n",
              "      <td>0</td>\n",
              "      <td>5</td>\n",
              "      <td>4</td>\n",
              "      <td>2</td>\n",
              "      <td>1</td>\n",
              "      <td>2</td>\n",
              "      <td>5</td>\n",
              "      <td>4</td>\n",
              "      <td>10</td>\n",
              "      <td>11</td>\n",
              "      <td>10</td>\n",
              "      <td>3</td>\n",
              "      <td>10.33</td>\n",
              "    </tr>\n",
              "    <tr>\n",
              "      <th>1040</th>\n",
              "      <td>1</td>\n",
              "      <td>0</td>\n",
              "      <td>18</td>\n",
              "      <td>0</td>\n",
              "      <td>1</td>\n",
              "      <td>1</td>\n",
              "      <td>3</td>\n",
              "      <td>1</td>\n",
              "      <td>4</td>\n",
              "      <td>2</td>\n",
              "      <td>0</td>\n",
              "      <td>0</td>\n",
              "      <td>1</td>\n",
              "      <td>2</td>\n",
              "      <td>0</td>\n",
              "      <td>1</td>\n",
              "      <td>1</td>\n",
              "      <td>0</td>\n",
              "      <td>0</td>\n",
              "      <td>0</td>\n",
              "      <td>0</td>\n",
              "      <td>1</td>\n",
              "      <td>0</td>\n",
              "      <td>4</td>\n",
              "      <td>3</td>\n",
              "      <td>4</td>\n",
              "      <td>1</td>\n",
              "      <td>1</td>\n",
              "      <td>1</td>\n",
              "      <td>4</td>\n",
              "      <td>15</td>\n",
              "      <td>15</td>\n",
              "      <td>16</td>\n",
              "      <td>2</td>\n",
              "      <td>15.33</td>\n",
              "    </tr>\n",
              "    <tr>\n",
              "      <th>1041</th>\n",
              "      <td>1</td>\n",
              "      <td>0</td>\n",
              "      <td>18</td>\n",
              "      <td>0</td>\n",
              "      <td>0</td>\n",
              "      <td>1</td>\n",
              "      <td>1</td>\n",
              "      <td>1</td>\n",
              "      <td>2</td>\n",
              "      <td>1</td>\n",
              "      <td>0</td>\n",
              "      <td>0</td>\n",
              "      <td>2</td>\n",
              "      <td>2</td>\n",
              "      <td>0</td>\n",
              "      <td>1</td>\n",
              "      <td>0</td>\n",
              "      <td>0</td>\n",
              "      <td>1</td>\n",
              "      <td>0</td>\n",
              "      <td>0</td>\n",
              "      <td>0</td>\n",
              "      <td>0</td>\n",
              "      <td>1</td>\n",
              "      <td>1</td>\n",
              "      <td>1</td>\n",
              "      <td>1</td>\n",
              "      <td>1</td>\n",
              "      <td>5</td>\n",
              "      <td>6</td>\n",
              "      <td>11</td>\n",
              "      <td>12</td>\n",
              "      <td>9</td>\n",
              "      <td>2</td>\n",
              "      <td>10.67</td>\n",
              "    </tr>\n",
              "    <tr>\n",
              "      <th>1042</th>\n",
              "      <td>1</td>\n",
              "      <td>1</td>\n",
              "      <td>17</td>\n",
              "      <td>0</td>\n",
              "      <td>1</td>\n",
              "      <td>1</td>\n",
              "      <td>3</td>\n",
              "      <td>1</td>\n",
              "      <td>3</td>\n",
              "      <td>2</td>\n",
              "      <td>0</td>\n",
              "      <td>0</td>\n",
              "      <td>2</td>\n",
              "      <td>1</td>\n",
              "      <td>0</td>\n",
              "      <td>1</td>\n",
              "      <td>0</td>\n",
              "      <td>0</td>\n",
              "      <td>0</td>\n",
              "      <td>1</td>\n",
              "      <td>0</td>\n",
              "      <td>1</td>\n",
              "      <td>0</td>\n",
              "      <td>2</td>\n",
              "      <td>4</td>\n",
              "      <td>5</td>\n",
              "      <td>3</td>\n",
              "      <td>4</td>\n",
              "      <td>2</td>\n",
              "      <td>6</td>\n",
              "      <td>10</td>\n",
              "      <td>10</td>\n",
              "      <td>10</td>\n",
              "      <td>7</td>\n",
              "      <td>10.00</td>\n",
              "    </tr>\n",
              "    <tr>\n",
              "      <th>1043</th>\n",
              "      <td>1</td>\n",
              "      <td>1</td>\n",
              "      <td>18</td>\n",
              "      <td>1</td>\n",
              "      <td>1</td>\n",
              "      <td>1</td>\n",
              "      <td>3</td>\n",
              "      <td>2</td>\n",
              "      <td>3</td>\n",
              "      <td>1</td>\n",
              "      <td>0</td>\n",
              "      <td>0</td>\n",
              "      <td>3</td>\n",
              "      <td>1</td>\n",
              "      <td>0</td>\n",
              "      <td>1</td>\n",
              "      <td>0</td>\n",
              "      <td>0</td>\n",
              "      <td>0</td>\n",
              "      <td>1</td>\n",
              "      <td>0</td>\n",
              "      <td>1</td>\n",
              "      <td>0</td>\n",
              "      <td>4</td>\n",
              "      <td>4</td>\n",
              "      <td>1</td>\n",
              "      <td>3</td>\n",
              "      <td>4</td>\n",
              "      <td>5</td>\n",
              "      <td>4</td>\n",
              "      <td>10</td>\n",
              "      <td>11</td>\n",
              "      <td>11</td>\n",
              "      <td>7</td>\n",
              "      <td>10.67</td>\n",
              "    </tr>\n",
              "  </tbody>\n",
              "</table>\n",
              "<p>1044 rows × 35 columns</p>\n",
              "</div>"
            ],
            "text/plain": [
              "      school  sex  age  address  ...  G2  G3  all_day_in_week_alc  ave_grade\n",
              "0          0    0   18        0  ...   6   6                    2       5.67\n",
              "1          0    0   17        0  ...   5   6                    2       5.33\n",
              "2          0    0   15        0  ...   8  10                    5       8.33\n",
              "3          0    0   15        0  ...  14  15                    2      14.67\n",
              "4          0    0   16        0  ...  10  10                    3       8.67\n",
              "...      ...  ...  ...      ...  ...  ..  ..                  ...        ...\n",
              "1039       1    0   19        1  ...  11  10                    3      10.33\n",
              "1040       1    0   18        0  ...  15  16                    2      15.33\n",
              "1041       1    0   18        0  ...  12   9                    2      10.67\n",
              "1042       1    1   17        0  ...  10  10                    7      10.00\n",
              "1043       1    1   18        1  ...  11  11                    7      10.67\n",
              "\n",
              "[1044 rows x 35 columns]"
            ]
          },
          "metadata": {
            "tags": []
          },
          "execution_count": 72
        }
      ]
    },
    {
      "cell_type": "markdown",
      "metadata": {
        "id": "P2EpWYa-H38q"
      },
      "source": [
        "# Splitting Data"
      ]
    },
    {
      "cell_type": "code",
      "metadata": {
        "id": "C4nRiEv7IC9m"
      },
      "source": [
        "X_train_full, X_test, y_train_full, y_test = train_test_split(X, y, random_state=150)\n",
        "X_train, X_valid, y_train, y_valid = train_test_split(X_train_full, y_train_full, random_state=150)\n",
        "\n",
        "scaler = StandardScaler()\n",
        "X_train = scaler.fit_transform(X_train)\n",
        "X_valid = scaler.transform(X_valid)\n",
        "X_test = scaler.transform(X_test)"
      ],
      "execution_count": null,
      "outputs": []
    },
    {
      "cell_type": "code",
      "metadata": {
        "id": "WavPTr9cLTG3"
      },
      "source": [
        "# class_names = [data['alcohol_consumption_problem'].value_counts().index]\n",
        "\n",
        "class_names=['no alcohol problem', 'alcohol problem']"
      ],
      "execution_count": null,
      "outputs": []
    },
    {
      "cell_type": "code",
      "metadata": {
        "colab": {
          "base_uri": "https://localhost:8080/"
        },
        "id": "zWSk3Jb9jJp4",
        "outputId": "debf55ec-f9ca-41d1-bd65-618506fad9a1"
      },
      "source": [
        "#checking the shape of the training set and test set\n",
        "print(\"Training set - Features: \", X_train.shape, \"Target: \", y_train.shape,)\n",
        "print(\"Test set - Features: \", X_test.shape, \"Target: \",y_test.shape,)\n",
        "print(y_train.value_counts(normalize = True))\n",
        "print(y_test.value_counts(normalize = True))"
      ],
      "execution_count": null,
      "outputs": [
        {
          "output_type": "stream",
          "text": [
            "Training set - Features:  (587, 35) Target:  (587,)\n",
            "Test set - Features:  (261, 35) Target:  (261,)\n",
            "0    0.805792\n",
            "1    0.194208\n",
            "Name: alcohol_consumption_problem, dtype: float64\n",
            "0    0.842912\n",
            "1    0.157088\n",
            "Name: alcohol_consumption_problem, dtype: float64\n"
          ],
          "name": "stdout"
        }
      ]
    },
    {
      "cell_type": "markdown",
      "metadata": {
        "id": "uft4YkwjS6o4"
      },
      "source": [
        "Fix Class Imbalance"
      ]
    },
    {
      "cell_type": "code",
      "metadata": {
        "colab": {
          "base_uri": "https://localhost:8080/"
        },
        "id": "RLol4-rUS4kG",
        "outputId": "6dd8acb5-c160-4eed-88fc-9f7b11f1646c"
      },
      "source": [
        "# separate minority and majority classes\n",
        "no_problem = data[data.alcohol_consumption_problem==0]\n",
        "alc_problem = data[data.alcohol_consumption_problem==1]\n",
        "\n",
        "# Get a class count to understand the class imbalance.\n",
        "print('no_problem count: '+ str(len(no_problem)))\n",
        "print('alc_problem count: '+ str(len(alc_problem)))"
      ],
      "execution_count": null,
      "outputs": [
        {
          "output_type": "stream",
          "text": [
            "no_problem count: 850\n",
            "alc_problem count: 194\n"
          ],
          "name": "stdout"
        }
      ]
    },
    {
      "cell_type": "code",
      "metadata": {
        "id": "lCV8X8o6UcHx"
      },
      "source": [
        "from sklearn.utils import resample"
      ],
      "execution_count": null,
      "outputs": []
    },
    {
      "cell_type": "code",
      "metadata": {
        "colab": {
          "base_uri": "https://localhost:8080/"
        },
        "id": "WRe-YG8EUd08",
        "outputId": "a17e39a8-2d82-4bf4-d3c7-b3018f72c644"
      },
      "source": [
        "# upsample minority: alcohol problem\n",
        "alc_problem_upsampled = resample(alc_problem,\n",
        "                          replace=True, # sample with replacement\n",
        "                          n_samples=len(no_problem), # match number in majority class\n",
        "                          random_state=23) # reproducible results\n",
        "alc_problem_upsampled.shape"
      ],
      "execution_count": null,
      "outputs": [
        {
          "output_type": "execute_result",
          "data": {
            "text/plain": [
              "(850, 36)"
            ]
          },
          "metadata": {
            "tags": []
          },
          "execution_count": 78
        }
      ]
    },
    {
      "cell_type": "code",
      "metadata": {
        "colab": {
          "base_uri": "https://localhost:8080/"
        },
        "id": "TFOLH3_AU3e8",
        "outputId": "4255f23f-2960-49a9-f733-0686bbed9238"
      },
      "source": [
        "# combine majority and upsampled minority\n",
        "upsampled = pd.concat([no_problem, alc_problem_upsampled])\n",
        "# upsampled\n",
        "# check new class counts\n",
        "upsampled.alcohol_consumption_problem.value_counts()"
      ],
      "execution_count": null,
      "outputs": [
        {
          "output_type": "execute_result",
          "data": {
            "text/plain": [
              "1    850\n",
              "0    850\n",
              "Name: alcohol_consumption_problem, dtype: int64"
            ]
          },
          "metadata": {
            "tags": []
          },
          "execution_count": 79
        }
      ]
    },
    {
      "cell_type": "code",
      "metadata": {
        "colab": {
          "base_uri": "https://localhost:8080/"
        },
        "id": "ZzjAWSJPVzPS",
        "outputId": "557f0715-ed09-4842-e945-b6ac1c323bd8"
      },
      "source": [
        "y_train_up = upsampled.alcohol_consumption_problem\n",
        "X_train_up = upsampled.drop(columns = 'alcohol_consumption_problem', axis=1)\n",
        "X_train_up.shape\n",
        "\n",
        "# print(y_train_u.value_counts(normalize = True))\n",
        "# print(X_train_u.value_counts(normalize = True))"
      ],
      "execution_count": null,
      "outputs": [
        {
          "output_type": "execute_result",
          "data": {
            "text/plain": [
              "(1700, 35)"
            ]
          },
          "metadata": {
            "tags": []
          },
          "execution_count": 80
        }
      ]
    },
    {
      "cell_type": "code",
      "metadata": {
        "id": "AB6Wy6ZyV7_h"
      },
      "source": [
        ""
      ],
      "execution_count": null,
      "outputs": []
    },
    {
      "cell_type": "markdown",
      "metadata": {
        "id": "Rq9-0EpX8Mqu"
      },
      "source": [
        "# Resplit data"
      ]
    },
    {
      "cell_type": "markdown",
      "metadata": {
        "id": "fD_DudQvWUGc"
      },
      "source": [
        "Resplit Data"
      ]
    },
    {
      "cell_type": "code",
      "metadata": {
        "id": "Capv1fcjWTct"
      },
      "source": [
        "# from keras.utils import to_categorical \n",
        "\n",
        "X_train_full, X_test, y_train_full, y_test = train_test_split(X_train_up, y_train_up, random_state=150)\n",
        "X_train, X_valid, y_train, y_valid = train_test_split(X_train_full, y_train_full, random_state=150)\n",
        "\n",
        "# # Skipped for binary\n",
        "# scaler = StandardScaler()\n",
        "# X_train = scaler.fit_transform(X_train)\n",
        "# X_valid = scaler.transform(X_valid)\n",
        "# X_test = scaler.transform(X_test)\n",
        "\n",
        "# # y_train=to_categorical(y_train)\n",
        "# # y_test=to_categorical(y_test)"
      ],
      "execution_count": null,
      "outputs": []
    },
    {
      "cell_type": "code",
      "metadata": {
        "id": "cAZ4MtVWecwk"
      },
      "source": [
        ""
      ],
      "execution_count": null,
      "outputs": []
    },
    {
      "cell_type": "code",
      "metadata": {
        "colab": {
          "base_uri": "https://localhost:8080/"
        },
        "id": "tiCGeBZpefUn",
        "outputId": "e8140a35-f7cf-4193-b3a2-ccd8e537cff8"
      },
      "source": [
        "X_valid.shape"
      ],
      "execution_count": null,
      "outputs": [
        {
          "output_type": "execute_result",
          "data": {
            "text/plain": [
              "(319, 35)"
            ]
          },
          "metadata": {
            "tags": []
          },
          "execution_count": 82
        }
      ]
    },
    {
      "cell_type": "code",
      "metadata": {
        "id": "6gO-hjPsacJw"
      },
      "source": [
        ""
      ],
      "execution_count": null,
      "outputs": []
    },
    {
      "cell_type": "markdown",
      "metadata": {
        "id": "SsL-52ALac3x"
      },
      "source": [
        "# Select Best Feature"
      ]
    },
    {
      "cell_type": "code",
      "metadata": {
        "colab": {
          "base_uri": "https://localhost:8080/"
        },
        "id": "7B2vZ24gagW6",
        "outputId": "37f3c5df-c735-4e08-83c7-ebc1a8a92a93"
      },
      "source": [
        "from sklearn.feature_selection import SelectKBest, f_classif\n",
        "selector = SelectKBest(f_classif, k=10)\n",
        "selector_valid = SelectKBest(f_classif, k=10)\n",
        "\n",
        "#Fitting selector object to training set\n",
        "selector.fit(X_train, y_train)\n",
        "\n",
        "selected_columns = X_train.columns[selector.get_support()]\n",
        "removed_columns = X_train.columns[~selector.get_support()]\n",
        "\n",
        "#Fitting selector object to validation set\n",
        "selector_valid.fit(X_valid, y_valid)\n",
        "\n",
        "selected_col_val = X_valid.columns[selector_valid.get_support()]\n",
        "removed_col_val = X_valid.columns[~selector_valid.get_support()]\n",
        "\n",
        "\n",
        "X_train_kbest = X_train[selected_columns]\n",
        "X_test_kbest = X_test[selected_columns]\n",
        "print(X_train_kbest.shape, X_test_kbest.shape)\n",
        "\n",
        "X_valid_kbest = X_valid[selected_col_val]\n",
        "print(X_valid_kbest.shape)"
      ],
      "execution_count": null,
      "outputs": [
        {
          "output_type": "stream",
          "text": [
            "(956, 10) (425, 10)\n",
            "(319, 10)\n"
          ],
          "name": "stdout"
        }
      ]
    },
    {
      "cell_type": "code",
      "metadata": {
        "colab": {
          "base_uri": "https://localhost:8080/"
        },
        "id": "Jruwcd6KhIVs",
        "outputId": "1eb024af-2506-478e-b52e-3c7e29f411fb"
      },
      "source": [
        "selected_col_val"
      ],
      "execution_count": null,
      "outputs": [
        {
          "output_type": "execute_result",
          "data": {
            "text/plain": [
              "Index(['sex', 'studytime', 'goout', 'Dalc', 'Walc', 'G1', 'G2', 'G3',\n",
              "       'all_day_in_week_alc', 'ave_grade'],\n",
              "      dtype='object')"
            ]
          },
          "metadata": {
            "tags": []
          },
          "execution_count": 84
        }
      ]
    },
    {
      "cell_type": "markdown",
      "metadata": {
        "id": "roRllA7BSpDO"
      },
      "source": [
        "# Build Model"
      ]
    },
    {
      "cell_type": "code",
      "metadata": {
        "id": "6IEyUt2jStHJ"
      },
      "source": [
        "# Need Encoding"
      ],
      "execution_count": null,
      "outputs": []
    },
    {
      "cell_type": "code",
      "metadata": {
        "id": "PNzsdMxqDFaf"
      },
      "source": [
        "import tensorflow as tf\n",
        "from tensorflow import keras"
      ],
      "execution_count": null,
      "outputs": []
    },
    {
      "cell_type": "code",
      "metadata": {
        "id": "WwsORdXReuD2"
      },
      "source": [
        "np.random.seed(42)\n",
        "tf.random.set_seed(42)"
      ],
      "execution_count": null,
      "outputs": []
    },
    {
      "cell_type": "code",
      "metadata": {
        "colab": {
          "base_uri": "https://localhost:8080/"
        },
        "id": "Up0epMnmnGxv",
        "outputId": "2bb5251f-199d-4e1d-bcd0-f013dd117c93"
      },
      "source": [
        "X_train.shape[1:]"
      ],
      "execution_count": null,
      "outputs": [
        {
          "output_type": "execute_result",
          "data": {
            "text/plain": [
              "(35,)"
            ]
          },
          "metadata": {
            "tags": []
          },
          "execution_count": 88
        }
      ]
    },
    {
      "cell_type": "code",
      "metadata": {
        "id": "YuVlj6dLDGkO"
      },
      "source": [
        "# Model Normal\n",
        "\n",
        "# model = keras.models.Sequential([\n",
        "#     keras.layers.Dense(300, activation=\"relu\", input_shape=X_train.shape[1:]),\n",
        "#     keras.layers.Dense(2)\n",
        "# ])"
      ],
      "execution_count": null,
      "outputs": []
    },
    {
      "cell_type": "code",
      "metadata": {
        "colab": {
          "base_uri": "https://localhost:8080/"
        },
        "id": "XLiTSx-MdzIn",
        "outputId": "6c052960-e5f6-42ee-a342-39f5226fcf54"
      },
      "source": [
        "# All Feature\n",
        "model = keras.models.Sequential([\n",
        "    keras.layers.Dense(300, activation=\"relu\", input_shape=X_train.shape[1:]),\n",
        "    keras.layers.Dense(50, activation='relu'),\n",
        "    keras.layers.Dense(25, activation='relu'),\n",
        "    keras.layers.Dense(2, activation='sigmoid')\n",
        "])\n",
        "\n",
        "model.compile(loss=\"mean_squared_error\", optimizer=keras.optimizers.SGD(lr=1e-3), metrics=[\"accuracy\"])\n",
        "history = model.fit(X_train, y_train, epochs=100, validation_data=(X_valid, y_valid))\n",
        "model.evaluate(X_test, y_test)"
      ],
      "execution_count": null,
      "outputs": [
        {
          "output_type": "stream",
          "text": [
            "Epoch 1/100\n",
            "30/30 [==============================] - 1s 9ms/step - loss: 0.2213 - accuracy: 0.5890 - val_loss: 0.2107 - val_accuracy: 0.5517\n",
            "Epoch 2/100\n",
            "30/30 [==============================] - 0s 4ms/step - loss: 0.2106 - accuracy: 0.5753 - val_loss: 0.1985 - val_accuracy: 0.5831\n",
            "Epoch 3/100\n",
            "30/30 [==============================] - 0s 4ms/step - loss: 0.1971 - accuracy: 0.5965 - val_loss: 0.1888 - val_accuracy: 0.5893\n",
            "Epoch 4/100\n",
            "30/30 [==============================] - 0s 4ms/step - loss: 0.1820 - accuracy: 0.5889 - val_loss: 0.1779 - val_accuracy: 0.6019\n",
            "Epoch 5/100\n",
            "30/30 [==============================] - 0s 4ms/step - loss: 0.1799 - accuracy: 0.5956 - val_loss: 0.1709 - val_accuracy: 0.6176\n",
            "Epoch 6/100\n",
            "30/30 [==============================] - 0s 4ms/step - loss: 0.1743 - accuracy: 0.6306 - val_loss: 0.1634 - val_accuracy: 0.6144\n",
            "Epoch 7/100\n",
            "30/30 [==============================] - 0s 4ms/step - loss: 0.1612 - accuracy: 0.6495 - val_loss: 0.1570 - val_accuracy: 0.6332\n",
            "Epoch 8/100\n",
            "30/30 [==============================] - 0s 3ms/step - loss: 0.1579 - accuracy: 0.6418 - val_loss: 0.1523 - val_accuracy: 0.6458\n",
            "Epoch 9/100\n",
            "30/30 [==============================] - 0s 4ms/step - loss: 0.1568 - accuracy: 0.6642 - val_loss: 0.1477 - val_accuracy: 0.6614\n",
            "Epoch 10/100\n",
            "30/30 [==============================] - 0s 4ms/step - loss: 0.1493 - accuracy: 0.6464 - val_loss: 0.1411 - val_accuracy: 0.6834\n",
            "Epoch 11/100\n",
            "30/30 [==============================] - 0s 4ms/step - loss: 0.1460 - accuracy: 0.6955 - val_loss: 0.1371 - val_accuracy: 0.6991\n",
            "Epoch 12/100\n",
            "30/30 [==============================] - 0s 4ms/step - loss: 0.1390 - accuracy: 0.7080 - val_loss: 0.1321 - val_accuracy: 0.6928\n",
            "Epoch 13/100\n",
            "30/30 [==============================] - 0s 4ms/step - loss: 0.1366 - accuracy: 0.6942 - val_loss: 0.1290 - val_accuracy: 0.7179\n",
            "Epoch 14/100\n",
            "30/30 [==============================] - 0s 4ms/step - loss: 0.1315 - accuracy: 0.7199 - val_loss: 0.1248 - val_accuracy: 0.7273\n",
            "Epoch 15/100\n",
            "30/30 [==============================] - 0s 4ms/step - loss: 0.1265 - accuracy: 0.7155 - val_loss: 0.1218 - val_accuracy: 0.7304\n",
            "Epoch 16/100\n",
            "30/30 [==============================] - 0s 4ms/step - loss: 0.1215 - accuracy: 0.7272 - val_loss: 0.1184 - val_accuracy: 0.7335\n",
            "Epoch 17/100\n",
            "30/30 [==============================] - 0s 4ms/step - loss: 0.1226 - accuracy: 0.7135 - val_loss: 0.1149 - val_accuracy: 0.7398\n",
            "Epoch 18/100\n",
            "30/30 [==============================] - 0s 4ms/step - loss: 0.1189 - accuracy: 0.7336 - val_loss: 0.1124 - val_accuracy: 0.7461\n",
            "Epoch 19/100\n",
            "30/30 [==============================] - 0s 4ms/step - loss: 0.1137 - accuracy: 0.7274 - val_loss: 0.1096 - val_accuracy: 0.7586\n",
            "Epoch 20/100\n",
            "30/30 [==============================] - 0s 4ms/step - loss: 0.1072 - accuracy: 0.7290 - val_loss: 0.1068 - val_accuracy: 0.7618\n",
            "Epoch 21/100\n",
            "30/30 [==============================] - 0s 4ms/step - loss: 0.1057 - accuracy: 0.7222 - val_loss: 0.1039 - val_accuracy: 0.7618\n",
            "Epoch 22/100\n",
            "30/30 [==============================] - 0s 4ms/step - loss: 0.1002 - accuracy: 0.7516 - val_loss: 0.1027 - val_accuracy: 0.7680\n",
            "Epoch 23/100\n",
            "30/30 [==============================] - 0s 4ms/step - loss: 0.0985 - accuracy: 0.7765 - val_loss: 0.0996 - val_accuracy: 0.7680\n",
            "Epoch 24/100\n",
            "30/30 [==============================] - 0s 4ms/step - loss: 0.0979 - accuracy: 0.7662 - val_loss: 0.0972 - val_accuracy: 0.7680\n",
            "Epoch 25/100\n",
            "30/30 [==============================] - 0s 4ms/step - loss: 0.0997 - accuracy: 0.7446 - val_loss: 0.0943 - val_accuracy: 0.7774\n",
            "Epoch 26/100\n",
            "30/30 [==============================] - 0s 3ms/step - loss: 0.0973 - accuracy: 0.7856 - val_loss: 0.0932 - val_accuracy: 0.7774\n",
            "Epoch 27/100\n",
            "30/30 [==============================] - 0s 4ms/step - loss: 0.0917 - accuracy: 0.7706 - val_loss: 0.0912 - val_accuracy: 0.7806\n",
            "Epoch 28/100\n",
            "30/30 [==============================] - 0s 4ms/step - loss: 0.0900 - accuracy: 0.7914 - val_loss: 0.0896 - val_accuracy: 0.7837\n",
            "Epoch 29/100\n",
            "30/30 [==============================] - 0s 4ms/step - loss: 0.0937 - accuracy: 0.7861 - val_loss: 0.0868 - val_accuracy: 0.7900\n",
            "Epoch 30/100\n",
            "30/30 [==============================] - 0s 4ms/step - loss: 0.0871 - accuracy: 0.7936 - val_loss: 0.0852 - val_accuracy: 0.7994\n",
            "Epoch 31/100\n",
            "30/30 [==============================] - 0s 4ms/step - loss: 0.0907 - accuracy: 0.7763 - val_loss: 0.0841 - val_accuracy: 0.8056\n",
            "Epoch 32/100\n",
            "30/30 [==============================] - 0s 4ms/step - loss: 0.0830 - accuracy: 0.8176 - val_loss: 0.0826 - val_accuracy: 0.8056\n",
            "Epoch 33/100\n",
            "30/30 [==============================] - 0s 3ms/step - loss: 0.0882 - accuracy: 0.7906 - val_loss: 0.0809 - val_accuracy: 0.8150\n",
            "Epoch 34/100\n",
            "30/30 [==============================] - 0s 3ms/step - loss: 0.0822 - accuracy: 0.7835 - val_loss: 0.0798 - val_accuracy: 0.8088\n",
            "Epoch 35/100\n",
            "30/30 [==============================] - 0s 4ms/step - loss: 0.0798 - accuracy: 0.7953 - val_loss: 0.0783 - val_accuracy: 0.8213\n",
            "Epoch 36/100\n",
            "30/30 [==============================] - 0s 4ms/step - loss: 0.0775 - accuracy: 0.8017 - val_loss: 0.0769 - val_accuracy: 0.8213\n",
            "Epoch 37/100\n",
            "30/30 [==============================] - 0s 4ms/step - loss: 0.0757 - accuracy: 0.8119 - val_loss: 0.0756 - val_accuracy: 0.8213\n",
            "Epoch 38/100\n",
            "30/30 [==============================] - 0s 4ms/step - loss: 0.0752 - accuracy: 0.8117 - val_loss: 0.0747 - val_accuracy: 0.8245\n",
            "Epoch 39/100\n",
            "30/30 [==============================] - 0s 4ms/step - loss: 0.0715 - accuracy: 0.8039 - val_loss: 0.0730 - val_accuracy: 0.8213\n",
            "Epoch 40/100\n",
            "30/30 [==============================] - 0s 4ms/step - loss: 0.0744 - accuracy: 0.8096 - val_loss: 0.0722 - val_accuracy: 0.8276\n",
            "Epoch 41/100\n",
            "30/30 [==============================] - 0s 3ms/step - loss: 0.0741 - accuracy: 0.8204 - val_loss: 0.0708 - val_accuracy: 0.8276\n",
            "Epoch 42/100\n",
            "30/30 [==============================] - 0s 4ms/step - loss: 0.0695 - accuracy: 0.8292 - val_loss: 0.0706 - val_accuracy: 0.8307\n",
            "Epoch 43/100\n",
            "30/30 [==============================] - 0s 4ms/step - loss: 0.0686 - accuracy: 0.8233 - val_loss: 0.0699 - val_accuracy: 0.8401\n",
            "Epoch 44/100\n",
            "30/30 [==============================] - 0s 4ms/step - loss: 0.0736 - accuracy: 0.8380 - val_loss: 0.0677 - val_accuracy: 0.8307\n",
            "Epoch 45/100\n",
            "30/30 [==============================] - 0s 4ms/step - loss: 0.0673 - accuracy: 0.8266 - val_loss: 0.0671 - val_accuracy: 0.8339\n",
            "Epoch 46/100\n",
            "30/30 [==============================] - 0s 4ms/step - loss: 0.0690 - accuracy: 0.8268 - val_loss: 0.0660 - val_accuracy: 0.8370\n",
            "Epoch 47/100\n",
            "30/30 [==============================] - 0s 4ms/step - loss: 0.0655 - accuracy: 0.8360 - val_loss: 0.0655 - val_accuracy: 0.8339\n",
            "Epoch 48/100\n",
            "30/30 [==============================] - 0s 4ms/step - loss: 0.0665 - accuracy: 0.8387 - val_loss: 0.0639 - val_accuracy: 0.8370\n",
            "Epoch 49/100\n",
            "30/30 [==============================] - 0s 4ms/step - loss: 0.0653 - accuracy: 0.8259 - val_loss: 0.0635 - val_accuracy: 0.8401\n",
            "Epoch 50/100\n",
            "30/30 [==============================] - 0s 4ms/step - loss: 0.0629 - accuracy: 0.8567 - val_loss: 0.0627 - val_accuracy: 0.8401\n",
            "Epoch 51/100\n",
            "30/30 [==============================] - 0s 4ms/step - loss: 0.0628 - accuracy: 0.8424 - val_loss: 0.0617 - val_accuracy: 0.8433\n",
            "Epoch 52/100\n",
            "30/30 [==============================] - 0s 3ms/step - loss: 0.0643 - accuracy: 0.8402 - val_loss: 0.0612 - val_accuracy: 0.8401\n",
            "Epoch 53/100\n",
            "30/30 [==============================] - 0s 4ms/step - loss: 0.0640 - accuracy: 0.8406 - val_loss: 0.0603 - val_accuracy: 0.8433\n",
            "Epoch 54/100\n",
            "30/30 [==============================] - 0s 4ms/step - loss: 0.0629 - accuracy: 0.8280 - val_loss: 0.0597 - val_accuracy: 0.8464\n",
            "Epoch 55/100\n",
            "30/30 [==============================] - 0s 4ms/step - loss: 0.0607 - accuracy: 0.8521 - val_loss: 0.0591 - val_accuracy: 0.8433\n",
            "Epoch 56/100\n",
            "30/30 [==============================] - 0s 4ms/step - loss: 0.0578 - accuracy: 0.8397 - val_loss: 0.0580 - val_accuracy: 0.8464\n",
            "Epoch 57/100\n",
            "30/30 [==============================] - 0s 4ms/step - loss: 0.0603 - accuracy: 0.8384 - val_loss: 0.0571 - val_accuracy: 0.8558\n",
            "Epoch 58/100\n",
            "30/30 [==============================] - 0s 4ms/step - loss: 0.0608 - accuracy: 0.8397 - val_loss: 0.0562 - val_accuracy: 0.8527\n",
            "Epoch 59/100\n",
            "30/30 [==============================] - 0s 4ms/step - loss: 0.0569 - accuracy: 0.8583 - val_loss: 0.0555 - val_accuracy: 0.8527\n",
            "Epoch 60/100\n",
            "30/30 [==============================] - 0s 4ms/step - loss: 0.0539 - accuracy: 0.8486 - val_loss: 0.0549 - val_accuracy: 0.8558\n",
            "Epoch 61/100\n",
            "30/30 [==============================] - 0s 4ms/step - loss: 0.0547 - accuracy: 0.8616 - val_loss: 0.0541 - val_accuracy: 0.8527\n",
            "Epoch 62/100\n",
            "30/30 [==============================] - 0s 4ms/step - loss: 0.0557 - accuracy: 0.8484 - val_loss: 0.0534 - val_accuracy: 0.8589\n",
            "Epoch 63/100\n",
            "30/30 [==============================] - 0s 3ms/step - loss: 0.0555 - accuracy: 0.8523 - val_loss: 0.0529 - val_accuracy: 0.8589\n",
            "Epoch 64/100\n",
            "30/30 [==============================] - 0s 4ms/step - loss: 0.0527 - accuracy: 0.8707 - val_loss: 0.0522 - val_accuracy: 0.8589\n",
            "Epoch 65/100\n",
            "30/30 [==============================] - 0s 4ms/step - loss: 0.0512 - accuracy: 0.8493 - val_loss: 0.0516 - val_accuracy: 0.8621\n",
            "Epoch 66/100\n",
            "30/30 [==============================] - 0s 4ms/step - loss: 0.0512 - accuracy: 0.8673 - val_loss: 0.0512 - val_accuracy: 0.8652\n",
            "Epoch 67/100\n",
            "30/30 [==============================] - 0s 4ms/step - loss: 0.0524 - accuracy: 0.8407 - val_loss: 0.0510 - val_accuracy: 0.8652\n",
            "Epoch 68/100\n",
            "30/30 [==============================] - 0s 4ms/step - loss: 0.0533 - accuracy: 0.8394 - val_loss: 0.0500 - val_accuracy: 0.8683\n",
            "Epoch 69/100\n",
            "30/30 [==============================] - 0s 4ms/step - loss: 0.0505 - accuracy: 0.8713 - val_loss: 0.0494 - val_accuracy: 0.8715\n",
            "Epoch 70/100\n",
            "30/30 [==============================] - 0s 4ms/step - loss: 0.0514 - accuracy: 0.8531 - val_loss: 0.0489 - val_accuracy: 0.8715\n",
            "Epoch 71/100\n",
            "30/30 [==============================] - 0s 4ms/step - loss: 0.0504 - accuracy: 0.8620 - val_loss: 0.0490 - val_accuracy: 0.8621\n",
            "Epoch 72/100\n",
            "30/30 [==============================] - 0s 4ms/step - loss: 0.0542 - accuracy: 0.8533 - val_loss: 0.0480 - val_accuracy: 0.8809\n",
            "Epoch 73/100\n",
            "30/30 [==============================] - 0s 4ms/step - loss: 0.0496 - accuracy: 0.8628 - val_loss: 0.0475 - val_accuracy: 0.8840\n",
            "Epoch 74/100\n",
            "30/30 [==============================] - 0s 4ms/step - loss: 0.0485 - accuracy: 0.8822 - val_loss: 0.0472 - val_accuracy: 0.8746\n",
            "Epoch 75/100\n",
            "30/30 [==============================] - 0s 4ms/step - loss: 0.0473 - accuracy: 0.8749 - val_loss: 0.0468 - val_accuracy: 0.8746\n",
            "Epoch 76/100\n",
            "30/30 [==============================] - 0s 4ms/step - loss: 0.0473 - accuracy: 0.8852 - val_loss: 0.0463 - val_accuracy: 0.8840\n",
            "Epoch 77/100\n",
            "30/30 [==============================] - 0s 4ms/step - loss: 0.0436 - accuracy: 0.8602 - val_loss: 0.0465 - val_accuracy: 0.8715\n",
            "Epoch 78/100\n",
            "30/30 [==============================] - 0s 4ms/step - loss: 0.0466 - accuracy: 0.8776 - val_loss: 0.0461 - val_accuracy: 0.8715\n",
            "Epoch 79/100\n",
            "30/30 [==============================] - 0s 4ms/step - loss: 0.0427 - accuracy: 0.8551 - val_loss: 0.0456 - val_accuracy: 0.8746\n",
            "Epoch 80/100\n",
            "30/30 [==============================] - 0s 4ms/step - loss: 0.0430 - accuracy: 0.8694 - val_loss: 0.0449 - val_accuracy: 0.8746\n",
            "Epoch 81/100\n",
            "30/30 [==============================] - 0s 4ms/step - loss: 0.0466 - accuracy: 0.8739 - val_loss: 0.0445 - val_accuracy: 0.8746\n",
            "Epoch 82/100\n",
            "30/30 [==============================] - 0s 4ms/step - loss: 0.0427 - accuracy: 0.8933 - val_loss: 0.0444 - val_accuracy: 0.8746\n",
            "Epoch 83/100\n",
            "30/30 [==============================] - 0s 3ms/step - loss: 0.0462 - accuracy: 0.8653 - val_loss: 0.0440 - val_accuracy: 0.8777\n",
            "Epoch 84/100\n",
            "30/30 [==============================] - 0s 3ms/step - loss: 0.0424 - accuracy: 0.8696 - val_loss: 0.0442 - val_accuracy: 0.8715\n",
            "Epoch 85/100\n",
            "30/30 [==============================] - 0s 4ms/step - loss: 0.0503 - accuracy: 0.8311 - val_loss: 0.0433 - val_accuracy: 0.8871\n",
            "Epoch 86/100\n",
            "30/30 [==============================] - 0s 3ms/step - loss: 0.0478 - accuracy: 0.8693 - val_loss: 0.0430 - val_accuracy: 0.8903\n",
            "Epoch 87/100\n",
            "30/30 [==============================] - 0s 4ms/step - loss: 0.0422 - accuracy: 0.8766 - val_loss: 0.0433 - val_accuracy: 0.8871\n",
            "Epoch 88/100\n",
            "30/30 [==============================] - 0s 4ms/step - loss: 0.0453 - accuracy: 0.8625 - val_loss: 0.0427 - val_accuracy: 0.8840\n",
            "Epoch 89/100\n",
            "30/30 [==============================] - 0s 4ms/step - loss: 0.0429 - accuracy: 0.8616 - val_loss: 0.0427 - val_accuracy: 0.8871\n",
            "Epoch 90/100\n",
            "30/30 [==============================] - 0s 4ms/step - loss: 0.0418 - accuracy: 0.8454 - val_loss: 0.0425 - val_accuracy: 0.8871\n",
            "Epoch 91/100\n",
            "30/30 [==============================] - 0s 4ms/step - loss: 0.0430 - accuracy: 0.8653 - val_loss: 0.0420 - val_accuracy: 0.8871\n",
            "Epoch 92/100\n",
            "30/30 [==============================] - 0s 3ms/step - loss: 0.0443 - accuracy: 0.8666 - val_loss: 0.0414 - val_accuracy: 0.8903\n",
            "Epoch 93/100\n",
            "30/30 [==============================] - 0s 4ms/step - loss: 0.0449 - accuracy: 0.8646 - val_loss: 0.0412 - val_accuracy: 0.8871\n",
            "Epoch 94/100\n",
            "30/30 [==============================] - 0s 4ms/step - loss: 0.0395 - accuracy: 0.8779 - val_loss: 0.0412 - val_accuracy: 0.8871\n",
            "Epoch 95/100\n",
            "30/30 [==============================] - 0s 4ms/step - loss: 0.0424 - accuracy: 0.8635 - val_loss: 0.0407 - val_accuracy: 0.8903\n",
            "Epoch 96/100\n",
            "30/30 [==============================] - 0s 4ms/step - loss: 0.0434 - accuracy: 0.8614 - val_loss: 0.0404 - val_accuracy: 0.8903\n",
            "Epoch 97/100\n",
            "30/30 [==============================] - 0s 4ms/step - loss: 0.0399 - accuracy: 0.8739 - val_loss: 0.0402 - val_accuracy: 0.8903\n",
            "Epoch 98/100\n",
            "30/30 [==============================] - 0s 4ms/step - loss: 0.0396 - accuracy: 0.8845 - val_loss: 0.0405 - val_accuracy: 0.8871\n",
            "Epoch 99/100\n",
            "30/30 [==============================] - 0s 4ms/step - loss: 0.0409 - accuracy: 0.8705 - val_loss: 0.0397 - val_accuracy: 0.8934\n",
            "Epoch 100/100\n",
            "30/30 [==============================] - 0s 4ms/step - loss: 0.0439 - accuracy: 0.8625 - val_loss: 0.0395 - val_accuracy: 0.8903\n",
            "14/14 [==============================] - 0s 2ms/step - loss: 0.0350 - accuracy: 0.8965\n"
          ],
          "name": "stdout"
        },
        {
          "output_type": "execute_result",
          "data": {
            "text/plain": [
              "[0.035045694559812546, 0.8964706063270569]"
            ]
          },
          "metadata": {
            "tags": []
          },
          "execution_count": 120
        }
      ]
    },
    {
      "cell_type": "code",
      "metadata": {
        "colab": {
          "base_uri": "https://localhost:8080/",
          "height": 805
        },
        "id": "56n_ScXsFMu5",
        "outputId": "930defb0-7114-4feb-a319-a5f18467654a"
      },
      "source": [
        "model.summary()\n",
        "keras.utils.plot_model(model, \"my_model.png\", show_shapes=True)"
      ],
      "execution_count": null,
      "outputs": [
        {
          "output_type": "stream",
          "text": [
            "Model: \"sequential\"\n",
            "_________________________________________________________________\n",
            "Layer (type)                 Output Shape              Param #   \n",
            "=================================================================\n",
            "dense (Dense)                (None, 300)               10800     \n",
            "_________________________________________________________________\n",
            "dense_1 (Dense)              (None, 50)                15050     \n",
            "_________________________________________________________________\n",
            "dense_2 (Dense)              (None, 25)                1275      \n",
            "_________________________________________________________________\n",
            "dense_3 (Dense)              (None, 2)                 52        \n",
            "=================================================================\n",
            "Total params: 27,177\n",
            "Trainable params: 27,177\n",
            "Non-trainable params: 0\n",
            "_________________________________________________________________\n"
          ],
          "name": "stdout"
        },
        {
          "output_type": "execute_result",
          "data": {
            "image/png": "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\n",
            "text/plain": [
              "<IPython.core.display.Image object>"
            ]
          },
          "metadata": {
            "tags": []
          },
          "execution_count": 90
        }
      ]
    },
    {
      "cell_type": "code",
      "metadata": {
        "colab": {
          "base_uri": "https://localhost:8080/",
          "height": 35
        },
        "id": "B2-oo1w2HIrL",
        "outputId": "0567d717-cfb1-43e0-c161-0a2a0c32f2aa"
      },
      "source": [
        "hidden1 = model.layers[1]\n",
        "hidden1.name"
      ],
      "execution_count": null,
      "outputs": [
        {
          "output_type": "execute_result",
          "data": {
            "application/vnd.google.colaboratory.intrinsic+json": {
              "type": "string"
            },
            "text/plain": [
              "'dense_1'"
            ]
          },
          "metadata": {
            "tags": []
          },
          "execution_count": 91
        }
      ]
    },
    {
      "cell_type": "code",
      "metadata": {
        "colab": {
          "base_uri": "https://localhost:8080/"
        },
        "id": "-Ylh8ChjHJtb",
        "outputId": "37bbeb84-b5dd-4579-93bd-5c635f3a8078"
      },
      "source": [
        "model.get_layer(hidden1.name) is hidden1"
      ],
      "execution_count": null,
      "outputs": [
        {
          "output_type": "execute_result",
          "data": {
            "text/plain": [
              "True"
            ]
          },
          "metadata": {
            "tags": []
          },
          "execution_count": 92
        }
      ]
    },
    {
      "cell_type": "code",
      "metadata": {
        "id": "MiKMRs8cHM4O"
      },
      "source": [
        "weights, biases = hidden1.get_weights()"
      ],
      "execution_count": null,
      "outputs": []
    },
    {
      "cell_type": "code",
      "metadata": {
        "id": "0TU1DeVhHVB0"
      },
      "source": [
        "# print(weights)\n",
        "# print(weights.shape)"
      ],
      "execution_count": null,
      "outputs": []
    },
    {
      "cell_type": "code",
      "metadata": {
        "colab": {
          "base_uri": "https://localhost:8080/"
        },
        "id": "JmhYr4KoHc3n",
        "outputId": "332b6bcb-7238-4cb3-e203-c30a4c60308b"
      },
      "source": [
        "print(biases)\n",
        "print(biases.shape)"
      ],
      "execution_count": null,
      "outputs": [
        {
          "output_type": "stream",
          "text": [
            "[0. 0. 0. 0. 0. 0. 0. 0. 0. 0. 0. 0. 0. 0. 0. 0. 0. 0. 0. 0. 0. 0. 0. 0.\n",
            " 0. 0. 0. 0. 0. 0. 0. 0. 0. 0. 0. 0. 0. 0. 0. 0. 0. 0. 0. 0. 0. 0. 0. 0.\n",
            " 0. 0.]\n",
            "(50,)\n"
          ],
          "name": "stdout"
        }
      ]
    },
    {
      "cell_type": "code",
      "metadata": {
        "colab": {
          "base_uri": "https://localhost:8080/"
        },
        "id": "Ti0oOehB53Xw",
        "outputId": "2eba12ea-7ce1-403f-daf2-1d0350fa772d"
      },
      "source": [
        "y_train.shape"
      ],
      "execution_count": null,
      "outputs": [
        {
          "output_type": "execute_result",
          "data": {
            "text/plain": [
              "(956,)"
            ]
          },
          "metadata": {
            "tags": []
          },
          "execution_count": 96
        }
      ]
    },
    {
      "cell_type": "code",
      "metadata": {
        "colab": {
          "base_uri": "https://localhost:8080/"
        },
        "id": "nGQnQ-1A61i0",
        "outputId": "0f60898b-86ee-4588-8dc8-e0f1a3db37d4"
      },
      "source": [
        "X_train.shape"
      ],
      "execution_count": null,
      "outputs": [
        {
          "output_type": "execute_result",
          "data": {
            "text/plain": [
              "(956, 35)"
            ]
          },
          "metadata": {
            "tags": []
          },
          "execution_count": 97
        }
      ]
    },
    {
      "cell_type": "markdown",
      "metadata": {
        "id": "7E4K5O4wSzbr"
      },
      "source": [
        "# Training"
      ]
    },
    {
      "cell_type": "code",
      "metadata": {
        "colab": {
          "base_uri": "https://localhost:8080/",
          "height": 324
        },
        "id": "r5nXbhcaitUH",
        "outputId": "e1d9dac9-bd2d-4108-c326-06551fd7a4dc"
      },
      "source": [
        "pd.DataFrame(history.history).plot(figsize=(8, 5))\n",
        "plt.grid(True)\n",
        "plt.gca().set_ylim(0, 1)\n",
        "plt.show()"
      ],
      "execution_count": null,
      "outputs": [
        {
          "output_type": "display_data",
          "data": {
            "image/png": "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\n",
            "text/plain": [
              "<Figure size 576x360 with 1 Axes>"
            ]
          },
          "metadata": {
            "tags": [],
            "needs_background": "light"
          }
        }
      ]
    },
    {
      "cell_type": "code",
      "metadata": {
        "id": "IiqmxRc-gtkd"
      },
      "source": [
        ""
      ],
      "execution_count": null,
      "outputs": []
    },
    {
      "cell_type": "code",
      "metadata": {
        "colab": {
          "base_uri": "https://localhost:8080/"
        },
        "id": "YrzFeBdDHsDH",
        "outputId": "56401b2a-0dbd-4cf5-dbed-662b3cd7a535"
      },
      "source": [
        "# KBest\n",
        "model_kbest = keras.models.Sequential([\n",
        "    keras.layers.Dense(300, activation=\"relu\", input_shape=X_train_kbest.shape[1:]),\n",
        "    keras.layers.Dense(50, activation='relu'),\n",
        "    keras.layers.Dense(25, activation='relu'),\n",
        "    keras.layers.Dense(2, activation='sigmoid')\n",
        "])\n",
        "\n",
        "model_kbest.compile(loss=\"mean_squared_error\", optimizer=keras.optimizers.SGD(lr=1e-3), metrics=[\"accuracy\"])\n",
        "history_kbest = model_kbest.fit(X_train_kbest, y_train, epochs=100, validation_data=(X_valid_kbest, y_valid))\n",
        "model_kbest.evaluate(X_test_kbest, y_test)"
      ],
      "execution_count": null,
      "outputs": [
        {
          "output_type": "stream",
          "text": [
            "Epoch 1/100\n",
            "30/30 [==============================] - 1s 8ms/step - loss: 0.2701 - accuracy: 0.4950 - val_loss: 0.2494 - val_accuracy: 0.5329\n",
            "Epoch 2/100\n",
            "30/30 [==============================] - 0s 4ms/step - loss: 0.2457 - accuracy: 0.4901 - val_loss: 0.2273 - val_accuracy: 0.5361\n",
            "Epoch 3/100\n",
            "30/30 [==============================] - 0s 4ms/step - loss: 0.2245 - accuracy: 0.4876 - val_loss: 0.2099 - val_accuracy: 0.5329\n",
            "Epoch 4/100\n",
            "30/30 [==============================] - 0s 4ms/step - loss: 0.2052 - accuracy: 0.4673 - val_loss: 0.1992 - val_accuracy: 0.5110\n",
            "Epoch 5/100\n",
            "30/30 [==============================] - 0s 4ms/step - loss: 0.1986 - accuracy: 0.5386 - val_loss: 0.1922 - val_accuracy: 0.5392\n",
            "Epoch 6/100\n",
            "30/30 [==============================] - 0s 4ms/step - loss: 0.1925 - accuracy: 0.5575 - val_loss: 0.1856 - val_accuracy: 0.5737\n",
            "Epoch 7/100\n",
            "30/30 [==============================] - 0s 4ms/step - loss: 0.1842 - accuracy: 0.6218 - val_loss: 0.1792 - val_accuracy: 0.6113\n",
            "Epoch 8/100\n",
            "30/30 [==============================] - 0s 4ms/step - loss: 0.1779 - accuracy: 0.6557 - val_loss: 0.1738 - val_accuracy: 0.6144\n",
            "Epoch 9/100\n",
            "30/30 [==============================] - 0s 4ms/step - loss: 0.1772 - accuracy: 0.6283 - val_loss: 0.1691 - val_accuracy: 0.6332\n",
            "Epoch 10/100\n",
            "30/30 [==============================] - 0s 3ms/step - loss: 0.1696 - accuracy: 0.6628 - val_loss: 0.1642 - val_accuracy: 0.6301\n",
            "Epoch 11/100\n",
            "30/30 [==============================] - 0s 4ms/step - loss: 0.1678 - accuracy: 0.6471 - val_loss: 0.1598 - val_accuracy: 0.6301\n",
            "Epoch 12/100\n",
            "30/30 [==============================] - 0s 4ms/step - loss: 0.1619 - accuracy: 0.6554 - val_loss: 0.1552 - val_accuracy: 0.6176\n",
            "Epoch 13/100\n",
            "30/30 [==============================] - 0s 4ms/step - loss: 0.1596 - accuracy: 0.6399 - val_loss: 0.1513 - val_accuracy: 0.6144\n",
            "Epoch 14/100\n",
            "30/30 [==============================] - 0s 4ms/step - loss: 0.1544 - accuracy: 0.6276 - val_loss: 0.1473 - val_accuracy: 0.6238\n",
            "Epoch 15/100\n",
            "30/30 [==============================] - 0s 4ms/step - loss: 0.1500 - accuracy: 0.6438 - val_loss: 0.1437 - val_accuracy: 0.6207\n",
            "Epoch 16/100\n",
            "30/30 [==============================] - 0s 4ms/step - loss: 0.1465 - accuracy: 0.6553 - val_loss: 0.1392 - val_accuracy: 0.6270\n",
            "Epoch 17/100\n",
            "30/30 [==============================] - 0s 3ms/step - loss: 0.1426 - accuracy: 0.6540 - val_loss: 0.1346 - val_accuracy: 0.6332\n",
            "Epoch 18/100\n",
            "30/30 [==============================] - 0s 3ms/step - loss: 0.1395 - accuracy: 0.6514 - val_loss: 0.1312 - val_accuracy: 0.6301\n",
            "Epoch 19/100\n",
            "30/30 [==============================] - 0s 4ms/step - loss: 0.1351 - accuracy: 0.6595 - val_loss: 0.1275 - val_accuracy: 0.6364\n",
            "Epoch 20/100\n",
            "30/30 [==============================] - 0s 4ms/step - loss: 0.1293 - accuracy: 0.6353 - val_loss: 0.1245 - val_accuracy: 0.6301\n",
            "Epoch 21/100\n",
            "30/30 [==============================] - 0s 4ms/step - loss: 0.1256 - accuracy: 0.6580 - val_loss: 0.1215 - val_accuracy: 0.6332\n",
            "Epoch 22/100\n",
            "30/30 [==============================] - 0s 4ms/step - loss: 0.1205 - accuracy: 0.6533 - val_loss: 0.1192 - val_accuracy: 0.6364\n",
            "Epoch 23/100\n",
            "30/30 [==============================] - 0s 3ms/step - loss: 0.1202 - accuracy: 0.6890 - val_loss: 0.1165 - val_accuracy: 0.6489\n",
            "Epoch 24/100\n",
            "30/30 [==============================] - 0s 4ms/step - loss: 0.1218 - accuracy: 0.6772 - val_loss: 0.1140 - val_accuracy: 0.6552\n",
            "Epoch 25/100\n",
            "30/30 [==============================] - 0s 4ms/step - loss: 0.1168 - accuracy: 0.6756 - val_loss: 0.1114 - val_accuracy: 0.6583\n",
            "Epoch 26/100\n",
            "30/30 [==============================] - 0s 3ms/step - loss: 0.1164 - accuracy: 0.6806 - val_loss: 0.1098 - val_accuracy: 0.6552\n",
            "Epoch 27/100\n",
            "30/30 [==============================] - 0s 4ms/step - loss: 0.1125 - accuracy: 0.6790 - val_loss: 0.1080 - val_accuracy: 0.6552\n",
            "Epoch 28/100\n",
            "30/30 [==============================] - 0s 4ms/step - loss: 0.1101 - accuracy: 0.6943 - val_loss: 0.1063 - val_accuracy: 0.6520\n",
            "Epoch 29/100\n",
            "30/30 [==============================] - 0s 3ms/step - loss: 0.1119 - accuracy: 0.6663 - val_loss: 0.1040 - val_accuracy: 0.6677\n",
            "Epoch 30/100\n",
            "30/30 [==============================] - 0s 4ms/step - loss: 0.1071 - accuracy: 0.7051 - val_loss: 0.1023 - val_accuracy: 0.6708\n",
            "Epoch 31/100\n",
            "30/30 [==============================] - 0s 4ms/step - loss: 0.1111 - accuracy: 0.6895 - val_loss: 0.1010 - val_accuracy: 0.6677\n",
            "Epoch 32/100\n",
            "30/30 [==============================] - 0s 4ms/step - loss: 0.1054 - accuracy: 0.6874 - val_loss: 0.0998 - val_accuracy: 0.6677\n",
            "Epoch 33/100\n",
            "30/30 [==============================] - 0s 4ms/step - loss: 0.1132 - accuracy: 0.6716 - val_loss: 0.0985 - val_accuracy: 0.6740\n",
            "Epoch 34/100\n",
            "30/30 [==============================] - 0s 3ms/step - loss: 0.1037 - accuracy: 0.7185 - val_loss: 0.0973 - val_accuracy: 0.6740\n",
            "Epoch 35/100\n",
            "30/30 [==============================] - 0s 3ms/step - loss: 0.1005 - accuracy: 0.7025 - val_loss: 0.0957 - val_accuracy: 0.6771\n",
            "Epoch 36/100\n",
            "30/30 [==============================] - 0s 3ms/step - loss: 0.1004 - accuracy: 0.7091 - val_loss: 0.0947 - val_accuracy: 0.6771\n",
            "Epoch 37/100\n",
            "30/30 [==============================] - 0s 4ms/step - loss: 0.0959 - accuracy: 0.7260 - val_loss: 0.0934 - val_accuracy: 0.6740\n",
            "Epoch 38/100\n",
            "30/30 [==============================] - 0s 4ms/step - loss: 0.0970 - accuracy: 0.7110 - val_loss: 0.0926 - val_accuracy: 0.6771\n",
            "Epoch 39/100\n",
            "30/30 [==============================] - 0s 4ms/step - loss: 0.0930 - accuracy: 0.7355 - val_loss: 0.0912 - val_accuracy: 0.6803\n",
            "Epoch 40/100\n",
            "30/30 [==============================] - 0s 4ms/step - loss: 0.0978 - accuracy: 0.6932 - val_loss: 0.0906 - val_accuracy: 0.6803\n",
            "Epoch 41/100\n",
            "30/30 [==============================] - 0s 3ms/step - loss: 0.0964 - accuracy: 0.6996 - val_loss: 0.0895 - val_accuracy: 0.6803\n",
            "Epoch 42/100\n",
            "30/30 [==============================] - 0s 4ms/step - loss: 0.0926 - accuracy: 0.7302 - val_loss: 0.0891 - val_accuracy: 0.6803\n",
            "Epoch 43/100\n",
            "30/30 [==============================] - 0s 4ms/step - loss: 0.0905 - accuracy: 0.7289 - val_loss: 0.0882 - val_accuracy: 0.6803\n",
            "Epoch 44/100\n",
            "30/30 [==============================] - 0s 4ms/step - loss: 0.0969 - accuracy: 0.7108 - val_loss: 0.0870 - val_accuracy: 0.6834\n",
            "Epoch 45/100\n",
            "30/30 [==============================] - 0s 4ms/step - loss: 0.0904 - accuracy: 0.7268 - val_loss: 0.0863 - val_accuracy: 0.6865\n",
            "Epoch 46/100\n",
            "30/30 [==============================] - 0s 4ms/step - loss: 0.0912 - accuracy: 0.7320 - val_loss: 0.0855 - val_accuracy: 0.6865\n",
            "Epoch 47/100\n",
            "30/30 [==============================] - 0s 4ms/step - loss: 0.0896 - accuracy: 0.7248 - val_loss: 0.0850 - val_accuracy: 0.6897\n",
            "Epoch 48/100\n",
            "30/30 [==============================] - 0s 4ms/step - loss: 0.0878 - accuracy: 0.7272 - val_loss: 0.0838 - val_accuracy: 0.6897\n",
            "Epoch 49/100\n",
            "30/30 [==============================] - 0s 4ms/step - loss: 0.0884 - accuracy: 0.7416 - val_loss: 0.0834 - val_accuracy: 0.6865\n",
            "Epoch 50/100\n",
            "30/30 [==============================] - 0s 4ms/step - loss: 0.0857 - accuracy: 0.7458 - val_loss: 0.0828 - val_accuracy: 0.6865\n",
            "Epoch 51/100\n",
            "30/30 [==============================] - 0s 4ms/step - loss: 0.0844 - accuracy: 0.7602 - val_loss: 0.0820 - val_accuracy: 0.6897\n",
            "Epoch 52/100\n",
            "30/30 [==============================] - 0s 3ms/step - loss: 0.0889 - accuracy: 0.7333 - val_loss: 0.0819 - val_accuracy: 0.6991\n",
            "Epoch 53/100\n",
            "30/30 [==============================] - 0s 3ms/step - loss: 0.0892 - accuracy: 0.7366 - val_loss: 0.0812 - val_accuracy: 0.6991\n",
            "Epoch 54/100\n",
            "30/30 [==============================] - 0s 4ms/step - loss: 0.0896 - accuracy: 0.7401 - val_loss: 0.0809 - val_accuracy: 0.6959\n",
            "Epoch 55/100\n",
            "30/30 [==============================] - 0s 4ms/step - loss: 0.0854 - accuracy: 0.7328 - val_loss: 0.0804 - val_accuracy: 0.6959\n",
            "Epoch 56/100\n",
            "30/30 [==============================] - 0s 3ms/step - loss: 0.0823 - accuracy: 0.7209 - val_loss: 0.0798 - val_accuracy: 0.6959\n",
            "Epoch 57/100\n",
            "30/30 [==============================] - 0s 4ms/step - loss: 0.0897 - accuracy: 0.7125 - val_loss: 0.0791 - val_accuracy: 0.6959\n",
            "Epoch 58/100\n",
            "30/30 [==============================] - 0s 4ms/step - loss: 0.0850 - accuracy: 0.7342 - val_loss: 0.0784 - val_accuracy: 0.6991\n",
            "Epoch 59/100\n",
            "30/30 [==============================] - 0s 4ms/step - loss: 0.0856 - accuracy: 0.7204 - val_loss: 0.0782 - val_accuracy: 0.6959\n",
            "Epoch 60/100\n",
            "30/30 [==============================] - 0s 4ms/step - loss: 0.0786 - accuracy: 0.7339 - val_loss: 0.0779 - val_accuracy: 0.6991\n",
            "Epoch 61/100\n",
            "30/30 [==============================] - 0s 4ms/step - loss: 0.0843 - accuracy: 0.7291 - val_loss: 0.0772 - val_accuracy: 0.7022\n",
            "Epoch 62/100\n",
            "30/30 [==============================] - 0s 4ms/step - loss: 0.0827 - accuracy: 0.7290 - val_loss: 0.0770 - val_accuracy: 0.7022\n",
            "Epoch 63/100\n",
            "30/30 [==============================] - 0s 3ms/step - loss: 0.0803 - accuracy: 0.7361 - val_loss: 0.0766 - val_accuracy: 0.7053\n",
            "Epoch 64/100\n",
            "30/30 [==============================] - 0s 4ms/step - loss: 0.0754 - accuracy: 0.7377 - val_loss: 0.0760 - val_accuracy: 0.7053\n",
            "Epoch 65/100\n",
            "30/30 [==============================] - 0s 3ms/step - loss: 0.0790 - accuracy: 0.7377 - val_loss: 0.0756 - val_accuracy: 0.7085\n",
            "Epoch 66/100\n",
            "30/30 [==============================] - 0s 4ms/step - loss: 0.0778 - accuracy: 0.7093 - val_loss: 0.0757 - val_accuracy: 0.7053\n",
            "Epoch 67/100\n",
            "30/30 [==============================] - 0s 4ms/step - loss: 0.0792 - accuracy: 0.7281 - val_loss: 0.0754 - val_accuracy: 0.7053\n",
            "Epoch 68/100\n",
            "30/30 [==============================] - 0s 4ms/step - loss: 0.0770 - accuracy: 0.7215 - val_loss: 0.0747 - val_accuracy: 0.7116\n",
            "Epoch 69/100\n",
            "30/30 [==============================] - 0s 4ms/step - loss: 0.0836 - accuracy: 0.7204 - val_loss: 0.0743 - val_accuracy: 0.7085\n",
            "Epoch 70/100\n",
            "30/30 [==============================] - 0s 4ms/step - loss: 0.0790 - accuracy: 0.7012 - val_loss: 0.0740 - val_accuracy: 0.7116\n",
            "Epoch 71/100\n",
            "30/30 [==============================] - 0s 4ms/step - loss: 0.0771 - accuracy: 0.7464 - val_loss: 0.0738 - val_accuracy: 0.7116\n",
            "Epoch 72/100\n",
            "30/30 [==============================] - 0s 4ms/step - loss: 0.0860 - accuracy: 0.7134 - val_loss: 0.0732 - val_accuracy: 0.7085\n",
            "Epoch 73/100\n",
            "30/30 [==============================] - 0s 4ms/step - loss: 0.0781 - accuracy: 0.7450 - val_loss: 0.0727 - val_accuracy: 0.7116\n",
            "Epoch 74/100\n",
            "30/30 [==============================] - 0s 4ms/step - loss: 0.0780 - accuracy: 0.7365 - val_loss: 0.0726 - val_accuracy: 0.7085\n",
            "Epoch 75/100\n",
            "30/30 [==============================] - 0s 4ms/step - loss: 0.0801 - accuracy: 0.7274 - val_loss: 0.0724 - val_accuracy: 0.7116\n",
            "Epoch 76/100\n",
            "30/30 [==============================] - 0s 4ms/step - loss: 0.0736 - accuracy: 0.7210 - val_loss: 0.0717 - val_accuracy: 0.7085\n",
            "Epoch 77/100\n",
            "30/30 [==============================] - 0s 3ms/step - loss: 0.0724 - accuracy: 0.7498 - val_loss: 0.0718 - val_accuracy: 0.7116\n",
            "Epoch 78/100\n",
            "30/30 [==============================] - 0s 4ms/step - loss: 0.0770 - accuracy: 0.7309 - val_loss: 0.0717 - val_accuracy: 0.7116\n",
            "Epoch 79/100\n",
            "30/30 [==============================] - 0s 4ms/step - loss: 0.0697 - accuracy: 0.7741 - val_loss: 0.0714 - val_accuracy: 0.7116\n",
            "Epoch 80/100\n",
            "30/30 [==============================] - 0s 4ms/step - loss: 0.0716 - accuracy: 0.7582 - val_loss: 0.0707 - val_accuracy: 0.7116\n",
            "Epoch 81/100\n",
            "30/30 [==============================] - 0s 4ms/step - loss: 0.0720 - accuracy: 0.7429 - val_loss: 0.0703 - val_accuracy: 0.7053\n",
            "Epoch 82/100\n",
            "30/30 [==============================] - 0s 4ms/step - loss: 0.0747 - accuracy: 0.7326 - val_loss: 0.0703 - val_accuracy: 0.7022\n",
            "Epoch 83/100\n",
            "30/30 [==============================] - 0s 3ms/step - loss: 0.0722 - accuracy: 0.7184 - val_loss: 0.0697 - val_accuracy: 0.7022\n",
            "Epoch 84/100\n",
            "30/30 [==============================] - 0s 4ms/step - loss: 0.0668 - accuracy: 0.7279 - val_loss: 0.0698 - val_accuracy: 0.6991\n",
            "Epoch 85/100\n",
            "30/30 [==============================] - 0s 4ms/step - loss: 0.0783 - accuracy: 0.7143 - val_loss: 0.0694 - val_accuracy: 0.6991\n",
            "Epoch 86/100\n",
            "30/30 [==============================] - 0s 4ms/step - loss: 0.0775 - accuracy: 0.6954 - val_loss: 0.0690 - val_accuracy: 0.6991\n",
            "Epoch 87/100\n",
            "30/30 [==============================] - 0s 4ms/step - loss: 0.0725 - accuracy: 0.7085 - val_loss: 0.0692 - val_accuracy: 0.6991\n",
            "Epoch 88/100\n",
            "30/30 [==============================] - 0s 4ms/step - loss: 0.0747 - accuracy: 0.7029 - val_loss: 0.0688 - val_accuracy: 0.7022\n",
            "Epoch 89/100\n",
            "30/30 [==============================] - 0s 4ms/step - loss: 0.0704 - accuracy: 0.7376 - val_loss: 0.0687 - val_accuracy: 0.6991\n",
            "Epoch 90/100\n",
            "30/30 [==============================] - 0s 4ms/step - loss: 0.0727 - accuracy: 0.7136 - val_loss: 0.0685 - val_accuracy: 0.6959\n",
            "Epoch 91/100\n",
            "30/30 [==============================] - 0s 4ms/step - loss: 0.0678 - accuracy: 0.7125 - val_loss: 0.0681 - val_accuracy: 0.6991\n",
            "Epoch 92/100\n",
            "30/30 [==============================] - 0s 4ms/step - loss: 0.0752 - accuracy: 0.7004 - val_loss: 0.0677 - val_accuracy: 0.6897\n",
            "Epoch 93/100\n",
            "30/30 [==============================] - 0s 4ms/step - loss: 0.0712 - accuracy: 0.7150 - val_loss: 0.0675 - val_accuracy: 0.6959\n",
            "Epoch 94/100\n",
            "30/30 [==============================] - 0s 4ms/step - loss: 0.0697 - accuracy: 0.6945 - val_loss: 0.0676 - val_accuracy: 0.6991\n",
            "Epoch 95/100\n",
            "30/30 [==============================] - 0s 4ms/step - loss: 0.0680 - accuracy: 0.7000 - val_loss: 0.0672 - val_accuracy: 0.6959\n",
            "Epoch 96/100\n",
            "30/30 [==============================] - 0s 4ms/step - loss: 0.0763 - accuracy: 0.7190 - val_loss: 0.0672 - val_accuracy: 0.6959\n",
            "Epoch 97/100\n",
            "30/30 [==============================] - 0s 4ms/step - loss: 0.0687 - accuracy: 0.7006 - val_loss: 0.0670 - val_accuracy: 0.6928\n",
            "Epoch 98/100\n",
            "30/30 [==============================] - 0s 4ms/step - loss: 0.0692 - accuracy: 0.7190 - val_loss: 0.0670 - val_accuracy: 0.6928\n",
            "Epoch 99/100\n",
            "30/30 [==============================] - 0s 4ms/step - loss: 0.0703 - accuracy: 0.7142 - val_loss: 0.0666 - val_accuracy: 0.6928\n",
            "Epoch 100/100\n",
            "30/30 [==============================] - 0s 4ms/step - loss: 0.0739 - accuracy: 0.7001 - val_loss: 0.0663 - val_accuracy: 0.6897\n",
            "14/14 [==============================] - 0s 2ms/step - loss: 0.0670 - accuracy: 0.6941\n"
          ],
          "name": "stdout"
        },
        {
          "output_type": "execute_result",
          "data": {
            "text/plain": [
              "[0.06702326238155365, 0.6941176652908325]"
            ]
          },
          "metadata": {
            "tags": []
          },
          "execution_count": 126
        }
      ]
    },
    {
      "cell_type": "code",
      "metadata": {
        "id": "8s353W7DgBjw",
        "colab": {
          "base_uri": "https://localhost:8080/"
        },
        "outputId": "5731c911-f3d4-4cb1-c530-a048002370c3"
      },
      "source": [
        "history.history.keys()"
      ],
      "execution_count": null,
      "outputs": [
        {
          "output_type": "execute_result",
          "data": {
            "text/plain": [
              "dict_keys(['loss', 'accuracy', 'val_loss', 'val_accuracy'])"
            ]
          },
          "metadata": {
            "tags": []
          },
          "execution_count": 102
        }
      ]
    },
    {
      "cell_type": "code",
      "metadata": {
        "id": "jhk4KISKfikf",
        "colab": {
          "base_uri": "https://localhost:8080/"
        },
        "outputId": "fbef8d0e-3c76-47ae-bf7a-7e63c5c44ae5"
      },
      "source": [
        "print(history.history)"
      ],
      "execution_count": null,
      "outputs": [
        {
          "output_type": "stream",
          "text": [
            "{'loss': [0.3385377526283264, 0.2719966173171997, 0.24258509278297424, 0.22396250069141388, 0.21210169792175293, 0.20268885791301727, 0.19511951506137848, 0.18859970569610596, 0.18281404674053192, 0.1775006353855133, 0.17274318635463715, 0.16796179115772247, 0.16395454108715057, 0.1598391979932785, 0.15614686906337738, 0.1522083431482315, 0.14869917929172516, 0.14499694108963013, 0.1416732221841812, 0.13813146948814392, 0.13499289751052856, 0.13178619742393494, 0.1285235732793808, 0.12544457614421844, 0.12234893441200256, 0.11954350024461746, 0.11661840975284576, 0.11430011689662933, 0.11179004609584808, 0.10946420580148697, 0.1074727326631546, 0.10530441999435425, 0.1032974049448967, 0.10130862146615982, 0.0996595099568367, 0.0978974997997284, 0.09623027592897415, 0.09458085149526596, 0.09300088882446289, 0.09163593500852585, 0.09015768021345139, 0.08867847919464111, 0.08733370900154114, 0.08613774925470352, 0.08477836102247238, 0.08354895561933517, 0.08233680576086044, 0.08102744817733765, 0.08007434010505676, 0.07892486453056335, 0.07793306559324265, 0.07677219808101654, 0.07588790357112885, 0.07480517029762268, 0.07390512526035309, 0.07301546633243561, 0.07203792780637741, 0.07101275026798248, 0.07025784254074097, 0.06938264518976212, 0.06862030178308487, 0.06778579205274582, 0.06697684526443481, 0.06624257564544678, 0.06546612083911896, 0.06468203663825989, 0.06416314840316772, 0.06335276365280151, 0.06269697844982147, 0.06217844784259796, 0.061285074800252914, 0.060682766139507294, 0.060205742716789246, 0.059617362916469574, 0.059042662382125854, 0.0581800602376461, 0.05789993703365326, 0.05716747045516968, 0.056774601340293884, 0.056275367736816406, 0.05572081357240677, 0.055199526250362396, 0.05467727780342102, 0.054254382848739624, 0.0537211112678051, 0.05334501340985298, 0.05276243016123772, 0.052350450307130814, 0.05200757831335068, 0.051539190113544464, 0.05117164924740791, 0.05056062713265419, 0.050268858671188354, 0.04985532537102699, 0.04940187931060791, 0.04913105070590973, 0.04873017594218254, 0.04842235893011093, 0.04799885302782059, 0.04774671792984009], 'accuracy': [0.3315899670124054, 0.34309622645378113, 0.3075313866138458, 0.3117154836654663, 0.3158995807170868, 0.3158995807170868, 0.3148535490036011, 0.3158995807170868, 0.3096234202384949, 0.312761515378952, 0.3117154836654663, 0.3023012578487396, 0.3064853549003601, 0.30857741832733154, 0.3075313866138458, 0.3064853549003601, 0.3012552261352539, 0.3023012578487396, 0.3096234202384949, 0.3106694519519806, 0.3075313866138458, 0.3158995807170868, 0.3179916441440582, 0.3263598382472992, 0.32949790358543396, 0.3378660976886749, 0.3357740640640259, 0.3315899670124054, 0.3378660976886749, 0.33995816111564636, 0.3410041928291321, 0.34518828988075256, 0.34309622645378113, 0.34937238693237305, 0.35041841864585876, 0.35041841864585876, 0.35355648398399353, 0.3566945493221283, 0.35878661274909973, 0.35983264446258545, 0.36401674151420593, 0.36924687027931213, 0.36924687027931213, 0.36924687027931213, 0.3671548068523407, 0.3671548068523407, 0.36924687027931213, 0.36401674151420593, 0.3713389039039612, 0.3723849356174469, 0.37447699904441833, 0.3776150643825531, 0.37970712780952454, 0.38493722677230835, 0.3817991614341736, 0.3828451931476593, 0.3880753219127655, 0.39121338725090027, 0.40481171011924744, 0.40481171011924744, 0.41108787059783936, 0.40690377354621887, 0.41004183888435364, 0.41004183888435364, 0.41004183888435364, 0.41108787059783936, 0.41108787059783936, 0.4121339023113251, 0.42050209641456604, 0.4131799042224884, 0.4173640310764313, 0.4142259359359741, 0.4246861934661865, 0.4246861934661865, 0.42573222517967224, 0.42573222517967224, 0.4236401617527008, 0.42573222517967224, 0.4236401617527008, 0.4278242588043213, 0.4246861934661865, 0.4246861934661865, 0.4299163222312927, 0.4246861934661865, 0.4299163222312927, 0.4299163222312927, 0.43096235394477844, 0.42677825689315796, 0.42573222517967224, 0.43096235394477844, 0.4299163222312927, 0.4299163222312927, 0.428870290517807, 0.4299163222312927, 0.42677825689315796, 0.4278242588043213, 0.428870290517807, 0.4299163222312927, 0.4299163222312927, 0.4278242588043213], 'val_loss': [0.2809048593044281, 0.2514879107475281, 0.23175238072872162, 0.21619351208209991, 0.20687153935432434, 0.19809284806251526, 0.19127191603183746, 0.1857692152261734, 0.18055012822151184, 0.17370690405368805, 0.1691219061613083, 0.1634947508573532, 0.16019406914710999, 0.15543410181999207, 0.15201224386692047, 0.147803395986557, 0.14391638338565826, 0.14118778705596924, 0.13733945786952972, 0.1343603879213333, 0.1304904669523239, 0.12851877510547638, 0.12495475262403488, 0.1212364137172699, 0.11763225495815277, 0.11600007861852646, 0.11369432508945465, 0.1109641045331955, 0.10779769718647003, 0.10567330569028854, 0.10405799001455307, 0.10227268934249878, 0.1001419648528099, 0.09899237751960754, 0.09678733348846436, 0.09499242156744003, 0.09333092719316483, 0.09225872904062271, 0.09021487832069397, 0.08927980810403824, 0.08744799345731735, 0.0875297263264656, 0.08604107797145844, 0.08366527408361435, 0.08268909901380539, 0.08145574480295181, 0.0806056559085846, 0.07852672040462494, 0.07807286083698273, 0.07693534344434738, 0.07568836212158203, 0.075313501060009, 0.07424793392419815, 0.07351161539554596, 0.07227184623479843, 0.07139810919761658, 0.07027197629213333, 0.06908988207578659, 0.06867077201604843, 0.06791777163743973, 0.06683838367462158, 0.06624669581651688, 0.06555917114019394, 0.06453192234039307, 0.06404809653759003, 0.06368714570999146, 0.06303304433822632, 0.06207333877682686, 0.06122983619570732, 0.060680411756038666, 0.06040850654244423, 0.05925072729587555, 0.058551009744405746, 0.05822938680648804, 0.057605162262916565, 0.05681992322206497, 0.05697653442621231, 0.05667763575911522, 0.05587426573038101, 0.05494336038827896, 0.05454212427139282, 0.05426010861992836, 0.05354917794466019, 0.053634654730558395, 0.052722860127687454, 0.05229446664452553, 0.0524318590760231, 0.051725566387176514, 0.05141564458608627, 0.051243726164102554, 0.05046422407031059, 0.04969856142997742, 0.049429405480623245, 0.049278661608695984, 0.04868244379758835, 0.048372842371463776, 0.04812881723046303, 0.04794139787554741, 0.04736357554793358, 0.04699401929974556], 'val_accuracy': [0.39811912178993225, 0.3416927754878998, 0.31347963213920593, 0.3040752410888672, 0.29467085003852844, 0.29467085003852844, 0.2915360629558563, 0.2884012460708618, 0.2915360629558563, 0.29467085003852844, 0.2821316719055176, 0.2852664589881897, 0.2852664589881897, 0.2884012460708618, 0.29780563712120056, 0.29780563712120056, 0.3009404242038727, 0.3040752410888672, 0.3040752410888672, 0.3009404242038727, 0.3103448152542114, 0.3072100281715393, 0.31661441922187805, 0.31661441922187805, 0.31974920630455017, 0.3228840231895447, 0.3291535973548889, 0.3291535973548889, 0.3322884142398834, 0.3322884142398834, 0.33542320132255554, 0.33855798840522766, 0.33855798840522766, 0.3416927754878998, 0.3416927754878998, 0.3448275923728943, 0.3448275923728943, 0.3448275923728943, 0.3510971665382385, 0.3510971665382385, 0.3667711615562439, 0.369905948638916, 0.3730407655239105, 0.3667711615562439, 0.3667711615562439, 0.369905948638916, 0.369905948638916, 0.3667711615562439, 0.3636363744735718, 0.3667711615562439, 0.3636363744735718, 0.37617555260658264, 0.3824451267719269, 0.3824451267719269, 0.3824451267719269, 0.3918495178222656, 0.3887147307395935, 0.3918495178222656, 0.39811912178993225, 0.39811912178993225, 0.39811912178993225, 0.3918495178222656, 0.3918495178222656, 0.39498433470726013, 0.39811912178993225, 0.3918495178222656, 0.3918495178222656, 0.4106582999229431, 0.40125390887260437, 0.39811912178993225, 0.4043887257575989, 0.41692790389060974, 0.4106582999229431, 0.41692790389060974, 0.4137931168079376, 0.4137931168079376, 0.41692790389060974, 0.41692790389060974, 0.41692790389060974, 0.42006269097328186, 0.41692790389060974, 0.4137931168079376, 0.4137931168079376, 0.4137931168079376, 0.4137931168079376, 0.4137931168079376, 0.4137931168079376, 0.4137931168079376, 0.42006269097328186, 0.42006269097328186, 0.4137931168079376, 0.41692790389060974, 0.41692790389060974, 0.42006269097328186, 0.42006269097328186, 0.42006269097328186, 0.42006269097328186, 0.41692790389060974, 0.42006269097328186, 0.42006269097328186]}\n"
          ],
          "name": "stdout"
        }
      ]
    },
    {
      "cell_type": "code",
      "metadata": {
        "id": "2XJVdB_mf2ex",
        "colab": {
          "base_uri": "https://localhost:8080/",
          "height": 324
        },
        "outputId": "a0fd5693-721e-47c3-a872-dd527132e5ca"
      },
      "source": [
        "pd.DataFrame(history_kbest.history).plot(figsize=(8, 5))\n",
        "plt.grid(True)\n",
        "plt.gca().set_ylim(0, 1)\n",
        "plt.show()"
      ],
      "execution_count": null,
      "outputs": [
        {
          "output_type": "display_data",
          "data": {
            "image/png": "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\n",
            "text/plain": [
              "<Figure size 576x360 with 1 Axes>"
            ]
          },
          "metadata": {
            "tags": [],
            "needs_background": "light"
          }
        }
      ]
    },
    {
      "cell_type": "code",
      "metadata": {
        "id": "DuZuxeNchhDK",
        "colab": {
          "base_uri": "https://localhost:8080/"
        },
        "outputId": "232fa281-7950-4ff5-f692-81ee8cc082df"
      },
      "source": [
        "model.evaluate(X_test, y_test)"
      ],
      "execution_count": null,
      "outputs": [
        {
          "output_type": "stream",
          "text": [
            "14/14 [==============================] - 0s 2ms/step - loss: 0.0450 - accuracy: 0.4071\n"
          ],
          "name": "stdout"
        },
        {
          "output_type": "execute_result",
          "data": {
            "text/plain": [
              "[0.04500691965222359, 0.40705883502960205]"
            ]
          },
          "metadata": {
            "tags": []
          },
          "execution_count": 105
        }
      ]
    },
    {
      "cell_type": "code",
      "metadata": {
        "id": "dzglLqvCBQsk"
      },
      "source": [
        "#X_new"
      ],
      "execution_count": null,
      "outputs": []
    },
    {
      "cell_type": "code",
      "metadata": {
        "id": "MZTBtfhXABcP"
      },
      "source": [
        "X_new = X_test\n",
        "y_proba = model.predict(X_new)\n",
        "# y_proba\n",
        "# y_proba.round(2)"
      ],
      "execution_count": null,
      "outputs": []
    },
    {
      "cell_type": "code",
      "metadata": {
        "id": "VRG4CE4qHnKK",
        "colab": {
          "base_uri": "https://localhost:8080/"
        },
        "outputId": "dc04bb5b-763c-4f10-e2c0-95b891875ef4"
      },
      "source": [
        "y_pred = np.argmax(model.predict(X_new), axis=-1)\n",
        "y_pred\n",
        "# np.array(class_names)[y_pred]"
      ],
      "execution_count": null,
      "outputs": [
        {
          "output_type": "execute_result",
          "data": {
            "text/plain": [
              "array([1, 0, 0, 1, 1, 1, 0, 1, 1, 0, 0, 1, 1, 0, 1, 1, 0, 1, 0, 0, 0, 0,\n",
              "       0, 1, 1, 0, 0, 0, 1, 0, 0, 1, 0, 0, 1, 0, 1, 1, 1, 1, 1, 0, 0, 0,\n",
              "       0, 0, 1, 1, 1, 1, 1, 0, 1, 0, 0, 1, 1, 1, 1, 1, 1, 0, 1, 0, 0, 0,\n",
              "       1, 1, 1, 0, 0, 1, 0, 0, 1, 0, 0, 0, 1, 1, 0, 1, 1, 0, 0, 0, 0, 0,\n",
              "       0, 0, 1, 0, 0, 0, 1, 0, 0, 1, 1, 0, 1, 1, 1, 1, 1, 1, 0, 1, 1, 1,\n",
              "       0, 0, 1, 1, 1, 1, 1, 0, 1, 1, 1, 0, 1, 1, 1, 1, 0, 0, 0, 0, 1, 1,\n",
              "       0, 1, 1, 0, 1, 0, 1, 0, 0, 0, 0, 1, 1, 0, 1, 1, 1, 0, 0, 0, 0, 1,\n",
              "       1, 1, 0, 1, 0, 0, 1, 1, 0, 0, 0, 1, 1, 1, 1, 0, 1, 0, 0, 1, 0, 0,\n",
              "       0, 1, 1, 1, 1, 1, 0, 0, 0, 1, 0, 1, 0, 1, 0, 0, 0, 0, 0, 0, 1, 1,\n",
              "       0, 0, 0, 1, 0, 1, 1, 1, 0, 1, 1, 1, 0, 1, 0, 1, 1, 1, 0, 0, 1, 1,\n",
              "       0, 1, 1, 0, 1, 1, 1, 1, 1, 1, 0, 0, 1, 0, 1, 0, 0, 0, 1, 0, 0, 1,\n",
              "       1, 0, 0, 0, 1, 1, 0, 1, 1, 0, 1, 1, 1, 1, 1, 1, 0, 0, 1, 0, 0, 1,\n",
              "       1, 1, 0, 1, 0, 0, 0, 0, 1, 1, 0, 1, 0, 0, 1, 0, 1, 1, 0, 0, 1, 0,\n",
              "       0, 0, 1, 0, 1, 1, 1, 1, 0, 0, 1, 0, 0, 1, 0, 0, 0, 1, 0, 1, 0, 1,\n",
              "       0, 1, 1, 1, 0, 0, 0, 0, 0, 1, 0, 1, 1, 0, 1, 0, 0, 1, 1, 1, 1, 0,\n",
              "       0, 1, 1, 0, 1, 1, 0, 1, 0, 0, 0, 1, 0, 0, 0, 1, 0, 1, 0, 0, 0, 0,\n",
              "       0, 1, 0, 0, 1, 1, 1, 0, 0, 0, 0, 1, 0, 1, 0, 1, 0, 0, 1, 0, 0, 1,\n",
              "       1, 0, 1, 1, 1, 0, 0, 1, 1, 0, 1, 1, 0, 1, 0, 0, 0, 1, 0, 1, 1, 1,\n",
              "       0, 1, 1, 0, 0, 0, 1, 1, 1, 0, 1, 1, 0, 0, 1, 0, 0, 1, 0, 0, 0, 1,\n",
              "       1, 0, 1, 1, 0, 1, 1])"
            ]
          },
          "metadata": {
            "tags": []
          },
          "execution_count": 108
        }
      ]
    },
    {
      "cell_type": "code",
      "metadata": {
        "id": "jVoLj2VrPO0-"
      },
      "source": [
        "# X_test"
      ],
      "execution_count": null,
      "outputs": []
    },
    {
      "cell_type": "code",
      "metadata": {
        "id": "e3DDE_QQLGbN",
        "colab": {
          "base_uri": "https://localhost:8080/"
        },
        "outputId": "7007c2aa-b7fb-4bcf-893a-32091bcd9b78"
      },
      "source": [
        "confusion_matrix(y_test, y_pred)"
      ],
      "execution_count": null,
      "outputs": [
        {
          "output_type": "execute_result",
          "data": {
            "text/plain": [
              "array([[ 83, 125],\n",
              "       [127,  90]])"
            ]
          },
          "metadata": {
            "tags": []
          },
          "execution_count": 110
        }
      ]
    },
    {
      "cell_type": "code",
      "metadata": {
        "id": "B_0oRGt4NFTK",
        "colab": {
          "base_uri": "https://localhost:8080/",
          "height": 483
        },
        "outputId": "f0937895-e29d-4277-91a6-95fb829b7e48"
      },
      "source": [
        "cm = confusion_matrix(y_test, y_pred)\n",
        "\n",
        "fig, ax = plt.subplots(figsize=(8, 8))\n",
        "ax.imshow(cm)\n",
        "ax.grid(False)\n",
        "ax.xaxis.set(ticks=(0, 1), ticklabels=('Predicted No Alcohol Problem', 'Predicted Alcohol Problem'))\n",
        "ax.yaxis.set(ticks=(0, 1), ticklabels=('Actual No Alcohol Problem', 'Actual Alcohol Problem'))\n",
        "ax.set_ylim(1.5, -0.5)\n",
        "for i in range(2):\n",
        "    for j in range(2):\n",
        "        ax.text(j, i, cm[i, j], ha='center', va='center', color='white')\n",
        "plt.show()"
      ],
      "execution_count": null,
      "outputs": [
        {
          "output_type": "display_data",
          "data": {
            "image/png": "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\n",
            "text/plain": [
              "<Figure size 576x576 with 1 Axes>"
            ]
          },
          "metadata": {
            "tags": [],
            "needs_background": "light"
          }
        }
      ]
    },
    {
      "cell_type": "code",
      "metadata": {
        "id": "IeWPBgXGY-K8",
        "colab": {
          "base_uri": "https://localhost:8080/"
        },
        "outputId": "2264eb79-edd8-45db-f685-74d10553d513"
      },
      "source": [
        "tf.math.confusion_matrix(labels=y_test, predictions=y_pred, num_classes=2)\n",
        "# matrix = model.metrics.\n",
        "# (y_test.argmax(axis=1), y_pred.argmax(axis=1))"
      ],
      "execution_count": null,
      "outputs": [
        {
          "output_type": "execute_result",
          "data": {
            "text/plain": [
              "<tf.Tensor: shape=(2, 2), dtype=int32, numpy=\n",
              "array([[ 83, 125],\n",
              "       [127,  90]], dtype=int32)>"
            ]
          },
          "metadata": {
            "tags": []
          },
          "execution_count": 112
        }
      ]
    },
    {
      "cell_type": "code",
      "metadata": {
        "id": "CZ6oTB9CarDa",
        "colab": {
          "base_uri": "https://localhost:8080/"
        },
        "outputId": "5edea020-3cbe-49ab-a8d7-52d111025e8a"
      },
      "source": [
        "y_proba.shape"
      ],
      "execution_count": null,
      "outputs": [
        {
          "output_type": "execute_result",
          "data": {
            "text/plain": [
              "(425, 2)"
            ]
          },
          "metadata": {
            "tags": []
          },
          "execution_count": 113
        }
      ]
    }
  ]
}
>>>>>>> a6516c5939c949e04ad880f52b979b1df75d5734
